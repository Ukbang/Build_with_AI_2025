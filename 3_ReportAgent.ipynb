{
  "cells": [
    {
      "cell_type": "markdown",
      "metadata": {
        "id": "view-in-github",
        "colab_type": "text"
      },
      "source": [
        "<a href=\"https://colab.research.google.com/github/Ukbang/Build_with_AI_250405/blob/main/3_ReportAgent.ipynb\" target=\"_parent\"><img src=\"https://colab.research.google.com/assets/colab-badge.svg\" alt=\"Open In Colab\"/></a>"
      ]
    },
    {
      "cell_type": "code",
      "execution_count": 48,
      "metadata": {
        "id": "tgWF2j10oSEh"
      },
      "outputs": [],
      "source": [
        "!pip install langchain langgraph langchain-google-genai langchain-core langchain-community langchain-experimental fpdf pdfplumber"
      ]
    },
    {
      "cell_type": "code",
      "execution_count": 49,
      "metadata": {
        "id": "4jLETHnXnKBh"
      },
      "outputs": [],
      "source": [
        "from langchain_core.runnables import RunnableConfig\n",
        "from langchain.schema import AIMessage\n",
        "from typing import Annotated, Literal\n",
        "from typing_extensions import TypedDict\n",
        "from langchain_google_genai import ChatGoogleGenerativeAI\n",
        "from langchain_community.tools.tavily_search import TavilySearchResults\n",
        "from langgraph.graph import StateGraph, START, END\n",
        "from langgraph.graph.message import add_messages\n",
        "from langgraph.prebuilt import ToolNode\n",
        "from langgraph.checkpoint.memory import MemorySaver\n",
        "from langchain_core.prompts import PromptTemplate\n",
        "from langchain_core.tools import tool\n",
        "from langchain_community.agent_toolkits import FileManagementToolkit\n",
        "from langchain_experimental.tools.python.tool import PythonAstREPLTool\n",
        "from pydantic import BaseModel, Field\n",
        "from fpdf import FPDF\n",
        "import random\n",
        "import pdfplumber\n",
        "import os\n",
        "import requests\n",
        "import warnings\n",
        "\n",
        "warnings.filterwarnings(\"ignore\")"
      ]
    },
    {
      "cell_type": "code",
      "execution_count": 50,
      "metadata": {
        "id": "YtLQpBZQIHsa",
        "cellView": "form"
      },
      "outputs": [],
      "source": [
        "google_api_key = \"\" # @param {\"type\":\"string\"}\n",
        "tavily_api_key = \"\" # @param {\"type\":\"string\"}"
      ]
    },
    {
      "cell_type": "code",
      "execution_count": 51,
      "metadata": {
        "id": "y8azdfq-l-ps"
      },
      "outputs": [],
      "source": [
        "os.environ[\"google_api_key\"] = google_api_key\n",
        "os.environ[\"GOOGLE_API_KEY\"] = google_api_key\n",
        "os.environ[\"TAVILY_API_KEY\"] = tavily_api_key"
      ]
    },
    {
      "cell_type": "code",
      "execution_count": 52,
      "metadata": {
        "id": "AuwqB6S6nKBl"
      },
      "outputs": [],
      "source": [
        "# 그래프 상태 정의\n",
        "\n",
        "class State(TypedDict):\n",
        "    query : Annotated[str, \"User Question\"]\n",
        "    answer : Annotated[str, \"LLM response\"]\n",
        "    messages : Annotated[list, add_messages]\n",
        "    tool_call : Annotated[dict, \"Tool Call Result\"]"
      ]
    },
    {
      "cell_type": "code",
      "execution_count": 53,
      "metadata": {
        "id": "G-CNSwr0qnsi"
      },
      "outputs": [],
      "source": [
        "# LLM 정의\n",
        "\n",
        "llm = ChatGoogleGenerativeAI(model=\"gemini-2.0-flash\",\n",
        "                             temperature=0,\n",
        "                             convert_system_message_to_human=True)"
      ]
    },
    {
      "cell_type": "code",
      "execution_count": 54,
      "metadata": {
        "id": "vNMa89_7nKBm"
      },
      "outputs": [],
      "source": [
        "@tool\n",
        "def read_pdf(file_path: str):\n",
        "    \"\"\"\n",
        "    PDF 파일에서 텍스트를 추출하는 도구입니다.\n",
        "    표 형식 또는 일반 텍스트가 포함된 PDF를 읽고 문자열로 반환합니다.\n",
        "\n",
        "    file_path 예시: './report.pdf'\n",
        "    \"\"\"\n",
        "    try:\n",
        "        text = \"\"\n",
        "        with pdfplumber.open(file_path) as pdf:\n",
        "            for page in pdf.pages:\n",
        "                page_text = page.extract_text()\n",
        "                if page_text:\n",
        "                    text += page_text + \"\\n\"\n",
        "        return text.strip() if text.strip() else \"❌ PDF에서 텍스트를 추출할 수 없습니다.\"\n",
        "    except Exception as e:\n",
        "        return f\"❌ PDF 읽기 오류: {str(e)}\""
      ]
    },
    {
      "cell_type": "code",
      "execution_count": 55,
      "metadata": {
        "id": "xqkLXOw6nKBn"
      },
      "outputs": [],
      "source": [
        "@tool\n",
        "def write_pdf(content: str, filename: str = \"output.pdf\", summary: bool =True):\n",
        "    \"\"\"\n",
        "    텍스트를 PDF 파일로 저장하는 도구입니다.\n",
        "    PDF형태의 문서로 만들어야할 때 이 도구를 사용하세요.\n",
        "    \"\"\"\n",
        "\n",
        "    if summary:\n",
        "        prompt = PromptTemplate.from_template(\"\"\"\n",
        "                당신은 보고서를 작성하는 어시스턴트입니다. 당신에겐 문서 모음이 제공되고 이를 잘 분석하여 보고서를 작성하여야 합니다.\n",
        "                아래의 content는 문서 모음입니다. 문서의 제목, 본문을 잘 판단하고 정리하여 요약합니다.\n",
        "                항상 구조화된 출력을 제공하세요.\n",
        "                항상 마지막엔 인사이트도 첨부합니다.\n",
        "\n",
        "                content : {content}\n",
        "                \"\"\")\n",
        "\n",
        "        chain = prompt | llm\n",
        "\n",
        "        content = chain.invoke({\"content\":content}).content\n",
        "\n",
        "    else:\n",
        "        pass\n",
        "\n",
        "    font_url = \"https://github.com/google/fonts/raw/main/ofl/notosanskr/NotoSansKR%5Bwght%5D.ttf\"\n",
        "    font_path = \"./fonts/NotoSansKR.ttf\"\n",
        "\n",
        "    try:\n",
        "        os.mkdir(\"./fonts/\")\n",
        "        response = requests.get(font_url)\n",
        "        with open(font_path, \"wb\") as f:\n",
        "            f.write(response.content)\n",
        "    except:\n",
        "        pass\n",
        "\n",
        "    pdf = FPDF()\n",
        "    pdf.add_page()\n",
        "    pdf.set_auto_page_break(auto=True, margin=15)\n",
        "\n",
        "    font_path = \"./fonts/NotoSansKR.ttf\"  # <-- 여기에 실제 폰트 파일이 있어야 함\n",
        "\n",
        "    try:\n",
        "        pdf.add_font(\"NotoSans\", \"\", font_path, uni=True)\n",
        "        pdf.set_font(\"NotoSans\", size=12)\n",
        "    except:\n",
        "        raise ValueError(\"한글 폰트를 등록할 수 없습니다.\")\n",
        "\n",
        "    for line in content.split(\"\\n\"):\n",
        "        pdf.multi_cell(0, 10, line)\n",
        "    pdf.output(f\"./{filename}\")\n",
        "\n",
        "    return f\"{filename} 저장 완료\""
      ]
    },
    {
      "cell_type": "code",
      "execution_count": 56,
      "metadata": {
        "id": "sKMUZEXPIHsc"
      },
      "outputs": [],
      "source": [
        "# 툴 정의\n",
        "# TavilySearchResults : 웹 검색 도구\n",
        "# PythonAstREPLTool : 파이썬 코드 실행 도구\n",
        "# write_pdf : pdf 생성 도구\n",
        "# read_pdf : pdf 읽기 도구\n",
        "# file_delete : 파일 삭제 도구\n",
        "# list_directory : 파일 목록 읽기 도구\n",
        "\n",
        "tools = [TavilySearchResults(max_results=10), PythonAstREPLTool(), write_pdf, read_pdf, *FileManagementToolkit(\n",
        "                                                                            selected_tools=[\"file_delete\",\"list_directory\"]).get_tools()]\n",
        "search_tool, code_tool, write_tool, read_tool, delete_tool, listdir_tool= tools"
      ]
    },
    {
      "cell_type": "code",
      "execution_count": 57,
      "metadata": {
        "id": "TmTiddGxyB6K",
        "colab": {
          "base_uri": "https://localhost:8080/",
          "height": 35
        },
        "outputId": "80582119-b5ec-4ef8-a08a-3076dca2077f"
      },
      "outputs": [
        {
          "output_type": "execute_result",
          "data": {
            "text/plain": [
              "'Build_with_AI_Test.pdf 저장 완료'"
            ],
            "application/vnd.google.colaboratory.intrinsic+json": {
              "type": "string"
            }
          },
          "metadata": {},
          "execution_count": 57
        }
      ],
      "source": [
        "# PDF 쓰기 도구 예시\n",
        "\n",
        "write_tool.invoke({\"content\":\"안녕하세요? \\nBuild_with_AI에 오신 것을 환영합니다.\", \"filename\":\"Build_with_AI_Test.pdf\", \"summary\":False})"
      ]
    },
    {
      "cell_type": "code",
      "execution_count": 58,
      "metadata": {
        "id": "Rany0FPunZaL",
        "colab": {
          "base_uri": "https://localhost:8080/"
        },
        "outputId": "d43a4699-ae87-4800-81f2-d3568af2d242"
      },
      "outputs": [
        {
          "output_type": "stream",
          "name": "stderr",
          "text": [
            "WARNING:pdfminer.pdfpage:CropBox missing from /Page, defaulting to MediaBox\n",
            "WARNING:pdfminer.pdfpage:CropBox missing from /Page, defaulting to MediaBox\n"
          ]
        },
        {
          "output_type": "stream",
          "name": "stdout",
          "text": [
            "\n",
            "\n",
            " 안녕하세요?\n",
            "Build_with_AI에 오신 것을 환영합니다.\n"
          ]
        }
      ],
      "source": [
        "# PDF 읽기 도구 예시\n",
        "\n",
        "print(\"\\n\\n\", read_tool.invoke(\"Build_with_AI_Test.pdf\"))"
      ]
    },
    {
      "cell_type": "code",
      "source": [
        "# 파일 목록 도구 예시\n",
        "\n",
        "print(listdir_tool.invoke(input=\"\"))"
      ],
      "metadata": {
        "colab": {
          "base_uri": "https://localhost:8080/"
        },
        "id": "bBAYyu8xYpM_",
        "outputId": "ef447203-5a9a-4a36-f410-2a9ce90086ea"
      },
      "execution_count": 59,
      "outputs": [
        {
          "output_type": "stream",
          "name": "stdout",
          "text": [
            ".config\n",
            "Build_with_AI_Test.pdf\n",
            ".ipynb_checkpoints\n",
            "fonts\n",
            "sample_data\n"
          ]
        }
      ]
    },
    {
      "cell_type": "code",
      "execution_count": 60,
      "metadata": {
        "id": "VDLWFnegnikc",
        "colab": {
          "base_uri": "https://localhost:8080/",
          "height": 35
        },
        "outputId": "945bdf59-0a75-4d4b-f0db-afc42da4c174"
      },
      "outputs": [
        {
          "output_type": "execute_result",
          "data": {
            "text/plain": [
              "'File deleted successfully: Build_with_AI_Test.pdf.'"
            ],
            "application/vnd.google.colaboratory.intrinsic+json": {
              "type": "string"
            }
          },
          "metadata": {},
          "execution_count": 60
        }
      ],
      "source": [
        "# 삭제 도구 예시\n",
        "\n",
        "delete_tool.invoke(\"Build_with_AI_Test.pdf\")"
      ]
    },
    {
      "cell_type": "code",
      "execution_count": 61,
      "metadata": {
        "id": "0uOvOZf3nKBn"
      },
      "outputs": [],
      "source": [
        "# LLM에게 도구 할당\n",
        "\n",
        "llm_with_tools = llm.bind_tools(tools)"
      ]
    },
    {
      "cell_type": "code",
      "execution_count": 62,
      "metadata": {
        "id": "UrMAISv-nKBo"
      },
      "outputs": [],
      "source": [
        "# 전체 메시지 중 마지막 메시지를 제외하고 최대 8개까지 단기 기억(history)으로 추출\n",
        "\n",
        "def shorterm_memory(state:State):\n",
        "\n",
        "    if len(state[\"messages\"]) > 8:\n",
        "        history = state[\"messages\"][-8:-1]\n",
        "    elif len(state[\"messages\"]) == 1:\n",
        "        history = \"\"\n",
        "    else:\n",
        "        history = state[\"messages\"][:-1]\n",
        "\n",
        "    return history"
      ]
    },
    {
      "cell_type": "code",
      "execution_count": 63,
      "metadata": {
        "id": "gsqpQmxknKBo"
      },
      "outputs": [],
      "source": [
        "class HistoryChecker(BaseModel):\n",
        "    \"\"\"\n",
        "    이전의 대화 기록을 참고하여 질문에 대해 답변할 수 있는지 판단합니다.\n",
        "    답변할 수 있다면 \"yes\", 답변할 수 없다면 \"no\"를 반환합니다.\n",
        "    \"\"\"\n",
        "\n",
        "    yes_no : Literal[\"yes\", \"no\"] = Field(..., description=\"\"\"Use your previous conversation history to determine if you can answer your questions.\n",
        "    Return \"yes\" if you can answer, \"no\" if you can't answer.\"\"\")"
      ]
    },
    {
      "cell_type": "code",
      "execution_count": 64,
      "metadata": {
        "id": "7SsCloETnKBp"
      },
      "outputs": [],
      "source": [
        "# 히스토리 기반 답변 분기를 위한 함수 설정\n",
        "\n",
        "def history_check(state:State):\n",
        "\n",
        "    prompt = PromptTemplate.from_template(\"\"\"\n",
        "\n",
        "                이전의 대화 기록을 참고하여 질문에 대해 답변할 수 있는지 판단합니다.\n",
        "                답변할 수 있다면 \"yes\", 답변할 수 없다면 \"no\"를 반환합니다.\n",
        "\n",
        "                대화 기록 : {history}\n",
        "\n",
        "                질문 : {query}\n",
        "\n",
        "                \"\"\")\n",
        "\n",
        "    chain = prompt | history_checker\n",
        "\n",
        "    history = shorterm_memory(state)\n",
        "\n",
        "    result = chain.invoke({\"history\":history,\n",
        "                            \"query\":state[\"query\"]})\n",
        "\n",
        "    return result.yes_no"
      ]
    },
    {
      "cell_type": "code",
      "execution_count": 65,
      "metadata": {
        "id": "CDAlnV3dnKBp"
      },
      "outputs": [],
      "source": [
        "# LLM의 응답을 HistoryChecker 클래스 구조에 맞춰 파싱하도록 설정\n",
        "\n",
        "history_checker = llm.with_structured_output(HistoryChecker)"
      ]
    },
    {
      "cell_type": "code",
      "execution_count": 66,
      "metadata": {
        "id": "fx8dfRdlnKBp"
      },
      "outputs": [],
      "source": [
        "# 기억 기반 답변 노드\n",
        "\n",
        "def memory_chat(state:State):\n",
        "\n",
        "    prompt = PromptTemplate.from_template(\"\"\"\n",
        "\n",
        "                이전의 대화 기록을 참고하여 질문에 대해 답변하세요.\n",
        "                아래 대화 기록을 첨부합니다.\n",
        "                대화 기록을 통해 답변이 어렵다면 내부 지식을 참조하세요.\n",
        "\n",
        "                대화 기록 : {history}\n",
        "\n",
        "                질문 : {query}\n",
        "\n",
        "                \"\"\")\n",
        "\n",
        "\n",
        "    chain = prompt | llm\n",
        "\n",
        "    history = shorterm_memory(state)\n",
        "\n",
        "    answer = chain.invoke({\"history\":history,\n",
        "                           \"query\":state[\"query\"]})\n",
        "\n",
        "    if len(state[\"tool_call\"]) == 0:\n",
        "        return {\"answer\":answer.content,\n",
        "                \"messages\":[answer],\n",
        "                \"tool_call\":\"사용된 기록 없음.\"}\n",
        "    else:\n",
        "        return {\"answer\":answer.content,\n",
        "                \"messages\":[answer]}"
      ]
    },
    {
      "cell_type": "code",
      "execution_count": 67,
      "metadata": {
        "id": "ZLm8qqC7nKBq"
      },
      "outputs": [],
      "source": [
        "# 기억 기반 답변 분기 노드\n",
        "\n",
        "def history_node(state:State):\n",
        "    if len(state[\"messages\"]) == 1:\n",
        "        return {\"answer\":\"답변 없음\",\n",
        "                \"tool_call\":\"사용된 도구 없음\"}\n",
        "    else:\n",
        "        return state"
      ]
    },
    {
      "cell_type": "code",
      "execution_count": 68,
      "metadata": {
        "id": "IVxNiGN0nKBq"
      },
      "outputs": [],
      "source": [
        "# 도구 선택 노드\n",
        "\n",
        "def select(\n",
        "    state: State,\n",
        "):\n",
        "\n",
        "    prompt = PromptTemplate.from_template(\"\"\"\n",
        "\n",
        "                이전의 대화 기록을 참고하여 질문에 대해 답변하세요.\n",
        "                아래 대화 기록을 첨부합니다.\n",
        "                이전의 대화가 다음에 어떤 도구를 사용해야하는지 힌트가 될 수 있습니다. 꼭 참조하세요.\n",
        "                도구의 변화가 큰 결과를 가져올 수 있습니다.\n",
        "                들어온 메시지, 정답, 이전 기록을 모두 분석하여 가장 적절한 도구를 선택하세요.\n",
        "\n",
        "                대화 기록 : {history}\n",
        "\n",
        "                최근 사용한 도구 : {tool_name}\n",
        "\n",
        "                정답 : {answer}\n",
        "\n",
        "                질문 : {query}\n",
        "\n",
        "                \"\"\")\n",
        "\n",
        "    chain = prompt | llm_with_tools\n",
        "\n",
        "    history = shorterm_memory(state)\n",
        "\n",
        "    result = chain.invoke({\"history\" : history,\n",
        "                           \"tool_name\" : state[\"tool_call\"],\n",
        "                            \"answer\": state[\"answer\"],\n",
        "                            \"query\": state[\"query\"]})\n",
        "\n",
        "    if hasattr(result, \"tool_calls\") and len(result.tool_calls) > 0:\n",
        "        tool_calls = result.tool_calls\n",
        "\n",
        "        return {\"messages\": result,\n",
        "                \"tool_call\":tool_calls}\n",
        "                # \"tool_call\":AIMessage(content=tool_calls)}\n",
        "    else:\n",
        "        return {\"messages\":AIMessage(content=f\"\"\"도구를 선택하지 못했습니다. 적절한 도구를 재선택하세요.\n",
        "                                        \"\"\"),\n",
        "                                    \"tool_call\":\"선택된 도구 없음\"}\n",
        "\n"
      ]
    },
    {
      "cell_type": "code",
      "execution_count": 69,
      "metadata": {
        "id": "y6s0RyEfnKBq"
      },
      "outputs": [],
      "source": [
        "# 도구 실행 노드\n",
        "\n",
        "tool_node = ToolNode(tools)"
      ]
    },
    {
      "cell_type": "code",
      "execution_count": 70,
      "metadata": {
        "id": "gD-vMnQenKBq"
      },
      "outputs": [],
      "source": [
        "class AnswerChecker(BaseModel):\n",
        "    \"\"\"\n",
        "    정답 분류기입니다.\n",
        "\n",
        "    정답이 질문을 해결했는지 여부를 판단합니다.\n",
        "    질문을 해결하지 못했을 시 해결될 때까지 도구를 이용합니다.\n",
        "\n",
        "    질문을 해결했다면 \"end\", 해결하지 못했다면 \"tool\"을 반환합니다.\n",
        "    \"\"\"\n",
        "\n",
        "\n",
        "    end : Literal[\"end\", \"tool\"] = Field(..., description=\"\"\"You are the answer sorter.\n",
        "\n",
        "                                                                Determine if the correct answer has solved the question.\n",
        "                                                                If the question is not resolved, use the tool until it is resolved.\n",
        "\n",
        "                                                                Return \"end\" if you solved the question, or \"tool\" if you didn't.\"\"\")"
      ]
    },
    {
      "cell_type": "code",
      "execution_count": 71,
      "metadata": {
        "id": "51lPyxhdnKBr"
      },
      "outputs": [],
      "source": [
        "# LLM의 응답을 AnswerChecker 클래스 구조에 맞춰 파싱하도록 설정\n",
        "\n",
        "answer_checker = llm.with_structured_output(AnswerChecker)"
      ]
    },
    {
      "cell_type": "code",
      "execution_count": 72,
      "metadata": {
        "id": "zyZTkR8fnKBr"
      },
      "outputs": [],
      "source": [
        "# 답변 확인 노드\n",
        "\n",
        "def response(state:State):\n",
        "\n",
        "    return {\"answer\":state[\"messages\"][-1]}"
      ]
    },
    {
      "cell_type": "code",
      "execution_count": 73,
      "metadata": {
        "id": "mBV4ASvjnKBr"
      },
      "outputs": [],
      "source": [
        "# 답변 완성 판단 분기 함수\n",
        "\n",
        "def answer_check(state:State):\n",
        "\n",
        "    prompt = PromptTemplate.from_template(\"\"\"\n",
        "    당신은 정답 분류기 어시스턴트입니다.\n",
        "\n",
        "    정답이 질문을 해결하였는지 여부를 판단합니다.\n",
        "    질문을 해결하지 못했다면 도구를 이용합니다.\n",
        "\n",
        "    질문을 해결하였다면 \"end\", 아니라면 \"tool\"을 반환합니다.\n",
        "\n",
        "    기존 History도 참고하여 답변하세요.\n",
        "\n",
        "    History : {history}\n",
        "\n",
        "    정답 : {answer}\n",
        "\n",
        "    질문 : {query}\n",
        "    \"\"\")\n",
        "\n",
        "    chain = prompt | answer_checker\n",
        "\n",
        "    history = shorterm_memory(state)\n",
        "\n",
        "    result = chain.invoke({\"history\" : history,\n",
        "                            \"answer\": state[\"answer\"],\n",
        "                            \"query\": state[\"query\"]})\n",
        "\n",
        "    return result.end"
      ]
    },
    {
      "cell_type": "code",
      "execution_count": 74,
      "metadata": {
        "id": "50EDu4mOnKBr"
      },
      "outputs": [],
      "source": [
        "# 그래프 정의\n",
        "\n",
        "graph_builder = StateGraph(State)"
      ]
    },
    {
      "cell_type": "code",
      "execution_count": 75,
      "metadata": {
        "id": "qDdqjxeNnKBr"
      },
      "outputs": [],
      "source": [
        "# 노드 및 엣지 정의\n",
        "\n",
        "graph_builder.add_node(\"history_node\", history_node)\n",
        "graph_builder.add_node(\"memory_chat\", memory_chat)\n",
        "graph_builder.add_node(\"select\", select)\n",
        "graph_builder.add_node(\"tools\", tool_node)\n",
        "graph_builder.add_node(\"response\", response)\n",
        "\n",
        "\n",
        "graph_builder.add_edge(START, \"history_node\")\n",
        "graph_builder.add_conditional_edges(\"history_node\",\n",
        "                            history_check,\n",
        "                            {\"yes\":\"memory_chat\",\n",
        "                             \"no\":\"select\"})\n",
        "graph_builder.add_edge(\"select\", \"tools\")\n",
        "graph_builder.add_edge(\"tools\", \"response\")\n",
        "graph_builder.add_edge(\"memory_chat\", \"response\")\n",
        "graph_builder.add_conditional_edges(\"response\",\n",
        "                                    answer_check,\n",
        "                                    {\"end\":END,\n",
        "                                    \"tool\":\"select\"});"
      ]
    },
    {
      "cell_type": "code",
      "execution_count": 76,
      "metadata": {
        "id": "X8Z71CK8nKBr"
      },
      "outputs": [],
      "source": [
        "# 메모리 설정 및 그래프 컴파일\n",
        "\n",
        "memory = MemorySaver()\n",
        "\n",
        "graph = graph_builder.compile(checkpointer=memory)"
      ]
    },
    {
      "cell_type": "code",
      "execution_count": 77,
      "metadata": {
        "colab": {
          "base_uri": "https://localhost:8080/",
          "height": 635
        },
        "id": "YQ2jWtlinKBs",
        "outputId": "e0e05fc8-9bd0-419f-d37e-b9f109d57a3f"
      },
      "outputs": [
        {
          "output_type": "execute_result",
          "data": {
            "text/plain": [
              "<langgraph.graph.state.CompiledStateGraph object at 0x7b24c817cdd0>"
            ],
            "image/png": "[encoded data removed]"
          },
          "metadata": {},
          "execution_count": 77
        }
      ],
      "source": [
        "# 그래프 시각화\n",
        "# 가끔 \"ReadTimeout: HTTPSConnectionPool(host='mermaid.ink', port=443): Read timed out. (read timeout=10)\"라는 에러가 발생\n",
        "# 시간 초과로 그래프 생성에 실패했다는 메시지일뿐 기능과는 관계없으니 진행해도 괜찮습니다.\n",
        "\n",
        "graph"
      ]
    },
    {
      "cell_type": "code",
      "execution_count": 78,
      "metadata": {
        "id": "XWcfKPoOnKBr"
      },
      "outputs": [],
      "source": [
        "# config 재생성 노드, config의 재사용은 고려되지 않음. 재사용한다면 변수에 할당하여 사용할 것\n",
        "\n",
        "def reset_config(limit=20):\n",
        "\n",
        "    thread_id=random.randint(1,999999)\n",
        "\n",
        "    config = RunnableConfig(recursion_limit=limit, configurable={\"thread_id\": thread_id})\n",
        "\n",
        "    return config"
      ]
    },
    {
      "cell_type": "code",
      "execution_count": 79,
      "metadata": {
        "id": "07_bBQgHnKBs"
      },
      "outputs": [],
      "source": [
        "# 출력 함수 정의\n",
        "# mode = \"values\" : 상태의 키, 값의 형태로 반환\n",
        "# mode = \"updates\" : 업데이트되는 값만 반환\n",
        "\n",
        "def streaming(query, config, mode=\"values\"):\n",
        "\n",
        "    result = graph.stream({\"messages\":(\"user\", query),\n",
        "                         \"query\":query}, config=config, stream_mode=mode)\n",
        "\n",
        "    if mode == \"values\":\n",
        "        for step in result:\n",
        "            for k, v in step.items():\n",
        "                if k == \"messages\":\n",
        "                    v[-1].pretty_print()\n",
        "    elif mode == \"updates\":\n",
        "        for step in result:\n",
        "            for k,v in step.items():\n",
        "                print(f\"\\n\\n=== {k} ===\\n\\n\")\n",
        "                print(v)\n",
        "\n",
        "    return"
      ]
    },
    {
      "cell_type": "code",
      "execution_count": 80,
      "metadata": {
        "colab": {
          "base_uri": "https://localhost:8080/"
        },
        "id": "rI6E1DvhnKBs",
        "outputId": "75d0cb5b-f8ce-448f-ba15-cd57f6a8019c"
      },
      "outputs": [
        {
          "output_type": "stream",
          "name": "stdout",
          "text": [
            "================================\u001b[1m Human Message \u001b[0m=================================\n",
            "\n",
            "1+1은 뭔가요?\n",
            "================================\u001b[1m Human Message \u001b[0m=================================\n",
            "\n",
            "1+1은 뭔가요?\n",
            "==================================\u001b[1m Ai Message \u001b[0m==================================\n",
            "\n",
            "2\n",
            "==================================\u001b[1m Ai Message \u001b[0m==================================\n",
            "\n",
            "2\n"
          ]
        }
      ],
      "source": [
        "config = reset_config()\n",
        "\n",
        "query = \"1+1은 뭔가요?\"\n",
        "\n",
        "streaming(query, config)"
      ]
    },
    {
      "cell_type": "code",
      "execution_count": 81,
      "metadata": {
        "colab": {
          "base_uri": "https://localhost:8080/"
        },
        "id": "3KUL2l9hIHsf",
        "outputId": "4c565ad0-b180-4743-b608-fdb1684441a7"
      },
      "outputs": [
        {
          "output_type": "stream",
          "name": "stdout",
          "text": [
            "================================\u001b[1m Human Message \u001b[0m=================================\n",
            "\n",
            "피엔티라는 회사에 대해 조사해주세요. 잘 정리된 보고서를 제공해주십시오. pdf파일로 받기를 희망합니다.\n",
            "================================\u001b[1m Human Message \u001b[0m=================================\n",
            "\n",
            "피엔티라는 회사에 대해 조사해주세요. 잘 정리된 보고서를 제공해주십시오. pdf파일로 받기를 희망합니다.\n",
            "==================================\u001b[1m Ai Message \u001b[0m==================================\n",
            "Tool Calls:\n",
            "  tavily_search_results_json (5bcf3570-2360-4e31-8266-cd7841e9f808)\n",
            " Call ID: 5bcf3570-2360-4e31-8266-cd7841e9f808\n",
            "  Args:\n",
            "    query: 피엔티 회사\n",
            "=================================\u001b[1m Tool Message \u001b[0m=================================\n",
            "Name: tavily_search_results_json\n",
            "\n",
            "[{\"title\": \"피엔티 - 위키백과, 우리 모두의 백과사전\", \"url\": \"https://ko.wikipedia.org/wiki/%ED%94%BC%EC%97%94%ED%8B%B0\", \"content\": \"피엔티 주식회사(PNT Co. Ltd.)는 Roll to Roll 기술을 바탕으로 각종 디스플레이 소재용 필름, 2차 전지의 음극 및 분리막 소재, Copper 등의 코팅 및 슬리터 장비를 제작하는 코스닥 상장 기업이다. 매출구성은 소재 81%, 2차전지 18%, 반도체 1% 가량으로 이루어진다. [...] 형태 | 주식회사\\n창립 | 2003/12/30 (상장일: 2012/07/06)\\n시장 정보 | 한국:137400\\n산업 분야 | 디스플레이장비및부품\\n본사 소재지 | 경상북도 구미시 첨단기업로 33 (금전동)\\n핵심 인물 | 김준섭 (대표이사)\\n매출액 | 377,728,397,182원 (2021)\\n영업이익 | 54,408,331,244원 (2021)\\n순이익 | 52,703,180,758원 (2021)\\n자산총액 | 576,359,315,158원 (2021.12)\\n주요 주주 | 김준섭 외 특수관계인: 16.85%\\n종업원 수 | 474명 (2021.12)\\n자본금 | 11,370,599,000원 (2021.12)\\n웹사이트 | 피엔티 [...] 2014년부터 2차 전지 관련 투자를 증대시켰으며 2015년 7월에는 중국 전기차 시장 확대 기대감으로 가격제한폭까지 상승한 일이 있다.[1] 주가는 중국의 경기와 제조업 전망에 따라 크게 좌우되는 모습을 보이며, 2015년 4~6월경 중국 경기의 전망이 좋지 못할 때는 주가가 크게 하락하는 일이 있었다.\\n\\n같이 보기\\n\\n참고 문헌\\n\\n각주\", \"score\": 0.86358756}, {\"title\": \"(주)피엔티 | 롤투롤 컨버팅 기계의 세계적인 전문가\", \"url\": \"https://www.epnt.co.kr/\", \"content\": \"피엔티는 각종 롤투롤 컨버팅 기계를 주력으로 성장한 회사입니다. 웹가이딩, 장력제어, 오토터렛, 오토스플라이싱, 코팅, 칼렌더링, 슬리팅 등 기반이 되는 기술에\", \"score\": 0.79637206}, {\"title\": \"(주)피엔티 2025년 기업정보 | 직원수, 근무환경, 복리후생 등 - 사람인\", \"url\": \"https://www.saramin.co.kr/zf_user/company-info/view/csn/Zm9qNG9WcGt6dlp0RWxvelMrSnVHUT09/company_nm/(%EC%A3%BC)%ED%94%BC%EC%97%94%ED%8B%B0\", \"content\": \"[롤투롤 설비의 최강자] 피엔티는 각종 롤투롤 컨버팅 기계를 주력으로 성장한 회사입니다. 웹가이딩, 장력제어, 오토터렛, 오토스플라이싱, 코팅, 칼렌더링,\", \"score\": 0.7334523}, {\"title\": \"피엔티 - 기업현황 - 기업모니터\", \"url\": \"https://comp.wisereport.co.kr/company/c1010001.aspx?cmp_cd=137400\", \"content\": \"Roll to Roll 기술을 바탕으로 2차전지 전극공정 장비(양극, 음극, 분리막 생산장비)와 Copper(전지박) 및 각종 IT용 소재를 생산하는 장비의 제작 판매를 주요 사업\", \"score\": 0.55275756}, {\"title\": \"피엔티 - 잡코리아\", \"url\": \"https://www.jobkorea.co.kr/company/16151130\", \"content\": \"피엔티는 2012년에 리튬이온전지 극판용 고속광폭 코터를 개발한 이래로, 대량 생산을 위한 고속광폭 설비를 꾸준히 생산하고 있고 동박, 분리막, 파우치용 필름 등의 제조\", \"score\": 0.54782754}, {\"title\": \"피엔티 - 나무위키\", \"url\": \"https://namu.wiki/w/%ED%94%BC%EC%97%94%ED%8B%B0\", \"content\": \"피엔티 ; 기업 규모. 중견기업 ; 종사원. 565명 ; 매출액. 5,454억 ; 영업이익. 769억 ; 당기순이익. 685억.\", \"score\": 0.46687052}, {\"title\": \"피앤티\", \"url\": \"http://www.pntsyst.co.kr/\", \"content\": \"복합적인 반도체 생산설비 이해와 전문기술인력으로 광학,구동, 회로분석등 하드웨어 및 소프트웨어를 자체개발하고 있습니다. 반도체 생산설비 부품수리의 품질보증과\", \"score\": 0.44102347}]\n",
            "=================================\u001b[1m Tool Message \u001b[0m=================================\n",
            "Name: tavily_search_results_json\n",
            "\n",
            "[{\"title\": \"피엔티 - 위키백과, 우리 모두의 백과사전\", \"url\": \"https://ko.wikipedia.org/wiki/%ED%94%BC%EC%97%94%ED%8B%B0\", \"content\": \"피엔티 주식회사(PNT Co. Ltd.)는 Roll to Roll 기술을 바탕으로 각종 디스플레이 소재용 필름, 2차 전지의 음극 및 분리막 소재, Copper 등의 코팅 및 슬리터 장비를 제작하는 코스닥 상장 기업이다. 매출구성은 소재 81%, 2차전지 18%, 반도체 1% 가량으로 이루어진다. [...] 형태 | 주식회사\\n창립 | 2003/12/30 (상장일: 2012/07/06)\\n시장 정보 | 한국:137400\\n산업 분야 | 디스플레이장비및부품\\n본사 소재지 | 경상북도 구미시 첨단기업로 33 (금전동)\\n핵심 인물 | 김준섭 (대표이사)\\n매출액 | 377,728,397,182원 (2021)\\n영업이익 | 54,408,331,244원 (2021)\\n순이익 | 52,703,180,758원 (2021)\\n자산총액 | 576,359,315,158원 (2021.12)\\n주요 주주 | 김준섭 외 특수관계인: 16.85%\\n종업원 수 | 474명 (2021.12)\\n자본금 | 11,370,599,000원 (2021.12)\\n웹사이트 | 피엔티 [...] 2014년부터 2차 전지 관련 투자를 증대시켰으며 2015년 7월에는 중국 전기차 시장 확대 기대감으로 가격제한폭까지 상승한 일이 있다.[1] 주가는 중국의 경기와 제조업 전망에 따라 크게 좌우되는 모습을 보이며, 2015년 4~6월경 중국 경기의 전망이 좋지 못할 때는 주가가 크게 하락하는 일이 있었다.\\n\\n같이 보기\\n\\n참고 문헌\\n\\n각주\", \"score\": 0.86358756}, {\"title\": \"(주)피엔티 | 롤투롤 컨버팅 기계의 세계적인 전문가\", \"url\": \"https://www.epnt.co.kr/\", \"content\": \"피엔티는 각종 롤투롤 컨버팅 기계를 주력으로 성장한 회사입니다. 웹가이딩, 장력제어, 오토터렛, 오토스플라이싱, 코팅, 칼렌더링, 슬리팅 등 기반이 되는 기술에\", \"score\": 0.79637206}, {\"title\": \"(주)피엔티 2025년 기업정보 | 직원수, 근무환경, 복리후생 등 - 사람인\", \"url\": \"https://www.saramin.co.kr/zf_user/company-info/view/csn/Zm9qNG9WcGt6dlp0RWxvelMrSnVHUT09/company_nm/(%EC%A3%BC)%ED%94%BC%EC%97%94%ED%8B%B0\", \"content\": \"[롤투롤 설비의 최강자] 피엔티는 각종 롤투롤 컨버팅 기계를 주력으로 성장한 회사입니다. 웹가이딩, 장력제어, 오토터렛, 오토스플라이싱, 코팅, 칼렌더링,\", \"score\": 0.7334523}, {\"title\": \"피엔티 - 기업현황 - 기업모니터\", \"url\": \"https://comp.wisereport.co.kr/company/c1010001.aspx?cmp_cd=137400\", \"content\": \"Roll to Roll 기술을 바탕으로 2차전지 전극공정 장비(양극, 음극, 분리막 생산장비)와 Copper(전지박) 및 각종 IT용 소재를 생산하는 장비의 제작 판매를 주요 사업\", \"score\": 0.55275756}, {\"title\": \"피엔티 - 잡코리아\", \"url\": \"https://www.jobkorea.co.kr/company/16151130\", \"content\": \"피엔티는 2012년에 리튬이온전지 극판용 고속광폭 코터를 개발한 이래로, 대량 생산을 위한 고속광폭 설비를 꾸준히 생산하고 있고 동박, 분리막, 파우치용 필름 등의 제조\", \"score\": 0.54782754}, {\"title\": \"피엔티 - 나무위키\", \"url\": \"https://namu.wiki/w/%ED%94%BC%EC%97%94%ED%8B%B0\", \"content\": \"피엔티 ; 기업 규모. 중견기업 ; 종사원. 565명 ; 매출액. 5,454억 ; 영업이익. 769억 ; 당기순이익. 685억.\", \"score\": 0.46687052}, {\"title\": \"피앤티\", \"url\": \"http://www.pntsyst.co.kr/\", \"content\": \"복합적인 반도체 생산설비 이해와 전문기술인력으로 광학,구동, 회로분석등 하드웨어 및 소프트웨어를 자체개발하고 있습니다. 반도체 생산설비 부품수리의 품질보증과\", \"score\": 0.44102347}]\n",
            "==================================\u001b[1m Ai Message \u001b[0m==================================\n",
            "\n",
            "피엔티 회사에 대한 검색 결과를 바탕으로 보고서를 작성하고 PDF 파일로 저장하겠습니다.\n",
            "Tool Calls:\n",
            "  write_pdf (fe27dffa-0ac3-41b8-8951-28d6a231ffab)\n",
            " Call ID: fe27dffa-0ac3-41b8-8951-28d6a231ffab\n",
            "  Args:\n",
            "    content: 피엔티 주식회사(PNT Co. Ltd.)는 Roll to Roll 기술을 바탕으로 각종 디스플레이 소재용 필름, 2차 전지의 음극 및 분리막 소재, Copper 등의 코팅 및 슬리터 장비를 제작하는 코스닥 상장 기업입니다. 매출구성은 소재 81%, 2차전지 18%, 반도체 1% 가량으로 이루어집니다. 2021년 매출액은 377,728,397,182원, 영업이익은 54,408,331,244원, 순이익은 52,703,180,758원입니다. 롤투롤 컨버팅 기계를 주력으로 성장한 회사이며, 웹가이딩, 장력제어, 오토터렛, 오토스플라이싱, 코팅, 칼렌더링, 슬리팅 등의 기술을 보유하고 있습니다.\n",
            "    filename: 피엔티 보고서\n",
            "=================================\u001b[1m Tool Message \u001b[0m=================================\n",
            "Name: write_pdf\n",
            "\n",
            "피엔티 보고서 저장 완료\n",
            "=================================\u001b[1m Tool Message \u001b[0m=================================\n",
            "Name: write_pdf\n",
            "\n",
            "피엔티 보고서 저장 완료\n"
          ]
        }
      ],
      "source": [
        "config = reset_config()\n",
        "\n",
        "query = \"피엔티라는 회사에 대해 조사해주세요. 잘 정리된 보고서를 제공해주십시오. pdf파일로 받기를 희망합니다.\"\n",
        "\n",
        "streaming(query, config)"
      ]
    },
    {
      "cell_type": "code",
      "execution_count": 82,
      "metadata": {
        "colab": {
          "base_uri": "https://localhost:8080/"
        },
        "id": "cJQuCIX4IHsf",
        "outputId": "149d3dc6-fe9f-4810-98f8-c5dce0fb64ba"
      },
      "outputs": [
        {
          "output_type": "stream",
          "name": "stdout",
          "text": [
            "================================\u001b[1m Human Message \u001b[0m=================================\n",
            "\n",
            "피엔티의 경쟁사에 대한 정보도 정리된 보고서를 작성해주세요.\n",
            "================================\u001b[1m Human Message \u001b[0m=================================\n",
            "\n",
            "피엔티의 경쟁사에 대한 정보도 정리된 보고서를 작성해주세요.\n",
            "==================================\u001b[1m Ai Message \u001b[0m==================================\n",
            "Tool Calls:\n",
            "  tavily_search_results_json (5290e6f1-6fb4-4bd2-ac73-99a540819b4c)\n",
            " Call ID: 5290e6f1-6fb4-4bd2-ac73-99a540819b4c\n",
            "  Args:\n",
            "    query: 피엔티 경쟁사\n",
            "=================================\u001b[1m Tool Message \u001b[0m=================================\n",
            "Name: tavily_search_results_json\n",
            "\n",
            "[{\"title\": \"피엔티의 사업분석 및 고객사에 대하여 : 네이버 블로그\", \"url\": \"https://blog.naver.com/humanindicator/222353810766\", \"content\": \"피엔티의 경쟁사는 롤투롤 장비회사의 양대 산맥인 '씨아이에스'다. 주 거래처는 LG이며 최근 노스볼트의 전극공정까지 수주를 따낸 핫한 기업이다. 둘다\", \"score\": 0.8846886}, {\"title\": \"피엔티 - 오렌지보드\", \"url\": \"https://orangeboard.co.kr/@New_Jusiks/%ED%94%BC%EC%97%94%ED%8B%B0-%EB%8F%85%EB%B3%B4%EC%A0%81-1%EC%9C%84-%EA%B7%B8-%EB%84%88%EB%A8%B8%EB%A5%BC-%EB%B0%94%EB%9D%BC%EB%B3%B4%EB%8B%A45\", \"content\": \"이에 실질적으로 파우치형 배터리에 사용 가능한 넓은 폭의 코터를 생산하는 기업은 전 세계적으로 피엔티와 히라노 둘 뿐이다. 실제로 각각의 경쟁사들과\", \"score\": 0.6562404}, {\"title\": \"피엔티 - 경쟁사분석 - 기업모니터\", \"url\": \"https://comp.wisereport.co.kr/company/c1060001.aspx?cmp_cd=137400&cn=\", \"content\": \"EPS2,808. BPS18,063. PER15.56. 업종PER33.80. PBR2.42. 현금배당수익률 0.00%. 전일종가 43,700. 도움말. KOSDAQ : 코스닥 기계·장비 | WI26 : IT가전 | 12월 결산 |\", \"score\": 0.6246834}, {\"title\": \"피엔티 경쟁사 - 씨아이에스(CIS 222080) 사업보고서 정리1\", \"url\": \"https://blog.naver.com/km_joshua/221923413097?viewType=pc\", \"content\": \"국내 경쟁사 : PNT · 전고체전지는 기존 리튬 이차전지의 구성요소 가운데 액체 전해질을 고체 전해질로 대체한 것을 말합니다\", \"score\": 0.62303346}, {\"title\": \"김준섭 피엔티 대표 - 월간중앙\", \"url\": \"https://jmagazine.joins.com/forbes/view/338310\", \"content\": \"피엔티는 2010년 중반부터 주요 경쟁사를 제치고 국내시장 점유율 1위를 굳건히 지켜왔으며 경쟁업체와의 격차도 크게 벌렸다. 지난해 피엔티의 매출\", \"score\": 0.5820878}, {\"title\": \"[PDF] 피엔티 (137400) - 미래에셋증권\", \"url\": \"https://securities.miraeasset.com/bbs/download/2125406.pdf?attachmentId=2125406\", \"content\": \"피엔티. 윤성에프앤씨. 씨아이에스. 케이엔에스. 재무 비교. 경쟁사간 성장성, 수익성, 안정성, 활동성 관련 재무 지수를 비교해드려요. 수익성 (ROE\", \"score\": 0.5232017}, {\"title\": \"김준섭 피엔티 대표 \\\"美·中 경쟁 활용, 배터리 토탈 솔루션 공급업체로 ...\", \"url\": \"https://www.theguru.co.kr/news/article.html?no=80000\", \"content\": \"[더구루=정예린 기자] 배터리 장비 업체 '피엔티(PNT)'가 배터리·소재 자회사 '피엔티 머티리얼즈'를 통한 미국 진출에 자신감을 드러냈다.\", \"score\": 0.46774563}, {\"title\": \"수주 물량과 고객사 다변화! 국내 경쟁사? / 피엔티(137400) [김지훈 ...\", \"url\": \"https://www.youtube.com/watch?v=ZyvOWs80r98&pp=ygUKI-2UvOyVpOyLnA%3D%3D\", \"content\": \"수주 물량과 고객사 다변화! 국내 경쟁사? / 피엔티(137400) [김지훈 대표(김지훈의 훈훈한주식)_나만믿고 따라와].\", \"score\": 0.46366343}, {\"title\": \"[강소기업 줌인] 피엔티, 캐즘 뚫은 '롤투롤'…LFP·소재 신사업 본격화\", \"url\": \"https://www.bloter.net/news/articleView.html?idxno=631077\", \"content\": \"피엔티는 2023년 자회사 피엔티머티리얼즈를 설립하며 LFP배터리 사업에 진출했다. 그동안 제품 개발과 함께 본사가 있는 경북 구미에 생산공장을 건립\", \"score\": 0.3667717}, {\"title\": \"피엔티 - 나무위키\", \"url\": \"https://namu.wiki/w/%ED%94%BC%EC%97%94%ED%8B%B0\", \"content\": \"피엔티 ; 57. yc기업.jpg 와이씨 ; 58. 티씨케이.png 티씨케이 ; 59. 카페24_로고.svg 카페24 ; 60. psk홀딩스.jpg 피에스케이홀딩스 ; 61. LS머트리얼즈 CI.\", \"score\": 0.29469728}]\n",
            "=================================\u001b[1m Tool Message \u001b[0m=================================\n",
            "Name: tavily_search_results_json\n",
            "\n",
            "[{\"title\": \"피엔티의 사업분석 및 고객사에 대하여 : 네이버 블로그\", \"url\": \"https://blog.naver.com/humanindicator/222353810766\", \"content\": \"피엔티의 경쟁사는 롤투롤 장비회사의 양대 산맥인 '씨아이에스'다. 주 거래처는 LG이며 최근 노스볼트의 전극공정까지 수주를 따낸 핫한 기업이다. 둘다\", \"score\": 0.8846886}, {\"title\": \"피엔티 - 오렌지보드\", \"url\": \"https://orangeboard.co.kr/@New_Jusiks/%ED%94%BC%EC%97%94%ED%8B%B0-%EB%8F%85%EB%B3%B4%EC%A0%81-1%EC%9C%84-%EA%B7%B8-%EB%84%88%EB%A8%B8%EB%A5%BC-%EB%B0%94%EB%9D%BC%EB%B3%B4%EB%8B%A45\", \"content\": \"이에 실질적으로 파우치형 배터리에 사용 가능한 넓은 폭의 코터를 생산하는 기업은 전 세계적으로 피엔티와 히라노 둘 뿐이다. 실제로 각각의 경쟁사들과\", \"score\": 0.6562404}, {\"title\": \"피엔티 - 경쟁사분석 - 기업모니터\", \"url\": \"https://comp.wisereport.co.kr/company/c1060001.aspx?cmp_cd=137400&cn=\", \"content\": \"EPS2,808. BPS18,063. PER15.56. 업종PER33.80. PBR2.42. 현금배당수익률 0.00%. 전일종가 43,700. 도움말. KOSDAQ : 코스닥 기계·장비 | WI26 : IT가전 | 12월 결산 |\", \"score\": 0.6246834}, {\"title\": \"피엔티 경쟁사 - 씨아이에스(CIS 222080) 사업보고서 정리1\", \"url\": \"https://blog.naver.com/km_joshua/221923413097?viewType=pc\", \"content\": \"국내 경쟁사 : PNT · 전고체전지는 기존 리튬 이차전지의 구성요소 가운데 액체 전해질을 고체 전해질로 대체한 것을 말합니다\", \"score\": 0.62303346}, {\"title\": \"김준섭 피엔티 대표 - 월간중앙\", \"url\": \"https://jmagazine.joins.com/forbes/view/338310\", \"content\": \"피엔티는 2010년 중반부터 주요 경쟁사를 제치고 국내시장 점유율 1위를 굳건히 지켜왔으며 경쟁업체와의 격차도 크게 벌렸다. 지난해 피엔티의 매출\", \"score\": 0.5820878}, {\"title\": \"[PDF] 피엔티 (137400) - 미래에셋증권\", \"url\": \"https://securities.miraeasset.com/bbs/download/2125406.pdf?attachmentId=2125406\", \"content\": \"피엔티. 윤성에프앤씨. 씨아이에스. 케이엔에스. 재무 비교. 경쟁사간 성장성, 수익성, 안정성, 활동성 관련 재무 지수를 비교해드려요. 수익성 (ROE\", \"score\": 0.5232017}, {\"title\": \"김준섭 피엔티 대표 \\\"美·中 경쟁 활용, 배터리 토탈 솔루션 공급업체로 ...\", \"url\": \"https://www.theguru.co.kr/news/article.html?no=80000\", \"content\": \"[더구루=정예린 기자] 배터리 장비 업체 '피엔티(PNT)'가 배터리·소재 자회사 '피엔티 머티리얼즈'를 통한 미국 진출에 자신감을 드러냈다.\", \"score\": 0.46774563}, {\"title\": \"수주 물량과 고객사 다변화! 국내 경쟁사? / 피엔티(137400) [김지훈 ...\", \"url\": \"https://www.youtube.com/watch?v=ZyvOWs80r98&pp=ygUKI-2UvOyVpOyLnA%3D%3D\", \"content\": \"수주 물량과 고객사 다변화! 국내 경쟁사? / 피엔티(137400) [김지훈 대표(김지훈의 훈훈한주식)_나만믿고 따라와].\", \"score\": 0.46366343}, {\"title\": \"[강소기업 줌인] 피엔티, 캐즘 뚫은 '롤투롤'…LFP·소재 신사업 본격화\", \"url\": \"https://www.bloter.net/news/articleView.html?idxno=631077\", \"content\": \"피엔티는 2023년 자회사 피엔티머티리얼즈를 설립하며 LFP배터리 사업에 진출했다. 그동안 제품 개발과 함께 본사가 있는 경북 구미에 생산공장을 건립\", \"score\": 0.3667717}, {\"title\": \"피엔티 - 나무위키\", \"url\": \"https://namu.wiki/w/%ED%94%BC%EC%97%94%ED%8B%B0\", \"content\": \"피엔티 ; 57. yc기업.jpg 와이씨 ; 58. 티씨케이.png 티씨케이 ; 59. 카페24_로고.svg 카페24 ; 60. psk홀딩스.jpg 피에스케이홀딩스 ; 61. LS머트리얼즈 CI.\", \"score\": 0.29469728}]\n",
            "==================================\u001b[1m Ai Message \u001b[0m==================================\n",
            "\n",
            "피엔티 경쟁사 정보가 포함된 보고서를 작성해 드리겠습니다.\n",
            "Tool Calls:\n",
            "  write_pdf (0ae39da0-78bf-4bab-a9bd-474fc43b4c14)\n",
            " Call ID: 0ae39da0-78bf-4bab-a9bd-474fc43b4c14\n",
            "  Args:\n",
            "    content: 피엔티의 경쟁사로는 씨아이에스, 히라노, 윤성에프앤씨, 케이엔에스 등이 있습니다. 씨아이에스는 롤투롤 장비회사의 양대 산맥으로 LG를 주요 거래처로 하고 있습니다. 히라노는 파우치형 배터리에 사용 가능한 넓은 폭의 코터를 생산하는 기업입니다.\n",
            "    filename: 피엔티 경쟁사 보고서\n",
            "=================================\u001b[1m Tool Message \u001b[0m=================================\n",
            "Name: write_pdf\n",
            "\n",
            "피엔티 경쟁사 보고서 저장 완료\n",
            "=================================\u001b[1m Tool Message \u001b[0m=================================\n",
            "Name: write_pdf\n",
            "\n",
            "피엔티 경쟁사 보고서 저장 완료\n"
          ]
        }
      ],
      "source": [
        "config = reset_config()\n",
        "\n",
        "query = \"피엔티의 경쟁사에 대한 정보도 정리된 보고서를 작성해주세요.\"\n",
        "\n",
        "streaming(query, config)"
      ]
    },
    {
      "cell_type": "code",
      "execution_count": 85,
      "metadata": {
        "id": "Lk2rpxQAnKBs",
        "colab": {
          "base_uri": "https://localhost:8080/"
        },
        "outputId": "6b26e2c4-e9f5-4303-91d5-1f8b2b7976d9"
      },
      "outputs": [
        {
          "output_type": "stream",
          "name": "stdout",
          "text": [
            "================================\u001b[1m Human Message \u001b[0m=================================\n",
            "\n",
            "현재 폴더의 pdf로 이루어진 파일 모두 삭제해줘\n",
            "================================\u001b[1m Human Message \u001b[0m=================================\n",
            "\n",
            "현재 폴더의 pdf로 이루어진 파일 모두 삭제해줘\n",
            "==================================\u001b[1m Ai Message \u001b[0m==================================\n",
            "Tool Calls:\n",
            "  list_directory (2d26024e-6c9a-44a5-9859-c28f6b43b9bb)\n",
            " Call ID: 2d26024e-6c9a-44a5-9859-c28f6b43b9bb\n",
            "  Args:\n",
            "=================================\u001b[1m Tool Message \u001b[0m=================================\n",
            "Name: list_directory\n",
            "\n",
            ".config\n",
            "피엔티 경쟁사 보고서\n",
            ".ipynb_checkpoints\n",
            "피엔티 보고서\n",
            "fonts\n",
            "sample_data\n",
            "=================================\u001b[1m Tool Message \u001b[0m=================================\n",
            "Name: list_directory\n",
            "\n",
            ".config\n",
            "피엔티 경쟁사 보고서\n",
            ".ipynb_checkpoints\n",
            "피엔티 보고서\n",
            "fonts\n",
            "sample_data\n",
            "==================================\u001b[1m Ai Message \u001b[0m==================================\n",
            "\n",
            "현재 폴더에 있는 PDF 파일들을 삭제하기 위해 먼저 파일 목록을 확인하고, 그 다음 PDF 파일들을 삭제해야 합니다. 이전 단계에서 `list_directory` 도구를 사용하여 파일 목록을 확인했으므로, 이제 `file_delete` 도구를 사용하여 PDF 파일들을 삭제해야 합니다. 어떤 파일이 PDF 파일인지 확인하기 위해 파일 이름을 확인해야 합니다.\n",
            "Tool Calls:\n",
            "  list_directory (e1129f5c-d850-4fa6-9688-59d1b97823ff)\n",
            " Call ID: e1129f5c-d850-4fa6-9688-59d1b97823ff\n",
            "  Args:\n",
            "=================================\u001b[1m Tool Message \u001b[0m=================================\n",
            "Name: list_directory\n",
            "\n",
            ".config\n",
            "피엔티 경쟁사 보고서\n",
            ".ipynb_checkpoints\n",
            "피엔티 보고서\n",
            "fonts\n",
            "sample_data\n",
            "=================================\u001b[1m Tool Message \u001b[0m=================================\n",
            "Name: list_directory\n",
            "\n",
            ".config\n",
            "피엔티 경쟁사 보고서\n",
            ".ipynb_checkpoints\n",
            "피엔티 보고서\n",
            "fonts\n",
            "sample_data\n",
            "==================================\u001b[1m Ai Message \u001b[0m==================================\n",
            "\n",
            "현재 폴더에 있는 PDF 파일들을 삭제하기 위해 `file_delete` 도구를 사용해야 합니다. 이전 단계에서 `list_directory` 도구를 사용하여 파일 목록을 확인했으므로, 이제 `file_delete` 도구를 사용하여 PDF 파일들을 삭제해야 합니다. 어떤 파일이 PDF 파일인지 확인하기 위해 파일 이름을 확인해야 합니다. 파일 목록은 다음과 같습니다: .config, 피엔티 경쟁사 보고서, .ipynb_checkpoints, 피엔티 보고서, fonts, sample_data. 여기서 PDF 파일은 \"피엔티 경쟁사 보고서\"와 \"피엔티 보고서\"입니다.\n",
            "Tool Calls:\n",
            "  file_delete (5b2dd302-946d-46a3-8ca2-4a3281d1fb1a)\n",
            " Call ID: 5b2dd302-946d-46a3-8ca2-4a3281d1fb1a\n",
            "  Args:\n",
            "    file_path: 피엔티 경쟁사 보고서\n",
            "  file_delete (b668e297-00cf-47ec-a0db-6f6b298a3c8e)\n",
            " Call ID: b668e297-00cf-47ec-a0db-6f6b298a3c8e\n",
            "  Args:\n",
            "    file_path: 피엔티 보고서\n",
            "=================================\u001b[1m Tool Message \u001b[0m=================================\n",
            "Name: file_delete\n",
            "\n",
            "File deleted successfully: 피엔티 보고서.\n",
            "=================================\u001b[1m Tool Message \u001b[0m=================================\n",
            "Name: file_delete\n",
            "\n",
            "File deleted successfully: 피엔티 보고서.\n"
          ]
        }
      ],
      "source": [
        "config = reset_config()\n",
        "\n",
        "query = \"현재 폴더의 pdf로 이루어진 파일 모두 삭제해줘\"\n",
        "\n",
        "streaming(query, config)"
      ]
    },
    {
      "cell_type": "code",
      "execution_count": 86,
      "metadata": {
        "id": "t3rAme8unKBt",
        "colab": {
          "base_uri": "https://localhost:8080/"
        },
        "outputId": "399e6201-b645-4d83-86ec-b89e0dd4ec2e"
      },
      "outputs": [
        {
          "output_type": "stream",
          "name": "stdout",
          "text": [
            "================================\u001b[1m Human Message \u001b[0m=================================\n",
            "\n",
            "\n",
            "아래 코드 실행시켜주세요.\n",
            "\n",
            "```python\n",
            "\n",
            "result = 0\n",
            "\n",
            "for i in range(20):\n",
            "    print(f\"{i+1}번째 출력: \", i+1)\n",
            "    result += i\n",
            "\n",
            "print(\"최종 결과: \", result)\n",
            "\n",
            "```\n",
            "\n",
            "================================\u001b[1m Human Message \u001b[0m=================================\n",
            "\n",
            "\n",
            "아래 코드 실행시켜주세요.\n",
            "\n",
            "```python\n",
            "\n",
            "result = 0\n",
            "\n",
            "for i in range(20):\n",
            "    print(f\"{i+1}번째 출력: \", i+1)\n",
            "    result += i\n",
            "\n",
            "print(\"최종 결과: \", result)\n",
            "\n",
            "```\n",
            "\n",
            "==================================\u001b[1m Ai Message \u001b[0m==================================\n",
            "Tool Calls:\n",
            "  python_repl_ast (41596b9b-73d1-417b-af46-b1c4e49dabb0)\n",
            " Call ID: 41596b9b-73d1-417b-af46-b1c4e49dabb0\n",
            "  Args:\n",
            "    query: \n",
            "result = 0\n",
            "\n",
            "for i in range(20):\n",
            "    print(f\"{i+1}번째 출력: \", i+1)\n",
            "    result += i\n",
            "\n",
            "print(\"최종 결과: \", result)\n",
            "1번째 출력:  1\n",
            "2번째 출력:  2\n",
            "3번째 출력:  3\n",
            "4번째 출력:  4\n",
            "5번째 출력:  5\n",
            "6번째 출력:  6\n",
            "7번째 출력:  7\n",
            "8번째 출력:  8\n",
            "9번째 출력:  9\n",
            "10번째 출력:  10\n",
            "11번째 출력:  11\n",
            "12번째 출력:  12\n",
            "13번째 출력:  13\n",
            "14번째 출력:  14\n",
            "15번째 출력:  15\n",
            "16번째 출력:  16\n",
            "17번째 출력:  17\n",
            "18번째 출력:  18\n",
            "19번째 출력:  19\n",
            "20번째 출력:  20\n",
            "=================================\u001b[1m Tool Message \u001b[0m=================================\n",
            "Name: python_repl_ast\n",
            "\n",
            "최종 결과:  190\n",
            "\n",
            "=================================\u001b[1m Tool Message \u001b[0m=================================\n",
            "Name: python_repl_ast\n",
            "\n",
            "최종 결과:  190\n",
            "\n"
          ]
        }
      ],
      "source": [
        "config = reset_config()\n",
        "\n",
        "code = \"\"\"\n",
        "아래 코드 실행시켜주세요.\n",
        "\n",
        "```python\n",
        "\n",
        "result = 0\n",
        "\n",
        "for i in range(20):\n",
        "    print(f\"{i+1}번째 출력: \", i+1)\n",
        "    result += i\n",
        "\n",
        "print(\"최종 결과: \", result)\n",
        "\n",
        "```\n",
        "\"\"\"\n",
        "\n",
        "streaming(code, config)"
      ]
    },
    {
      "cell_type": "code",
      "execution_count": 87,
      "metadata": {
        "id": "PjIVlnOMnKBt",
        "colab": {
          "base_uri": "https://localhost:8080/",
          "height": 1000
        },
        "outputId": "f8e1be5d-5290-4ad6-f349-240cf55246e6"
      },
      "outputs": [
        {
          "output_type": "stream",
          "name": "stdout",
          "text": [
            "================================\u001b[1m Human Message \u001b[0m=================================\n",
            "\n",
            "\n",
            "          모두의연구소는 어떤 곳이야?\n",
            "          깔끔하게 정리해서 레포트로 만들어줘.\n",
            "          레포트의 형식은 pdf로 저장해주면 돼.\n",
            "          이름은 \"모두의연구소_레포트.pdf\"로 해줘.\n",
            "================================\u001b[1m Human Message \u001b[0m=================================\n",
            "\n",
            "\n",
            "          모두의연구소는 어떤 곳이야?\n",
            "          깔끔하게 정리해서 레포트로 만들어줘.\n",
            "          레포트의 형식은 pdf로 저장해주면 돼.\n",
            "          이름은 \"모두의연구소_레포트.pdf\"로 해줘.\n",
            "==================================\u001b[1m Ai Message \u001b[0m==================================\n",
            "Tool Calls:\n",
            "  tavily_search_results_json (5ca8e86d-2c60-40b1-a00e-89e6eb616ba4)\n",
            " Call ID: 5ca8e86d-2c60-40b1-a00e-89e6eb616ba4\n",
            "  Args:\n",
            "    query: 모두의연구소\n",
            "=================================\u001b[1m Tool Message \u001b[0m=================================\n",
            "Name: tavily_search_results_json\n",
            "\n",
            "[{\"title\": \"모두의연구소 2025년 기업정보 - 직원수, 근무환경, 복리후생 등\", \"url\": \"https://www.jobkorea.co.kr/recruit/co_read/c/modulabs\", \"content\": \"기업소개. 모두의연구소는 AI 교육인 아이펠과 작년에 새롭게 런칭된 SW 교육, 그리고 다양한 주제가 있는 커뮤니티를 기반으로 교육 및 연구 서비스를 제공하고 있어요. '\", \"score\": 0.8548001}, {\"title\": \"모두의연구소 채용페이지\", \"url\": \"https://modulabs.career.greetinghr.com/home\", \"content\": \"카카오임팩트와 모두의연구소는 테크포임팩트 기술 커뮤니티의 대표 활동으로 사회 문제 해결에 기여하기 위해 논문, 연구, 서비스 및 솔루션 개발 등 기술 관련 결과물을\", \"score\": 0.78493005}, {\"title\": \"모두의연구소 커뮤니티 | Facebook\", \"url\": \"https://www.facebook.com/groups/modulabs/?locale=ko_KR\", \"content\": \"모두함께 연구하는 #모두의연구소 ( https://www. facebook.com/lab4all )에 관심있는 모든 분들이 함께 소통할 수있는 그룹을 하나 만들었습니다.\", \"score\": 0.7244226}, {\"title\": \"모두의연구소\", \"url\": \"https://modulabs.co.kr/\", \"content\": \"ChatGPT로 사업계획서 1일만에 완성하기\\n\\n생성형 AI를 활용한 업무자동화\\n\\n생성형AI로 마케팅 글쓰기\\n\\n모두의 연구소 LAB\\n\\n함께하는 모두의 연구실, LAB\\n\\nMathML LAB\\n\\n인공지능에 인사이트를 넓혀주는 수학적 기초를 탄탄히 다지면서, 실제 코드와 함께 연구해요.\\n\\nConversation LAB\\n\\nLive2D 캐릭터 기반의 음성 챗봇을 고도화하는 모임입니다.\\n\\n페르소나 랩 LAB\\n\\n엑티베이션 레벨에서 LLM 성격 컨트롤을 시도 합니다.\\n\\nCVE LAB\\n\\nImproving TTI Alignment Using Image captioning\\n\\n홈 중간배너\\n\\nAI 활용 노하우\\n스터디\\n\\n똑똑한 AI 일잘러가 되고 싶다면?\\n직장인 클래스!\\n\\n어제도 너무 늦다\\nAI뉴스\\n\\nNotion으로 업무 생산성 200% 높이기\\n\\nNeurIPS\\n2024 탐방기\\n\\n모두의연구소 블로그\\n\\nGemini 2.5: 구글의 최첨단 성능 갖춘 실험 버전 언어 모델 [AI 모두레터] [...] R1 파헤치기, Ko-R1 개발기\\n\\nAI 가속화의 새로운 길\\n\\n모두연 온라인 교육상품\\n\\nAI 온라인 강의\\n\\n생성형 AI를 활용한 15초 광고(숏폼) 만들기\\n\\n90%20,000원200,000원\\n\\n생상위 1% 일잘러를 위한 고급 프롬프트 엔지니어링\\n\\n90%15,000원150,000원\\n\\n챗GPT로 인싸 크리에이터 되는 법\\n\\n90%10,000원100,000원\\n\\n프롬프트 엔지니어링 A to Z\\n\\n90%10,000원100,000원\\n\\n[노코드] Bolt.new로 하루 만에 MVP 만들기\\n\\n50%44,500원89,000원\\n\\n[SQL 입문] ChatGPT로 데이터 분석 시작하기\\n\\n50%29,500원59,000원\\n\\n[Vercel MVP] 60만 유저 달성 프로젝트: 1주일만에 기획부터 배포까지\\n\\n50%29,500원59,000원\\n\\nClaude로 끝내는 상세페이지 AI 자동화\\n\\n50%29,500원59,000원\\n\\n직장인 무료 교육\\n\\n직장인 무료 교육\\n\\nMS코파일럿 자료조사+PPT 마스터 [...] 교육 일정 : 2025/04/24 → 2025/08/14\\n\\n모집중\\n\\n프로덕트 데이터 분석\\n\\n교육 일정 : 2025/05/14 → 2025/11/14\\n\\n모집중\\n\\nAI학교 아이펠 리서치 과정\\n\\n교육 일정 : 2025/06/23 → 2025/12/23\\n\\n사전신청\\n\\n프론트엔드 개발 과정\\n\\n교육 일정 : 2025/04/15 → 2025/08/14\\n\\n백엔드 개발 과정\\n\\n교육 일정 : 2025/04/24 → 2025/08/14\\n\\n프로덕트 데이터 분석\\n\\n교육 일정 : 2025/05/14 → 2025/11/14\\n\\nAI학교 아이펠 리서치 과정\\n\\n교육 일정 : 2025/06/23 → 2025/12/23\\n\\n함께 성장하는 즐거움, 모두모임\\n\\n강석우\\n\\n\\n\\n추천이 쪼아 LLM 시즌 2\\n\\n시나버스\\n\\n\\n\\n구글 공인 교육 전문가 레벨 1  부트 캠프 1기\\n\\n시나버스\\n\\n\\n\\n구글 공인 교육 전문가 레벨 2 부트 캠프 1기\\n\\nJames 쌤\\n\\n\\n\\n데이터 자격증 (ADsP, 빅분기 등)을 준비하는 사람들의 모임\\n\\n안우진\", \"score\": 0.62906903}, {\"title\": \"모두의연구소 - LinkedIn\", \"url\": \"https://kr.linkedin.com/school/modulabs/\", \"content\": \"모두의연구소 | LinkedIn 팔로워 2454명 | Share Value, Grow Together 누구나 함께 지식을 공유하고 성장하는 연구 문화를 전파합니다 | Located in prospering\", \"score\": 0.5820878}, {\"title\": \"모두의연구소 공식 (@modulabs_) • Instagram photos and videos\", \"url\": \"https://www.instagram.com/modulabs_/\", \"content\": \"𝖲𝗁𝖺𝗋𝖾 𝖵𝖺𝗅𝗎𝖾, 𝖦𝗋𝗈𝗐 𝖳𝗈𝗀𝖾𝗍𝗁𝖾𝗋 함께 지식을 공유하고 성장하는 연구 문화를 전파합니다. ... AI가 내 일 뺏기 전에, AI랑 같이 일하는 법부터 배워야죠. 코딩 몰라도 OK!\", \"score\": 0.54492307}, {\"title\": \"모두의연구소 - YouTube\", \"url\": \"https://www.youtube.com/@modulabs_\", \"content\": \"모두팝 | Pop Pop 터지는 AI 세미나 · 모두의연구소만의 지식 공유 세미나 모두팝! · [모두팝] R1 파헤치기, Ko-R1 개발기 · [모두팝] CES 현장 브리핑: AI 연구의 미래.\", \"score\": 0.50285697}]\n",
            "=================================\u001b[1m Tool Message \u001b[0m=================================\n",
            "Name: tavily_search_results_json\n",
            "\n",
            "[{\"title\": \"모두의연구소 2025년 기업정보 - 직원수, 근무환경, 복리후생 등\", \"url\": \"https://www.jobkorea.co.kr/recruit/co_read/c/modulabs\", \"content\": \"기업소개. 모두의연구소는 AI 교육인 아이펠과 작년에 새롭게 런칭된 SW 교육, 그리고 다양한 주제가 있는 커뮤니티를 기반으로 교육 및 연구 서비스를 제공하고 있어요. '\", \"score\": 0.8548001}, {\"title\": \"모두의연구소 채용페이지\", \"url\": \"https://modulabs.career.greetinghr.com/home\", \"content\": \"카카오임팩트와 모두의연구소는 테크포임팩트 기술 커뮤니티의 대표 활동으로 사회 문제 해결에 기여하기 위해 논문, 연구, 서비스 및 솔루션 개발 등 기술 관련 결과물을\", \"score\": 0.78493005}, {\"title\": \"모두의연구소 커뮤니티 | Facebook\", \"url\": \"https://www.facebook.com/groups/modulabs/?locale=ko_KR\", \"content\": \"모두함께 연구하는 #모두의연구소 ( https://www. facebook.com/lab4all )에 관심있는 모든 분들이 함께 소통할 수있는 그룹을 하나 만들었습니다.\", \"score\": 0.7244226}, {\"title\": \"모두의연구소\", \"url\": \"https://modulabs.co.kr/\", \"content\": \"ChatGPT로 사업계획서 1일만에 완성하기\\n\\n생성형 AI를 활용한 업무자동화\\n\\n생성형AI로 마케팅 글쓰기\\n\\n모두의 연구소 LAB\\n\\n함께하는 모두의 연구실, LAB\\n\\nMathML LAB\\n\\n인공지능에 인사이트를 넓혀주는 수학적 기초를 탄탄히 다지면서, 실제 코드와 함께 연구해요.\\n\\nConversation LAB\\n\\nLive2D 캐릭터 기반의 음성 챗봇을 고도화하는 모임입니다.\\n\\n페르소나 랩 LAB\\n\\n엑티베이션 레벨에서 LLM 성격 컨트롤을 시도 합니다.\\n\\nCVE LAB\\n\\nImproving TTI Alignment Using Image captioning\\n\\n홈 중간배너\\n\\nAI 활용 노하우\\n스터디\\n\\n똑똑한 AI 일잘러가 되고 싶다면?\\n직장인 클래스!\\n\\n어제도 너무 늦다\\nAI뉴스\\n\\nNotion으로 업무 생산성 200% 높이기\\n\\nNeurIPS\\n2024 탐방기\\n\\n모두의연구소 블로그\\n\\nGemini 2.5: 구글의 최첨단 성능 갖춘 실험 버전 언어 모델 [AI 모두레터] [...] R1 파헤치기, Ko-R1 개발기\\n\\nAI 가속화의 새로운 길\\n\\n모두연 온라인 교육상품\\n\\nAI 온라인 강의\\n\\n생성형 AI를 활용한 15초 광고(숏폼) 만들기\\n\\n90%20,000원200,000원\\n\\n생상위 1% 일잘러를 위한 고급 프롬프트 엔지니어링\\n\\n90%15,000원150,000원\\n\\n챗GPT로 인싸 크리에이터 되는 법\\n\\n90%10,000원100,000원\\n\\n프롬프트 엔지니어링 A to Z\\n\\n90%10,000원100,000원\\n\\n[노코드] Bolt.new로 하루 만에 MVP 만들기\\n\\n50%44,500원89,000원\\n\\n[SQL 입문] ChatGPT로 데이터 분석 시작하기\\n\\n50%29,500원59,000원\\n\\n[Vercel MVP] 60만 유저 달성 프로젝트: 1주일만에 기획부터 배포까지\\n\\n50%29,500원59,000원\\n\\nClaude로 끝내는 상세페이지 AI 자동화\\n\\n50%29,500원59,000원\\n\\n직장인 무료 교육\\n\\n직장인 무료 교육\\n\\nMS코파일럿 자료조사+PPT 마스터 [...] 교육 일정 : 2025/04/24 → 2025/08/14\\n\\n모집중\\n\\n프로덕트 데이터 분석\\n\\n교육 일정 : 2025/05/14 → 2025/11/14\\n\\n모집중\\n\\nAI학교 아이펠 리서치 과정\\n\\n교육 일정 : 2025/06/23 → 2025/12/23\\n\\n사전신청\\n\\n프론트엔드 개발 과정\\n\\n교육 일정 : 2025/04/15 → 2025/08/14\\n\\n백엔드 개발 과정\\n\\n교육 일정 : 2025/04/24 → 2025/08/14\\n\\n프로덕트 데이터 분석\\n\\n교육 일정 : 2025/05/14 → 2025/11/14\\n\\nAI학교 아이펠 리서치 과정\\n\\n교육 일정 : 2025/06/23 → 2025/12/23\\n\\n함께 성장하는 즐거움, 모두모임\\n\\n강석우\\n\\n\\n\\n추천이 쪼아 LLM 시즌 2\\n\\n시나버스\\n\\n\\n\\n구글 공인 교육 전문가 레벨 1  부트 캠프 1기\\n\\n시나버스\\n\\n\\n\\n구글 공인 교육 전문가 레벨 2 부트 캠프 1기\\n\\nJames 쌤\\n\\n\\n\\n데이터 자격증 (ADsP, 빅분기 등)을 준비하는 사람들의 모임\\n\\n안우진\", \"score\": 0.62906903}, {\"title\": \"모두의연구소 - LinkedIn\", \"url\": \"https://kr.linkedin.com/school/modulabs/\", \"content\": \"모두의연구소 | LinkedIn 팔로워 2454명 | Share Value, Grow Together 누구나 함께 지식을 공유하고 성장하는 연구 문화를 전파합니다 | Located in prospering\", \"score\": 0.5820878}, {\"title\": \"모두의연구소 공식 (@modulabs_) • Instagram photos and videos\", \"url\": \"https://www.instagram.com/modulabs_/\", \"content\": \"𝖲𝗁𝖺𝗋𝖾 𝖵𝖺𝗅𝗎𝖾, 𝖦𝗋𝗈𝗐 𝖳𝗈𝗀𝖾𝗍𝗁𝖾𝗋 함께 지식을 공유하고 성장하는 연구 문화를 전파합니다. ... AI가 내 일 뺏기 전에, AI랑 같이 일하는 법부터 배워야죠. 코딩 몰라도 OK!\", \"score\": 0.54492307}, {\"title\": \"모두의연구소 - YouTube\", \"url\": \"https://www.youtube.com/@modulabs_\", \"content\": \"모두팝 | Pop Pop 터지는 AI 세미나 · 모두의연구소만의 지식 공유 세미나 모두팝! · [모두팝] R1 파헤치기, Ko-R1 개발기 · [모두팝] CES 현장 브리핑: AI 연구의 미래.\", \"score\": 0.50285697}]\n",
            "==================================\u001b[1m Ai Message \u001b[0m==================================\n",
            "\n",
            "이전 검색 결과를 바탕으로 \"모두의연구소\"에 대한 정보를 요약하고 PDF 보고서를 생성하겠습니다.\n",
            "Tool Calls:\n",
            "  write_pdf (815d11a6-97c2-4e68-945e-a236e863f82e)\n",
            " Call ID: 815d11a6-97c2-4e68-945e-a236e863f82e\n",
            "  Args:\n",
            "    content: \n",
            "모두의연구소는 AI 교육(아이펠) 및 SW 교육, 커뮤니티 기반 교육 및 연구 서비스를 제공하는 곳입니다. (출처: jobkorea)\n",
            "\n",
            "핵심 가치는 지식 공유와 함께 성장이며, LinkedIn 팔로워 2454명을 보유하고 있습니다. (출처: LinkedIn)\n",
            "\n",
            "다양한 LAB을 운영하며, AI 활용 노하우 스터디, 온라인 교육 상품 등을 제공합니다. (출처: 모두의연구소 웹사이트)\n",
            "\n",
            "    filename: 모두의연구소_레포트.pdf\n"
          ]
        },
        {
          "output_type": "stream",
          "name": "stderr",
          "text": [
            "WARNING:langchain_google_genai.chat_models:Retrying langchain_google_genai.chat_models._chat_with_retry.<locals>._chat_with_retry in 2.0 seconds as it raised ResourceExhausted: 429 You exceeded your current quota, please check your plan and billing details. For more information on this error, head to: https://ai.google.dev/gemini-api/docs/rate-limits. [violations {\n",
            "}\n",
            ", links {\n",
            "  description: \"Learn more about Gemini API quotas\"\n",
            "  url: \"https://ai.google.dev/gemini-api/docs/rate-limits\"\n",
            "}\n",
            ", retry_delay {\n",
            "  seconds: 4\n",
            "}\n",
            "].\n"
          ]
        },
        {
          "output_type": "stream",
          "name": "stdout",
          "text": [
            "=================================\u001b[1m Tool Message \u001b[0m=================================\n",
            "Name: write_pdf\n",
            "\n",
            "모두의연구소_레포트.pdf 저장 완료\n"
          ]
        },
        {
          "output_type": "error",
          "ename": "ResourceExhausted",
          "evalue": "429 You exceeded your current quota, please check your plan and billing details. For more information on this error, head to: https://ai.google.dev/gemini-api/docs/rate-limits. [violations {\n}\n, links {\n  description: \"Learn more about Gemini API quotas\"\n  url: \"https://ai.google.dev/gemini-api/docs/rate-limits\"\n}\n, retry_delay {\n  seconds: 2\n}\n]",
          "traceback": [
            "\u001b[0;31m---------------------------------------------------------------------------\u001b[0m",
            "\u001b[0;31mResourceExhausted\u001b[0m                         Traceback (most recent call last)",
            "\u001b[0;32m<ipython-input-87-07c4984735eb>\u001b[0m in \u001b[0;36m<cell line: 0>\u001b[0;34m()\u001b[0m\n\u001b[1;32m      1\u001b[0m \u001b[0mconfig\u001b[0m \u001b[0;34m=\u001b[0m \u001b[0mreset_config\u001b[0m\u001b[0;34m(\u001b[0m\u001b[0;34m)\u001b[0m\u001b[0;34m\u001b[0m\u001b[0;34m\u001b[0m\u001b[0m\n\u001b[1;32m      2\u001b[0m \u001b[0;34m\u001b[0m\u001b[0m\n\u001b[0;32m----> 3\u001b[0;31m streaming(\"\"\"\n\u001b[0m\u001b[1;32m      4\u001b[0m           \u001b[0m모두의연구소는\u001b[0m \u001b[0m어떤\u001b[0m \u001b[0m곳이야\u001b[0m\u001b[0;31m?\u001b[0m\u001b[0;34m\u001b[0m\u001b[0;34m\u001b[0m\u001b[0m\n\u001b[1;32m      5\u001b[0m           \u001b[0m깔끔하게\u001b[0m \u001b[0m정리해서\u001b[0m \u001b[0m레포트로\u001b[0m \u001b[0m만들어줘\u001b[0m\u001b[0;34m.\u001b[0m\u001b[0;34m\u001b[0m\u001b[0;34m\u001b[0m\u001b[0m\n",
            "\u001b[0;32m<ipython-input-79-0827eb269a4e>\u001b[0m in \u001b[0;36mstreaming\u001b[0;34m(query, config, mode)\u001b[0m\n\u001b[1;32m      9\u001b[0m \u001b[0;34m\u001b[0m\u001b[0m\n\u001b[1;32m     10\u001b[0m     \u001b[0;32mif\u001b[0m \u001b[0mmode\u001b[0m \u001b[0;34m==\u001b[0m \u001b[0;34m\"values\"\u001b[0m\u001b[0;34m:\u001b[0m\u001b[0;34m\u001b[0m\u001b[0;34m\u001b[0m\u001b[0m\n\u001b[0;32m---> 11\u001b[0;31m         \u001b[0;32mfor\u001b[0m \u001b[0mstep\u001b[0m \u001b[0;32min\u001b[0m \u001b[0mresult\u001b[0m\u001b[0;34m:\u001b[0m\u001b[0;34m\u001b[0m\u001b[0;34m\u001b[0m\u001b[0m\n\u001b[0m\u001b[1;32m     12\u001b[0m             \u001b[0;32mfor\u001b[0m \u001b[0mk\u001b[0m\u001b[0;34m,\u001b[0m \u001b[0mv\u001b[0m \u001b[0;32min\u001b[0m \u001b[0mstep\u001b[0m\u001b[0;34m.\u001b[0m\u001b[0mitems\u001b[0m\u001b[0;34m(\u001b[0m\u001b[0;34m)\u001b[0m\u001b[0;34m:\u001b[0m\u001b[0;34m\u001b[0m\u001b[0;34m\u001b[0m\u001b[0m\n\u001b[1;32m     13\u001b[0m                 \u001b[0;32mif\u001b[0m \u001b[0mk\u001b[0m \u001b[0;34m==\u001b[0m \u001b[0;34m\"messages\"\u001b[0m\u001b[0;34m:\u001b[0m\u001b[0;34m\u001b[0m\u001b[0;34m\u001b[0m\u001b[0m\n",
            "\u001b[0;32m/usr/local/lib/python3.11/dist-packages/langgraph/pregel/__init__.py\u001b[0m in \u001b[0;36mstream\u001b[0;34m(self, input, config, stream_mode, output_keys, interrupt_before, interrupt_after, debug, subgraphs)\u001b[0m\n\u001b[1;32m   2323\u001b[0m                 \u001b[0;31m# with channel updates applied only at the transition between steps.\u001b[0m\u001b[0;34m\u001b[0m\u001b[0;34m\u001b[0m\u001b[0m\n\u001b[1;32m   2324\u001b[0m                 \u001b[0;32mwhile\u001b[0m \u001b[0mloop\u001b[0m\u001b[0;34m.\u001b[0m\u001b[0mtick\u001b[0m\u001b[0;34m(\u001b[0m\u001b[0minput_keys\u001b[0m\u001b[0;34m=\u001b[0m\u001b[0mself\u001b[0m\u001b[0;34m.\u001b[0m\u001b[0minput_channels\u001b[0m\u001b[0;34m)\u001b[0m\u001b[0;34m:\u001b[0m\u001b[0;34m\u001b[0m\u001b[0;34m\u001b[0m\u001b[0m\n\u001b[0;32m-> 2325\u001b[0;31m                     for _ in runner.tick(\n\u001b[0m\u001b[1;32m   2326\u001b[0m                         \u001b[0mloop\u001b[0m\u001b[0;34m.\u001b[0m\u001b[0mtasks\u001b[0m\u001b[0;34m.\u001b[0m\u001b[0mvalues\u001b[0m\u001b[0;34m(\u001b[0m\u001b[0;34m)\u001b[0m\u001b[0;34m,\u001b[0m\u001b[0;34m\u001b[0m\u001b[0;34m\u001b[0m\u001b[0m\n\u001b[1;32m   2327\u001b[0m                         \u001b[0mtimeout\u001b[0m\u001b[0;34m=\u001b[0m\u001b[0mself\u001b[0m\u001b[0;34m.\u001b[0m\u001b[0mstep_timeout\u001b[0m\u001b[0;34m,\u001b[0m\u001b[0;34m\u001b[0m\u001b[0;34m\u001b[0m\u001b[0m\n",
            "\u001b[0;32m/usr/local/lib/python3.11/dist-packages/langgraph/graph/branch.py\u001b[0m in \u001b[0;36m_route\u001b[0;34m(self, input, config, reader, writer)\u001b[0m\n\u001b[1;32m    165\u001b[0m         \u001b[0;32melse\u001b[0m\u001b[0;34m:\u001b[0m\u001b[0;34m\u001b[0m\u001b[0;34m\u001b[0m\u001b[0m\n\u001b[1;32m    166\u001b[0m             \u001b[0mvalue\u001b[0m \u001b[0;34m=\u001b[0m \u001b[0minput\u001b[0m\u001b[0;34m\u001b[0m\u001b[0;34m\u001b[0m\u001b[0m\n\u001b[0;32m--> 167\u001b[0;31m         \u001b[0mresult\u001b[0m \u001b[0;34m=\u001b[0m \u001b[0mself\u001b[0m\u001b[0;34m.\u001b[0m\u001b[0mpath\u001b[0m\u001b[0;34m.\u001b[0m\u001b[0minvoke\u001b[0m\u001b[0;34m(\u001b[0m\u001b[0mvalue\u001b[0m\u001b[0;34m,\u001b[0m \u001b[0mconfig\u001b[0m\u001b[0;34m)\u001b[0m\u001b[0;34m\u001b[0m\u001b[0;34m\u001b[0m\u001b[0m\n\u001b[0m\u001b[1;32m    168\u001b[0m         \u001b[0;32mreturn\u001b[0m \u001b[0mself\u001b[0m\u001b[0;34m.\u001b[0m\u001b[0m_finish\u001b[0m\u001b[0;34m(\u001b[0m\u001b[0mwriter\u001b[0m\u001b[0;34m,\u001b[0m \u001b[0minput\u001b[0m\u001b[0;34m,\u001b[0m \u001b[0mresult\u001b[0m\u001b[0;34m,\u001b[0m \u001b[0mconfig\u001b[0m\u001b[0;34m)\u001b[0m\u001b[0;34m\u001b[0m\u001b[0;34m\u001b[0m\u001b[0m\n\u001b[1;32m    169\u001b[0m \u001b[0;34m\u001b[0m\u001b[0m\n",
            "\u001b[0;32m/usr/local/lib/python3.11/dist-packages/langgraph/utils/runnable.py\u001b[0m in \u001b[0;36minvoke\u001b[0;34m(self, input, config, **kwargs)\u001b[0m\n\u001b[1;32m    361\u001b[0m                 \u001b[0mchild_config\u001b[0m \u001b[0;34m=\u001b[0m \u001b[0mpatch_config\u001b[0m\u001b[0;34m(\u001b[0m\u001b[0mconfig\u001b[0m\u001b[0;34m,\u001b[0m \u001b[0mcallbacks\u001b[0m\u001b[0;34m=\u001b[0m\u001b[0mrun_manager\u001b[0m\u001b[0;34m.\u001b[0m\u001b[0mget_child\u001b[0m\u001b[0;34m(\u001b[0m\u001b[0;34m)\u001b[0m\u001b[0;34m)\u001b[0m\u001b[0;34m\u001b[0m\u001b[0;34m\u001b[0m\u001b[0m\n\u001b[1;32m    362\u001b[0m                 \u001b[0;32mwith\u001b[0m \u001b[0mset_config_context\u001b[0m\u001b[0;34m(\u001b[0m\u001b[0mchild_config\u001b[0m\u001b[0;34m)\u001b[0m \u001b[0;32mas\u001b[0m \u001b[0mcontext\u001b[0m\u001b[0;34m:\u001b[0m\u001b[0;34m\u001b[0m\u001b[0;34m\u001b[0m\u001b[0m\n\u001b[0;32m--> 363\u001b[0;31m                     \u001b[0mret\u001b[0m \u001b[0;34m=\u001b[0m \u001b[0mcontext\u001b[0m\u001b[0;34m.\u001b[0m\u001b[0mrun\u001b[0m\u001b[0;34m(\u001b[0m\u001b[0mself\u001b[0m\u001b[0;34m.\u001b[0m\u001b[0mfunc\u001b[0m\u001b[0;34m,\u001b[0m \u001b[0;34m*\u001b[0m\u001b[0margs\u001b[0m\u001b[0;34m,\u001b[0m \u001b[0;34m**\u001b[0m\u001b[0mkwargs\u001b[0m\u001b[0;34m)\u001b[0m\u001b[0;34m\u001b[0m\u001b[0;34m\u001b[0m\u001b[0m\n\u001b[0m\u001b[1;32m    364\u001b[0m             \u001b[0;32mexcept\u001b[0m \u001b[0mBaseException\u001b[0m \u001b[0;32mas\u001b[0m \u001b[0me\u001b[0m\u001b[0;34m:\u001b[0m\u001b[0;34m\u001b[0m\u001b[0;34m\u001b[0m\u001b[0m\n\u001b[1;32m    365\u001b[0m                 \u001b[0mrun_manager\u001b[0m\u001b[0;34m.\u001b[0m\u001b[0mon_chain_error\u001b[0m\u001b[0;34m(\u001b[0m\u001b[0me\u001b[0m\u001b[0;34m)\u001b[0m\u001b[0;34m\u001b[0m\u001b[0;34m\u001b[0m\u001b[0m\n",
            "\u001b[0;32m<ipython-input-73-5531a956da62>\u001b[0m in \u001b[0;36manswer_check\u001b[0;34m(state)\u001b[0m\n\u001b[1;32m     24\u001b[0m     \u001b[0mhistory\u001b[0m \u001b[0;34m=\u001b[0m \u001b[0mshorterm_memory\u001b[0m\u001b[0;34m(\u001b[0m\u001b[0mstate\u001b[0m\u001b[0;34m)\u001b[0m\u001b[0;34m\u001b[0m\u001b[0;34m\u001b[0m\u001b[0m\n\u001b[1;32m     25\u001b[0m \u001b[0;34m\u001b[0m\u001b[0m\n\u001b[0;32m---> 26\u001b[0;31m     result = chain.invoke({\"history\" : history,\n\u001b[0m\u001b[1;32m     27\u001b[0m                             \u001b[0;34m\"answer\"\u001b[0m\u001b[0;34m:\u001b[0m \u001b[0mstate\u001b[0m\u001b[0;34m[\u001b[0m\u001b[0;34m\"answer\"\u001b[0m\u001b[0;34m]\u001b[0m\u001b[0;34m,\u001b[0m\u001b[0;34m\u001b[0m\u001b[0;34m\u001b[0m\u001b[0m\n\u001b[1;32m     28\u001b[0m                             \"query\": state[\"query\"]})\n",
            "\u001b[0;32m/usr/local/lib/python3.11/dist-packages/langchain_core/runnables/base.py\u001b[0m in \u001b[0;36minvoke\u001b[0;34m(self, input, config, **kwargs)\u001b[0m\n\u001b[1;32m   3023\u001b[0m                         \u001b[0minput\u001b[0m \u001b[0;34m=\u001b[0m \u001b[0mcontext\u001b[0m\u001b[0;34m.\u001b[0m\u001b[0mrun\u001b[0m\u001b[0;34m(\u001b[0m\u001b[0mstep\u001b[0m\u001b[0;34m.\u001b[0m\u001b[0minvoke\u001b[0m\u001b[0;34m,\u001b[0m \u001b[0minput\u001b[0m\u001b[0;34m,\u001b[0m \u001b[0mconfig\u001b[0m\u001b[0;34m,\u001b[0m \u001b[0;34m**\u001b[0m\u001b[0mkwargs\u001b[0m\u001b[0;34m)\u001b[0m\u001b[0;34m\u001b[0m\u001b[0;34m\u001b[0m\u001b[0m\n\u001b[1;32m   3024\u001b[0m                     \u001b[0;32melse\u001b[0m\u001b[0;34m:\u001b[0m\u001b[0;34m\u001b[0m\u001b[0;34m\u001b[0m\u001b[0m\n\u001b[0;32m-> 3025\u001b[0;31m                         \u001b[0minput\u001b[0m \u001b[0;34m=\u001b[0m \u001b[0mcontext\u001b[0m\u001b[0;34m.\u001b[0m\u001b[0mrun\u001b[0m\u001b[0;34m(\u001b[0m\u001b[0mstep\u001b[0m\u001b[0;34m.\u001b[0m\u001b[0minvoke\u001b[0m\u001b[0;34m,\u001b[0m \u001b[0minput\u001b[0m\u001b[0;34m,\u001b[0m \u001b[0mconfig\u001b[0m\u001b[0;34m)\u001b[0m\u001b[0;34m\u001b[0m\u001b[0;34m\u001b[0m\u001b[0m\n\u001b[0m\u001b[1;32m   3026\u001b[0m         \u001b[0;31m# finish the root run\u001b[0m\u001b[0;34m\u001b[0m\u001b[0;34m\u001b[0m\u001b[0m\n\u001b[1;32m   3027\u001b[0m         \u001b[0;32mexcept\u001b[0m \u001b[0mBaseException\u001b[0m \u001b[0;32mas\u001b[0m \u001b[0me\u001b[0m\u001b[0;34m:\u001b[0m\u001b[0;34m\u001b[0m\u001b[0;34m\u001b[0m\u001b[0m\n",
            "\u001b[0;32m/usr/local/lib/python3.11/dist-packages/langchain_core/runnables/base.py\u001b[0m in \u001b[0;36minvoke\u001b[0;34m(self, input, config, **kwargs)\u001b[0m\n\u001b[1;32m   5356\u001b[0m         \u001b[0;34m**\u001b[0m\u001b[0mkwargs\u001b[0m\u001b[0;34m:\u001b[0m \u001b[0mOptional\u001b[0m\u001b[0;34m[\u001b[0m\u001b[0mAny\u001b[0m\u001b[0;34m]\u001b[0m\u001b[0;34m,\u001b[0m\u001b[0;34m\u001b[0m\u001b[0;34m\u001b[0m\u001b[0m\n\u001b[1;32m   5357\u001b[0m     ) -> Output:\n\u001b[0;32m-> 5358\u001b[0;31m         return self.bound.invoke(\n\u001b[0m\u001b[1;32m   5359\u001b[0m             \u001b[0minput\u001b[0m\u001b[0;34m,\u001b[0m\u001b[0;34m\u001b[0m\u001b[0;34m\u001b[0m\u001b[0m\n\u001b[1;32m   5360\u001b[0m             \u001b[0mself\u001b[0m\u001b[0;34m.\u001b[0m\u001b[0m_merge_configs\u001b[0m\u001b[0;34m(\u001b[0m\u001b[0mconfig\u001b[0m\u001b[0;34m)\u001b[0m\u001b[0;34m,\u001b[0m\u001b[0;34m\u001b[0m\u001b[0;34m\u001b[0m\u001b[0m\n",
            "\u001b[0;32m/usr/local/lib/python3.11/dist-packages/langchain_google_genai/chat_models.py\u001b[0m in \u001b[0;36minvoke\u001b[0;34m(self, input, config, code_execution, stop, **kwargs)\u001b[0m\n\u001b[1;32m   1020\u001b[0m                 )\n\u001b[1;32m   1021\u001b[0m \u001b[0;34m\u001b[0m\u001b[0m\n\u001b[0;32m-> 1022\u001b[0;31m         \u001b[0;32mreturn\u001b[0m \u001b[0msuper\u001b[0m\u001b[0;34m(\u001b[0m\u001b[0;34m)\u001b[0m\u001b[0;34m.\u001b[0m\u001b[0minvoke\u001b[0m\u001b[0;34m(\u001b[0m\u001b[0minput\u001b[0m\u001b[0;34m,\u001b[0m \u001b[0mconfig\u001b[0m\u001b[0;34m,\u001b[0m \u001b[0mstop\u001b[0m\u001b[0;34m=\u001b[0m\u001b[0mstop\u001b[0m\u001b[0;34m,\u001b[0m \u001b[0;34m**\u001b[0m\u001b[0mkwargs\u001b[0m\u001b[0;34m)\u001b[0m\u001b[0;34m\u001b[0m\u001b[0;34m\u001b[0m\u001b[0m\n\u001b[0m\u001b[1;32m   1023\u001b[0m \u001b[0;34m\u001b[0m\u001b[0m\n\u001b[1;32m   1024\u001b[0m     def _get_ls_params(\n",
            "\u001b[0;32m/usr/local/lib/python3.11/dist-packages/langchain_core/language_models/chat_models.py\u001b[0m in \u001b[0;36minvoke\u001b[0;34m(self, input, config, stop, **kwargs)\u001b[0m\n\u001b[1;32m    305\u001b[0m         return cast(\n\u001b[1;32m    306\u001b[0m             \u001b[0mChatGeneration\u001b[0m\u001b[0;34m,\u001b[0m\u001b[0;34m\u001b[0m\u001b[0;34m\u001b[0m\u001b[0m\n\u001b[0;32m--> 307\u001b[0;31m             self.generate_prompt(\n\u001b[0m\u001b[1;32m    308\u001b[0m                 \u001b[0;34m[\u001b[0m\u001b[0mself\u001b[0m\u001b[0;34m.\u001b[0m\u001b[0m_convert_input\u001b[0m\u001b[0;34m(\u001b[0m\u001b[0minput\u001b[0m\u001b[0;34m)\u001b[0m\u001b[0;34m]\u001b[0m\u001b[0;34m,\u001b[0m\u001b[0;34m\u001b[0m\u001b[0;34m\u001b[0m\u001b[0m\n\u001b[1;32m    309\u001b[0m                 \u001b[0mstop\u001b[0m\u001b[0;34m=\u001b[0m\u001b[0mstop\u001b[0m\u001b[0;34m,\u001b[0m\u001b[0;34m\u001b[0m\u001b[0;34m\u001b[0m\u001b[0m\n",
            "\u001b[0;32m/usr/local/lib/python3.11/dist-packages/langchain_core/language_models/chat_models.py\u001b[0m in \u001b[0;36mgenerate_prompt\u001b[0;34m(self, prompts, stop, callbacks, **kwargs)\u001b[0m\n\u001b[1;32m    841\u001b[0m     ) -> LLMResult:\n\u001b[1;32m    842\u001b[0m         \u001b[0mprompt_messages\u001b[0m \u001b[0;34m=\u001b[0m \u001b[0;34m[\u001b[0m\u001b[0mp\u001b[0m\u001b[0;34m.\u001b[0m\u001b[0mto_messages\u001b[0m\u001b[0;34m(\u001b[0m\u001b[0;34m)\u001b[0m \u001b[0;32mfor\u001b[0m \u001b[0mp\u001b[0m \u001b[0;32min\u001b[0m \u001b[0mprompts\u001b[0m\u001b[0;34m]\u001b[0m\u001b[0;34m\u001b[0m\u001b[0;34m\u001b[0m\u001b[0m\n\u001b[0;32m--> 843\u001b[0;31m         \u001b[0;32mreturn\u001b[0m \u001b[0mself\u001b[0m\u001b[0;34m.\u001b[0m\u001b[0mgenerate\u001b[0m\u001b[0;34m(\u001b[0m\u001b[0mprompt_messages\u001b[0m\u001b[0;34m,\u001b[0m \u001b[0mstop\u001b[0m\u001b[0;34m=\u001b[0m\u001b[0mstop\u001b[0m\u001b[0;34m,\u001b[0m \u001b[0mcallbacks\u001b[0m\u001b[0;34m=\u001b[0m\u001b[0mcallbacks\u001b[0m\u001b[0;34m,\u001b[0m \u001b[0;34m**\u001b[0m\u001b[0mkwargs\u001b[0m\u001b[0;34m)\u001b[0m\u001b[0;34m\u001b[0m\u001b[0;34m\u001b[0m\u001b[0m\n\u001b[0m\u001b[1;32m    844\u001b[0m \u001b[0;34m\u001b[0m\u001b[0m\n\u001b[1;32m    845\u001b[0m     async def agenerate_prompt(\n",
            "\u001b[0;32m/usr/local/lib/python3.11/dist-packages/langchain_core/language_models/chat_models.py\u001b[0m in \u001b[0;36mgenerate\u001b[0;34m(self, messages, stop, callbacks, tags, metadata, run_name, run_id, **kwargs)\u001b[0m\n\u001b[1;32m    681\u001b[0m             \u001b[0;32mtry\u001b[0m\u001b[0;34m:\u001b[0m\u001b[0;34m\u001b[0m\u001b[0;34m\u001b[0m\u001b[0m\n\u001b[1;32m    682\u001b[0m                 results.append(\n\u001b[0;32m--> 683\u001b[0;31m                     self._generate_with_cache(\n\u001b[0m\u001b[1;32m    684\u001b[0m                         \u001b[0mm\u001b[0m\u001b[0;34m,\u001b[0m\u001b[0;34m\u001b[0m\u001b[0;34m\u001b[0m\u001b[0m\n\u001b[1;32m    685\u001b[0m                         \u001b[0mstop\u001b[0m\u001b[0;34m=\u001b[0m\u001b[0mstop\u001b[0m\u001b[0;34m,\u001b[0m\u001b[0;34m\u001b[0m\u001b[0;34m\u001b[0m\u001b[0m\n",
            "\u001b[0;32m/usr/local/lib/python3.11/dist-packages/langchain_core/language_models/chat_models.py\u001b[0m in \u001b[0;36m_generate_with_cache\u001b[0;34m(self, messages, stop, run_manager, **kwargs)\u001b[0m\n\u001b[1;32m    906\u001b[0m         \u001b[0;32melse\u001b[0m\u001b[0;34m:\u001b[0m\u001b[0;34m\u001b[0m\u001b[0;34m\u001b[0m\u001b[0m\n\u001b[1;32m    907\u001b[0m             \u001b[0;32mif\u001b[0m \u001b[0minspect\u001b[0m\u001b[0;34m.\u001b[0m\u001b[0msignature\u001b[0m\u001b[0;34m(\u001b[0m\u001b[0mself\u001b[0m\u001b[0;34m.\u001b[0m\u001b[0m_generate\u001b[0m\u001b[0;34m)\u001b[0m\u001b[0;34m.\u001b[0m\u001b[0mparameters\u001b[0m\u001b[0;34m.\u001b[0m\u001b[0mget\u001b[0m\u001b[0;34m(\u001b[0m\u001b[0;34m\"run_manager\"\u001b[0m\u001b[0;34m)\u001b[0m\u001b[0;34m:\u001b[0m\u001b[0;34m\u001b[0m\u001b[0;34m\u001b[0m\u001b[0m\n\u001b[0;32m--> 908\u001b[0;31m                 result = self._generate(\n\u001b[0m\u001b[1;32m    909\u001b[0m                     \u001b[0mmessages\u001b[0m\u001b[0;34m,\u001b[0m \u001b[0mstop\u001b[0m\u001b[0;34m=\u001b[0m\u001b[0mstop\u001b[0m\u001b[0;34m,\u001b[0m \u001b[0mrun_manager\u001b[0m\u001b[0;34m=\u001b[0m\u001b[0mrun_manager\u001b[0m\u001b[0;34m,\u001b[0m \u001b[0;34m**\u001b[0m\u001b[0mkwargs\u001b[0m\u001b[0;34m\u001b[0m\u001b[0;34m\u001b[0m\u001b[0m\n\u001b[1;32m    910\u001b[0m                 )\n",
            "\u001b[0;32m/usr/local/lib/python3.11/dist-packages/langchain_google_genai/chat_models.py\u001b[0m in \u001b[0;36m_generate\u001b[0;34m(self, messages, stop, run_manager, tools, functions, safety_settings, tool_config, generation_config, cached_content, tool_choice, **kwargs)\u001b[0m\n\u001b[1;32m   1087\u001b[0m             \u001b[0mtool_choice\u001b[0m\u001b[0;34m=\u001b[0m\u001b[0mtool_choice\u001b[0m\u001b[0;34m,\u001b[0m\u001b[0;34m\u001b[0m\u001b[0;34m\u001b[0m\u001b[0m\n\u001b[1;32m   1088\u001b[0m         )\n\u001b[0;32m-> 1089\u001b[0;31m         response: GenerateContentResponse = _chat_with_retry(\n\u001b[0m\u001b[1;32m   1090\u001b[0m             \u001b[0mrequest\u001b[0m\u001b[0;34m=\u001b[0m\u001b[0mrequest\u001b[0m\u001b[0;34m,\u001b[0m\u001b[0;34m\u001b[0m\u001b[0;34m\u001b[0m\u001b[0m\n\u001b[1;32m   1091\u001b[0m             \u001b[0;34m**\u001b[0m\u001b[0mkwargs\u001b[0m\u001b[0;34m,\u001b[0m\u001b[0;34m\u001b[0m\u001b[0;34m\u001b[0m\u001b[0m\n",
            "\u001b[0;32m/usr/local/lib/python3.11/dist-packages/langchain_google_genai/chat_models.py\u001b[0m in \u001b[0;36m_chat_with_retry\u001b[0;34m(generation_method, **kwargs)\u001b[0m\n\u001b[1;32m    204\u001b[0m             \u001b[0;32mraise\u001b[0m \u001b[0me\u001b[0m\u001b[0;34m\u001b[0m\u001b[0;34m\u001b[0m\u001b[0m\n\u001b[1;32m    205\u001b[0m \u001b[0;34m\u001b[0m\u001b[0m\n\u001b[0;32m--> 206\u001b[0;31m     \u001b[0;32mreturn\u001b[0m \u001b[0m_chat_with_retry\u001b[0m\u001b[0;34m(\u001b[0m\u001b[0;34m**\u001b[0m\u001b[0mkwargs\u001b[0m\u001b[0;34m)\u001b[0m\u001b[0;34m\u001b[0m\u001b[0;34m\u001b[0m\u001b[0m\n\u001b[0m\u001b[1;32m    207\u001b[0m \u001b[0;34m\u001b[0m\u001b[0m\n\u001b[1;32m    208\u001b[0m \u001b[0;34m\u001b[0m\u001b[0m\n",
            "\u001b[0;32m/usr/local/lib/python3.11/dist-packages/tenacity/__init__.py\u001b[0m in \u001b[0;36mwrapped_f\u001b[0;34m(*args, **kw)\u001b[0m\n\u001b[1;32m    334\u001b[0m             \u001b[0mcopy\u001b[0m \u001b[0;34m=\u001b[0m \u001b[0mself\u001b[0m\u001b[0;34m.\u001b[0m\u001b[0mcopy\u001b[0m\u001b[0;34m(\u001b[0m\u001b[0;34m)\u001b[0m\u001b[0;34m\u001b[0m\u001b[0;34m\u001b[0m\u001b[0m\n\u001b[1;32m    335\u001b[0m             \u001b[0mwrapped_f\u001b[0m\u001b[0;34m.\u001b[0m\u001b[0mstatistics\u001b[0m \u001b[0;34m=\u001b[0m \u001b[0mcopy\u001b[0m\u001b[0;34m.\u001b[0m\u001b[0mstatistics\u001b[0m  \u001b[0;31m# type: ignore[attr-defined]\u001b[0m\u001b[0;34m\u001b[0m\u001b[0;34m\u001b[0m\u001b[0m\n\u001b[0;32m--> 336\u001b[0;31m             \u001b[0;32mreturn\u001b[0m \u001b[0mcopy\u001b[0m\u001b[0;34m(\u001b[0m\u001b[0mf\u001b[0m\u001b[0;34m,\u001b[0m \u001b[0;34m*\u001b[0m\u001b[0margs\u001b[0m\u001b[0;34m,\u001b[0m \u001b[0;34m**\u001b[0m\u001b[0mkw\u001b[0m\u001b[0;34m)\u001b[0m\u001b[0;34m\u001b[0m\u001b[0;34m\u001b[0m\u001b[0m\n\u001b[0m\u001b[1;32m    337\u001b[0m \u001b[0;34m\u001b[0m\u001b[0m\n\u001b[1;32m    338\u001b[0m         \u001b[0;32mdef\u001b[0m \u001b[0mretry_with\u001b[0m\u001b[0;34m(\u001b[0m\u001b[0;34m*\u001b[0m\u001b[0margs\u001b[0m\u001b[0;34m:\u001b[0m \u001b[0mt\u001b[0m\u001b[0;34m.\u001b[0m\u001b[0mAny\u001b[0m\u001b[0;34m,\u001b[0m \u001b[0;34m**\u001b[0m\u001b[0mkwargs\u001b[0m\u001b[0;34m:\u001b[0m \u001b[0mt\u001b[0m\u001b[0;34m.\u001b[0m\u001b[0mAny\u001b[0m\u001b[0;34m)\u001b[0m \u001b[0;34m->\u001b[0m \u001b[0mWrappedFn\u001b[0m\u001b[0;34m:\u001b[0m\u001b[0;34m\u001b[0m\u001b[0;34m\u001b[0m\u001b[0m\n",
            "\u001b[0;32m/usr/local/lib/python3.11/dist-packages/tenacity/__init__.py\u001b[0m in \u001b[0;36m__call__\u001b[0;34m(self, fn, *args, **kwargs)\u001b[0m\n\u001b[1;32m    473\u001b[0m         \u001b[0mretry_state\u001b[0m \u001b[0;34m=\u001b[0m \u001b[0mRetryCallState\u001b[0m\u001b[0;34m(\u001b[0m\u001b[0mretry_object\u001b[0m\u001b[0;34m=\u001b[0m\u001b[0mself\u001b[0m\u001b[0;34m,\u001b[0m \u001b[0mfn\u001b[0m\u001b[0;34m=\u001b[0m\u001b[0mfn\u001b[0m\u001b[0;34m,\u001b[0m \u001b[0margs\u001b[0m\u001b[0;34m=\u001b[0m\u001b[0margs\u001b[0m\u001b[0;34m,\u001b[0m \u001b[0mkwargs\u001b[0m\u001b[0;34m=\u001b[0m\u001b[0mkwargs\u001b[0m\u001b[0;34m)\u001b[0m\u001b[0;34m\u001b[0m\u001b[0;34m\u001b[0m\u001b[0m\n\u001b[1;32m    474\u001b[0m         \u001b[0;32mwhile\u001b[0m \u001b[0;32mTrue\u001b[0m\u001b[0;34m:\u001b[0m\u001b[0;34m\u001b[0m\u001b[0;34m\u001b[0m\u001b[0m\n\u001b[0;32m--> 475\u001b[0;31m             \u001b[0mdo\u001b[0m \u001b[0;34m=\u001b[0m \u001b[0mself\u001b[0m\u001b[0;34m.\u001b[0m\u001b[0miter\u001b[0m\u001b[0;34m(\u001b[0m\u001b[0mretry_state\u001b[0m\u001b[0;34m=\u001b[0m\u001b[0mretry_state\u001b[0m\u001b[0;34m)\u001b[0m\u001b[0;34m\u001b[0m\u001b[0;34m\u001b[0m\u001b[0m\n\u001b[0m\u001b[1;32m    476\u001b[0m             \u001b[0;32mif\u001b[0m \u001b[0misinstance\u001b[0m\u001b[0;34m(\u001b[0m\u001b[0mdo\u001b[0m\u001b[0;34m,\u001b[0m \u001b[0mDoAttempt\u001b[0m\u001b[0;34m)\u001b[0m\u001b[0;34m:\u001b[0m\u001b[0;34m\u001b[0m\u001b[0;34m\u001b[0m\u001b[0m\n\u001b[1;32m    477\u001b[0m                 \u001b[0;32mtry\u001b[0m\u001b[0;34m:\u001b[0m\u001b[0;34m\u001b[0m\u001b[0;34m\u001b[0m\u001b[0m\n",
            "\u001b[0;32m/usr/local/lib/python3.11/dist-packages/tenacity/__init__.py\u001b[0m in \u001b[0;36miter\u001b[0;34m(self, retry_state)\u001b[0m\n\u001b[1;32m    374\u001b[0m         \u001b[0mresult\u001b[0m \u001b[0;34m=\u001b[0m \u001b[0;32mNone\u001b[0m\u001b[0;34m\u001b[0m\u001b[0;34m\u001b[0m\u001b[0m\n\u001b[1;32m    375\u001b[0m         \u001b[0;32mfor\u001b[0m \u001b[0maction\u001b[0m \u001b[0;32min\u001b[0m \u001b[0mself\u001b[0m\u001b[0;34m.\u001b[0m\u001b[0miter_state\u001b[0m\u001b[0;34m.\u001b[0m\u001b[0mactions\u001b[0m\u001b[0;34m:\u001b[0m\u001b[0;34m\u001b[0m\u001b[0;34m\u001b[0m\u001b[0m\n\u001b[0;32m--> 376\u001b[0;31m             \u001b[0mresult\u001b[0m \u001b[0;34m=\u001b[0m \u001b[0maction\u001b[0m\u001b[0;34m(\u001b[0m\u001b[0mretry_state\u001b[0m\u001b[0;34m)\u001b[0m\u001b[0;34m\u001b[0m\u001b[0;34m\u001b[0m\u001b[0m\n\u001b[0m\u001b[1;32m    377\u001b[0m         \u001b[0;32mreturn\u001b[0m \u001b[0mresult\u001b[0m\u001b[0;34m\u001b[0m\u001b[0;34m\u001b[0m\u001b[0m\n\u001b[1;32m    378\u001b[0m \u001b[0;34m\u001b[0m\u001b[0m\n",
            "\u001b[0;32m/usr/local/lib/python3.11/dist-packages/tenacity/__init__.py\u001b[0m in \u001b[0;36mexc_check\u001b[0;34m(rs)\u001b[0m\n\u001b[1;32m    416\u001b[0m                 \u001b[0mretry_exc\u001b[0m \u001b[0;34m=\u001b[0m \u001b[0mself\u001b[0m\u001b[0;34m.\u001b[0m\u001b[0mretry_error_cls\u001b[0m\u001b[0;34m(\u001b[0m\u001b[0mfut\u001b[0m\u001b[0;34m)\u001b[0m\u001b[0;34m\u001b[0m\u001b[0;34m\u001b[0m\u001b[0m\n\u001b[1;32m    417\u001b[0m                 \u001b[0;32mif\u001b[0m \u001b[0mself\u001b[0m\u001b[0;34m.\u001b[0m\u001b[0mreraise\u001b[0m\u001b[0;34m:\u001b[0m\u001b[0;34m\u001b[0m\u001b[0;34m\u001b[0m\u001b[0m\n\u001b[0;32m--> 418\u001b[0;31m                     \u001b[0;32mraise\u001b[0m \u001b[0mretry_exc\u001b[0m\u001b[0;34m.\u001b[0m\u001b[0mreraise\u001b[0m\u001b[0;34m(\u001b[0m\u001b[0;34m)\u001b[0m\u001b[0;34m\u001b[0m\u001b[0;34m\u001b[0m\u001b[0m\n\u001b[0m\u001b[1;32m    419\u001b[0m                 \u001b[0;32mraise\u001b[0m \u001b[0mretry_exc\u001b[0m \u001b[0;32mfrom\u001b[0m \u001b[0mfut\u001b[0m\u001b[0;34m.\u001b[0m\u001b[0mexception\u001b[0m\u001b[0;34m(\u001b[0m\u001b[0;34m)\u001b[0m\u001b[0;34m\u001b[0m\u001b[0;34m\u001b[0m\u001b[0m\n\u001b[1;32m    420\u001b[0m \u001b[0;34m\u001b[0m\u001b[0m\n",
            "\u001b[0;32m/usr/local/lib/python3.11/dist-packages/tenacity/__init__.py\u001b[0m in \u001b[0;36mreraise\u001b[0;34m(self)\u001b[0m\n\u001b[1;32m    183\u001b[0m     \u001b[0;32mdef\u001b[0m \u001b[0mreraise\u001b[0m\u001b[0;34m(\u001b[0m\u001b[0mself\u001b[0m\u001b[0;34m)\u001b[0m \u001b[0;34m->\u001b[0m \u001b[0mt\u001b[0m\u001b[0;34m.\u001b[0m\u001b[0mNoReturn\u001b[0m\u001b[0;34m:\u001b[0m\u001b[0;34m\u001b[0m\u001b[0;34m\u001b[0m\u001b[0m\n\u001b[1;32m    184\u001b[0m         \u001b[0;32mif\u001b[0m \u001b[0mself\u001b[0m\u001b[0;34m.\u001b[0m\u001b[0mlast_attempt\u001b[0m\u001b[0;34m.\u001b[0m\u001b[0mfailed\u001b[0m\u001b[0;34m:\u001b[0m\u001b[0;34m\u001b[0m\u001b[0;34m\u001b[0m\u001b[0m\n\u001b[0;32m--> 185\u001b[0;31m             \u001b[0;32mraise\u001b[0m \u001b[0mself\u001b[0m\u001b[0;34m.\u001b[0m\u001b[0mlast_attempt\u001b[0m\u001b[0;34m.\u001b[0m\u001b[0mresult\u001b[0m\u001b[0;34m(\u001b[0m\u001b[0;34m)\u001b[0m\u001b[0;34m\u001b[0m\u001b[0;34m\u001b[0m\u001b[0m\n\u001b[0m\u001b[1;32m    186\u001b[0m         \u001b[0;32mraise\u001b[0m \u001b[0mself\u001b[0m\u001b[0;34m\u001b[0m\u001b[0;34m\u001b[0m\u001b[0m\n\u001b[1;32m    187\u001b[0m \u001b[0;34m\u001b[0m\u001b[0m\n",
            "\u001b[0;32m/usr/lib/python3.11/concurrent/futures/_base.py\u001b[0m in \u001b[0;36mresult\u001b[0;34m(self, timeout)\u001b[0m\n\u001b[1;32m    447\u001b[0m                     \u001b[0;32mraise\u001b[0m \u001b[0mCancelledError\u001b[0m\u001b[0;34m(\u001b[0m\u001b[0;34m)\u001b[0m\u001b[0;34m\u001b[0m\u001b[0;34m\u001b[0m\u001b[0m\n\u001b[1;32m    448\u001b[0m                 \u001b[0;32melif\u001b[0m \u001b[0mself\u001b[0m\u001b[0;34m.\u001b[0m\u001b[0m_state\u001b[0m \u001b[0;34m==\u001b[0m \u001b[0mFINISHED\u001b[0m\u001b[0;34m:\u001b[0m\u001b[0;34m\u001b[0m\u001b[0;34m\u001b[0m\u001b[0m\n\u001b[0;32m--> 449\u001b[0;31m                     \u001b[0;32mreturn\u001b[0m \u001b[0mself\u001b[0m\u001b[0;34m.\u001b[0m\u001b[0m__get_result\u001b[0m\u001b[0;34m(\u001b[0m\u001b[0;34m)\u001b[0m\u001b[0;34m\u001b[0m\u001b[0;34m\u001b[0m\u001b[0m\n\u001b[0m\u001b[1;32m    450\u001b[0m \u001b[0;34m\u001b[0m\u001b[0m\n\u001b[1;32m    451\u001b[0m                 \u001b[0mself\u001b[0m\u001b[0;34m.\u001b[0m\u001b[0m_condition\u001b[0m\u001b[0;34m.\u001b[0m\u001b[0mwait\u001b[0m\u001b[0;34m(\u001b[0m\u001b[0mtimeout\u001b[0m\u001b[0;34m)\u001b[0m\u001b[0;34m\u001b[0m\u001b[0;34m\u001b[0m\u001b[0m\n",
            "\u001b[0;32m/usr/lib/python3.11/concurrent/futures/_base.py\u001b[0m in \u001b[0;36m__get_result\u001b[0;34m(self)\u001b[0m\n\u001b[1;32m    399\u001b[0m         \u001b[0;32mif\u001b[0m \u001b[0mself\u001b[0m\u001b[0;34m.\u001b[0m\u001b[0m_exception\u001b[0m\u001b[0;34m:\u001b[0m\u001b[0;34m\u001b[0m\u001b[0;34m\u001b[0m\u001b[0m\n\u001b[1;32m    400\u001b[0m             \u001b[0;32mtry\u001b[0m\u001b[0;34m:\u001b[0m\u001b[0;34m\u001b[0m\u001b[0;34m\u001b[0m\u001b[0m\n\u001b[0;32m--> 401\u001b[0;31m                 \u001b[0;32mraise\u001b[0m \u001b[0mself\u001b[0m\u001b[0;34m.\u001b[0m\u001b[0m_exception\u001b[0m\u001b[0;34m\u001b[0m\u001b[0;34m\u001b[0m\u001b[0m\n\u001b[0m\u001b[1;32m    402\u001b[0m             \u001b[0;32mfinally\u001b[0m\u001b[0;34m:\u001b[0m\u001b[0;34m\u001b[0m\u001b[0;34m\u001b[0m\u001b[0m\n\u001b[1;32m    403\u001b[0m                 \u001b[0;31m# Break a reference cycle with the exception in self._exception\u001b[0m\u001b[0;34m\u001b[0m\u001b[0;34m\u001b[0m\u001b[0m\n",
            "\u001b[0;32m/usr/local/lib/python3.11/dist-packages/tenacity/__init__.py\u001b[0m in \u001b[0;36m__call__\u001b[0;34m(self, fn, *args, **kwargs)\u001b[0m\n\u001b[1;32m    476\u001b[0m             \u001b[0;32mif\u001b[0m \u001b[0misinstance\u001b[0m\u001b[0;34m(\u001b[0m\u001b[0mdo\u001b[0m\u001b[0;34m,\u001b[0m \u001b[0mDoAttempt\u001b[0m\u001b[0;34m)\u001b[0m\u001b[0;34m:\u001b[0m\u001b[0;34m\u001b[0m\u001b[0;34m\u001b[0m\u001b[0m\n\u001b[1;32m    477\u001b[0m                 \u001b[0;32mtry\u001b[0m\u001b[0;34m:\u001b[0m\u001b[0;34m\u001b[0m\u001b[0;34m\u001b[0m\u001b[0m\n\u001b[0;32m--> 478\u001b[0;31m                     \u001b[0mresult\u001b[0m \u001b[0;34m=\u001b[0m \u001b[0mfn\u001b[0m\u001b[0;34m(\u001b[0m\u001b[0;34m*\u001b[0m\u001b[0margs\u001b[0m\u001b[0;34m,\u001b[0m \u001b[0;34m**\u001b[0m\u001b[0mkwargs\u001b[0m\u001b[0;34m)\u001b[0m\u001b[0;34m\u001b[0m\u001b[0;34m\u001b[0m\u001b[0m\n\u001b[0m\u001b[1;32m    479\u001b[0m                 \u001b[0;32mexcept\u001b[0m \u001b[0mBaseException\u001b[0m\u001b[0;34m:\u001b[0m  \u001b[0;31m# noqa: B902\u001b[0m\u001b[0;34m\u001b[0m\u001b[0;34m\u001b[0m\u001b[0m\n\u001b[1;32m    480\u001b[0m                     \u001b[0mretry_state\u001b[0m\u001b[0;34m.\u001b[0m\u001b[0mset_exception\u001b[0m\u001b[0;34m(\u001b[0m\u001b[0msys\u001b[0m\u001b[0;34m.\u001b[0m\u001b[0mexc_info\u001b[0m\u001b[0;34m(\u001b[0m\u001b[0;34m)\u001b[0m\u001b[0;34m)\u001b[0m  \u001b[0;31m# type: ignore[arg-type]\u001b[0m\u001b[0;34m\u001b[0m\u001b[0;34m\u001b[0m\u001b[0m\n",
            "\u001b[0;32m/usr/local/lib/python3.11/dist-packages/langchain_google_genai/chat_models.py\u001b[0m in \u001b[0;36m_chat_with_retry\u001b[0;34m(**kwargs)\u001b[0m\n\u001b[1;32m    202\u001b[0m             ) from e\n\u001b[1;32m    203\u001b[0m         \u001b[0;32mexcept\u001b[0m \u001b[0mException\u001b[0m \u001b[0;32mas\u001b[0m \u001b[0me\u001b[0m\u001b[0;34m:\u001b[0m\u001b[0;34m\u001b[0m\u001b[0;34m\u001b[0m\u001b[0m\n\u001b[0;32m--> 204\u001b[0;31m             \u001b[0;32mraise\u001b[0m \u001b[0me\u001b[0m\u001b[0;34m\u001b[0m\u001b[0;34m\u001b[0m\u001b[0m\n\u001b[0m\u001b[1;32m    205\u001b[0m \u001b[0;34m\u001b[0m\u001b[0m\n\u001b[1;32m    206\u001b[0m     \u001b[0;32mreturn\u001b[0m \u001b[0m_chat_with_retry\u001b[0m\u001b[0;34m(\u001b[0m\u001b[0;34m**\u001b[0m\u001b[0mkwargs\u001b[0m\u001b[0;34m)\u001b[0m\u001b[0;34m\u001b[0m\u001b[0;34m\u001b[0m\u001b[0m\n",
            "\u001b[0;32m/usr/local/lib/python3.11/dist-packages/langchain_google_genai/chat_models.py\u001b[0m in \u001b[0;36m_chat_with_retry\u001b[0;34m(**kwargs)\u001b[0m\n\u001b[1;32m    186\u001b[0m     \u001b[0;32mdef\u001b[0m \u001b[0m_chat_with_retry\u001b[0m\u001b[0;34m(\u001b[0m\u001b[0;34m**\u001b[0m\u001b[0mkwargs\u001b[0m\u001b[0;34m:\u001b[0m \u001b[0mAny\u001b[0m\u001b[0;34m)\u001b[0m \u001b[0;34m->\u001b[0m \u001b[0mAny\u001b[0m\u001b[0;34m:\u001b[0m\u001b[0;34m\u001b[0m\u001b[0;34m\u001b[0m\u001b[0m\n\u001b[1;32m    187\u001b[0m         \u001b[0;32mtry\u001b[0m\u001b[0;34m:\u001b[0m\u001b[0;34m\u001b[0m\u001b[0;34m\u001b[0m\u001b[0m\n\u001b[0;32m--> 188\u001b[0;31m             \u001b[0;32mreturn\u001b[0m \u001b[0mgeneration_method\u001b[0m\u001b[0;34m(\u001b[0m\u001b[0;34m**\u001b[0m\u001b[0mkwargs\u001b[0m\u001b[0;34m)\u001b[0m\u001b[0;34m\u001b[0m\u001b[0;34m\u001b[0m\u001b[0m\n\u001b[0m\u001b[1;32m    189\u001b[0m         \u001b[0;31m# Do not retry for these errors.\u001b[0m\u001b[0;34m\u001b[0m\u001b[0;34m\u001b[0m\u001b[0m\n\u001b[1;32m    190\u001b[0m         \u001b[0;32mexcept\u001b[0m \u001b[0mgoogle\u001b[0m\u001b[0;34m.\u001b[0m\u001b[0mapi_core\u001b[0m\u001b[0;34m.\u001b[0m\u001b[0mexceptions\u001b[0m\u001b[0;34m.\u001b[0m\u001b[0mFailedPrecondition\u001b[0m \u001b[0;32mas\u001b[0m \u001b[0mexc\u001b[0m\u001b[0;34m:\u001b[0m\u001b[0;34m\u001b[0m\u001b[0;34m\u001b[0m\u001b[0m\n",
            "\u001b[0;32m/usr/local/lib/python3.11/dist-packages/google/ai/generativelanguage_v1beta/services/generative_service/client.py\u001b[0m in \u001b[0;36mgenerate_content\u001b[0;34m(self, request, model, contents, retry, timeout, metadata)\u001b[0m\n\u001b[1;32m    865\u001b[0m \u001b[0;34m\u001b[0m\u001b[0m\n\u001b[1;32m    866\u001b[0m         \u001b[0;31m# Send the request.\u001b[0m\u001b[0;34m\u001b[0m\u001b[0;34m\u001b[0m\u001b[0m\n\u001b[0;32m--> 867\u001b[0;31m         response = rpc(\n\u001b[0m\u001b[1;32m    868\u001b[0m             \u001b[0mrequest\u001b[0m\u001b[0;34m,\u001b[0m\u001b[0;34m\u001b[0m\u001b[0;34m\u001b[0m\u001b[0m\n\u001b[1;32m    869\u001b[0m             \u001b[0mretry\u001b[0m\u001b[0;34m=\u001b[0m\u001b[0mretry\u001b[0m\u001b[0;34m,\u001b[0m\u001b[0;34m\u001b[0m\u001b[0;34m\u001b[0m\u001b[0m\n",
            "\u001b[0;32m/usr/local/lib/python3.11/dist-packages/google/api_core/gapic_v1/method.py\u001b[0m in \u001b[0;36m__call__\u001b[0;34m(self, timeout, retry, compression, *args, **kwargs)\u001b[0m\n\u001b[1;32m    129\u001b[0m             \u001b[0mkwargs\u001b[0m\u001b[0;34m[\u001b[0m\u001b[0;34m\"compression\"\u001b[0m\u001b[0;34m]\u001b[0m \u001b[0;34m=\u001b[0m \u001b[0mcompression\u001b[0m\u001b[0;34m\u001b[0m\u001b[0;34m\u001b[0m\u001b[0m\n\u001b[1;32m    130\u001b[0m \u001b[0;34m\u001b[0m\u001b[0m\n\u001b[0;32m--> 131\u001b[0;31m         \u001b[0;32mreturn\u001b[0m \u001b[0mwrapped_func\u001b[0m\u001b[0;34m(\u001b[0m\u001b[0;34m*\u001b[0m\u001b[0margs\u001b[0m\u001b[0;34m,\u001b[0m \u001b[0;34m**\u001b[0m\u001b[0mkwargs\u001b[0m\u001b[0;34m)\u001b[0m\u001b[0;34m\u001b[0m\u001b[0;34m\u001b[0m\u001b[0m\n\u001b[0m\u001b[1;32m    132\u001b[0m \u001b[0;34m\u001b[0m\u001b[0m\n\u001b[1;32m    133\u001b[0m \u001b[0;34m\u001b[0m\u001b[0m\n",
            "\u001b[0;32m/usr/local/lib/python3.11/dist-packages/google/api_core/retry/retry_unary.py\u001b[0m in \u001b[0;36mretry_wrapped_func\u001b[0;34m(*args, **kwargs)\u001b[0m\n\u001b[1;32m    291\u001b[0m                 \u001b[0mself\u001b[0m\u001b[0;34m.\u001b[0m\u001b[0m_initial\u001b[0m\u001b[0;34m,\u001b[0m \u001b[0mself\u001b[0m\u001b[0;34m.\u001b[0m\u001b[0m_maximum\u001b[0m\u001b[0;34m,\u001b[0m \u001b[0mmultiplier\u001b[0m\u001b[0;34m=\u001b[0m\u001b[0mself\u001b[0m\u001b[0;34m.\u001b[0m\u001b[0m_multiplier\u001b[0m\u001b[0;34m\u001b[0m\u001b[0;34m\u001b[0m\u001b[0m\n\u001b[1;32m    292\u001b[0m             )\n\u001b[0;32m--> 293\u001b[0;31m             return retry_target(\n\u001b[0m\u001b[1;32m    294\u001b[0m                 \u001b[0mtarget\u001b[0m\u001b[0;34m,\u001b[0m\u001b[0;34m\u001b[0m\u001b[0;34m\u001b[0m\u001b[0m\n\u001b[1;32m    295\u001b[0m                 \u001b[0mself\u001b[0m\u001b[0;34m.\u001b[0m\u001b[0m_predicate\u001b[0m\u001b[0;34m,\u001b[0m\u001b[0;34m\u001b[0m\u001b[0;34m\u001b[0m\u001b[0m\n",
            "\u001b[0;32m/usr/local/lib/python3.11/dist-packages/google/api_core/retry/retry_unary.py\u001b[0m in \u001b[0;36mretry_target\u001b[0;34m(target, predicate, sleep_generator, timeout, on_error, exception_factory, **kwargs)\u001b[0m\n\u001b[1;32m    151\u001b[0m         \u001b[0;32mexcept\u001b[0m \u001b[0mException\u001b[0m \u001b[0;32mas\u001b[0m \u001b[0mexc\u001b[0m\u001b[0;34m:\u001b[0m\u001b[0;34m\u001b[0m\u001b[0;34m\u001b[0m\u001b[0m\n\u001b[1;32m    152\u001b[0m             \u001b[0;31m# defer to shared logic for handling errors\u001b[0m\u001b[0;34m\u001b[0m\u001b[0;34m\u001b[0m\u001b[0m\n\u001b[0;32m--> 153\u001b[0;31m             _retry_error_helper(\n\u001b[0m\u001b[1;32m    154\u001b[0m                 \u001b[0mexc\u001b[0m\u001b[0;34m,\u001b[0m\u001b[0;34m\u001b[0m\u001b[0;34m\u001b[0m\u001b[0m\n\u001b[1;32m    155\u001b[0m                 \u001b[0mdeadline\u001b[0m\u001b[0;34m,\u001b[0m\u001b[0;34m\u001b[0m\u001b[0;34m\u001b[0m\u001b[0m\n",
            "\u001b[0;32m/usr/local/lib/python3.11/dist-packages/google/api_core/retry/retry_base.py\u001b[0m in \u001b[0;36m_retry_error_helper\u001b[0;34m(exc, deadline, next_sleep, error_list, predicate_fn, on_error_fn, exc_factory_fn, original_timeout)\u001b[0m\n\u001b[1;32m    210\u001b[0m             \u001b[0moriginal_timeout\u001b[0m\u001b[0;34m,\u001b[0m\u001b[0;34m\u001b[0m\u001b[0;34m\u001b[0m\u001b[0m\n\u001b[1;32m    211\u001b[0m         )\n\u001b[0;32m--> 212\u001b[0;31m         \u001b[0;32mraise\u001b[0m \u001b[0mfinal_exc\u001b[0m \u001b[0;32mfrom\u001b[0m \u001b[0msource_exc\u001b[0m\u001b[0;34m\u001b[0m\u001b[0;34m\u001b[0m\u001b[0m\n\u001b[0m\u001b[1;32m    213\u001b[0m     \u001b[0;32mif\u001b[0m \u001b[0mon_error_fn\u001b[0m \u001b[0;32mis\u001b[0m \u001b[0;32mnot\u001b[0m \u001b[0;32mNone\u001b[0m\u001b[0;34m:\u001b[0m\u001b[0;34m\u001b[0m\u001b[0;34m\u001b[0m\u001b[0m\n\u001b[1;32m    214\u001b[0m         \u001b[0mon_error_fn\u001b[0m\u001b[0;34m(\u001b[0m\u001b[0mexc\u001b[0m\u001b[0;34m)\u001b[0m\u001b[0;34m\u001b[0m\u001b[0;34m\u001b[0m\u001b[0m\n",
            "\u001b[0;32m/usr/local/lib/python3.11/dist-packages/google/api_core/retry/retry_unary.py\u001b[0m in \u001b[0;36mretry_target\u001b[0;34m(target, predicate, sleep_generator, timeout, on_error, exception_factory, **kwargs)\u001b[0m\n\u001b[1;32m    142\u001b[0m     \u001b[0;32mfor\u001b[0m \u001b[0msleep\u001b[0m \u001b[0;32min\u001b[0m \u001b[0msleep_generator\u001b[0m\u001b[0;34m:\u001b[0m\u001b[0;34m\u001b[0m\u001b[0;34m\u001b[0m\u001b[0m\n\u001b[1;32m    143\u001b[0m         \u001b[0;32mtry\u001b[0m\u001b[0;34m:\u001b[0m\u001b[0;34m\u001b[0m\u001b[0;34m\u001b[0m\u001b[0m\n\u001b[0;32m--> 144\u001b[0;31m             \u001b[0mresult\u001b[0m \u001b[0;34m=\u001b[0m \u001b[0mtarget\u001b[0m\u001b[0;34m(\u001b[0m\u001b[0;34m)\u001b[0m\u001b[0;34m\u001b[0m\u001b[0;34m\u001b[0m\u001b[0m\n\u001b[0m\u001b[1;32m    145\u001b[0m             \u001b[0;32mif\u001b[0m \u001b[0minspect\u001b[0m\u001b[0;34m.\u001b[0m\u001b[0misawaitable\u001b[0m\u001b[0;34m(\u001b[0m\u001b[0mresult\u001b[0m\u001b[0;34m)\u001b[0m\u001b[0;34m:\u001b[0m\u001b[0;34m\u001b[0m\u001b[0;34m\u001b[0m\u001b[0m\n\u001b[1;32m    146\u001b[0m                 \u001b[0mwarnings\u001b[0m\u001b[0;34m.\u001b[0m\u001b[0mwarn\u001b[0m\u001b[0;34m(\u001b[0m\u001b[0m_ASYNC_RETRY_WARNING\u001b[0m\u001b[0;34m)\u001b[0m\u001b[0;34m\u001b[0m\u001b[0;34m\u001b[0m\u001b[0m\n",
            "\u001b[0;32m/usr/local/lib/python3.11/dist-packages/google/api_core/timeout.py\u001b[0m in \u001b[0;36mfunc_with_timeout\u001b[0;34m(*args, **kwargs)\u001b[0m\n\u001b[1;32m    128\u001b[0m                 \u001b[0mkwargs\u001b[0m\u001b[0;34m[\u001b[0m\u001b[0;34m\"timeout\"\u001b[0m\u001b[0;34m]\u001b[0m \u001b[0;34m=\u001b[0m \u001b[0mremaining_timeout\u001b[0m\u001b[0;34m\u001b[0m\u001b[0;34m\u001b[0m\u001b[0m\n\u001b[1;32m    129\u001b[0m \u001b[0;34m\u001b[0m\u001b[0m\n\u001b[0;32m--> 130\u001b[0;31m             \u001b[0;32mreturn\u001b[0m \u001b[0mfunc\u001b[0m\u001b[0;34m(\u001b[0m\u001b[0;34m*\u001b[0m\u001b[0margs\u001b[0m\u001b[0;34m,\u001b[0m \u001b[0;34m**\u001b[0m\u001b[0mkwargs\u001b[0m\u001b[0;34m)\u001b[0m\u001b[0;34m\u001b[0m\u001b[0;34m\u001b[0m\u001b[0m\n\u001b[0m\u001b[1;32m    131\u001b[0m \u001b[0;34m\u001b[0m\u001b[0m\n\u001b[1;32m    132\u001b[0m         \u001b[0;32mreturn\u001b[0m \u001b[0mfunc_with_timeout\u001b[0m\u001b[0;34m\u001b[0m\u001b[0;34m\u001b[0m\u001b[0m\n",
            "\u001b[0;32m/usr/local/lib/python3.11/dist-packages/google/api_core/grpc_helpers.py\u001b[0m in \u001b[0;36merror_remapped_callable\u001b[0;34m(*args, **kwargs)\u001b[0m\n\u001b[1;32m     76\u001b[0m             \u001b[0;32mreturn\u001b[0m \u001b[0mcallable_\u001b[0m\u001b[0;34m(\u001b[0m\u001b[0;34m*\u001b[0m\u001b[0margs\u001b[0m\u001b[0;34m,\u001b[0m \u001b[0;34m**\u001b[0m\u001b[0mkwargs\u001b[0m\u001b[0;34m)\u001b[0m\u001b[0;34m\u001b[0m\u001b[0;34m\u001b[0m\u001b[0m\n\u001b[1;32m     77\u001b[0m         \u001b[0;32mexcept\u001b[0m \u001b[0mgrpc\u001b[0m\u001b[0;34m.\u001b[0m\u001b[0mRpcError\u001b[0m \u001b[0;32mas\u001b[0m \u001b[0mexc\u001b[0m\u001b[0;34m:\u001b[0m\u001b[0;34m\u001b[0m\u001b[0;34m\u001b[0m\u001b[0m\n\u001b[0;32m---> 78\u001b[0;31m             \u001b[0;32mraise\u001b[0m \u001b[0mexceptions\u001b[0m\u001b[0;34m.\u001b[0m\u001b[0mfrom_grpc_error\u001b[0m\u001b[0;34m(\u001b[0m\u001b[0mexc\u001b[0m\u001b[0;34m)\u001b[0m \u001b[0;32mfrom\u001b[0m \u001b[0mexc\u001b[0m\u001b[0;34m\u001b[0m\u001b[0;34m\u001b[0m\u001b[0m\n\u001b[0m\u001b[1;32m     79\u001b[0m \u001b[0;34m\u001b[0m\u001b[0m\n\u001b[1;32m     80\u001b[0m     \u001b[0;32mreturn\u001b[0m \u001b[0merror_remapped_callable\u001b[0m\u001b[0;34m\u001b[0m\u001b[0;34m\u001b[0m\u001b[0m\n",
            "\u001b[0;31mResourceExhausted\u001b[0m: 429 You exceeded your current quota, please check your plan and billing details. For more information on this error, head to: https://ai.google.dev/gemini-api/docs/rate-limits. [violations {\n}\n, links {\n  description: \"Learn more about Gemini API quotas\"\n  url: \"https://ai.google.dev/gemini-api/docs/rate-limits\"\n}\n, retry_delay {\n  seconds: 2\n}\n]"
          ]
        }
      ],
      "source": [
        "config = reset_config()\n",
        "\n",
        "streaming(\"\"\"\n",
        "          모두의연구소는 어떤 곳이야?\n",
        "          깔끔하게 정리해서 레포트로 만들어줘.\n",
        "          레포트의 형식은 pdf로 저장해주면 돼.\n",
        "          이름은 \"모두의연구소_레포트.pdf\"로 해줘.\"\"\", config)"
      ]
    },
    {
      "cell_type": "code",
      "source": [
        "config = reset_config()\n",
        "\n",
        "query = \"'모두의연구소_레포트.pdf'라는 파일 삭제해줘\"\n",
        "\n",
        "streaming(query, config)"
      ],
      "metadata": {
        "colab": {
          "base_uri": "https://localhost:8080/"
        },
        "id": "SBSbPqbjkUWv",
        "outputId": "de254daf-ec35-41a0-fc85-b9a309ec8106"
      },
      "execution_count": 89,
      "outputs": [
        {
          "output_type": "stream",
          "name": "stdout",
          "text": [
            "================================\u001b[1m Human Message \u001b[0m=================================\n",
            "\n",
            "'모두의연구소_레포트.pdf'라는 파일 삭제해줘\n",
            "================================\u001b[1m Human Message \u001b[0m=================================\n",
            "\n",
            "'모두의연구소_레포트.pdf'라는 파일 삭제해줘\n",
            "==================================\u001b[1m Ai Message \u001b[0m==================================\n",
            "\n",
            "죄송합니다. 파일 삭제 권한이 없습니다. 제가 직접 파일을 삭제해 드릴 수는 없습니다.\n",
            "==================================\u001b[1m Ai Message \u001b[0m==================================\n",
            "\n",
            "죄송합니다. 파일 삭제 권한이 없습니다. 제가 직접 파일을 삭제해 드릴 수는 없습니다.\n",
            "==================================\u001b[1m Ai Message \u001b[0m==================================\n",
            "\n",
            "도구를 선택하지 못했습니다. 적절한 도구를 재선택하세요.\n",
            "==================================\u001b[1m Ai Message \u001b[0m==================================\n",
            "\n",
            "도구를 선택하지 못했습니다. 적절한 도구를 재선택하세요.\n",
            "==================================\u001b[1m Ai Message \u001b[0m==================================\n",
            "\n",
            "도구를 선택하지 못했습니다. 적절한 도구를 재선택하세요.\n",
            "==================================\u001b[1m Ai Message \u001b[0m==================================\n",
            "Tool Calls:\n",
            "  file_delete (b9da83e1-c139-409e-80c1-e3f18fd5b5e2)\n",
            " Call ID: b9da83e1-c139-409e-80c1-e3f18fd5b5e2\n",
            "  Args:\n",
            "    file_path: 모두의연구소_레포트.pdf\n",
            "=================================\u001b[1m Tool Message \u001b[0m=================================\n",
            "Name: file_delete\n",
            "\n",
            "File deleted successfully: 모두의연구소_레포트.pdf.\n",
            "=================================\u001b[1m Tool Message \u001b[0m=================================\n",
            "Name: file_delete\n",
            "\n",
            "File deleted successfully: 모두의연구소_레포트.pdf.\n"
          ]
        }
      ]
    }
  ],
  "metadata": {
    "colab": {
      "provenance": [],
      "include_colab_link": true
    },
    "kernelspec": {
      "display_name": "Modulabs",
      "language": "python",
      "name": "python3"
    },
    "language_info": {
      "codemirror_mode": {
        "name": "ipython",
        "version": 3
      },
      "file_extension": ".py",
      "mimetype": "text/x-python",
      "name": "python",
      "nbconvert_exporter": "python",
      "pygments_lexer": "ipython3",
      "version": "3.10.12"
    }
  },
  "nbformat": 4,
  "nbformat_minor": 0
}