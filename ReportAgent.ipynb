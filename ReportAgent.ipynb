{
  "cells": [
    {
      "cell_type": "markdown",
      "metadata": {
        "id": "view-in-github",
        "colab_type": "text"
      },
      "source": [
        "<a href=\"https://colab.research.google.com/github/Ukbang/Build_with_AI_250405/blob/main/ReportAgent.ipynb\" target=\"_parent\"><img src=\"https://colab.research.google.com/assets/colab-badge.svg\" alt=\"Open In Colab\"/></a>"
      ]
    },
    {
      "cell_type": "code",
      "execution_count": 1,
      "metadata": {
        "id": "tgWF2j10oSEh",
        "colab": {
          "base_uri": "https://localhost:8080/",
          "height": 1000
        },
        "outputId": "018a0137-8c8f-4294-e677-871458b6e156"
      },
      "outputs": [
        {
          "output_type": "stream",
          "name": "stdout",
          "text": [
            "Requirement already satisfied: langchain in /usr/local/lib/python3.11/dist-packages (0.3.21)\n",
            "Collecting langgraph\n",
            "  Downloading langgraph-0.3.21-py3-none-any.whl.metadata (7.7 kB)\n",
            "Collecting langchain-google-genai\n",
            "  Downloading langchain_google_genai-2.1.2-py3-none-any.whl.metadata (4.7 kB)\n",
            "Requirement already satisfied: langchain-core in /usr/local/lib/python3.11/dist-packages (0.3.49)\n",
            "Collecting langchain-community\n",
            "  Downloading langchain_community-0.3.20-py3-none-any.whl.metadata (2.4 kB)\n",
            "Collecting langchain-experimental\n",
            "  Downloading langchain_experimental-0.3.4-py3-none-any.whl.metadata (1.7 kB)\n",
            "Collecting fpdf\n",
            "  Downloading fpdf-1.7.2.tar.gz (39 kB)\n",
            "  Preparing metadata (setup.py) ... \u001b[?25l\u001b[?25hdone\n",
            "Collecting pdfplumber\n",
            "  Downloading pdfplumber-0.11.6-py3-none-any.whl.metadata (42 kB)\n",
            "\u001b[2K     \u001b[90m━━━━━━━━━━━━━━━━━━━━━━━━━━━━━━━━━━━━━━━━\u001b[0m \u001b[32m42.8/42.8 kB\u001b[0m \u001b[31m1.7 MB/s\u001b[0m eta \u001b[36m0:00:00\u001b[0m\n",
            "\u001b[?25hRequirement already satisfied: langchain-text-splitters<1.0.0,>=0.3.7 in /usr/local/lib/python3.11/dist-packages (from langchain) (0.3.7)\n",
            "Requirement already satisfied: langsmith<0.4,>=0.1.17 in /usr/local/lib/python3.11/dist-packages (from langchain) (0.3.19)\n",
            "Requirement already satisfied: pydantic<3.0.0,>=2.7.4 in /usr/local/lib/python3.11/dist-packages (from langchain) (2.11.0)\n",
            "Requirement already satisfied: SQLAlchemy<3,>=1.4 in /usr/local/lib/python3.11/dist-packages (from langchain) (2.0.40)\n",
            "Requirement already satisfied: requests<3,>=2 in /usr/local/lib/python3.11/dist-packages (from langchain) (2.32.3)\n",
            "Requirement already satisfied: PyYAML>=5.3 in /usr/local/lib/python3.11/dist-packages (from langchain) (6.0.2)\n",
            "Collecting langgraph-checkpoint<3.0.0,>=2.0.10 (from langgraph)\n",
            "  Downloading langgraph_checkpoint-2.0.23-py3-none-any.whl.metadata (4.6 kB)\n",
            "Collecting langgraph-prebuilt<0.2,>=0.1.1 (from langgraph)\n",
            "  Downloading langgraph_prebuilt-0.1.7-py3-none-any.whl.metadata (5.0 kB)\n",
            "Collecting langgraph-sdk<0.2.0,>=0.1.42 (from langgraph)\n",
            "  Downloading langgraph_sdk-0.1.60-py3-none-any.whl.metadata (1.8 kB)\n",
            "Collecting xxhash<4.0.0,>=3.5.0 (from langgraph)\n",
            "  Downloading xxhash-3.5.0-cp311-cp311-manylinux_2_17_x86_64.manylinux2014_x86_64.whl.metadata (12 kB)\n",
            "Collecting filetype<2.0.0,>=1.2.0 (from langchain-google-genai)\n",
            "  Downloading filetype-1.2.0-py2.py3-none-any.whl.metadata (6.5 kB)\n",
            "Collecting google-ai-generativelanguage<0.7.0,>=0.6.16 (from langchain-google-genai)\n",
            "  Downloading google_ai_generativelanguage-0.6.17-py3-none-any.whl.metadata (9.8 kB)\n",
            "Requirement already satisfied: tenacity!=8.4.0,<10.0.0,>=8.1.0 in /usr/local/lib/python3.11/dist-packages (from langchain-core) (9.0.0)\n",
            "Requirement already satisfied: jsonpatch<2.0,>=1.33 in /usr/local/lib/python3.11/dist-packages (from langchain-core) (1.33)\n",
            "Requirement already satisfied: packaging<25,>=23.2 in /usr/local/lib/python3.11/dist-packages (from langchain-core) (24.2)\n",
            "Requirement already satisfied: typing-extensions>=4.7 in /usr/local/lib/python3.11/dist-packages (from langchain-core) (4.13.0)\n",
            "Requirement already satisfied: aiohttp<4.0.0,>=3.8.3 in /usr/local/lib/python3.11/dist-packages (from langchain-community) (3.11.14)\n",
            "Collecting dataclasses-json<0.7,>=0.5.7 (from langchain-community)\n",
            "  Downloading dataclasses_json-0.6.7-py3-none-any.whl.metadata (25 kB)\n",
            "Collecting pydantic-settings<3.0.0,>=2.4.0 (from langchain-community)\n",
            "  Downloading pydantic_settings-2.8.1-py3-none-any.whl.metadata (3.5 kB)\n",
            "Collecting httpx-sse<1.0.0,>=0.4.0 (from langchain-community)\n",
            "  Downloading httpx_sse-0.4.0-py3-none-any.whl.metadata (9.0 kB)\n",
            "Requirement already satisfied: numpy<3,>=1.26.2 in /usr/local/lib/python3.11/dist-packages (from langchain-community) (2.0.2)\n",
            "Collecting pdfminer.six==20250327 (from pdfplumber)\n",
            "  Downloading pdfminer_six-20250327-py3-none-any.whl.metadata (4.1 kB)\n",
            "Requirement already satisfied: Pillow>=9.1 in /usr/local/lib/python3.11/dist-packages (from pdfplumber) (11.1.0)\n",
            "Collecting pypdfium2>=4.18.0 (from pdfplumber)\n",
            "  Downloading pypdfium2-4.30.1-py3-none-manylinux_2_17_x86_64.manylinux2014_x86_64.whl.metadata (48 kB)\n",
            "\u001b[2K     \u001b[90m━━━━━━━━━━━━━━━━━━━━━━━━━━━━━━━━━━━━━━━━\u001b[0m \u001b[32m48.2/48.2 kB\u001b[0m \u001b[31m1.0 MB/s\u001b[0m eta \u001b[36m0:00:00\u001b[0m\n",
            "\u001b[?25hRequirement already satisfied: charset-normalizer>=2.0.0 in /usr/local/lib/python3.11/dist-packages (from pdfminer.six==20250327->pdfplumber) (3.4.1)\n",
            "Requirement already satisfied: cryptography>=36.0.0 in /usr/local/lib/python3.11/dist-packages (from pdfminer.six==20250327->pdfplumber) (43.0.3)\n",
            "Requirement already satisfied: aiohappyeyeballs>=2.3.0 in /usr/local/lib/python3.11/dist-packages (from aiohttp<4.0.0,>=3.8.3->langchain-community) (2.6.1)\n",
            "Requirement already satisfied: aiosignal>=1.1.2 in /usr/local/lib/python3.11/dist-packages (from aiohttp<4.0.0,>=3.8.3->langchain-community) (1.3.2)\n",
            "Requirement already satisfied: attrs>=17.3.0 in /usr/local/lib/python3.11/dist-packages (from aiohttp<4.0.0,>=3.8.3->langchain-community) (25.3.0)\n",
            "Requirement already satisfied: frozenlist>=1.1.1 in /usr/local/lib/python3.11/dist-packages (from aiohttp<4.0.0,>=3.8.3->langchain-community) (1.5.0)\n",
            "Requirement already satisfied: multidict<7.0,>=4.5 in /usr/local/lib/python3.11/dist-packages (from aiohttp<4.0.0,>=3.8.3->langchain-community) (6.2.0)\n",
            "Requirement already satisfied: propcache>=0.2.0 in /usr/local/lib/python3.11/dist-packages (from aiohttp<4.0.0,>=3.8.3->langchain-community) (0.3.1)\n",
            "Requirement already satisfied: yarl<2.0,>=1.17.0 in /usr/local/lib/python3.11/dist-packages (from aiohttp<4.0.0,>=3.8.3->langchain-community) (1.18.3)\n",
            "Collecting marshmallow<4.0.0,>=3.18.0 (from dataclasses-json<0.7,>=0.5.7->langchain-community)\n",
            "  Downloading marshmallow-3.26.1-py3-none-any.whl.metadata (7.3 kB)\n",
            "Collecting typing-inspect<1,>=0.4.0 (from dataclasses-json<0.7,>=0.5.7->langchain-community)\n",
            "  Downloading typing_inspect-0.9.0-py3-none-any.whl.metadata (1.5 kB)\n",
            "Requirement already satisfied: google-api-core!=2.0.*,!=2.1.*,!=2.10.*,!=2.2.*,!=2.3.*,!=2.4.*,!=2.5.*,!=2.6.*,!=2.7.*,!=2.8.*,!=2.9.*,<3.0.0,>=1.34.1 in /usr/local/lib/python3.11/dist-packages (from google-api-core[grpc]!=2.0.*,!=2.1.*,!=2.10.*,!=2.2.*,!=2.3.*,!=2.4.*,!=2.5.*,!=2.6.*,!=2.7.*,!=2.8.*,!=2.9.*,<3.0.0,>=1.34.1->google-ai-generativelanguage<0.7.0,>=0.6.16->langchain-google-genai) (2.24.2)\n",
            "Requirement already satisfied: google-auth!=2.24.0,!=2.25.0,<3.0.0,>=2.14.1 in /usr/local/lib/python3.11/dist-packages (from google-ai-generativelanguage<0.7.0,>=0.6.16->langchain-google-genai) (2.38.0)\n",
            "Requirement already satisfied: proto-plus<2.0.0,>=1.22.3 in /usr/local/lib/python3.11/dist-packages (from google-ai-generativelanguage<0.7.0,>=0.6.16->langchain-google-genai) (1.26.1)\n",
            "Requirement already satisfied: protobuf!=4.21.0,!=4.21.1,!=4.21.2,!=4.21.3,!=4.21.4,!=4.21.5,<7.0.0,>=3.20.2 in /usr/local/lib/python3.11/dist-packages (from google-ai-generativelanguage<0.7.0,>=0.6.16->langchain-google-genai) (5.29.4)\n",
            "Requirement already satisfied: jsonpointer>=1.9 in /usr/local/lib/python3.11/dist-packages (from jsonpatch<2.0,>=1.33->langchain-core) (3.0.0)\n",
            "Collecting ormsgpack<2.0.0,>=1.8.0 (from langgraph-checkpoint<3.0.0,>=2.0.10->langgraph)\n",
            "  Downloading ormsgpack-1.9.1-cp311-cp311-manylinux_2_17_x86_64.manylinux2014_x86_64.whl.metadata (43 kB)\n",
            "\u001b[2K     \u001b[90m━━━━━━━━━━━━━━━━━━━━━━━━━━━━━━━━━━━━━━━━\u001b[0m \u001b[32m43.5/43.5 kB\u001b[0m \u001b[31m991.7 kB/s\u001b[0m eta \u001b[36m0:00:00\u001b[0m\n",
            "\u001b[?25hRequirement already satisfied: httpx>=0.25.2 in /usr/local/lib/python3.11/dist-packages (from langgraph-sdk<0.2.0,>=0.1.42->langgraph) (0.28.1)\n",
            "Requirement already satisfied: orjson>=3.10.1 in /usr/local/lib/python3.11/dist-packages (from langgraph-sdk<0.2.0,>=0.1.42->langgraph) (3.10.16)\n",
            "Requirement already satisfied: requests-toolbelt<2.0.0,>=1.0.0 in /usr/local/lib/python3.11/dist-packages (from langsmith<0.4,>=0.1.17->langchain) (1.0.0)\n",
            "Requirement already satisfied: zstandard<0.24.0,>=0.23.0 in /usr/local/lib/python3.11/dist-packages (from langsmith<0.4,>=0.1.17->langchain) (0.23.0)\n",
            "Requirement already satisfied: annotated-types>=0.6.0 in /usr/local/lib/python3.11/dist-packages (from pydantic<3.0.0,>=2.7.4->langchain) (0.7.0)\n",
            "Requirement already satisfied: pydantic-core==2.33.0 in /usr/local/lib/python3.11/dist-packages (from pydantic<3.0.0,>=2.7.4->langchain) (2.33.0)\n",
            "Requirement already satisfied: typing-inspection>=0.4.0 in /usr/local/lib/python3.11/dist-packages (from pydantic<3.0.0,>=2.7.4->langchain) (0.4.0)\n",
            "Collecting python-dotenv>=0.21.0 (from pydantic-settings<3.0.0,>=2.4.0->langchain-community)\n",
            "  Downloading python_dotenv-1.1.0-py3-none-any.whl.metadata (24 kB)\n",
            "Requirement already satisfied: idna<4,>=2.5 in /usr/local/lib/python3.11/dist-packages (from requests<3,>=2->langchain) (3.10)\n",
            "Requirement already satisfied: urllib3<3,>=1.21.1 in /usr/local/lib/python3.11/dist-packages (from requests<3,>=2->langchain) (2.3.0)\n",
            "Requirement already satisfied: certifi>=2017.4.17 in /usr/local/lib/python3.11/dist-packages (from requests<3,>=2->langchain) (2025.1.31)\n",
            "Requirement already satisfied: greenlet>=1 in /usr/local/lib/python3.11/dist-packages (from SQLAlchemy<3,>=1.4->langchain) (3.1.1)\n",
            "Requirement already satisfied: cffi>=1.12 in /usr/local/lib/python3.11/dist-packages (from cryptography>=36.0.0->pdfminer.six==20250327->pdfplumber) (1.17.1)\n",
            "Requirement already satisfied: googleapis-common-protos<2.0.0,>=1.56.2 in /usr/local/lib/python3.11/dist-packages (from google-api-core!=2.0.*,!=2.1.*,!=2.10.*,!=2.2.*,!=2.3.*,!=2.4.*,!=2.5.*,!=2.6.*,!=2.7.*,!=2.8.*,!=2.9.*,<3.0.0,>=1.34.1->google-api-core[grpc]!=2.0.*,!=2.1.*,!=2.10.*,!=2.2.*,!=2.3.*,!=2.4.*,!=2.5.*,!=2.6.*,!=2.7.*,!=2.8.*,!=2.9.*,<3.0.0,>=1.34.1->google-ai-generativelanguage<0.7.0,>=0.6.16->langchain-google-genai) (1.69.2)\n",
            "Requirement already satisfied: grpcio<2.0dev,>=1.33.2 in /usr/local/lib/python3.11/dist-packages (from google-api-core[grpc]!=2.0.*,!=2.1.*,!=2.10.*,!=2.2.*,!=2.3.*,!=2.4.*,!=2.5.*,!=2.6.*,!=2.7.*,!=2.8.*,!=2.9.*,<3.0.0,>=1.34.1->google-ai-generativelanguage<0.7.0,>=0.6.16->langchain-google-genai) (1.71.0)\n",
            "Requirement already satisfied: grpcio-status<2.0.dev0,>=1.33.2 in /usr/local/lib/python3.11/dist-packages (from google-api-core[grpc]!=2.0.*,!=2.1.*,!=2.10.*,!=2.2.*,!=2.3.*,!=2.4.*,!=2.5.*,!=2.6.*,!=2.7.*,!=2.8.*,!=2.9.*,<3.0.0,>=1.34.1->google-ai-generativelanguage<0.7.0,>=0.6.16->langchain-google-genai) (1.71.0)\n",
            "Requirement already satisfied: cachetools<6.0,>=2.0.0 in /usr/local/lib/python3.11/dist-packages (from google-auth!=2.24.0,!=2.25.0,<3.0.0,>=2.14.1->google-ai-generativelanguage<0.7.0,>=0.6.16->langchain-google-genai) (5.5.2)\n",
            "Requirement already satisfied: pyasn1-modules>=0.2.1 in /usr/local/lib/python3.11/dist-packages (from google-auth!=2.24.0,!=2.25.0,<3.0.0,>=2.14.1->google-ai-generativelanguage<0.7.0,>=0.6.16->langchain-google-genai) (0.4.2)\n",
            "Requirement already satisfied: rsa<5,>=3.1.4 in /usr/local/lib/python3.11/dist-packages (from google-auth!=2.24.0,!=2.25.0,<3.0.0,>=2.14.1->google-ai-generativelanguage<0.7.0,>=0.6.16->langchain-google-genai) (4.9)\n",
            "Requirement already satisfied: anyio in /usr/local/lib/python3.11/dist-packages (from httpx>=0.25.2->langgraph-sdk<0.2.0,>=0.1.42->langgraph) (4.9.0)\n",
            "Requirement already satisfied: httpcore==1.* in /usr/local/lib/python3.11/dist-packages (from httpx>=0.25.2->langgraph-sdk<0.2.0,>=0.1.42->langgraph) (1.0.7)\n",
            "Requirement already satisfied: h11<0.15,>=0.13 in /usr/local/lib/python3.11/dist-packages (from httpcore==1.*->httpx>=0.25.2->langgraph-sdk<0.2.0,>=0.1.42->langgraph) (0.14.0)\n",
            "Collecting mypy-extensions>=0.3.0 (from typing-inspect<1,>=0.4.0->dataclasses-json<0.7,>=0.5.7->langchain-community)\n",
            "  Downloading mypy_extensions-1.0.0-py3-none-any.whl.metadata (1.1 kB)\n",
            "Requirement already satisfied: pycparser in /usr/local/lib/python3.11/dist-packages (from cffi>=1.12->cryptography>=36.0.0->pdfminer.six==20250327->pdfplumber) (2.22)\n",
            "Requirement already satisfied: pyasn1<0.7.0,>=0.6.1 in /usr/local/lib/python3.11/dist-packages (from pyasn1-modules>=0.2.1->google-auth!=2.24.0,!=2.25.0,<3.0.0,>=2.14.1->google-ai-generativelanguage<0.7.0,>=0.6.16->langchain-google-genai) (0.6.1)\n",
            "Requirement already satisfied: sniffio>=1.1 in /usr/local/lib/python3.11/dist-packages (from anyio->httpx>=0.25.2->langgraph-sdk<0.2.0,>=0.1.42->langgraph) (1.3.1)\n",
            "Downloading langgraph-0.3.21-py3-none-any.whl (138 kB)\n",
            "\u001b[2K   \u001b[90m━━━━━━━━━━━━━━━━━━━━━━━━━━━━━━━━━━━━━━━━\u001b[0m \u001b[32m138.0/138.0 kB\u001b[0m \u001b[31m2.5 MB/s\u001b[0m eta \u001b[36m0:00:00\u001b[0m\n",
            "\u001b[?25hDownloading langchain_google_genai-2.1.2-py3-none-any.whl (42 kB)\n",
            "\u001b[2K   \u001b[90m━━━━━━━━━━━━━━━━━━━━━━━━━━━━━━━━━━━━━━━━\u001b[0m \u001b[32m42.0/42.0 kB\u001b[0m \u001b[31m2.1 MB/s\u001b[0m eta \u001b[36m0:00:00\u001b[0m\n",
            "\u001b[?25hDownloading langchain_community-0.3.20-py3-none-any.whl (2.5 MB)\n",
            "\u001b[2K   \u001b[90m━━━━━━━━━━━━━━━━━━━━━━━━━━━━━━━━━━━━━━━━\u001b[0m \u001b[32m2.5/2.5 MB\u001b[0m \u001b[31m17.7 MB/s\u001b[0m eta \u001b[36m0:00:00\u001b[0m\n",
            "\u001b[?25hDownloading langchain_experimental-0.3.4-py3-none-any.whl (209 kB)\n",
            "\u001b[2K   \u001b[90m━━━━━━━━━━━━━━━━━━━━━━━━━━━━━━━━━━━━━━━━\u001b[0m \u001b[32m209.2/209.2 kB\u001b[0m \u001b[31m9.6 MB/s\u001b[0m eta \u001b[36m0:00:00\u001b[0m\n",
            "\u001b[?25hDownloading pdfplumber-0.11.6-py3-none-any.whl (60 kB)\n",
            "\u001b[2K   \u001b[90m━━━━━━━━━━━━━━━━━━━━━━━━━━━━━━━━━━━━━━━━\u001b[0m \u001b[32m60.2/60.2 kB\u001b[0m \u001b[31m1.9 MB/s\u001b[0m eta \u001b[36m0:00:00\u001b[0m\n",
            "\u001b[?25hDownloading pdfminer_six-20250327-py3-none-any.whl (5.6 MB)\n",
            "\u001b[2K   \u001b[90m━━━━━━━━━━━━━━━━━━━━━━━━━━━━━━━━━━━━━━━━\u001b[0m \u001b[32m5.6/5.6 MB\u001b[0m \u001b[31m26.9 MB/s\u001b[0m eta \u001b[36m0:00:00\u001b[0m\n",
            "\u001b[?25hDownloading dataclasses_json-0.6.7-py3-none-any.whl (28 kB)\n",
            "Downloading filetype-1.2.0-py2.py3-none-any.whl (19 kB)\n",
            "Downloading google_ai_generativelanguage-0.6.17-py3-none-any.whl (1.4 MB)\n",
            "\u001b[2K   \u001b[90m━━━━━━━━━━━━━━━━━━━━━━━━━━━━━━━━━━━━━━━━\u001b[0m \u001b[32m1.4/1.4 MB\u001b[0m \u001b[31m20.9 MB/s\u001b[0m eta \u001b[36m0:00:00\u001b[0m\n",
            "\u001b[?25hDownloading httpx_sse-0.4.0-py3-none-any.whl (7.8 kB)\n",
            "Downloading langgraph_checkpoint-2.0.23-py3-none-any.whl (41 kB)\n",
            "\u001b[2K   \u001b[90m━━━━━━━━━━━━━━━━━━━━━━━━━━━━━━━━━━━━━━━━\u001b[0m \u001b[32m41.9/41.9 kB\u001b[0m \u001b[31m2.2 MB/s\u001b[0m eta \u001b[36m0:00:00\u001b[0m\n",
            "\u001b[?25hDownloading langgraph_prebuilt-0.1.7-py3-none-any.whl (25 kB)\n",
            "Downloading langgraph_sdk-0.1.60-py3-none-any.whl (47 kB)\n",
            "\u001b[2K   \u001b[90m━━━━━━━━━━━━━━━━━━━━━━━━━━━━━━━━━━━━━━━━\u001b[0m \u001b[32m47.1/47.1 kB\u001b[0m \u001b[31m3.3 MB/s\u001b[0m eta \u001b[36m0:00:00\u001b[0m\n",
            "\u001b[?25hDownloading pydantic_settings-2.8.1-py3-none-any.whl (30 kB)\n",
            "Downloading pypdfium2-4.30.1-py3-none-manylinux_2_17_x86_64.manylinux2014_x86_64.whl (2.9 MB)\n",
            "\u001b[2K   \u001b[90m━━━━━━━━━━━━━━━━━━━━━━━━━━━━━━━━━━━━━━━━\u001b[0m \u001b[32m2.9/2.9 MB\u001b[0m \u001b[31m48.7 MB/s\u001b[0m eta \u001b[36m0:00:00\u001b[0m\n",
            "\u001b[?25hDownloading xxhash-3.5.0-cp311-cp311-manylinux_2_17_x86_64.manylinux2014_x86_64.whl (194 kB)\n",
            "\u001b[2K   \u001b[90m━━━━━━━━━━━━━━━━━━━━━━━━━━━━━━━━━━━━━━━━\u001b[0m \u001b[32m194.8/194.8 kB\u001b[0m \u001b[31m11.1 MB/s\u001b[0m eta \u001b[36m0:00:00\u001b[0m\n",
            "\u001b[?25hDownloading marshmallow-3.26.1-py3-none-any.whl (50 kB)\n",
            "\u001b[2K   \u001b[90m━━━━━━━━━━━━━━━━━━━━━━━━━━━━━━━━━━━━━━━━\u001b[0m \u001b[32m50.9/50.9 kB\u001b[0m \u001b[31m2.9 MB/s\u001b[0m eta \u001b[36m0:00:00\u001b[0m\n",
            "\u001b[?25hDownloading ormsgpack-1.9.1-cp311-cp311-manylinux_2_17_x86_64.manylinux2014_x86_64.whl (223 kB)\n",
            "\u001b[2K   \u001b[90m━━━━━━━━━━━━━━━━━━━━━━━━━━━━━━━━━━━━━━━━\u001b[0m \u001b[32m223.6/223.6 kB\u001b[0m \u001b[31m7.9 MB/s\u001b[0m eta \u001b[36m0:00:00\u001b[0m\n",
            "\u001b[?25hDownloading python_dotenv-1.1.0-py3-none-any.whl (20 kB)\n",
            "Downloading typing_inspect-0.9.0-py3-none-any.whl (8.8 kB)\n",
            "Downloading mypy_extensions-1.0.0-py3-none-any.whl (4.7 kB)\n",
            "Building wheels for collected packages: fpdf\n",
            "  Building wheel for fpdf (setup.py) ... \u001b[?25l\u001b[?25hdone\n",
            "  Created wheel for fpdf: filename=fpdf-1.7.2-py2.py3-none-any.whl size=40704 sha256=428f44f060c8a8c7e4da2f67bcc98fe8e699d0a231e58d04015d39b88aa1c717\n",
            "  Stored in directory: /root/.cache/pip/wheels/65/4f/66/bbda9866da446a72e206d6484cd97381cbc7859a7068541c36\n",
            "Successfully built fpdf\n",
            "Installing collected packages: fpdf, filetype, xxhash, python-dotenv, pypdfium2, ormsgpack, mypy-extensions, marshmallow, httpx-sse, typing-inspect, pydantic-settings, pdfminer.six, langgraph-sdk, dataclasses-json, pdfplumber, langgraph-checkpoint, google-ai-generativelanguage, langgraph-prebuilt, langchain-google-genai, langgraph, langchain-community, langchain-experimental\n",
            "  Attempting uninstall: google-ai-generativelanguage\n",
            "    Found existing installation: google-ai-generativelanguage 0.6.15\n",
            "    Uninstalling google-ai-generativelanguage-0.6.15:\n",
            "      Successfully uninstalled google-ai-generativelanguage-0.6.15\n",
            "\u001b[31mERROR: pip's dependency resolver does not currently take into account all the packages that are installed. This behaviour is the source of the following dependency conflicts.\n",
            "google-generativeai 0.8.4 requires google-ai-generativelanguage==0.6.15, but you have google-ai-generativelanguage 0.6.17 which is incompatible.\u001b[0m\u001b[31m\n",
            "\u001b[0mSuccessfully installed dataclasses-json-0.6.7 filetype-1.2.0 fpdf-1.7.2 google-ai-generativelanguage-0.6.17 httpx-sse-0.4.0 langchain-community-0.3.20 langchain-experimental-0.3.4 langchain-google-genai-2.1.2 langgraph-0.3.21 langgraph-checkpoint-2.0.23 langgraph-prebuilt-0.1.7 langgraph-sdk-0.1.60 marshmallow-3.26.1 mypy-extensions-1.0.0 ormsgpack-1.9.1 pdfminer.six-20250327 pdfplumber-0.11.6 pydantic-settings-2.8.1 pypdfium2-4.30.1 python-dotenv-1.1.0 typing-inspect-0.9.0 xxhash-3.5.0\n"
          ]
        },
        {
          "output_type": "display_data",
          "data": {
            "application/vnd.colab-display-data+json": {
              "pip_warning": {
                "packages": [
                  "google"
                ]
              },
              "id": "9a00affb94fc4a3e87aa8bdacf988f5e"
            }
          },
          "metadata": {}
        }
      ],
      "source": [
        "!pip install langchain langgraph langchain-google-genai langchain-core langchain-community langchain-experimental fpdf pdfplumber"
      ]
    },
    {
      "cell_type": "code",
      "execution_count": 2,
      "metadata": {
        "id": "4jLETHnXnKBh"
      },
      "outputs": [],
      "source": [
        "from langchain_core.runnables import RunnableConfig\n",
        "from langchain.schema import AIMessage\n",
        "from typing import Annotated, Literal\n",
        "from typing_extensions import TypedDict\n",
        "from langchain_google_genai import ChatGoogleGenerativeAI\n",
        "from langchain_community.tools.tavily_search import TavilySearchResults\n",
        "from langgraph.graph import StateGraph, START, END\n",
        "from langgraph.graph.message import add_messages\n",
        "from langgraph.prebuilt import ToolNode\n",
        "from langgraph.checkpoint.memory import MemorySaver\n",
        "from langchain_core.prompts import PromptTemplate\n",
        "from langchain_core.tools import tool\n",
        "from langchain_community.agent_toolkits import FileManagementToolkit\n",
        "from langchain_experimental.tools.python.tool import PythonAstREPLTool\n",
        "from pydantic import BaseModel, Field\n",
        "from fpdf import FPDF\n",
        "import random\n",
        "import pdfplumber\n",
        "import os\n",
        "import requests\n",
        "import warnings\n",
        "\n",
        "warnings.filterwarnings(\"ignore\")"
      ]
    },
    {
      "cell_type": "code",
      "execution_count": 3,
      "metadata": {
        "id": "YtLQpBZQIHsa",
        "cellView": "form"
      },
      "outputs": [],
      "source": [
        "google_api_key = \"\" # @param {\"type\":\"string\"}\n",
        "tavily_api_key = \"\" # @param {\"type\":\"string\"}"
      ]
    },
    {
      "cell_type": "code",
      "execution_count": 4,
      "metadata": {
        "id": "y8azdfq-l-ps"
      },
      "outputs": [],
      "source": [
        "os.environ[\"google_api_key\"] = google_api_key\n",
        "os.environ[\"GOOGLE_API_KEY\"] = google_api_key\n",
        "os.environ[\"TAVILY_API_KEY\"] = tavily_api_key"
      ]
    },
    {
      "cell_type": "code",
      "execution_count": 5,
      "metadata": {
        "id": "AuwqB6S6nKBl"
      },
      "outputs": [],
      "source": [
        "class State(TypedDict):\n",
        "    query : Annotated[str, \"User Question\"]\n",
        "    answer : Annotated[str, \"LLM response\"]\n",
        "    messages : Annotated[list, add_messages]\n",
        "    tool_call : Annotated[dict, \"Tool Call Result\"]"
      ]
    },
    {
      "cell_type": "code",
      "execution_count": 6,
      "metadata": {
        "id": "G-CNSwr0qnsi"
      },
      "outputs": [],
      "source": [
        "llm = ChatGoogleGenerativeAI(model=\"gemini-2.0-flash\",\n",
        "                             temperature=0,\n",
        "                             convert_system_message_to_human=True)"
      ]
    },
    {
      "cell_type": "code",
      "execution_count": 7,
      "metadata": {
        "id": "vNMa89_7nKBm"
      },
      "outputs": [],
      "source": [
        "@tool\n",
        "def read_pdf(file_path: str) -> str:\n",
        "    \"\"\"\n",
        "    PDF 파일에서 텍스트를 추출하는 도구입니다.\n",
        "    표 형식 또는 일반 텍스트가 포함된 PDF를 읽고 문자열로 반환합니다.\n",
        "\n",
        "    file_path 예시: './report.pdf'\n",
        "    \"\"\"\n",
        "    try:\n",
        "        text = \"\"\n",
        "        with pdfplumber.open(file_path) as pdf:\n",
        "            for page in pdf.pages:\n",
        "                page_text = page.extract_text()\n",
        "                if page_text:\n",
        "                    text += page_text + \"\\n\"\n",
        "        return text.strip() if text.strip() else \"❌ PDF에서 텍스트를 추출할 수 없습니다.\"\n",
        "    except Exception as e:\n",
        "        return f\"❌ PDF 읽기 오류: {str(e)}\""
      ]
    },
    {
      "cell_type": "code",
      "execution_count": 8,
      "metadata": {
        "id": "xqkLXOw6nKBn"
      },
      "outputs": [],
      "source": [
        "@tool\n",
        "def write_pdf(content: str, filename: str = \"output.pdf\"):\n",
        "    \"\"\"\n",
        "    텍스트를 PDF 파일로 저장하는 도구입니다.\n",
        "    PDF형태의 문서로 만들어야할 때 이 도구를 사용하세요.\n",
        "    \"\"\"\n",
        "\n",
        "    prompt = PromptTemplate.from_template(\"\"\"\n",
        "            당신은 보고서를 작성하는 어시스턴트입니다. 당신에겐 문서 모음이 제공되고 이를 잘 분석하여 보고서를 작성하여야 합니다.\n",
        "            아래의 content는 문서 모음입니다. 문서의 제목, 본문을 잘 판단하고 정리하여 요약합니다.\n",
        "            항상 구조화된 출력을 제공하세요.\n",
        "            항상 마지막엔 인사이트도 첨부합니다.\n",
        "\n",
        "            content : {content}\n",
        "            \"\"\")\n",
        "\n",
        "    chain = prompt | llm\n",
        "\n",
        "    content = chain.invoke({\"content\":content}).content\n",
        "\n",
        "    font_url = \"https://github.com/google/fonts/raw/main/ofl/notosanskr/NotoSansKR%5Bwght%5D.ttf\"\n",
        "    font_path = \"./fonts/NotoSansKR.ttf\"\n",
        "\n",
        "    try:\n",
        "        os.mkdir(\"./fonts/\")\n",
        "        response = requests.get(font_url)\n",
        "        with open(font_path, \"wb\") as f:\n",
        "            f.write(response.content)\n",
        "    except:\n",
        "        pass\n",
        "\n",
        "    pdf = FPDF()\n",
        "    pdf.add_page()\n",
        "    pdf.set_auto_page_break(auto=True, margin=15)\n",
        "\n",
        "    font_path = \"./fonts/NotoSansKR.ttf\"  # <-- 여기에 실제 폰트 파일이 있어야 함\n",
        "\n",
        "    try:\n",
        "        pdf.add_font(\"NotoSans\", \"\", font_path, uni=True)\n",
        "        pdf.set_font(\"NotoSans\", size=12)\n",
        "    except:\n",
        "        raise ValueError(\"한글 폰트를 등록할 수 없습니다.\")\n",
        "\n",
        "    for line in content.split(\"\\n\"):\n",
        "        pdf.multi_cell(0, 10, line)\n",
        "    pdf.output(f\"./{filename}\")\n",
        "\n",
        "    return f\"{filename} 저장 완료\""
      ]
    },
    {
      "cell_type": "code",
      "execution_count": 9,
      "metadata": {
        "id": "sKMUZEXPIHsc"
      },
      "outputs": [],
      "source": [
        "tools = [TavilySearchResults(max_results=10), PythonAstREPLTool(), write_pdf, read_pdf, *FileManagementToolkit(\n",
        "                                                                            selected_tools=[\"file_delete\",\"list_directory\"]).get_tools()]\n",
        "search_tool, code_tool, write_tool, read_tool, delete_tool, listdir_tool= tools"
      ]
    },
    {
      "cell_type": "code",
      "execution_count": 120,
      "metadata": {
        "id": "u5J4tJo5nKBn"
      },
      "outputs": [],
      "source": [
        "# tools = [TavilySearchResults(include_domains=[\"naver.com\", \"google.com\"]), PythonAstREPLTool(), write_pdf, read_pdf, *FileManagementToolkit(\n",
        "#                                                                             selected_tools=[\"file_delete\",\"list_directory\"]).get_tools()]\n",
        "# search_tool, code_tool, write_tool, read_tool, delete_tool, listdir_tool= tools"
      ]
    },
    {
      "cell_type": "code",
      "execution_count": 121,
      "metadata": {
        "id": "TmTiddGxyB6K"
      },
      "outputs": [],
      "source": [
        "# write_tool({\"content\":\"안녕하세요?\", \"filename\":\"abctest.pdf\"})"
      ]
    },
    {
      "cell_type": "code",
      "execution_count": 122,
      "metadata": {
        "id": "Rany0FPunZaL"
      },
      "outputs": [],
      "source": [
        "# read_tool(\"abctest.pdf\")"
      ]
    },
    {
      "cell_type": "code",
      "execution_count": 123,
      "metadata": {
        "id": "VDLWFnegnikc"
      },
      "outputs": [],
      "source": [
        "# delete_tool(\"abctest.pdf\")"
      ]
    },
    {
      "cell_type": "code",
      "execution_count": 10,
      "metadata": {
        "id": "0uOvOZf3nKBn"
      },
      "outputs": [],
      "source": [
        "llm_with_tools = llm.bind_tools(tools)"
      ]
    },
    {
      "cell_type": "code",
      "execution_count": 11,
      "metadata": {
        "id": "gsqpQmxknKBo"
      },
      "outputs": [],
      "source": [
        "class HistoryChecker(BaseModel):\n",
        "    \"\"\"\n",
        "    이전의 대화 기록을 참고하여 질문에 대해 답변할 수 있는지 판단합니다.\n",
        "    답변할 수 있다면 \"yes\", 답변할 수 없다면 \"no\"를 반환합니다.\n",
        "    \"\"\"\n",
        "\n",
        "    yes_no : Literal[\"yes\", \"no\"] = Field(..., description=\"\"\"Use your previous conversation history to determine if you can answer your questions.\n",
        "    Return \"yes\" if you can answer, \"no\" if you can't answer.\"\"\")"
      ]
    },
    {
      "cell_type": "code",
      "execution_count": 12,
      "metadata": {
        "id": "UrMAISv-nKBo"
      },
      "outputs": [],
      "source": [
        "def shorterm_memory(state:State):\n",
        "\n",
        "    if len(state[\"messages\"]) > 8:\n",
        "        history = state[\"messages\"][-8:-1]\n",
        "    elif len(state[\"messages\"]) == 1:\n",
        "        history = \"\"\n",
        "    else:\n",
        "        history = state[\"messages\"][:-1]\n",
        "\n",
        "    return history"
      ]
    },
    {
      "cell_type": "code",
      "execution_count": 13,
      "metadata": {
        "id": "7SsCloETnKBp"
      },
      "outputs": [],
      "source": [
        "def history_check(state:State):\n",
        "\n",
        "    prompt = PromptTemplate.from_template(\"\"\"\n",
        "\n",
        "                이전의 대화 기록을 참고하여 질문에 대해 답변할 수 있는지 판단합니다.\n",
        "                답변할 수 있다면 \"yes\", 답변할 수 없다면 \"no\"를 반환합니다.\n",
        "\n",
        "                대화 기록 : {history}\n",
        "\n",
        "                질문 : {query}\n",
        "\n",
        "                \"\"\")\n",
        "\n",
        "    chain = prompt | history_checker\n",
        "\n",
        "    history = shorterm_memory(state)\n",
        "\n",
        "    result = chain.invoke({\"history\":history,\n",
        "                            \"query\":state[\"query\"]})\n",
        "\n",
        "    return result.yes_no"
      ]
    },
    {
      "cell_type": "code",
      "execution_count": 14,
      "metadata": {
        "id": "fx8dfRdlnKBp"
      },
      "outputs": [],
      "source": [
        "def memory_chat(state:State):\n",
        "\n",
        "    prompt = PromptTemplate.from_template(\"\"\"\n",
        "\n",
        "                이전의 대화 기록을 참고하여 질문에 대해 답변하세요.\n",
        "                아래 대화 기록을 첨부합니다.\n",
        "                대화 기록을 통해 답변이 어렵다면 내부 지식을 참조하세요.\n",
        "\n",
        "                대화 기록 : {history}\n",
        "\n",
        "                질문 : {query}\n",
        "\n",
        "                \"\"\")\n",
        "\n",
        "\n",
        "    chain = prompt | llm\n",
        "\n",
        "    history = shorterm_memory(state)\n",
        "\n",
        "    answer = chain.invoke({\"history\":history,\n",
        "                           \"query\":state[\"query\"]})\n",
        "\n",
        "    if len(state[\"tool_call\"]) == 0:\n",
        "        return {\"answer\":answer.content,\n",
        "                \"messages\":[answer],\n",
        "                \"tool_call\":\"사용된 기록 없음.\"}\n",
        "    else:\n",
        "        return {\"answer\":answer.content,\n",
        "                \"messages\":[answer]}"
      ]
    },
    {
      "cell_type": "code",
      "execution_count": 15,
      "metadata": {
        "id": "CDAlnV3dnKBp"
      },
      "outputs": [],
      "source": [
        "history_checker = llm.with_structured_output(HistoryChecker)"
      ]
    },
    {
      "cell_type": "code",
      "execution_count": 16,
      "metadata": {
        "id": "ZLm8qqC7nKBq"
      },
      "outputs": [],
      "source": [
        "def history_node(state:State):\n",
        "    if len(state[\"messages\"]) == 1:\n",
        "        return {\"answer\":\"답변 없음\",\n",
        "                \"tool_call\":\"사용된 도구 없음\"}\n",
        "    else:\n",
        "        return state"
      ]
    },
    {
      "cell_type": "code",
      "execution_count": 17,
      "metadata": {
        "id": "IVxNiGN0nKBq"
      },
      "outputs": [],
      "source": [
        "def select(\n",
        "    state: State,\n",
        "):\n",
        "\n",
        "    prompt = PromptTemplate.from_template(\"\"\"\n",
        "\n",
        "                이전의 대화 기록을 참고하여 질문에 대해 답변하세요.\n",
        "                아래 대화 기록을 첨부합니다.\n",
        "                이전의 대화가 다음에 어떤 도구를 사용해야하는지 힌트가 될 수 있습니다. 꼭 참조하세요.\n",
        "                도구의 변화가 큰 결과를 가져올 수 있습니다.\n",
        "                들어온 메시지, 정답, 이전 기록을 모두 분석하여 가장 적절한 도구를 선택하세요.\n",
        "\n",
        "                대화 기록 : {history}\n",
        "\n",
        "                최근 사용한 도구 : {tool_name}\n",
        "\n",
        "                정답 : {answer}\n",
        "\n",
        "                질문 : {query}\n",
        "\n",
        "                \"\"\")\n",
        "\n",
        "    chain = prompt | llm_with_tools\n",
        "\n",
        "    history = shorterm_memory(state)\n",
        "\n",
        "    result = chain.invoke({\"history\" : history,\n",
        "                           \"tool_name\" : state[\"tool_call\"],\n",
        "                            \"answer\": state[\"answer\"],\n",
        "                            \"query\": state[\"query\"]})\n",
        "\n",
        "    if hasattr(result, \"tool_calls\") and len(result.tool_calls) > 0:\n",
        "        tool_calls = result.tool_calls\n",
        "\n",
        "        return {\"messages\": result,\n",
        "                \"tool_call\":tool_calls}\n",
        "                # \"tool_call\":AIMessage(content=tool_calls)}\n",
        "    else:\n",
        "        return {\"messages\":AIMessage(content=f\"\"\"도구를 선택하지 못했습니다. 적절한 도구를 재선택하세요.\n",
        "                                        \"\"\"),\n",
        "                                    \"tool_call\":\"선택된 도구 없음\"}\n",
        "\n"
      ]
    },
    {
      "cell_type": "code",
      "execution_count": 18,
      "metadata": {
        "id": "y6s0RyEfnKBq"
      },
      "outputs": [],
      "source": [
        "tool_node = ToolNode(tools)"
      ]
    },
    {
      "cell_type": "code",
      "execution_count": 19,
      "metadata": {
        "id": "gD-vMnQenKBq"
      },
      "outputs": [],
      "source": [
        "class AnswerChecker(BaseModel):\n",
        "    \"\"\"\n",
        "    정답 분류기입니다.\n",
        "\n",
        "    정답이 질문을 해결했는지 여부를 판단합니다.\n",
        "    질문을 해결하지 못했을 시 해결될 때까지 도구를 이용합니다.\n",
        "\n",
        "    질문을 해결했다면 \"end\", 해결하지 못했다면 \"tool\"을 반환합니다.\n",
        "    \"\"\"\n",
        "\n",
        "\n",
        "    end : Literal[\"end\", \"tool\"] = Field(..., description=\"\"\"You are the answer sorter.\n",
        "\n",
        "                                                                Determine if the correct answer has solved the question.\n",
        "                                                                If the question is not resolved, use the tool until it is resolved.\n",
        "\n",
        "                                                                Return \"end\" if you solved the question, or \"tool\" if you didn't.\"\"\")"
      ]
    },
    {
      "cell_type": "code",
      "execution_count": 20,
      "metadata": {
        "id": "51lPyxhdnKBr"
      },
      "outputs": [],
      "source": [
        "answer_checker = llm.with_structured_output(AnswerChecker)"
      ]
    },
    {
      "cell_type": "code",
      "execution_count": 21,
      "metadata": {
        "id": "zyZTkR8fnKBr"
      },
      "outputs": [],
      "source": [
        "def response(state:State):\n",
        "\n",
        "    return {\"answer\":state[\"messages\"][-1]}"
      ]
    },
    {
      "cell_type": "code",
      "execution_count": 22,
      "metadata": {
        "id": "mBV4ASvjnKBr"
      },
      "outputs": [],
      "source": [
        "def answer_check(state:State):\n",
        "\n",
        "    prompt = PromptTemplate.from_template(\"\"\"\n",
        "    당신은 정답 분류기 어시스턴트입니다.\n",
        "\n",
        "    정답이 질문을 해결하였는지 여부를 판단합니다.\n",
        "    질문을 해결하지 못했다면 도구를 이용합니다.\n",
        "\n",
        "    질문을 해결하였다면 \"end\", 아니라면 \"tool\"을 반환합니다.\n",
        "\n",
        "    기존 History도 참고하여 답변하세요.\n",
        "\n",
        "    History : {history}\n",
        "\n",
        "    정답 : {answer}\n",
        "\n",
        "    질문 : {query}\n",
        "    \"\"\")\n",
        "\n",
        "    chain = prompt | answer_checker\n",
        "\n",
        "    history = shorterm_memory(state)\n",
        "\n",
        "    result = chain.invoke({\"history\" : history,\n",
        "                            \"answer\": state[\"answer\"],\n",
        "                            \"query\": state[\"query\"]})\n",
        "\n",
        "    return result.end"
      ]
    },
    {
      "cell_type": "code",
      "execution_count": 23,
      "metadata": {
        "id": "50EDu4mOnKBr"
      },
      "outputs": [],
      "source": [
        "graph_builder = StateGraph(State)"
      ]
    },
    {
      "cell_type": "code",
      "execution_count": 24,
      "metadata": {
        "id": "qDdqjxeNnKBr"
      },
      "outputs": [],
      "source": [
        "graph_builder.add_node(\"history_node\", history_node)\n",
        "graph_builder.add_node(\"memory_chat\", memory_chat)\n",
        "graph_builder.add_node(\"select\", select)\n",
        "graph_builder.add_node(\"tools\", tool_node)\n",
        "graph_builder.add_node(\"response\", response)\n",
        "\n",
        "\n",
        "graph_builder.add_edge(START, \"history_node\")\n",
        "graph_builder.add_conditional_edges(\"history_node\",\n",
        "                            history_check,\n",
        "                            {\"yes\":\"memory_chat\",\n",
        "                             \"no\":\"select\"})\n",
        "graph_builder.add_edge(\"select\", \"tools\")\n",
        "graph_builder.add_edge(\"tools\", \"response\")\n",
        "graph_builder.add_edge(\"memory_chat\", \"response\")\n",
        "graph_builder.add_conditional_edges(\"response\",\n",
        "                                    answer_check,\n",
        "                                    {\"end\":END,\n",
        "                                    \"tool\":\"select\"});"
      ]
    },
    {
      "cell_type": "code",
      "execution_count": 25,
      "metadata": {
        "id": "X8Z71CK8nKBr"
      },
      "outputs": [],
      "source": [
        "memory = MemorySaver()\n",
        "\n",
        "graph = graph_builder.compile(checkpointer=memory)"
      ]
    },
    {
      "cell_type": "code",
      "execution_count": 26,
      "metadata": {
        "colab": {
          "base_uri": "https://localhost:8080/",
          "height": 559
        },
        "id": "YQ2jWtlinKBs",
        "outputId": "d4ea5f48-7084-42ad-ac1f-761d9524ca5a"
      },
      "outputs": [
        {
          "output_type": "error",
          "ename": "ReadTimeout",
          "evalue": "HTTPSConnectionPool(host='mermaid.ink', port=443): Read timed out. (read timeout=10)",
          "traceback": [
            "\u001b[0;31m---------------------------------------------------------------------------\u001b[0m",
            "\u001b[0;31mTimeoutError\u001b[0m                              Traceback (most recent call last)",
            "\u001b[0;32m/usr/local/lib/python3.11/dist-packages/urllib3/connectionpool.py\u001b[0m in \u001b[0;36m_make_request\u001b[0;34m(self, conn, method, url, body, headers, retries, timeout, chunked, response_conn, preload_content, decode_content, enforce_content_length)\u001b[0m\n\u001b[1;32m    533\u001b[0m         \u001b[0;32mtry\u001b[0m\u001b[0;34m:\u001b[0m\u001b[0;34m\u001b[0m\u001b[0;34m\u001b[0m\u001b[0m\n\u001b[0;32m--> 534\u001b[0;31m             \u001b[0mresponse\u001b[0m \u001b[0;34m=\u001b[0m \u001b[0mconn\u001b[0m\u001b[0;34m.\u001b[0m\u001b[0mgetresponse\u001b[0m\u001b[0;34m(\u001b[0m\u001b[0;34m)\u001b[0m\u001b[0;34m\u001b[0m\u001b[0;34m\u001b[0m\u001b[0m\n\u001b[0m\u001b[1;32m    535\u001b[0m         \u001b[0;32mexcept\u001b[0m \u001b[0;34m(\u001b[0m\u001b[0mBaseSSLError\u001b[0m\u001b[0;34m,\u001b[0m \u001b[0mOSError\u001b[0m\u001b[0;34m)\u001b[0m \u001b[0;32mas\u001b[0m \u001b[0me\u001b[0m\u001b[0;34m:\u001b[0m\u001b[0;34m\u001b[0m\u001b[0;34m\u001b[0m\u001b[0m\n",
            "\u001b[0;32m/usr/local/lib/python3.11/dist-packages/urllib3/connection.py\u001b[0m in \u001b[0;36mgetresponse\u001b[0;34m(self)\u001b[0m\n\u001b[1;32m    515\u001b[0m         \u001b[0;31m# Get the response from http.client.HTTPConnection\u001b[0m\u001b[0;34m\u001b[0m\u001b[0;34m\u001b[0m\u001b[0m\n\u001b[0;32m--> 516\u001b[0;31m         \u001b[0mhttplib_response\u001b[0m \u001b[0;34m=\u001b[0m \u001b[0msuper\u001b[0m\u001b[0;34m(\u001b[0m\u001b[0;34m)\u001b[0m\u001b[0;34m.\u001b[0m\u001b[0mgetresponse\u001b[0m\u001b[0;34m(\u001b[0m\u001b[0;34m)\u001b[0m\u001b[0;34m\u001b[0m\u001b[0;34m\u001b[0m\u001b[0m\n\u001b[0m\u001b[1;32m    517\u001b[0m \u001b[0;34m\u001b[0m\u001b[0m\n",
            "\u001b[0;32m/usr/lib/python3.11/http/client.py\u001b[0m in \u001b[0;36mgetresponse\u001b[0;34m(self)\u001b[0m\n\u001b[1;32m   1394\u001b[0m             \u001b[0;32mtry\u001b[0m\u001b[0;34m:\u001b[0m\u001b[0;34m\u001b[0m\u001b[0;34m\u001b[0m\u001b[0m\n\u001b[0;32m-> 1395\u001b[0;31m                 \u001b[0mresponse\u001b[0m\u001b[0;34m.\u001b[0m\u001b[0mbegin\u001b[0m\u001b[0;34m(\u001b[0m\u001b[0;34m)\u001b[0m\u001b[0;34m\u001b[0m\u001b[0;34m\u001b[0m\u001b[0m\n\u001b[0m\u001b[1;32m   1396\u001b[0m             \u001b[0;32mexcept\u001b[0m \u001b[0mConnectionError\u001b[0m\u001b[0;34m:\u001b[0m\u001b[0;34m\u001b[0m\u001b[0;34m\u001b[0m\u001b[0m\n",
            "\u001b[0;32m/usr/lib/python3.11/http/client.py\u001b[0m in \u001b[0;36mbegin\u001b[0;34m(self)\u001b[0m\n\u001b[1;32m    324\u001b[0m         \u001b[0;32mwhile\u001b[0m \u001b[0;32mTrue\u001b[0m\u001b[0;34m:\u001b[0m\u001b[0;34m\u001b[0m\u001b[0;34m\u001b[0m\u001b[0m\n\u001b[0;32m--> 325\u001b[0;31m             \u001b[0mversion\u001b[0m\u001b[0;34m,\u001b[0m \u001b[0mstatus\u001b[0m\u001b[0;34m,\u001b[0m \u001b[0mreason\u001b[0m \u001b[0;34m=\u001b[0m \u001b[0mself\u001b[0m\u001b[0;34m.\u001b[0m\u001b[0m_read_status\u001b[0m\u001b[0;34m(\u001b[0m\u001b[0;34m)\u001b[0m\u001b[0;34m\u001b[0m\u001b[0;34m\u001b[0m\u001b[0m\n\u001b[0m\u001b[1;32m    326\u001b[0m             \u001b[0;32mif\u001b[0m \u001b[0mstatus\u001b[0m \u001b[0;34m!=\u001b[0m \u001b[0mCONTINUE\u001b[0m\u001b[0;34m:\u001b[0m\u001b[0;34m\u001b[0m\u001b[0;34m\u001b[0m\u001b[0m\n",
            "\u001b[0;32m/usr/lib/python3.11/http/client.py\u001b[0m in \u001b[0;36m_read_status\u001b[0;34m(self)\u001b[0m\n\u001b[1;32m    285\u001b[0m     \u001b[0;32mdef\u001b[0m \u001b[0m_read_status\u001b[0m\u001b[0;34m(\u001b[0m\u001b[0mself\u001b[0m\u001b[0;34m)\u001b[0m\u001b[0;34m:\u001b[0m\u001b[0;34m\u001b[0m\u001b[0;34m\u001b[0m\u001b[0m\n\u001b[0;32m--> 286\u001b[0;31m         \u001b[0mline\u001b[0m \u001b[0;34m=\u001b[0m \u001b[0mstr\u001b[0m\u001b[0;34m(\u001b[0m\u001b[0mself\u001b[0m\u001b[0;34m.\u001b[0m\u001b[0mfp\u001b[0m\u001b[0;34m.\u001b[0m\u001b[0mreadline\u001b[0m\u001b[0;34m(\u001b[0m\u001b[0m_MAXLINE\u001b[0m \u001b[0;34m+\u001b[0m \u001b[0;36m1\u001b[0m\u001b[0;34m)\u001b[0m\u001b[0;34m,\u001b[0m \u001b[0;34m\"iso-8859-1\"\u001b[0m\u001b[0;34m)\u001b[0m\u001b[0;34m\u001b[0m\u001b[0;34m\u001b[0m\u001b[0m\n\u001b[0m\u001b[1;32m    287\u001b[0m         \u001b[0;32mif\u001b[0m \u001b[0mlen\u001b[0m\u001b[0;34m(\u001b[0m\u001b[0mline\u001b[0m\u001b[0;34m)\u001b[0m \u001b[0;34m>\u001b[0m \u001b[0m_MAXLINE\u001b[0m\u001b[0;34m:\u001b[0m\u001b[0;34m\u001b[0m\u001b[0;34m\u001b[0m\u001b[0m\n",
            "\u001b[0;32m/usr/lib/python3.11/socket.py\u001b[0m in \u001b[0;36mreadinto\u001b[0;34m(self, b)\u001b[0m\n\u001b[1;32m    717\u001b[0m             \u001b[0;32mtry\u001b[0m\u001b[0;34m:\u001b[0m\u001b[0;34m\u001b[0m\u001b[0;34m\u001b[0m\u001b[0m\n\u001b[0;32m--> 718\u001b[0;31m                 \u001b[0;32mreturn\u001b[0m \u001b[0mself\u001b[0m\u001b[0;34m.\u001b[0m\u001b[0m_sock\u001b[0m\u001b[0;34m.\u001b[0m\u001b[0mrecv_into\u001b[0m\u001b[0;34m(\u001b[0m\u001b[0mb\u001b[0m\u001b[0;34m)\u001b[0m\u001b[0;34m\u001b[0m\u001b[0;34m\u001b[0m\u001b[0m\n\u001b[0m\u001b[1;32m    719\u001b[0m             \u001b[0;32mexcept\u001b[0m \u001b[0mtimeout\u001b[0m\u001b[0;34m:\u001b[0m\u001b[0;34m\u001b[0m\u001b[0;34m\u001b[0m\u001b[0m\n",
            "\u001b[0;32m/usr/lib/python3.11/ssl.py\u001b[0m in \u001b[0;36mrecv_into\u001b[0;34m(self, buffer, nbytes, flags)\u001b[0m\n\u001b[1;32m   1313\u001b[0m                   self.__class__)\n\u001b[0;32m-> 1314\u001b[0;31m             \u001b[0;32mreturn\u001b[0m \u001b[0mself\u001b[0m\u001b[0;34m.\u001b[0m\u001b[0mread\u001b[0m\u001b[0;34m(\u001b[0m\u001b[0mnbytes\u001b[0m\u001b[0;34m,\u001b[0m \u001b[0mbuffer\u001b[0m\u001b[0;34m)\u001b[0m\u001b[0;34m\u001b[0m\u001b[0;34m\u001b[0m\u001b[0m\n\u001b[0m\u001b[1;32m   1315\u001b[0m         \u001b[0;32melse\u001b[0m\u001b[0;34m:\u001b[0m\u001b[0;34m\u001b[0m\u001b[0;34m\u001b[0m\u001b[0m\n",
            "\u001b[0;32m/usr/lib/python3.11/ssl.py\u001b[0m in \u001b[0;36mread\u001b[0;34m(self, len, buffer)\u001b[0m\n\u001b[1;32m   1165\u001b[0m             \u001b[0;32mif\u001b[0m \u001b[0mbuffer\u001b[0m \u001b[0;32mis\u001b[0m \u001b[0;32mnot\u001b[0m \u001b[0;32mNone\u001b[0m\u001b[0;34m:\u001b[0m\u001b[0;34m\u001b[0m\u001b[0;34m\u001b[0m\u001b[0m\n\u001b[0;32m-> 1166\u001b[0;31m                 \u001b[0;32mreturn\u001b[0m \u001b[0mself\u001b[0m\u001b[0;34m.\u001b[0m\u001b[0m_sslobj\u001b[0m\u001b[0;34m.\u001b[0m\u001b[0mread\u001b[0m\u001b[0;34m(\u001b[0m\u001b[0mlen\u001b[0m\u001b[0;34m,\u001b[0m \u001b[0mbuffer\u001b[0m\u001b[0;34m)\u001b[0m\u001b[0;34m\u001b[0m\u001b[0;34m\u001b[0m\u001b[0m\n\u001b[0m\u001b[1;32m   1167\u001b[0m             \u001b[0;32melse\u001b[0m\u001b[0;34m:\u001b[0m\u001b[0;34m\u001b[0m\u001b[0;34m\u001b[0m\u001b[0m\n",
            "\u001b[0;31mTimeoutError\u001b[0m: The read operation timed out",
            "\nThe above exception was the direct cause of the following exception:\n",
            "\u001b[0;31mReadTimeoutError\u001b[0m                          Traceback (most recent call last)",
            "\u001b[0;32m/usr/local/lib/python3.11/dist-packages/requests/adapters.py\u001b[0m in \u001b[0;36msend\u001b[0;34m(self, request, stream, timeout, verify, cert, proxies)\u001b[0m\n\u001b[1;32m    666\u001b[0m         \u001b[0;32mtry\u001b[0m\u001b[0;34m:\u001b[0m\u001b[0;34m\u001b[0m\u001b[0;34m\u001b[0m\u001b[0m\n\u001b[0;32m--> 667\u001b[0;31m             resp = conn.urlopen(\n\u001b[0m\u001b[1;32m    668\u001b[0m                 \u001b[0mmethod\u001b[0m\u001b[0;34m=\u001b[0m\u001b[0mrequest\u001b[0m\u001b[0;34m.\u001b[0m\u001b[0mmethod\u001b[0m\u001b[0;34m,\u001b[0m\u001b[0;34m\u001b[0m\u001b[0;34m\u001b[0m\u001b[0m\n",
            "\u001b[0;32m/usr/local/lib/python3.11/dist-packages/urllib3/connectionpool.py\u001b[0m in \u001b[0;36murlopen\u001b[0;34m(self, method, url, body, headers, retries, redirect, assert_same_host, timeout, pool_timeout, release_conn, chunked, body_pos, preload_content, decode_content, **response_kw)\u001b[0m\n\u001b[1;32m    840\u001b[0m \u001b[0;34m\u001b[0m\u001b[0m\n\u001b[0;32m--> 841\u001b[0;31m             retries = retries.increment(\n\u001b[0m\u001b[1;32m    842\u001b[0m                 \u001b[0mmethod\u001b[0m\u001b[0;34m,\u001b[0m \u001b[0murl\u001b[0m\u001b[0;34m,\u001b[0m \u001b[0merror\u001b[0m\u001b[0;34m=\u001b[0m\u001b[0mnew_e\u001b[0m\u001b[0;34m,\u001b[0m \u001b[0m_pool\u001b[0m\u001b[0;34m=\u001b[0m\u001b[0mself\u001b[0m\u001b[0;34m,\u001b[0m \u001b[0m_stacktrace\u001b[0m\u001b[0;34m=\u001b[0m\u001b[0msys\u001b[0m\u001b[0;34m.\u001b[0m\u001b[0mexc_info\u001b[0m\u001b[0;34m(\u001b[0m\u001b[0;34m)\u001b[0m\u001b[0;34m[\u001b[0m\u001b[0;36m2\u001b[0m\u001b[0;34m]\u001b[0m\u001b[0;34m\u001b[0m\u001b[0;34m\u001b[0m\u001b[0m\n",
            "\u001b[0;32m/usr/local/lib/python3.11/dist-packages/urllib3/util/retry.py\u001b[0m in \u001b[0;36mincrement\u001b[0;34m(self, method, url, response, error, _pool, _stacktrace)\u001b[0m\n\u001b[1;32m    473\u001b[0m             \u001b[0;32mif\u001b[0m \u001b[0mread\u001b[0m \u001b[0;32mis\u001b[0m \u001b[0;32mFalse\u001b[0m \u001b[0;32mor\u001b[0m \u001b[0mmethod\u001b[0m \u001b[0;32mis\u001b[0m \u001b[0;32mNone\u001b[0m \u001b[0;32mor\u001b[0m \u001b[0;32mnot\u001b[0m \u001b[0mself\u001b[0m\u001b[0;34m.\u001b[0m\u001b[0m_is_method_retryable\u001b[0m\u001b[0;34m(\u001b[0m\u001b[0mmethod\u001b[0m\u001b[0;34m)\u001b[0m\u001b[0;34m:\u001b[0m\u001b[0;34m\u001b[0m\u001b[0;34m\u001b[0m\u001b[0m\n\u001b[0;32m--> 474\u001b[0;31m                 \u001b[0;32mraise\u001b[0m \u001b[0mreraise\u001b[0m\u001b[0;34m(\u001b[0m\u001b[0mtype\u001b[0m\u001b[0;34m(\u001b[0m\u001b[0merror\u001b[0m\u001b[0;34m)\u001b[0m\u001b[0;34m,\u001b[0m \u001b[0merror\u001b[0m\u001b[0;34m,\u001b[0m \u001b[0m_stacktrace\u001b[0m\u001b[0;34m)\u001b[0m\u001b[0;34m\u001b[0m\u001b[0;34m\u001b[0m\u001b[0m\n\u001b[0m\u001b[1;32m    475\u001b[0m             \u001b[0;32melif\u001b[0m \u001b[0mread\u001b[0m \u001b[0;32mis\u001b[0m \u001b[0;32mnot\u001b[0m \u001b[0;32mNone\u001b[0m\u001b[0;34m:\u001b[0m\u001b[0;34m\u001b[0m\u001b[0;34m\u001b[0m\u001b[0m\n",
            "\u001b[0;32m/usr/local/lib/python3.11/dist-packages/urllib3/util/util.py\u001b[0m in \u001b[0;36mreraise\u001b[0;34m(tp, value, tb)\u001b[0m\n\u001b[1;32m     38\u001b[0m             \u001b[0;32mraise\u001b[0m \u001b[0mvalue\u001b[0m\u001b[0;34m.\u001b[0m\u001b[0mwith_traceback\u001b[0m\u001b[0;34m(\u001b[0m\u001b[0mtb\u001b[0m\u001b[0;34m)\u001b[0m\u001b[0;34m\u001b[0m\u001b[0;34m\u001b[0m\u001b[0m\n\u001b[0;32m---> 39\u001b[0;31m         \u001b[0;32mraise\u001b[0m \u001b[0mvalue\u001b[0m\u001b[0;34m\u001b[0m\u001b[0;34m\u001b[0m\u001b[0m\n\u001b[0m\u001b[1;32m     40\u001b[0m     \u001b[0;32mfinally\u001b[0m\u001b[0;34m:\u001b[0m\u001b[0;34m\u001b[0m\u001b[0;34m\u001b[0m\u001b[0m\n",
            "\u001b[0;32m/usr/local/lib/python3.11/dist-packages/urllib3/connectionpool.py\u001b[0m in \u001b[0;36murlopen\u001b[0;34m(self, method, url, body, headers, retries, redirect, assert_same_host, timeout, pool_timeout, release_conn, chunked, body_pos, preload_content, decode_content, **response_kw)\u001b[0m\n\u001b[1;32m    786\u001b[0m             \u001b[0;31m# Make the request on the HTTPConnection object\u001b[0m\u001b[0;34m\u001b[0m\u001b[0;34m\u001b[0m\u001b[0m\n\u001b[0;32m--> 787\u001b[0;31m             response = self._make_request(\n\u001b[0m\u001b[1;32m    788\u001b[0m                 \u001b[0mconn\u001b[0m\u001b[0;34m,\u001b[0m\u001b[0;34m\u001b[0m\u001b[0;34m\u001b[0m\u001b[0m\n",
            "\u001b[0;32m/usr/local/lib/python3.11/dist-packages/urllib3/connectionpool.py\u001b[0m in \u001b[0;36m_make_request\u001b[0;34m(self, conn, method, url, body, headers, retries, timeout, chunked, response_conn, preload_content, decode_content, enforce_content_length)\u001b[0m\n\u001b[1;32m    535\u001b[0m         \u001b[0;32mexcept\u001b[0m \u001b[0;34m(\u001b[0m\u001b[0mBaseSSLError\u001b[0m\u001b[0;34m,\u001b[0m \u001b[0mOSError\u001b[0m\u001b[0;34m)\u001b[0m \u001b[0;32mas\u001b[0m \u001b[0me\u001b[0m\u001b[0;34m:\u001b[0m\u001b[0;34m\u001b[0m\u001b[0;34m\u001b[0m\u001b[0m\n\u001b[0;32m--> 536\u001b[0;31m             \u001b[0mself\u001b[0m\u001b[0;34m.\u001b[0m\u001b[0m_raise_timeout\u001b[0m\u001b[0;34m(\u001b[0m\u001b[0merr\u001b[0m\u001b[0;34m=\u001b[0m\u001b[0me\u001b[0m\u001b[0;34m,\u001b[0m \u001b[0murl\u001b[0m\u001b[0;34m=\u001b[0m\u001b[0murl\u001b[0m\u001b[0;34m,\u001b[0m \u001b[0mtimeout_value\u001b[0m\u001b[0;34m=\u001b[0m\u001b[0mread_timeout\u001b[0m\u001b[0;34m)\u001b[0m\u001b[0;34m\u001b[0m\u001b[0;34m\u001b[0m\u001b[0m\n\u001b[0m\u001b[1;32m    537\u001b[0m             \u001b[0;32mraise\u001b[0m\u001b[0;34m\u001b[0m\u001b[0;34m\u001b[0m\u001b[0m\n",
            "\u001b[0;32m/usr/local/lib/python3.11/dist-packages/urllib3/connectionpool.py\u001b[0m in \u001b[0;36m_raise_timeout\u001b[0;34m(self, err, url, timeout_value)\u001b[0m\n\u001b[1;32m    366\u001b[0m         \u001b[0;32mif\u001b[0m \u001b[0misinstance\u001b[0m\u001b[0;34m(\u001b[0m\u001b[0merr\u001b[0m\u001b[0;34m,\u001b[0m \u001b[0mSocketTimeout\u001b[0m\u001b[0;34m)\u001b[0m\u001b[0;34m:\u001b[0m\u001b[0;34m\u001b[0m\u001b[0;34m\u001b[0m\u001b[0m\n\u001b[0;32m--> 367\u001b[0;31m             raise ReadTimeoutError(\n\u001b[0m\u001b[1;32m    368\u001b[0m                 \u001b[0mself\u001b[0m\u001b[0;34m,\u001b[0m \u001b[0murl\u001b[0m\u001b[0;34m,\u001b[0m \u001b[0;34mf\"Read timed out. (read timeout={timeout_value})\"\u001b[0m\u001b[0;34m\u001b[0m\u001b[0;34m\u001b[0m\u001b[0m\n",
            "\u001b[0;31mReadTimeoutError\u001b[0m: HTTPSConnectionPool(host='mermaid.ink', port=443): Read timed out. (read timeout=10)",
            "\nDuring handling of the above exception, another exception occurred:\n",
            "\u001b[0;31mReadTimeout\u001b[0m                               Traceback (most recent call last)",
            "\u001b[0;32m/usr/local/lib/python3.11/dist-packages/IPython/core/formatters.py\u001b[0m in \u001b[0;36m__call__\u001b[0;34m(self, obj, include, exclude)\u001b[0m\n\u001b[1;32m    968\u001b[0m \u001b[0;34m\u001b[0m\u001b[0m\n\u001b[1;32m    969\u001b[0m             \u001b[0;32mif\u001b[0m \u001b[0mmethod\u001b[0m \u001b[0;32mis\u001b[0m \u001b[0;32mnot\u001b[0m \u001b[0;32mNone\u001b[0m\u001b[0;34m:\u001b[0m\u001b[0;34m\u001b[0m\u001b[0;34m\u001b[0m\u001b[0m\n\u001b[0;32m--> 970\u001b[0;31m                 \u001b[0;32mreturn\u001b[0m \u001b[0mmethod\u001b[0m\u001b[0;34m(\u001b[0m\u001b[0minclude\u001b[0m\u001b[0;34m=\u001b[0m\u001b[0minclude\u001b[0m\u001b[0;34m,\u001b[0m \u001b[0mexclude\u001b[0m\u001b[0;34m=\u001b[0m\u001b[0mexclude\u001b[0m\u001b[0;34m)\u001b[0m\u001b[0;34m\u001b[0m\u001b[0;34m\u001b[0m\u001b[0m\n\u001b[0m\u001b[1;32m    971\u001b[0m             \u001b[0;32mreturn\u001b[0m \u001b[0;32mNone\u001b[0m\u001b[0;34m\u001b[0m\u001b[0;34m\u001b[0m\u001b[0m\n\u001b[1;32m    972\u001b[0m         \u001b[0;32melse\u001b[0m\u001b[0;34m:\u001b[0m\u001b[0;34m\u001b[0m\u001b[0;34m\u001b[0m\u001b[0m\n",
            "\u001b[0;32m/usr/local/lib/python3.11/dist-packages/langgraph/graph/graph.py\u001b[0m in \u001b[0;36m_repr_mimebundle_\u001b[0;34m(self, **kwargs)\u001b[0m\n\u001b[1;32m    580\u001b[0m         return {\n\u001b[1;32m    581\u001b[0m             \u001b[0;34m\"text/plain\"\u001b[0m\u001b[0;34m:\u001b[0m \u001b[0mrepr\u001b[0m\u001b[0;34m(\u001b[0m\u001b[0mself\u001b[0m\u001b[0;34m)\u001b[0m\u001b[0;34m,\u001b[0m\u001b[0;34m\u001b[0m\u001b[0;34m\u001b[0m\u001b[0m\n\u001b[0;32m--> 582\u001b[0;31m             \u001b[0;34m\"image/png\"\u001b[0m\u001b[0;34m:\u001b[0m \u001b[0mself\u001b[0m\u001b[0;34m.\u001b[0m\u001b[0mget_graph\u001b[0m\u001b[0;34m(\u001b[0m\u001b[0;34m)\u001b[0m\u001b[0;34m.\u001b[0m\u001b[0mdraw_mermaid_png\u001b[0m\u001b[0;34m(\u001b[0m\u001b[0;34m)\u001b[0m\u001b[0;34m,\u001b[0m\u001b[0;34m\u001b[0m\u001b[0;34m\u001b[0m\u001b[0m\n\u001b[0m\u001b[1;32m    583\u001b[0m         }\n",
            "\u001b[0;32m/usr/local/lib/python3.11/dist-packages/langchain_core/runnables/graph.py\u001b[0m in \u001b[0;36mdraw_mermaid_png\u001b[0;34m(self, curve_style, node_colors, wrap_label_n_words, output_file_path, draw_method, background_color, padding, frontmatter_config)\u001b[0m\n\u001b[1;32m    665\u001b[0m             \u001b[0mfrontmatter_config\u001b[0m\u001b[0;34m=\u001b[0m\u001b[0mfrontmatter_config\u001b[0m\u001b[0;34m,\u001b[0m\u001b[0;34m\u001b[0m\u001b[0;34m\u001b[0m\u001b[0m\n\u001b[1;32m    666\u001b[0m         )\n\u001b[0;32m--> 667\u001b[0;31m         return draw_mermaid_png(\n\u001b[0m\u001b[1;32m    668\u001b[0m             \u001b[0mmermaid_syntax\u001b[0m\u001b[0;34m=\u001b[0m\u001b[0mmermaid_syntax\u001b[0m\u001b[0;34m,\u001b[0m\u001b[0;34m\u001b[0m\u001b[0;34m\u001b[0m\u001b[0m\n\u001b[1;32m    669\u001b[0m             \u001b[0moutput_file_path\u001b[0m\u001b[0;34m=\u001b[0m\u001b[0moutput_file_path\u001b[0m\u001b[0;34m,\u001b[0m\u001b[0;34m\u001b[0m\u001b[0;34m\u001b[0m\u001b[0m\n",
            "\u001b[0;32m/usr/local/lib/python3.11/dist-packages/langchain_core/runnables/graph_mermaid.py\u001b[0m in \u001b[0;36mdraw_mermaid_png\u001b[0;34m(mermaid_syntax, output_file_path, draw_method, background_color, padding)\u001b[0m\n\u001b[1;32m    280\u001b[0m         )\n\u001b[1;32m    281\u001b[0m     \u001b[0;32melif\u001b[0m \u001b[0mdraw_method\u001b[0m \u001b[0;34m==\u001b[0m \u001b[0mMermaidDrawMethod\u001b[0m\u001b[0;34m.\u001b[0m\u001b[0mAPI\u001b[0m\u001b[0;34m:\u001b[0m\u001b[0;34m\u001b[0m\u001b[0;34m\u001b[0m\u001b[0m\n\u001b[0;32m--> 282\u001b[0;31m         img_bytes = _render_mermaid_using_api(\n\u001b[0m\u001b[1;32m    283\u001b[0m             \u001b[0mmermaid_syntax\u001b[0m\u001b[0;34m,\u001b[0m \u001b[0moutput_file_path\u001b[0m\u001b[0;34m,\u001b[0m \u001b[0mbackground_color\u001b[0m\u001b[0;34m\u001b[0m\u001b[0;34m\u001b[0m\u001b[0m\n\u001b[1;32m    284\u001b[0m         )\n",
            "\u001b[0;32m/usr/local/lib/python3.11/dist-packages/langchain_core/runnables/graph_mermaid.py\u001b[0m in \u001b[0;36m_render_mermaid_using_api\u001b[0;34m(mermaid_syntax, output_file_path, background_color, file_type)\u001b[0m\n\u001b[1;32m    398\u001b[0m         \u001b[0;34mf\"?type={file_type}&bgColor={background_color}\"\u001b[0m\u001b[0;34m\u001b[0m\u001b[0;34m\u001b[0m\u001b[0m\n\u001b[1;32m    399\u001b[0m     )\n\u001b[0;32m--> 400\u001b[0;31m     \u001b[0mresponse\u001b[0m \u001b[0;34m=\u001b[0m \u001b[0mrequests\u001b[0m\u001b[0;34m.\u001b[0m\u001b[0mget\u001b[0m\u001b[0;34m(\u001b[0m\u001b[0mimage_url\u001b[0m\u001b[0;34m,\u001b[0m \u001b[0mtimeout\u001b[0m\u001b[0;34m=\u001b[0m\u001b[0;36m10\u001b[0m\u001b[0;34m)\u001b[0m\u001b[0;34m\u001b[0m\u001b[0;34m\u001b[0m\u001b[0m\n\u001b[0m\u001b[1;32m    401\u001b[0m     \u001b[0;32mif\u001b[0m \u001b[0mresponse\u001b[0m\u001b[0;34m.\u001b[0m\u001b[0mstatus_code\u001b[0m \u001b[0;34m==\u001b[0m \u001b[0;36m200\u001b[0m\u001b[0;34m:\u001b[0m\u001b[0;34m\u001b[0m\u001b[0;34m\u001b[0m\u001b[0m\n\u001b[1;32m    402\u001b[0m         \u001b[0mimg_bytes\u001b[0m \u001b[0;34m=\u001b[0m \u001b[0mresponse\u001b[0m\u001b[0;34m.\u001b[0m\u001b[0mcontent\u001b[0m\u001b[0;34m\u001b[0m\u001b[0;34m\u001b[0m\u001b[0m\n",
            "\u001b[0;32m/usr/local/lib/python3.11/dist-packages/requests/api.py\u001b[0m in \u001b[0;36mget\u001b[0;34m(url, params, **kwargs)\u001b[0m\n\u001b[1;32m     71\u001b[0m     \"\"\"\n\u001b[1;32m     72\u001b[0m \u001b[0;34m\u001b[0m\u001b[0m\n\u001b[0;32m---> 73\u001b[0;31m     \u001b[0;32mreturn\u001b[0m \u001b[0mrequest\u001b[0m\u001b[0;34m(\u001b[0m\u001b[0;34m\"get\"\u001b[0m\u001b[0;34m,\u001b[0m \u001b[0murl\u001b[0m\u001b[0;34m,\u001b[0m \u001b[0mparams\u001b[0m\u001b[0;34m=\u001b[0m\u001b[0mparams\u001b[0m\u001b[0;34m,\u001b[0m \u001b[0;34m**\u001b[0m\u001b[0mkwargs\u001b[0m\u001b[0;34m)\u001b[0m\u001b[0;34m\u001b[0m\u001b[0;34m\u001b[0m\u001b[0m\n\u001b[0m\u001b[1;32m     74\u001b[0m \u001b[0;34m\u001b[0m\u001b[0m\n\u001b[1;32m     75\u001b[0m \u001b[0;34m\u001b[0m\u001b[0m\n",
            "\u001b[0;32m/usr/local/lib/python3.11/dist-packages/requests/api.py\u001b[0m in \u001b[0;36mrequest\u001b[0;34m(method, url, **kwargs)\u001b[0m\n\u001b[1;32m     57\u001b[0m     \u001b[0;31m# cases, and look like a memory leak in others.\u001b[0m\u001b[0;34m\u001b[0m\u001b[0;34m\u001b[0m\u001b[0m\n\u001b[1;32m     58\u001b[0m     \u001b[0;32mwith\u001b[0m \u001b[0msessions\u001b[0m\u001b[0;34m.\u001b[0m\u001b[0mSession\u001b[0m\u001b[0;34m(\u001b[0m\u001b[0;34m)\u001b[0m \u001b[0;32mas\u001b[0m \u001b[0msession\u001b[0m\u001b[0;34m:\u001b[0m\u001b[0;34m\u001b[0m\u001b[0;34m\u001b[0m\u001b[0m\n\u001b[0;32m---> 59\u001b[0;31m         \u001b[0;32mreturn\u001b[0m \u001b[0msession\u001b[0m\u001b[0;34m.\u001b[0m\u001b[0mrequest\u001b[0m\u001b[0;34m(\u001b[0m\u001b[0mmethod\u001b[0m\u001b[0;34m=\u001b[0m\u001b[0mmethod\u001b[0m\u001b[0;34m,\u001b[0m \u001b[0murl\u001b[0m\u001b[0;34m=\u001b[0m\u001b[0murl\u001b[0m\u001b[0;34m,\u001b[0m \u001b[0;34m**\u001b[0m\u001b[0mkwargs\u001b[0m\u001b[0;34m)\u001b[0m\u001b[0;34m\u001b[0m\u001b[0;34m\u001b[0m\u001b[0m\n\u001b[0m\u001b[1;32m     60\u001b[0m \u001b[0;34m\u001b[0m\u001b[0m\n\u001b[1;32m     61\u001b[0m \u001b[0;34m\u001b[0m\u001b[0m\n",
            "\u001b[0;32m/usr/local/lib/python3.11/dist-packages/requests/sessions.py\u001b[0m in \u001b[0;36mrequest\u001b[0;34m(self, method, url, params, data, headers, cookies, files, auth, timeout, allow_redirects, proxies, hooks, stream, verify, cert, json)\u001b[0m\n\u001b[1;32m    587\u001b[0m         }\n\u001b[1;32m    588\u001b[0m         \u001b[0msend_kwargs\u001b[0m\u001b[0;34m.\u001b[0m\u001b[0mupdate\u001b[0m\u001b[0;34m(\u001b[0m\u001b[0msettings\u001b[0m\u001b[0;34m)\u001b[0m\u001b[0;34m\u001b[0m\u001b[0;34m\u001b[0m\u001b[0m\n\u001b[0;32m--> 589\u001b[0;31m         \u001b[0mresp\u001b[0m \u001b[0;34m=\u001b[0m \u001b[0mself\u001b[0m\u001b[0;34m.\u001b[0m\u001b[0msend\u001b[0m\u001b[0;34m(\u001b[0m\u001b[0mprep\u001b[0m\u001b[0;34m,\u001b[0m \u001b[0;34m**\u001b[0m\u001b[0msend_kwargs\u001b[0m\u001b[0;34m)\u001b[0m\u001b[0;34m\u001b[0m\u001b[0;34m\u001b[0m\u001b[0m\n\u001b[0m\u001b[1;32m    590\u001b[0m \u001b[0;34m\u001b[0m\u001b[0m\n\u001b[1;32m    591\u001b[0m         \u001b[0;32mreturn\u001b[0m \u001b[0mresp\u001b[0m\u001b[0;34m\u001b[0m\u001b[0;34m\u001b[0m\u001b[0m\n",
            "\u001b[0;32m/usr/local/lib/python3.11/dist-packages/requests/sessions.py\u001b[0m in \u001b[0;36msend\u001b[0;34m(self, request, **kwargs)\u001b[0m\n\u001b[1;32m    701\u001b[0m \u001b[0;34m\u001b[0m\u001b[0m\n\u001b[1;32m    702\u001b[0m         \u001b[0;31m# Send the request\u001b[0m\u001b[0;34m\u001b[0m\u001b[0;34m\u001b[0m\u001b[0m\n\u001b[0;32m--> 703\u001b[0;31m         \u001b[0mr\u001b[0m \u001b[0;34m=\u001b[0m \u001b[0madapter\u001b[0m\u001b[0;34m.\u001b[0m\u001b[0msend\u001b[0m\u001b[0;34m(\u001b[0m\u001b[0mrequest\u001b[0m\u001b[0;34m,\u001b[0m \u001b[0;34m**\u001b[0m\u001b[0mkwargs\u001b[0m\u001b[0;34m)\u001b[0m\u001b[0;34m\u001b[0m\u001b[0;34m\u001b[0m\u001b[0m\n\u001b[0m\u001b[1;32m    704\u001b[0m \u001b[0;34m\u001b[0m\u001b[0m\n\u001b[1;32m    705\u001b[0m         \u001b[0;31m# Total elapsed time of the request (approximately)\u001b[0m\u001b[0;34m\u001b[0m\u001b[0;34m\u001b[0m\u001b[0m\n",
            "\u001b[0;32m/usr/local/lib/python3.11/dist-packages/requests/adapters.py\u001b[0m in \u001b[0;36msend\u001b[0;34m(self, request, stream, timeout, verify, cert, proxies)\u001b[0m\n\u001b[1;32m    711\u001b[0m                 \u001b[0;32mraise\u001b[0m \u001b[0mSSLError\u001b[0m\u001b[0;34m(\u001b[0m\u001b[0me\u001b[0m\u001b[0;34m,\u001b[0m \u001b[0mrequest\u001b[0m\u001b[0;34m=\u001b[0m\u001b[0mrequest\u001b[0m\u001b[0;34m)\u001b[0m\u001b[0;34m\u001b[0m\u001b[0;34m\u001b[0m\u001b[0m\n\u001b[1;32m    712\u001b[0m             \u001b[0;32melif\u001b[0m \u001b[0misinstance\u001b[0m\u001b[0;34m(\u001b[0m\u001b[0me\u001b[0m\u001b[0;34m,\u001b[0m \u001b[0mReadTimeoutError\u001b[0m\u001b[0;34m)\u001b[0m\u001b[0;34m:\u001b[0m\u001b[0;34m\u001b[0m\u001b[0;34m\u001b[0m\u001b[0m\n\u001b[0;32m--> 713\u001b[0;31m                 \u001b[0;32mraise\u001b[0m \u001b[0mReadTimeout\u001b[0m\u001b[0;34m(\u001b[0m\u001b[0me\u001b[0m\u001b[0;34m,\u001b[0m \u001b[0mrequest\u001b[0m\u001b[0;34m=\u001b[0m\u001b[0mrequest\u001b[0m\u001b[0;34m)\u001b[0m\u001b[0;34m\u001b[0m\u001b[0;34m\u001b[0m\u001b[0m\n\u001b[0m\u001b[1;32m    714\u001b[0m             \u001b[0;32melif\u001b[0m \u001b[0misinstance\u001b[0m\u001b[0;34m(\u001b[0m\u001b[0me\u001b[0m\u001b[0;34m,\u001b[0m \u001b[0m_InvalidHeader\u001b[0m\u001b[0;34m)\u001b[0m\u001b[0;34m:\u001b[0m\u001b[0;34m\u001b[0m\u001b[0;34m\u001b[0m\u001b[0m\n\u001b[1;32m    715\u001b[0m                 \u001b[0;32mraise\u001b[0m \u001b[0mInvalidHeader\u001b[0m\u001b[0;34m(\u001b[0m\u001b[0me\u001b[0m\u001b[0;34m,\u001b[0m \u001b[0mrequest\u001b[0m\u001b[0;34m=\u001b[0m\u001b[0mrequest\u001b[0m\u001b[0;34m)\u001b[0m\u001b[0;34m\u001b[0m\u001b[0;34m\u001b[0m\u001b[0m\n",
            "\u001b[0;31mReadTimeout\u001b[0m: HTTPSConnectionPool(host='mermaid.ink', port=443): Read timed out. (read timeout=10)"
          ]
        },
        {
          "output_type": "execute_result",
          "data": {
            "text/plain": [
              "<langgraph.graph.state.CompiledStateGraph at 0x7b8d2c5a5710>"
            ]
          },
          "metadata": {},
          "execution_count": 26
        }
      ],
      "source": [
        "graph"
      ]
    },
    {
      "cell_type": "code",
      "execution_count": 27,
      "metadata": {
        "id": "XWcfKPoOnKBr"
      },
      "outputs": [],
      "source": [
        "def reset_config(limit=20):\n",
        "\n",
        "    thread_id=random.randint(1,999999)\n",
        "\n",
        "    config = RunnableConfig(recursion_limit=limit, configurable={\"thread_id\": thread_id})\n",
        "\n",
        "    return config"
      ]
    },
    {
      "cell_type": "code",
      "execution_count": 28,
      "metadata": {
        "id": "07_bBQgHnKBs"
      },
      "outputs": [],
      "source": [
        "def streaming(query, config, mode=\"values\"):\n",
        "\n",
        "    result = graph.stream({\"messages\":(\"user\", query),\n",
        "                         \"query\":query}, config=config, stream_mode=mode)\n",
        "\n",
        "    if mode == \"values\":\n",
        "        for step in result:\n",
        "            for k, v in step.items():\n",
        "                if k == \"messages\":\n",
        "                    v[-1].pretty_print()\n",
        "    elif mode == \"updates\":\n",
        "        for step in result:\n",
        "            for k,v in step.items():\n",
        "                print(f\"\\n\\n=== {k} ===\\n\\n\")\n",
        "                print(v)\n",
        "\n",
        "    return"
      ]
    },
    {
      "cell_type": "code",
      "execution_count": 29,
      "metadata": {
        "colab": {
          "base_uri": "https://localhost:8080/"
        },
        "id": "rI6E1DvhnKBs",
        "outputId": "f8ae5cb5-858c-4954-9b27-09c01612c700"
      },
      "outputs": [
        {
          "output_type": "stream",
          "name": "stdout",
          "text": [
            "================================\u001b[1m Human Message \u001b[0m=================================\n",
            "\n",
            "1+1은 뭔가요?\n",
            "================================\u001b[1m Human Message \u001b[0m=================================\n",
            "\n",
            "1+1은 뭔가요?\n",
            "==================================\u001b[1m Ai Message \u001b[0m==================================\n",
            "\n",
            "2\n",
            "==================================\u001b[1m Ai Message \u001b[0m==================================\n",
            "\n",
            "2\n"
          ]
        }
      ],
      "source": [
        "config = reset_config()\n",
        "\n",
        "query = \"1+1은 뭔가요?\"\n",
        "\n",
        "streaming(query, config)"
      ]
    },
    {
      "cell_type": "code",
      "execution_count": 30,
      "metadata": {
        "colab": {
          "base_uri": "https://localhost:8080/"
        },
        "id": "3KUL2l9hIHsf",
        "outputId": "4c9fd287-80e5-427a-af6c-a0b7904637f3"
      },
      "outputs": [
        {
          "output_type": "stream",
          "name": "stdout",
          "text": [
            "================================\u001b[1m Human Message \u001b[0m=================================\n",
            "\n",
            "피엔티라는 회사에 대해 조사해주세요. 잘 정리된 보고서를 제공해주십시오. pdf파일로 받기를 희망합니다.\n",
            "================================\u001b[1m Human Message \u001b[0m=================================\n",
            "\n",
            "피엔티라는 회사에 대해 조사해주세요. 잘 정리된 보고서를 제공해주십시오. pdf파일로 받기를 희망합니다.\n",
            "==================================\u001b[1m Ai Message \u001b[0m==================================\n",
            "Tool Calls:\n",
            "  tavily_search_results_json (e9252c04-08ff-4a47-95e0-a68b58c349b2)\n",
            " Call ID: e9252c04-08ff-4a47-95e0-a68b58c349b2\n",
            "  Args:\n",
            "    query: 피엔티 회사\n",
            "=================================\u001b[1m Tool Message \u001b[0m=================================\n",
            "Name: tavily_search_results_json\n",
            "\n",
            "[{\"title\": \"피엔티 - 위키백과, 우리 모두의 백과사전\", \"url\": \"https://ko.wikipedia.org/wiki/%ED%94%BC%EC%97%94%ED%8B%B0\", \"content\": \"피엔티 주식회사(PNT Co. Ltd.)는 Roll to Roll 기술을 바탕으로 각종 디스플레이 소재용 필름, 2차 전지의 음극 및 분리막 소재, Copper 등의 코팅 및 슬리터 장비를 제작하는 코스닥 상장 기업이다. 매출구성은 소재 81%, 2차전지 18%, 반도체 1% 가량으로 이루어진다. [...] 형태 | 주식회사\\n창립 | 2003/12/30 (상장일: 2012/07/06)\\n시장 정보 | 한국:137400\\n산업 분야 | 디스플레이장비및부품\\n본사 소재지 | 경상북도 구미시 첨단기업로 33 (금전동)\\n핵심 인물 | 김준섭 (대표이사)\\n매출액 | 377,728,397,182원 (2021)\\n영업이익 | 54,408,331,244원 (2021)\\n순이익 | 52,703,180,758원 (2021)\\n자산총액 | 576,359,315,158원 (2021.12)\\n주요 주주 | 김준섭 외 특수관계인: 16.85%\\n종업원 수 | 474명 (2021.12)\\n자본금 | 11,370,599,000원 (2021.12)\\n웹사이트 | 피엔티 [...] 2014년부터 2차 전지 관련 투자를 증대시켰으며 2015년 7월에는 중국 전기차 시장 확대 기대감으로 가격제한폭까지 상승한 일이 있다.[1] 주가는 중국의 경기와 제조업 전망에 따라 크게 좌우되는 모습을 보이며, 2015년 4~6월경 중국 경기의 전망이 좋지 못할 때는 주가가 크게 하락하는 일이 있었다.\\n\\n같이 보기\\n\\n참고 문헌\\n\\n각주\", \"score\": 0.8638634}, {\"title\": \"(주)피엔티 | 롤투롤 컨버팅 기계의 세계적인 전문가\", \"url\": \"https://www.epnt.co.kr/\", \"content\": \"피엔티는 각종 롤투롤 컨버팅 기계를 주력으로 성장한 회사입니다. 웹가이딩, 장력제어, 오토터렛, 오토스플라이싱, 코팅, 칼렌더링, 슬리팅 등 기반이 되는 기술에\", \"score\": 0.7961819}, {\"title\": \"(주)피엔티 2025년 기업정보 | 직원수, 근무환경, 복리후생 등 - 사람인\", \"url\": \"https://www.saramin.co.kr/zf_user/company-info/view/csn/Zm9qNG9WcGt6dlp0RWxvelMrSnVHUT09/company_nm/(%EC%A3%BC)%ED%94%BC%EC%97%94%ED%8B%B0\", \"content\": \"[롤투롤 설비의 최강자] 피엔티는 각종 롤투롤 컨버팅 기계를 주력으로 성장한 회사입니다. 웹가이딩, 장력제어, 오토터렛, 오토스플라이싱, 코팅, 칼렌더링,\", \"score\": 0.7334523}, {\"title\": \"(주)피엔티 2025년 기업정보 | 직원수, 근무환경, 복리후생 등 - 사람인\", \"url\": \"https://www.saramin.co.kr/zf_user/company-info/view/csn/NEhUcHczZlljRWlhaVdaWkNSNU5vUT09/company_nm/(%EC%A3%BC)%ED%94%BC%EC%97%94%ED%8B%B0?srsltid=AfmBOooiT9OCKay4u6D8Hc8rNmbm8BqRYBuza4BOCsy6AYR8Iy3Q_Ct5\", \"content\": \"(주)피엔티 · 기업형태. 중소기업 · 사원수. 12 명 · 설립일. 업력 7년차 2019년 2월 설립 · 브랜드. 주식회사 피엔티 · 주소. 경기 파주시 파주읍 우계로 251-24 복사하기.\", \"score\": 0.65173227}, {\"title\": \"피엔티 - 잡코리아\", \"url\": \"https://www.jobkorea.co.kr/company/16151130\", \"content\": \"피엔티는 2012년에 리튬이온전지 극판용 고속광폭 코터를 개발한 이래로, 대량 생산을 위한 고속광폭 설비를 꾸준히 생산하고 있고 동박, 분리막, 파우치용 필름 등의 제조\", \"score\": 0.5481178}, {\"title\": \"피엔티 - 나무위키\", \"url\": \"https://namu.wiki/w/%ED%94%BC%EC%97%94%ED%8B%B0\", \"content\": \"피엔티 ; 기업 규모. 중견기업 ; 종사원. 565명 ; 매출액. 5,454억 ; 영업이익. 769억 ; 당기순이익. 685억.\", \"score\": 0.46687052}, {\"title\": \"피앤티\", \"url\": \"http://www.pntsyst.co.kr/\", \"content\": \"복합적인 반도체 생산설비 이해와 전문기술인력으로 광학,구동, 회로분석등 하드웨어 및 소프트웨어를 자체개발하고 있습니다. 반도체 생산설비 부품수리의 품질보증과\", \"score\": 0.44116792}]\n",
            "=================================\u001b[1m Tool Message \u001b[0m=================================\n",
            "Name: tavily_search_results_json\n",
            "\n",
            "[{\"title\": \"피엔티 - 위키백과, 우리 모두의 백과사전\", \"url\": \"https://ko.wikipedia.org/wiki/%ED%94%BC%EC%97%94%ED%8B%B0\", \"content\": \"피엔티 주식회사(PNT Co. Ltd.)는 Roll to Roll 기술을 바탕으로 각종 디스플레이 소재용 필름, 2차 전지의 음극 및 분리막 소재, Copper 등의 코팅 및 슬리터 장비를 제작하는 코스닥 상장 기업이다. 매출구성은 소재 81%, 2차전지 18%, 반도체 1% 가량으로 이루어진다. [...] 형태 | 주식회사\\n창립 | 2003/12/30 (상장일: 2012/07/06)\\n시장 정보 | 한국:137400\\n산업 분야 | 디스플레이장비및부품\\n본사 소재지 | 경상북도 구미시 첨단기업로 33 (금전동)\\n핵심 인물 | 김준섭 (대표이사)\\n매출액 | 377,728,397,182원 (2021)\\n영업이익 | 54,408,331,244원 (2021)\\n순이익 | 52,703,180,758원 (2021)\\n자산총액 | 576,359,315,158원 (2021.12)\\n주요 주주 | 김준섭 외 특수관계인: 16.85%\\n종업원 수 | 474명 (2021.12)\\n자본금 | 11,370,599,000원 (2021.12)\\n웹사이트 | 피엔티 [...] 2014년부터 2차 전지 관련 투자를 증대시켰으며 2015년 7월에는 중국 전기차 시장 확대 기대감으로 가격제한폭까지 상승한 일이 있다.[1] 주가는 중국의 경기와 제조업 전망에 따라 크게 좌우되는 모습을 보이며, 2015년 4~6월경 중국 경기의 전망이 좋지 못할 때는 주가가 크게 하락하는 일이 있었다.\\n\\n같이 보기\\n\\n참고 문헌\\n\\n각주\", \"score\": 0.8638634}, {\"title\": \"(주)피엔티 | 롤투롤 컨버팅 기계의 세계적인 전문가\", \"url\": \"https://www.epnt.co.kr/\", \"content\": \"피엔티는 각종 롤투롤 컨버팅 기계를 주력으로 성장한 회사입니다. 웹가이딩, 장력제어, 오토터렛, 오토스플라이싱, 코팅, 칼렌더링, 슬리팅 등 기반이 되는 기술에\", \"score\": 0.7961819}, {\"title\": \"(주)피엔티 2025년 기업정보 | 직원수, 근무환경, 복리후생 등 - 사람인\", \"url\": \"https://www.saramin.co.kr/zf_user/company-info/view/csn/Zm9qNG9WcGt6dlp0RWxvelMrSnVHUT09/company_nm/(%EC%A3%BC)%ED%94%BC%EC%97%94%ED%8B%B0\", \"content\": \"[롤투롤 설비의 최강자] 피엔티는 각종 롤투롤 컨버팅 기계를 주력으로 성장한 회사입니다. 웹가이딩, 장력제어, 오토터렛, 오토스플라이싱, 코팅, 칼렌더링,\", \"score\": 0.7334523}, {\"title\": \"(주)피엔티 2025년 기업정보 | 직원수, 근무환경, 복리후생 등 - 사람인\", \"url\": \"https://www.saramin.co.kr/zf_user/company-info/view/csn/NEhUcHczZlljRWlhaVdaWkNSNU5vUT09/company_nm/(%EC%A3%BC)%ED%94%BC%EC%97%94%ED%8B%B0?srsltid=AfmBOooiT9OCKay4u6D8Hc8rNmbm8BqRYBuza4BOCsy6AYR8Iy3Q_Ct5\", \"content\": \"(주)피엔티 · 기업형태. 중소기업 · 사원수. 12 명 · 설립일. 업력 7년차 2019년 2월 설립 · 브랜드. 주식회사 피엔티 · 주소. 경기 파주시 파주읍 우계로 251-24 복사하기.\", \"score\": 0.65173227}, {\"title\": \"피엔티 - 잡코리아\", \"url\": \"https://www.jobkorea.co.kr/company/16151130\", \"content\": \"피엔티는 2012년에 리튬이온전지 극판용 고속광폭 코터를 개발한 이래로, 대량 생산을 위한 고속광폭 설비를 꾸준히 생산하고 있고 동박, 분리막, 파우치용 필름 등의 제조\", \"score\": 0.5481178}, {\"title\": \"피엔티 - 나무위키\", \"url\": \"https://namu.wiki/w/%ED%94%BC%EC%97%94%ED%8B%B0\", \"content\": \"피엔티 ; 기업 규모. 중견기업 ; 종사원. 565명 ; 매출액. 5,454억 ; 영업이익. 769억 ; 당기순이익. 685억.\", \"score\": 0.46687052}, {\"title\": \"피앤티\", \"url\": \"http://www.pntsyst.co.kr/\", \"content\": \"복합적인 반도체 생산설비 이해와 전문기술인력으로 광학,구동, 회로분석등 하드웨어 및 소프트웨어를 자체개발하고 있습니다. 반도체 생산설비 부품수리의 품질보증과\", \"score\": 0.44116792}]\n",
            "==================================\u001b[1m Ai Message \u001b[0m==================================\n",
            "\n",
            "피엔티 회사에 대한 검색 결과를 바탕으로 보고서를 작성하고 PDF 파일로 저장하겠습니다.\n",
            "Tool Calls:\n",
            "  write_pdf (302f0275-6a26-4935-9709-cb5cef9c6112)\n",
            " Call ID: 302f0275-6a26-4935-9709-cb5cef9c6112\n",
            "  Args:\n",
            "    content: 피엔티 주식회사(PNT Co. Ltd.)는 Roll to Roll 기술을 바탕으로 각종 디스플레이 소재용 필름, 2차 전지의 음극 및 분리막 소재, Copper 등의 코팅 및 슬리터 장비를 제작하는 코스닥 상장 기업입니다. 매출구성은 소재 81%, 2차전지 18%, 반도체 1% 가량으로 이루어집니다. 2021년 매출액은 377,728,397,182원, 영업이익은 54,408,331,244원, 순이익은 52,703,180,758원입니다. (출처: 위키백과)\n",
            "\n",
            "피엔티는 각종 롤투롤 컨버팅 기계를 주력으로 성장한 회사입니다. (출처: 피엔티 웹사이트)\n",
            "\n",
            "피엔티는 2012년에 리튬이온전지 극판용 고속광폭 코터를 개발했습니다. (출처: 잡코리아)\n",
            "    filename: 피엔티 보고서.pdf\n",
            "=================================\u001b[1m Tool Message \u001b[0m=================================\n",
            "Name: write_pdf\n",
            "\n",
            "피엔티 보고서.pdf 저장 완료\n",
            "=================================\u001b[1m Tool Message \u001b[0m=================================\n",
            "Name: write_pdf\n",
            "\n",
            "피엔티 보고서.pdf 저장 완료\n"
          ]
        }
      ],
      "source": [
        "config = reset_config()\n",
        "\n",
        "query = \"피엔티라는 회사에 대해 조사해주세요. 잘 정리된 보고서를 제공해주십시오. pdf파일로 받기를 희망합니다.\"\n",
        "\n",
        "streaming(query, config)"
      ]
    },
    {
      "cell_type": "code",
      "execution_count": 31,
      "metadata": {
        "colab": {
          "base_uri": "https://localhost:8080/"
        },
        "id": "cJQuCIX4IHsf",
        "outputId": "05bca166-5954-4115-e25f-46d32914feb4"
      },
      "outputs": [
        {
          "output_type": "stream",
          "name": "stdout",
          "text": [
            "================================\u001b[1m Human Message \u001b[0m=================================\n",
            "\n",
            "피엔티의 경쟁사에 대한 정보도 정리된 보고서를 작성해주세요.\n",
            "================================\u001b[1m Human Message \u001b[0m=================================\n",
            "\n",
            "피엔티의 경쟁사에 대한 정보도 정리된 보고서를 작성해주세요.\n",
            "==================================\u001b[1m Ai Message \u001b[0m==================================\n",
            "\n",
            "피엔티의 경쟁사에 대한 정보가 필요하므로, 먼저 검색을 통해 관련 정보를 수집해야 합니다. 그 후, 수집된 정보를 바탕으로 보고서를 작성하는 것이 적절합니다. 따라서 먼저 `tavily_search_results_json` 도구를 사용하여 피엔티 경쟁사에 대한 정보를 검색하겠습니다.\n",
            "Tool Calls:\n",
            "  tavily_search_results_json (6673cb11-3ab9-4a68-996e-d4e79c184d1d)\n",
            " Call ID: 6673cb11-3ab9-4a68-996e-d4e79c184d1d\n",
            "  Args:\n",
            "    query: 피엔티 경쟁사\n",
            "=================================\u001b[1m Tool Message \u001b[0m=================================\n",
            "Name: tavily_search_results_json\n",
            "\n",
            "[{\"title\": \"피엔티의 사업분석 및 고객사에 대하여 : 네이버 블로그\", \"url\": \"https://blog.naver.com/humanindicator/222353810766\", \"content\": \"피엔티의 경쟁사는 롤투롤 장비회사의 양대 산맥인 '씨아이에스'다. 주 거래처는 LG이며 최근 노스볼트의 전극공정까지 수주를 따낸 핫한 기업이다. 둘다\", \"score\": 0.8846886}, {\"title\": \"피엔티 - 오렌지보드\", \"url\": \"https://orangeboard.co.kr/@New_Jusiks/%ED%94%BC%EC%97%94%ED%8B%B0-%EB%8F%85%EB%B3%B4%EC%A0%81-1%EC%9C%84-%EA%B7%B8-%EB%84%88%EB%A8%B8%EB%A5%BC-%EB%B0%94%EB%9D%BC%EB%B3%B4%EB%8B%A45\", \"content\": \"이에 실질적으로 파우치형 배터리에 사용 가능한 넓은 폭의 코터를 생산하는 기업은 전 세계적으로 피엔티와 히라노 둘 뿐이다. 실제로 각각의 경쟁사들과\", \"score\": 0.6562404}, {\"title\": \"피엔티 - 경쟁사분석 - 기업모니터\", \"url\": \"https://comp.wisereport.co.kr/company/c1060001.aspx?cmp_cd=137400&cn=\", \"content\": \"EPS2,808. BPS18,063. PER15.56. 업종PER33.80. PBR2.42. 현금배당수익률 0.00%. 전일종가 43,700. 도움말. KOSDAQ : 코스닥 기계·장비 | WI26 : IT가전 | 12월 결산 |\", \"score\": 0.6246834}, {\"title\": \"피엔티 경쟁사 - 씨아이에스(CIS 222080) 사업보고서 정리1\", \"url\": \"https://blog.naver.com/km_joshua/221923413097?viewType=pc\", \"content\": \"국내 경쟁사 : PNT · 전고체전지는 기존 리튬 이차전지의 구성요소 가운데 액체 전해질을 고체 전해질로 대체한 것을 말합니다\", \"score\": 0.62303346}, {\"title\": \"김준섭 피엔티 대표 - 월간중앙\", \"url\": \"https://jmagazine.joins.com/forbes/view/338310\", \"content\": \"피엔티는 2010년 중반부터 주요 경쟁사를 제치고 국내시장 점유율 1위를 굳건히 지켜왔으며 경쟁업체와의 격차도 크게 벌렸다. 지난해 피엔티의 매출\", \"score\": 0.5820878}, {\"title\": \"[PDF] 피엔티 (137400) - 미래에셋증권\", \"url\": \"https://securities.miraeasset.com/bbs/download/2125406.pdf?attachmentId=2125406\", \"content\": \"피엔티. 윤성에프앤씨. 씨아이에스. 케이엔에스. 재무 비교. 경쟁사간 성장성, 수익성, 안정성, 활동성 관련 재무 지수를 비교해드려요. 수익성 (ROE\", \"score\": 0.5232017}, {\"title\": \"김준섭 피엔티 대표 \\\"美·中 경쟁 활용, 배터리 토탈 솔루션 공급업체로 ...\", \"url\": \"https://www.theguru.co.kr/news/article.html?no=80000\", \"content\": \"[더구루=정예린 기자] 배터리 장비 업체 '피엔티(PNT)'가 배터리·소재 자회사 '피엔티 머티리얼즈'를 통한 미국 진출에 자신감을 드러냈다.\", \"score\": 0.46774563}, {\"title\": \"[강소기업 줌인] 피엔티, 캐즘 뚫은 '롤투롤'…LFP·소재 신사업 본격화\", \"url\": \"https://www.bloter.net/news/articleView.html?idxno=631077\", \"content\": \"피엔티는 2023년 자회사 피엔티머티리얼즈를 설립하며 LFP배터리 사업에 진출했다. 그동안 제품 개발과 함께 본사가 있는 경북 구미에 생산공장을 건립\", \"score\": 0.3667717}, {\"title\": \"피엔티 - 나무위키\", \"url\": \"https://namu.wiki/w/%ED%94%BC%EC%97%94%ED%8B%B0\", \"content\": \"피엔티 ; 57. yc기업.jpg 와이씨 ; 58. 티씨케이.png 티씨케이 ; 59. 카페24_로고.svg 카페24 ; 60. psk홀딩스.jpg 피에스케이홀딩스 ; 61. LS머트리얼즈 CI.\", \"score\": 0.29469728}]\n",
            "=================================\u001b[1m Tool Message \u001b[0m=================================\n",
            "Name: tavily_search_results_json\n",
            "\n",
            "[{\"title\": \"피엔티의 사업분석 및 고객사에 대하여 : 네이버 블로그\", \"url\": \"https://blog.naver.com/humanindicator/222353810766\", \"content\": \"피엔티의 경쟁사는 롤투롤 장비회사의 양대 산맥인 '씨아이에스'다. 주 거래처는 LG이며 최근 노스볼트의 전극공정까지 수주를 따낸 핫한 기업이다. 둘다\", \"score\": 0.8846886}, {\"title\": \"피엔티 - 오렌지보드\", \"url\": \"https://orangeboard.co.kr/@New_Jusiks/%ED%94%BC%EC%97%94%ED%8B%B0-%EB%8F%85%EB%B3%B4%EC%A0%81-1%EC%9C%84-%EA%B7%B8-%EB%84%88%EB%A8%B8%EB%A5%BC-%EB%B0%94%EB%9D%BC%EB%B3%B4%EB%8B%A45\", \"content\": \"이에 실질적으로 파우치형 배터리에 사용 가능한 넓은 폭의 코터를 생산하는 기업은 전 세계적으로 피엔티와 히라노 둘 뿐이다. 실제로 각각의 경쟁사들과\", \"score\": 0.6562404}, {\"title\": \"피엔티 - 경쟁사분석 - 기업모니터\", \"url\": \"https://comp.wisereport.co.kr/company/c1060001.aspx?cmp_cd=137400&cn=\", \"content\": \"EPS2,808. BPS18,063. PER15.56. 업종PER33.80. PBR2.42. 현금배당수익률 0.00%. 전일종가 43,700. 도움말. KOSDAQ : 코스닥 기계·장비 | WI26 : IT가전 | 12월 결산 |\", \"score\": 0.6246834}, {\"title\": \"피엔티 경쟁사 - 씨아이에스(CIS 222080) 사업보고서 정리1\", \"url\": \"https://blog.naver.com/km_joshua/221923413097?viewType=pc\", \"content\": \"국내 경쟁사 : PNT · 전고체전지는 기존 리튬 이차전지의 구성요소 가운데 액체 전해질을 고체 전해질로 대체한 것을 말합니다\", \"score\": 0.62303346}, {\"title\": \"김준섭 피엔티 대표 - 월간중앙\", \"url\": \"https://jmagazine.joins.com/forbes/view/338310\", \"content\": \"피엔티는 2010년 중반부터 주요 경쟁사를 제치고 국내시장 점유율 1위를 굳건히 지켜왔으며 경쟁업체와의 격차도 크게 벌렸다. 지난해 피엔티의 매출\", \"score\": 0.5820878}, {\"title\": \"[PDF] 피엔티 (137400) - 미래에셋증권\", \"url\": \"https://securities.miraeasset.com/bbs/download/2125406.pdf?attachmentId=2125406\", \"content\": \"피엔티. 윤성에프앤씨. 씨아이에스. 케이엔에스. 재무 비교. 경쟁사간 성장성, 수익성, 안정성, 활동성 관련 재무 지수를 비교해드려요. 수익성 (ROE\", \"score\": 0.5232017}, {\"title\": \"김준섭 피엔티 대표 \\\"美·中 경쟁 활용, 배터리 토탈 솔루션 공급업체로 ...\", \"url\": \"https://www.theguru.co.kr/news/article.html?no=80000\", \"content\": \"[더구루=정예린 기자] 배터리 장비 업체 '피엔티(PNT)'가 배터리·소재 자회사 '피엔티 머티리얼즈'를 통한 미국 진출에 자신감을 드러냈다.\", \"score\": 0.46774563}, {\"title\": \"[강소기업 줌인] 피엔티, 캐즘 뚫은 '롤투롤'…LFP·소재 신사업 본격화\", \"url\": \"https://www.bloter.net/news/articleView.html?idxno=631077\", \"content\": \"피엔티는 2023년 자회사 피엔티머티리얼즈를 설립하며 LFP배터리 사업에 진출했다. 그동안 제품 개발과 함께 본사가 있는 경북 구미에 생산공장을 건립\", \"score\": 0.3667717}, {\"title\": \"피엔티 - 나무위키\", \"url\": \"https://namu.wiki/w/%ED%94%BC%EC%97%94%ED%8B%B0\", \"content\": \"피엔티 ; 57. yc기업.jpg 와이씨 ; 58. 티씨케이.png 티씨케이 ; 59. 카페24_로고.svg 카페24 ; 60. psk홀딩스.jpg 피에스케이홀딩스 ; 61. LS머트리얼즈 CI.\", \"score\": 0.29469728}]\n",
            "==================================\u001b[1m Ai Message \u001b[0m==================================\n",
            "\n",
            "도구를 선택하지 못했습니다. 적절한 도구를 재선택하세요.\n",
            "==================================\u001b[1m Ai Message \u001b[0m==================================\n",
            "\n",
            "도구를 선택하지 못했습니다. 적절한 도구를 재선택하세요.\n",
            "==================================\u001b[1m Ai Message \u001b[0m==================================\n",
            "\n",
            "도구를 선택하지 못했습니다. 적절한 도구를 재선택하세요.\n",
            "==================================\u001b[1m Ai Message \u001b[0m==================================\n",
            "\n",
            "도구를 선택하지 못했습니다. 적절한 도구를 재선택하세요.\n",
            "==================================\u001b[1m Ai Message \u001b[0m==================================\n",
            "\n",
            "도구를 선택하지 못했습니다. 적절한 도구를 재선택하세요.\n"
          ]
        },
        {
          "output_type": "stream",
          "name": "stderr",
          "text": [
            "WARNING:langchain_google_genai.chat_models:Retrying langchain_google_genai.chat_models._chat_with_retry.<locals>._chat_with_retry in 2.0 seconds as it raised ResourceExhausted: 429 You exceeded your current quota, please check your plan and billing details. For more information on this error, head to: https://ai.google.dev/gemini-api/docs/rate-limits. [violations {\n",
            "}\n",
            ", links {\n",
            "  description: \"Learn more about Gemini API quotas\"\n",
            "  url: \"https://ai.google.dev/gemini-api/docs/rate-limits\"\n",
            "}\n",
            ", retry_delay {\n",
            "  seconds: 9\n",
            "}\n",
            "].\n"
          ]
        },
        {
          "output_type": "stream",
          "name": "stdout",
          "text": [
            "==================================\u001b[1m Ai Message \u001b[0m==================================\n",
            "\n",
            "도구를 선택하지 못했습니다. 적절한 도구를 재선택하세요.\n",
            "==================================\u001b[1m Ai Message \u001b[0m==================================\n",
            "\n",
            "피엔티 경쟁사 정보를 검색했고, 이제 이 정보를 바탕으로 보고서를 작성해야 합니다. `write_pdf` 도구를 사용하여 보고서를 작성하겠습니다.\n",
            "Tool Calls:\n",
            "  write_pdf (e2709c6d-21c1-43aa-8ea7-5b9e237e7865)\n",
            " Call ID: e2709c6d-21c1-43aa-8ea7-5b9e237e7865\n",
            "  Args:\n",
            "    content: 피엔티 경쟁사 정보 보고서\n",
            "\n",
            "피엔티의 경쟁사로는 씨아이에스, 히라노, 윤성에프앤씨, 케이엔에스 등이 있습니다. 씨아이에스는 롤투롤 장비회사의 양대 산맥으로 LG를 주요 거래처로 하고 있습니다. 히라노는 파우치형 배터리에 사용 가능한 넓은 폭의 코터를 생산하는 기업입니다. 윤성에프앤씨, 케이엔에스 등은 재무 비교를 통해 경쟁사로 언급되었습니다.\n",
            "    filename: 피엔티 경쟁사 정보 보고서.pdf\n",
            "=================================\u001b[1m Tool Message \u001b[0m=================================\n",
            "Name: write_pdf\n",
            "\n",
            "피엔티 경쟁사 정보 보고서.pdf 저장 완료\n",
            "=================================\u001b[1m Tool Message \u001b[0m=================================\n",
            "Name: write_pdf\n",
            "\n",
            "피엔티 경쟁사 정보 보고서.pdf 저장 완료\n"
          ]
        }
      ],
      "source": [
        "config = reset_config()\n",
        "\n",
        "query = \"피엔티의 경쟁사에 대한 정보도 정리된 보고서를 작성해주세요.\"\n",
        "\n",
        "streaming(query, config)"
      ]
    },
    {
      "cell_type": "code",
      "execution_count": 33,
      "metadata": {
        "id": "Lk2rpxQAnKBs",
        "colab": {
          "base_uri": "https://localhost:8080/"
        },
        "outputId": "7e2bbcbc-feca-4dda-ac55-e301528f385b"
      },
      "outputs": [
        {
          "output_type": "stream",
          "name": "stdout",
          "text": [
            "================================\u001b[1m Human Message \u001b[0m=================================\n",
            "\n",
            "현재 폴더의 pdf로 이루어진 파일 모두 삭제해줘\n",
            "================================\u001b[1m Human Message \u001b[0m=================================\n",
            "\n",
            "현재 폴더의 pdf로 이루어진 파일 모두 삭제해줘\n",
            "==================================\u001b[1m Ai Message \u001b[0m==================================\n",
            "Tool Calls:\n",
            "  list_directory (8739ea30-91a8-4ce7-b005-14d9ed52bfa7)\n",
            " Call ID: 8739ea30-91a8-4ce7-b005-14d9ed52bfa7\n",
            "  Args:\n",
            "=================================\u001b[1m Tool Message \u001b[0m=================================\n",
            "Name: list_directory\n",
            "\n",
            ".config\n",
            "피엔티 경쟁사 정보 보고서.pdf\n",
            "fonts\n",
            "피엔티 보고서.pdf\n",
            "sample_data\n",
            "=================================\u001b[1m Tool Message \u001b[0m=================================\n",
            "Name: list_directory\n",
            "\n",
            ".config\n",
            "피엔티 경쟁사 정보 보고서.pdf\n",
            "fonts\n",
            "피엔티 보고서.pdf\n",
            "sample_data\n",
            "==================================\u001b[1m Ai Message \u001b[0m==================================\n",
            "\n",
            "현재 폴더에 있는 PDF 파일들을 삭제하기 위해 `file_delete` 도구를 사용해야 합니다. 먼저 삭제할 파일 목록을 확인했으니, 이제 각 파일을 삭제하도록 하겠습니다.\n",
            "Tool Calls:\n",
            "  file_delete (169a137c-7fe0-41e2-ae00-7420c7f492fc)\n",
            " Call ID: 169a137c-7fe0-41e2-ae00-7420c7f492fc\n",
            "  Args:\n",
            "    file_path: 피엔티 경쟁사 정보 보고서.pdf\n",
            "  file_delete (6c5dc127-091a-4071-ba29-8f0d97010e6d)\n",
            " Call ID: 6c5dc127-091a-4071-ba29-8f0d97010e6d\n",
            "  Args:\n",
            "    file_path: 피엔티 보고서.pdf\n",
            "=================================\u001b[1m Tool Message \u001b[0m=================================\n",
            "Name: file_delete\n",
            "\n",
            "File deleted successfully: 피엔티 보고서.pdf.\n",
            "=================================\u001b[1m Tool Message \u001b[0m=================================\n",
            "Name: file_delete\n",
            "\n",
            "File deleted successfully: 피엔티 보고서.pdf.\n"
          ]
        }
      ],
      "source": [
        "config = reset_config()\n",
        "\n",
        "query = \"현재 폴더의 pdf로 이루어진 파일 모두 삭제해줘\"\n",
        "\n",
        "streaming(query, config)"
      ]
    },
    {
      "cell_type": "code",
      "execution_count": 35,
      "metadata": {
        "id": "t3rAme8unKBt",
        "colab": {
          "base_uri": "https://localhost:8080/"
        },
        "outputId": "eed7a899-9ec9-45b4-c8c9-cb8b82c46078"
      },
      "outputs": [
        {
          "output_type": "stream",
          "name": "stdout",
          "text": [
            "================================\u001b[1m Human Message \u001b[0m=================================\n",
            "\n",
            "\n",
            "아래 코드 실행시켜주세요.\n",
            "\n",
            "```python\n",
            "\n",
            "result = 0\n",
            "\n",
            "for i in range(20):\n",
            "    print(f\"{i+1}번째 출력: \", i+1)\n",
            "    result += i\n",
            "\n",
            "print(\"최종 결과: \", result)\n",
            "\n",
            "```\n",
            "\n",
            "================================\u001b[1m Human Message \u001b[0m=================================\n",
            "\n",
            "\n",
            "아래 코드 실행시켜주세요.\n",
            "\n",
            "```python\n",
            "\n",
            "result = 0\n",
            "\n",
            "for i in range(20):\n",
            "    print(f\"{i+1}번째 출력: \", i+1)\n",
            "    result += i\n",
            "\n",
            "print(\"최종 결과: \", result)\n",
            "\n",
            "```\n",
            "\n",
            "==================================\u001b[1m Ai Message \u001b[0m==================================\n",
            "Tool Calls:\n",
            "  python_repl_ast (809348e2-5b69-4afa-b071-47c450d2bf0d)\n",
            " Call ID: 809348e2-5b69-4afa-b071-47c450d2bf0d\n",
            "  Args:\n",
            "    query: \n",
            "result = 0\n",
            "\n",
            "for i in range(20):\n",
            "    print(f\"{i+1}번째 출력: \", i+1)\n",
            "    result += i\n",
            "\n",
            "print(\"최종 결과: \", result)\n",
            "1번째 출력:  1\n",
            "2번째 출력:  2\n",
            "3번째 출력:  3\n",
            "4번째 출력:  4\n",
            "5번째 출력:  5\n",
            "6번째 출력:  6\n",
            "7번째 출력:  7\n",
            "8번째 출력:  8\n",
            "9번째 출력:  9\n",
            "10번째 출력:  10\n",
            "11번째 출력:  11\n",
            "12번째 출력:  12\n",
            "13번째 출력:  13\n",
            "14번째 출력:  14\n",
            "15번째 출력:  15\n",
            "16번째 출력:  16\n",
            "17번째 출력:  17\n",
            "18번째 출력:  18\n",
            "19번째 출력:  19\n",
            "20번째 출력:  20\n",
            "=================================\u001b[1m Tool Message \u001b[0m=================================\n",
            "Name: python_repl_ast\n",
            "\n",
            "최종 결과:  190\n",
            "\n",
            "=================================\u001b[1m Tool Message \u001b[0m=================================\n",
            "Name: python_repl_ast\n",
            "\n",
            "최종 결과:  190\n",
            "\n"
          ]
        }
      ],
      "source": [
        "config = reset_config()\n",
        "\n",
        "code = \"\"\"\n",
        "아래 코드 실행시켜주세요.\n",
        "\n",
        "```python\n",
        "\n",
        "result = 0\n",
        "\n",
        "for i in range(20):\n",
        "    print(f\"{i+1}번째 출력: \", i+1)\n",
        "    result += i\n",
        "\n",
        "print(\"최종 결과: \", result)\n",
        "\n",
        "```\n",
        "\"\"\"\n",
        "\n",
        "streaming(code, config)"
      ]
    },
    {
      "cell_type": "code",
      "execution_count": 36,
      "metadata": {
        "id": "PjIVlnOMnKBt",
        "colab": {
          "base_uri": "https://localhost:8080/"
        },
        "outputId": "871f1001-57f4-4bb5-ef92-647ab6be3911"
      },
      "outputs": [
        {
          "output_type": "stream",
          "name": "stdout",
          "text": [
            "================================\u001b[1m Human Message \u001b[0m=================================\n",
            "\n",
            "\n",
            "          모두의연구소는 어떤 곳이야?\n",
            "          깔끔하게 정리해서 레포트로 만들어줘.\n",
            "          레포트의 형식은 pdf로 저장해주면 돼.\n",
            "          이름은 \"모두의연구소_레포트.pdf\"로 해줘.\n",
            "================================\u001b[1m Human Message \u001b[0m=================================\n",
            "\n",
            "\n",
            "          모두의연구소는 어떤 곳이야?\n",
            "          깔끔하게 정리해서 레포트로 만들어줘.\n",
            "          레포트의 형식은 pdf로 저장해주면 돼.\n",
            "          이름은 \"모두의연구소_레포트.pdf\"로 해줘.\n",
            "==================================\u001b[1m Ai Message \u001b[0m==================================\n",
            "Tool Calls:\n",
            "  tavily_search_results_json (0ce89b6d-15aa-45ea-9909-e5fe24aea6d3)\n",
            " Call ID: 0ce89b6d-15aa-45ea-9909-e5fe24aea6d3\n",
            "  Args:\n",
            "    query: 모두의연구소\n",
            "=================================\u001b[1m Tool Message \u001b[0m=================================\n",
            "Name: tavily_search_results_json\n",
            "\n",
            "[{\"title\": \"모두의연구소 2025년 기업정보 - 직원수, 근무환경, 복리후생 등\", \"url\": \"https://www.jobkorea.co.kr/recruit/co_read/c/modulabs\", \"content\": \"기업소개. 모두의연구소는 AI 교육인 아이펠과 작년에 새롭게 런칭된 SW 교육, 그리고 다양한 주제가 있는 커뮤니티를 기반으로 교육 및 연구 서비스를 제공하고 있어요. '\", \"score\": 0.8548001}, {\"title\": \"모두의연구소 채용페이지\", \"url\": \"https://modulabs.career.greetinghr.com/\", \"content\": \"카카오임팩트와 모두의연구소는 테크포임팩트 기술 커뮤니티의 대표 활동으로 사회 문제 해결에 기여하기 위해 논문, 연구, 서비스 및 솔루션 개발 등 기술 관련 결과물을\", \"score\": 0.78493005}, {\"title\": \"모두의연구소 커뮤니티 | Facebook\", \"url\": \"https://www.facebook.com/groups/modulabs/?locale=ko_KR\", \"content\": \"모두함께 연구하는 #모두의연구소 ( https://www. facebook.com/lab4all )에 관심있는 모든 분들이 함께 소통할 수있는 그룹을 하나 만들었습니다.\", \"score\": 0.7244226}, {\"title\": \"모두의연구소\", \"url\": \"https://modulabs.co.kr/\", \"content\": \"ChatGPT로 사업계획서 1일만에 완성하기\\n\\n생성형 AI를 활용한 업무자동화\\n\\n생성형AI로 마케팅 글쓰기\\n\\n모두의 연구소 LAB\\n\\n함께하는 모두의 연구실, LAB\\n\\nMathML LAB\\n\\n인공지능에 인사이트를 넓혀주는 수학적 기초를 탄탄히 다지면서, 실제 코드와 함께 연구해요.\\n\\n다오랩 5기 LAB\\n\\n미래 조직을 연구하고 설계하고 세상에 적용하는 실험실\\n\\nConversation LAB\\n\\nLive2D 캐릭터 기반의 음성 챗봇을 고도화하는 모임입니다.\\n\\n페르소나 랩 LAB\\n\\n엑티베이션 레벨에서 LLM 성격 컨트롤을 시도 합니다.\\n\\n홈 중간배너\\n\\nAI 활용 노하우\\n스터디\\n\\nNotion으로 업무 생산성 200% 높이기\\n\\n어제도 너무 늦다\\nAI뉴스\\n\\n똑똑한 AI 일잘러가 되고 싶다면?\\n직장인 클래스!\\n\\nNeurIPS\\n2024 탐방기\\n\\n모두의연구소 블로그\\n\\nGemini 2.5: 구글의 최첨단 성능 갖춘 실험 버전 언어 모델 [AI 모두레터] [...] 교육 일정 : 2025/04/24 → 2025/08/14\\n\\n모집중\\n\\n프로덕트 데이터 분석\\n\\n교육 일정 : 2025/05/14 → 2025/11/14\\n\\n사전신청\\n\\nAI학교 아이펠 리서치 과정\\n\\n교육 일정 : 2025/06/23 → 2025/12/23\\n\\n사전신청\\n\\n프론트엔드 개발 과정\\n\\n교육 일정 : 2025/04/15 → 2025/08/14\\n\\n백엔드 개발 과정\\n\\n교육 일정 : 2025/04/24 → 2025/08/14\\n\\n프로덕트 데이터 분석\\n\\n교육 일정 : 2025/05/14 → 2025/11/14\\n\\nAI학교 아이펠 리서치 과정\\n\\n교육 일정 : 2025/06/23 → 2025/12/23\\n\\n함께 성장하는 즐거움, 모두모임\\n\\n강석우\\n\\n\\n\\n추천이 쪼아 LLM 시즌 2\\n\\n시나버스\\n\\n\\n\\n구글 공인 교육 전문가 레벨 1  부트 캠프 1기\\n\\n시나버스\\n\\n\\n\\n구글 공인 교육 전문가 레벨 2 부트 캠프 1기\\n\\nJames 쌤\\n\\n\\n\\n데이터 자격증 (ADsP, 빅분기 등)을 준비하는 사람들의 모임 [...] R1 파헤치기, Ko-R1 개발기\\n\\nAI 가속화의 새로운 길\\n\\n모두연 온라인 교육상품\\n\\nAI 온라인 강의\\n\\n생성형 AI를 활용한 15초 광고(숏폼) 만들기\\n\\n90%20,000원200,000원\\n\\n생상위 1% 일잘러를 위한 고급 프롬프트 엔지니어링\\n\\n90%15,000원150,000원\\n\\n챗GPT로 인싸 크리에이터 되는 법\\n\\n90%10,000원100,000원\\n\\n프롬프트 엔지니어링 A to Z\\n\\n90%10,000원100,000원\\n\\n[노코드] Bolt.new로 하루 만에 MVP 만들기\\n\\n50%44,500원89,000원\\n\\n[SQL 입문] ChatGPT로 데이터 분석 시작하기\\n\\n50%29,500원59,000원\\n\\n[Vercel MVP] 60만 유저 달성 프로젝트: 1주일만에 기획부터 배포까지\\n\\n50%29,500원59,000원\\n\\nClaude로 끝내는 상세페이지 AI 자동화\\n\\n50%29,500원59,000원\\n\\n직장인 무료 교육\\n\\n직장인 무료 교육\\n\\nMS코파일럿 자료조사+PPT 마스터\", \"score\": 0.6407488}, {\"title\": \"모두의연구소 - LinkedIn\", \"url\": \"https://kr.linkedin.com/school/modulabs/\", \"content\": \"[A³(에이큐브) : AI를 나만의 업무 파트너로] 비개발자도 쉽게 배우는 AI 업무 혁신! 이제 AI와 함께 더 빠르고, 더 효율적으로 일하세요. 이론이 아닌, 실습 중심으로\", \"score\": 0.52203226}, {\"title\": \"모두의연구소 공식 (@modulabs_) - Instagram\", \"url\": \"https://www.instagram.com/modulabs_/\", \"content\": \"𝖲𝗁𝖺𝗋𝖾 𝖵𝖺𝗅𝗎𝖾, 𝖦𝗋𝗈𝗐 𝖳𝗈𝗀𝖾𝗍𝗁𝖾𝗋 함께 지식을 공유하고 성장하는 연구 문화를 전파합니다. litt.ly/modulabs. Follow. Message. 1월 시간표's profile picture. 1월 시간표.\", \"score\": 0.5122296}, {\"title\": \"모두의연구소 - YouTube\", \"url\": \"https://www.youtube.com/@modulabs_\", \"content\": \"모두팝 | Pop Pop 터지는 AI 세미나 · 모두의연구소만의 지식 공유 세미나 모두팝! · [모두팝] R1 파헤치기, Ko-R1 개발기 · [모두팝] CES 현장 브리핑: AI 연구의 미래.\", \"score\": 0.50285697}]\n",
            "=================================\u001b[1m Tool Message \u001b[0m=================================\n",
            "Name: tavily_search_results_json\n",
            "\n",
            "[{\"title\": \"모두의연구소 2025년 기업정보 - 직원수, 근무환경, 복리후생 등\", \"url\": \"https://www.jobkorea.co.kr/recruit/co_read/c/modulabs\", \"content\": \"기업소개. 모두의연구소는 AI 교육인 아이펠과 작년에 새롭게 런칭된 SW 교육, 그리고 다양한 주제가 있는 커뮤니티를 기반으로 교육 및 연구 서비스를 제공하고 있어요. '\", \"score\": 0.8548001}, {\"title\": \"모두의연구소 채용페이지\", \"url\": \"https://modulabs.career.greetinghr.com/\", \"content\": \"카카오임팩트와 모두의연구소는 테크포임팩트 기술 커뮤니티의 대표 활동으로 사회 문제 해결에 기여하기 위해 논문, 연구, 서비스 및 솔루션 개발 등 기술 관련 결과물을\", \"score\": 0.78493005}, {\"title\": \"모두의연구소 커뮤니티 | Facebook\", \"url\": \"https://www.facebook.com/groups/modulabs/?locale=ko_KR\", \"content\": \"모두함께 연구하는 #모두의연구소 ( https://www. facebook.com/lab4all )에 관심있는 모든 분들이 함께 소통할 수있는 그룹을 하나 만들었습니다.\", \"score\": 0.7244226}, {\"title\": \"모두의연구소\", \"url\": \"https://modulabs.co.kr/\", \"content\": \"ChatGPT로 사업계획서 1일만에 완성하기\\n\\n생성형 AI를 활용한 업무자동화\\n\\n생성형AI로 마케팅 글쓰기\\n\\n모두의 연구소 LAB\\n\\n함께하는 모두의 연구실, LAB\\n\\nMathML LAB\\n\\n인공지능에 인사이트를 넓혀주는 수학적 기초를 탄탄히 다지면서, 실제 코드와 함께 연구해요.\\n\\n다오랩 5기 LAB\\n\\n미래 조직을 연구하고 설계하고 세상에 적용하는 실험실\\n\\nConversation LAB\\n\\nLive2D 캐릭터 기반의 음성 챗봇을 고도화하는 모임입니다.\\n\\n페르소나 랩 LAB\\n\\n엑티베이션 레벨에서 LLM 성격 컨트롤을 시도 합니다.\\n\\n홈 중간배너\\n\\nAI 활용 노하우\\n스터디\\n\\nNotion으로 업무 생산성 200% 높이기\\n\\n어제도 너무 늦다\\nAI뉴스\\n\\n똑똑한 AI 일잘러가 되고 싶다면?\\n직장인 클래스!\\n\\nNeurIPS\\n2024 탐방기\\n\\n모두의연구소 블로그\\n\\nGemini 2.5: 구글의 최첨단 성능 갖춘 실험 버전 언어 모델 [AI 모두레터] [...] 교육 일정 : 2025/04/24 → 2025/08/14\\n\\n모집중\\n\\n프로덕트 데이터 분석\\n\\n교육 일정 : 2025/05/14 → 2025/11/14\\n\\n사전신청\\n\\nAI학교 아이펠 리서치 과정\\n\\n교육 일정 : 2025/06/23 → 2025/12/23\\n\\n사전신청\\n\\n프론트엔드 개발 과정\\n\\n교육 일정 : 2025/04/15 → 2025/08/14\\n\\n백엔드 개발 과정\\n\\n교육 일정 : 2025/04/24 → 2025/08/14\\n\\n프로덕트 데이터 분석\\n\\n교육 일정 : 2025/05/14 → 2025/11/14\\n\\nAI학교 아이펠 리서치 과정\\n\\n교육 일정 : 2025/06/23 → 2025/12/23\\n\\n함께 성장하는 즐거움, 모두모임\\n\\n강석우\\n\\n\\n\\n추천이 쪼아 LLM 시즌 2\\n\\n시나버스\\n\\n\\n\\n구글 공인 교육 전문가 레벨 1  부트 캠프 1기\\n\\n시나버스\\n\\n\\n\\n구글 공인 교육 전문가 레벨 2 부트 캠프 1기\\n\\nJames 쌤\\n\\n\\n\\n데이터 자격증 (ADsP, 빅분기 등)을 준비하는 사람들의 모임 [...] R1 파헤치기, Ko-R1 개발기\\n\\nAI 가속화의 새로운 길\\n\\n모두연 온라인 교육상품\\n\\nAI 온라인 강의\\n\\n생성형 AI를 활용한 15초 광고(숏폼) 만들기\\n\\n90%20,000원200,000원\\n\\n생상위 1% 일잘러를 위한 고급 프롬프트 엔지니어링\\n\\n90%15,000원150,000원\\n\\n챗GPT로 인싸 크리에이터 되는 법\\n\\n90%10,000원100,000원\\n\\n프롬프트 엔지니어링 A to Z\\n\\n90%10,000원100,000원\\n\\n[노코드] Bolt.new로 하루 만에 MVP 만들기\\n\\n50%44,500원89,000원\\n\\n[SQL 입문] ChatGPT로 데이터 분석 시작하기\\n\\n50%29,500원59,000원\\n\\n[Vercel MVP] 60만 유저 달성 프로젝트: 1주일만에 기획부터 배포까지\\n\\n50%29,500원59,000원\\n\\nClaude로 끝내는 상세페이지 AI 자동화\\n\\n50%29,500원59,000원\\n\\n직장인 무료 교육\\n\\n직장인 무료 교육\\n\\nMS코파일럿 자료조사+PPT 마스터\", \"score\": 0.6407488}, {\"title\": \"모두의연구소 - LinkedIn\", \"url\": \"https://kr.linkedin.com/school/modulabs/\", \"content\": \"[A³(에이큐브) : AI를 나만의 업무 파트너로] 비개발자도 쉽게 배우는 AI 업무 혁신! 이제 AI와 함께 더 빠르고, 더 효율적으로 일하세요. 이론이 아닌, 실습 중심으로\", \"score\": 0.52203226}, {\"title\": \"모두의연구소 공식 (@modulabs_) - Instagram\", \"url\": \"https://www.instagram.com/modulabs_/\", \"content\": \"𝖲𝗁𝖺𝗋𝖾 𝖵𝖺𝗅𝗎𝖾, 𝖦𝗋𝗈𝗐 𝖳𝗈𝗀𝖾𝗍𝗁𝖾𝗋 함께 지식을 공유하고 성장하는 연구 문화를 전파합니다. litt.ly/modulabs. Follow. Message. 1월 시간표's profile picture. 1월 시간표.\", \"score\": 0.5122296}, {\"title\": \"모두의연구소 - YouTube\", \"url\": \"https://www.youtube.com/@modulabs_\", \"content\": \"모두팝 | Pop Pop 터지는 AI 세미나 · 모두의연구소만의 지식 공유 세미나 모두팝! · [모두팝] R1 파헤치기, Ko-R1 개발기 · [모두팝] CES 현장 브리핑: AI 연구의 미래.\", \"score\": 0.50285697}]\n",
            "==================================\u001b[1m Ai Message \u001b[0m==================================\n",
            "Tool Calls:\n",
            "  write_pdf (769488a9-0c01-459c-8bc6-c34efed78685)\n",
            " Call ID: 769488a9-0c01-459c-8bc6-c34efed78685\n",
            "  Args:\n",
            "    content: 모두의연구소는 AI 교육인 아이펠과 SW 교육, 그리고 다양한 주제가 있는 커뮤니티를 기반으로 교육 및 연구 서비스를 제공하는 곳입니다. AI를 업무 파트너로 활용하는 방법을 교육하고, 지식 공유 세미나를 개최하며, AI 연구를 진행합니다.\n",
            "    filename: 모두의연구소_레포트.pdf\n",
            "=================================\u001b[1m Tool Message \u001b[0m=================================\n",
            "Name: write_pdf\n",
            "\n",
            "모두의연구소_레포트.pdf 저장 완료\n",
            "=================================\u001b[1m Tool Message \u001b[0m=================================\n",
            "Name: write_pdf\n",
            "\n",
            "모두의연구소_레포트.pdf 저장 완료\n"
          ]
        }
      ],
      "source": [
        "config = reset_config()\n",
        "\n",
        "streaming(\"\"\"\n",
        "          모두의연구소는 어떤 곳이야?\n",
        "          깔끔하게 정리해서 레포트로 만들어줘.\n",
        "          레포트의 형식은 pdf로 저장해주면 돼.\n",
        "          이름은 \"모두의연구소_레포트.pdf\"로 해줘.\"\"\", config)"
      ]
    },
    {
      "cell_type": "code",
      "source": [
        "config = reset_config()\n",
        "\n",
        "query = \"'모두의연구소_레포트.pdf'라는 파일 삭제해줘\"\n",
        "\n",
        "streaming(query, config)"
      ],
      "metadata": {
        "colab": {
          "base_uri": "https://localhost:8080/"
        },
        "id": "SBSbPqbjkUWv",
        "outputId": "b62af737-6767-4859-f676-6135717b5854"
      },
      "execution_count": 38,
      "outputs": [
        {
          "output_type": "stream",
          "name": "stdout",
          "text": [
            "================================\u001b[1m Human Message \u001b[0m=================================\n",
            "\n",
            "'모두의연구소_레포트.pdf'라는 파일 삭제해줘\n",
            "================================\u001b[1m Human Message \u001b[0m=================================\n",
            "\n",
            "'모두의연구소_레포트.pdf'라는 파일 삭제해줘\n",
            "==================================\u001b[1m Ai Message \u001b[0m==================================\n",
            "Tool Calls:\n",
            "  file_delete (1eda2157-d41a-4929-8bd0-cf9ab1e5aaff)\n",
            " Call ID: 1eda2157-d41a-4929-8bd0-cf9ab1e5aaff\n",
            "  Args:\n",
            "    file_path: 모두의연구소_레포트.pdf\n",
            "=================================\u001b[1m Tool Message \u001b[0m=================================\n",
            "Name: file_delete\n",
            "\n",
            "File deleted successfully: 모두의연구소_레포트.pdf.\n",
            "=================================\u001b[1m Tool Message \u001b[0m=================================\n",
            "Name: file_delete\n",
            "\n",
            "File deleted successfully: 모두의연구소_레포트.pdf.\n"
          ]
        }
      ]
    }
  ],
  "metadata": {
    "colab": {
      "provenance": [],
      "include_colab_link": true
    },
    "kernelspec": {
      "display_name": "Modulabs",
      "language": "python",
      "name": "python3"
    },
    "language_info": {
      "codemirror_mode": {
        "name": "ipython",
        "version": 3
      },
      "file_extension": ".py",
      "mimetype": "text/x-python",
      "name": "python",
      "nbconvert_exporter": "python",
      "pygments_lexer": "ipython3",
      "version": "3.10.12"
    }
  },
  "nbformat": 4,
  "nbformat_minor": 0
}