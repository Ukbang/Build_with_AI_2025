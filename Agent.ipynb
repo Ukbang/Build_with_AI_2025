{
  "cells": [
    {
      "cell_type": "code",
      "execution_count": null,
      "metadata": {
        "id": "tgWF2j10oSEh"
      },
      "outputs": [],
      "source": [
        "# !pip install langchain langgraph langchain-google-genai langchain-core langchain-community langchain-experimental fpdf pdfplumber"
      ]
    },
    {
      "cell_type": "code",
      "execution_count": 491,
      "metadata": {
        "id": "4jLETHnXnKBh"
      },
      "outputs": [
        {
          "data": {
            "text/plain": [
              "True"
            ]
          },
          "execution_count": 491,
          "metadata": {},
          "output_type": "execute_result"
        }
      ],
      "source": [
        "from langchain_core.runnables import RunnableConfig\n",
        "from langchain.schema import AIMessage\n",
        "from typing import Annotated, Literal\n",
        "from typing_extensions import TypedDict\n",
        "from langchain_google_genai import ChatGoogleGenerativeAI\n",
        "from langchain_community.tools.tavily_search import TavilySearchResults\n",
        "from langgraph.graph import StateGraph, START, END\n",
        "from langgraph.graph.message import add_messages\n",
        "from langgraph.prebuilt import ToolNode\n",
        "from langgraph.checkpoint.memory import MemorySaver\n",
        "from langchain_core.prompts import PromptTemplate\n",
        "from langchain_core.tools import tool\n",
        "from langchain_community.agent_toolkits import FileManagementToolkit\n",
        "from langchain_experimental.tools.python.tool import PythonAstREPLTool\n",
        "from pydantic import BaseModel, Field\n",
        "from fpdf import FPDF\n",
        "import random\n",
        "import pdfplumber\n",
        "import os\n",
        "import requests\n",
        "import warnings\n",
        "import dotenv\n",
        "\n",
        "warnings.filterwarnings(\"ignore\")\n",
        "dotenv.load_dotenv()"
      ]
    },
    {
      "cell_type": "code",
      "execution_count": null,
      "metadata": {},
      "outputs": [],
      "source": []
    },
    {
      "cell_type": "code",
      "execution_count": 493,
      "metadata": {
        "id": "y8azdfq-l-ps"
      },
      "outputs": [],
      "source": [
        "os.environ[\"google_api_key\"] = google_api_key\n",
        "os.environ[\"GOOGLE_API_KEY\"] = google_api_key\n",
        "os.environ[\"TAVILY_API_KEY\"] = tavily_api_key"
      ]
    },
    {
      "cell_type": "code",
      "execution_count": 494,
      "metadata": {
        "id": "AuwqB6S6nKBl"
      },
      "outputs": [],
      "source": [
        "class State(TypedDict):\n",
        "    query : Annotated[str, \"User Question\"]\n",
        "    answer : Annotated[str, \"LLM response\"]\n",
        "    messages : Annotated[list, add_messages]\n",
        "    tool_call : Annotated[dict, \"Tool Call Result\"]"
      ]
    },
    {
      "cell_type": "code",
      "execution_count": 495,
      "metadata": {
        "id": "G-CNSwr0qnsi"
      },
      "outputs": [],
      "source": [
        "llm = ChatGoogleGenerativeAI(model=\"gemini-2.0-flash\",\n",
        "                             temperature=0)"
      ]
    },
    {
      "cell_type": "code",
      "execution_count": 496,
      "metadata": {
        "id": "vNMa89_7nKBm"
      },
      "outputs": [],
      "source": [
        "@tool\n",
        "def read_pdf(file_path: str) -> str:\n",
        "    \"\"\"\n",
        "    PDF 파일에서 텍스트를 추출하는 도구입니다.\n",
        "    표 형식 또는 일반 텍스트가 포함된 PDF를 읽고 문자열로 반환합니다.\n",
        "\n",
        "    file_path 예시: './report.pdf'\n",
        "    \"\"\"\n",
        "    try:\n",
        "        text = \"\"\n",
        "        with pdfplumber.open(file_path) as pdf:\n",
        "            for page in pdf.pages:\n",
        "                page_text = page.extract_text()\n",
        "                if page_text:\n",
        "                    text += page_text + \"\\n\"\n",
        "        return text.strip() if text.strip() else \"❌ PDF에서 텍스트를 추출할 수 없습니다.\"\n",
        "    except Exception as e:\n",
        "        return f\"❌ PDF 읽기 오류: {str(e)}\""
      ]
    },
    {
      "cell_type": "code",
      "execution_count": null,
      "metadata": {
        "id": "xqkLXOw6nKBn"
      },
      "outputs": [],
      "source": [
        "@tool\n",
        "def write_pdf(content: str, filename: str = \"output.pdf\"):\n",
        "    \"\"\"\n",
        "    텍스트를 PDF 파일로 저장하는 도구입니다.\n",
        "    PDF형태의 문서로 만들어야할 때 이 도구를 사용하세요.\n",
        "    \"\"\"\n",
        "\n",
        "    prompt = PromptTemplate.from_template(\"\"\"\n",
        "            당신은 보고서를 작성하는 어시스턴트입니다. 당신에겐 문서 모음이 제공되고 이를 잘 분석하여 보고서를 작성하여야 합니다.\n",
        "            아래의 content는 문서 모음입니다. 문서의 제목, 본문을 잘 판단하고 정리하여 요약합니다.\n",
        "            항상 구조화된 출력을 제공하세요.                           \n",
        "            항상 마지막엔 인사이트도 첨부합니다.               \n",
        "            \n",
        "            content : {content}\n",
        "            \"\"\")\n",
        "    \n",
        "    chain = prompt | llm\n",
        "\n",
        "    content = chain.invoke({\"content\":content}).content\n",
        "\n",
        "    font_url = \"https://github.com/google/fonts/raw/main/ofl/notosanskr/NotoSansKR%5Bwght%5D.ttf\"\n",
        "    font_path = \"./fonts/NotoSansKR.ttf\"\n",
        "\n",
        "    try:\n",
        "        os.mkdir(\"./fonts/\")\n",
        "        response = requests.get(font_url)\n",
        "        with open(font_path, \"wb\") as f:\n",
        "            f.write(response.content)\n",
        "    except:\n",
        "        pass\n",
        "\n",
        "    pdf = FPDF()\n",
        "    pdf.add_page()\n",
        "    pdf.set_auto_page_break(auto=True, margin=15)\n",
        "\n",
        "    font_path = \"./fonts/NotoSansKR.ttf\"  # <-- 여기에 실제 폰트 파일이 있어야 함\n",
        "\n",
        "    try:\n",
        "        pdf.add_font(\"NotoSans\", \"\", font_path, uni=True)\n",
        "        pdf.set_font(\"NotoSans\", size=12)\n",
        "    except:\n",
        "        raise ValueError(\"한글 폰트를 등록할 수 없습니다.\")\n",
        "\n",
        "    for line in content.split(\"\\n\"):\n",
        "        pdf.multi_cell(0, 10, line)\n",
        "    pdf.output(f\"./{filename}\")\n",
        "\n",
        "    return f\"{filename} 저장 완료\""
      ]
    },
    {
      "cell_type": "code",
      "execution_count": 498,
      "metadata": {},
      "outputs": [],
      "source": [
        "tools = [TavilySearchResults(), PythonAstREPLTool(), write_pdf, read_pdf, *FileManagementToolkit(\n",
        "                                                                            selected_tools=[\"file_delete\",\"list_directory\"]).get_tools()]\n",
        "search_tool, code_tool, write_tool, read_tool, delete_tool, listdir_tool= tools"
      ]
    },
    {
      "cell_type": "code",
      "execution_count": 499,
      "metadata": {
        "id": "u5J4tJo5nKBn"
      },
      "outputs": [],
      "source": [
        "# tools = [TavilySearchResults(include_domains=[\"naver.com\", \"google.com\"]), PythonAstREPLTool(), write_pdf, read_pdf, *FileManagementToolkit(\n",
        "#                                                                             selected_tools=[\"file_delete\",\"list_directory\"]).get_tools()]\n",
        "# search_tool, code_tool, write_tool, read_tool, delete_tool, listdir_tool= tools"
      ]
    },
    {
      "cell_type": "code",
      "execution_count": 500,
      "metadata": {
        "id": "TmTiddGxyB6K"
      },
      "outputs": [],
      "source": [
        "# write_tool({\"content\":\"안녕하세요?\", \"filename\":\"abctest.pdf\"})"
      ]
    },
    {
      "cell_type": "code",
      "execution_count": 501,
      "metadata": {
        "id": "Rany0FPunZaL"
      },
      "outputs": [],
      "source": [
        "# read_tool(\"abctest.pdf\")"
      ]
    },
    {
      "cell_type": "code",
      "execution_count": 502,
      "metadata": {
        "id": "VDLWFnegnikc"
      },
      "outputs": [],
      "source": [
        "# delete_tool(\"abctest.pdf\")"
      ]
    },
    {
      "cell_type": "code",
      "execution_count": 503,
      "metadata": {
        "id": "0uOvOZf3nKBn"
      },
      "outputs": [],
      "source": [
        "llm_with_tools = llm.bind_tools(tools)"
      ]
    },
    {
      "cell_type": "code",
      "execution_count": 504,
      "metadata": {
        "id": "gsqpQmxknKBo"
      },
      "outputs": [],
      "source": [
        "class HistoryChecker(BaseModel):\n",
        "    \"\"\"\n",
        "    이전의 대화 기록을 참고하여 질문에 대해 답변할 수 있는지 판단합니다.\n",
        "    답변할 수 있다면 \"yes\", 답변할 수 없다면 \"no\"를 반환합니다.\n",
        "    \"\"\"\n",
        "\n",
        "    yes_no : Literal[\"yes\", \"no\"] = Field(..., description=\"\"\"Use your previous conversation history to determine if you can answer your questions.\n",
        "    Return \"yes\" if you can answer, \"no\" if you can't answer.\"\"\")"
      ]
    },
    {
      "cell_type": "code",
      "execution_count": 505,
      "metadata": {
        "id": "UrMAISv-nKBo"
      },
      "outputs": [],
      "source": [
        "def shorterm_memory(state:State):\n",
        "\n",
        "    if len(state[\"messages\"]) > 8:\n",
        "        history = state[\"messages\"][-8:-1]\n",
        "    elif len(state[\"messages\"]) == 1:\n",
        "        history = \"\"\n",
        "    else:\n",
        "        history = state[\"messages\"][:-1]\n",
        "\n",
        "    return history"
      ]
    },
    {
      "cell_type": "code",
      "execution_count": 506,
      "metadata": {
        "id": "7SsCloETnKBp"
      },
      "outputs": [],
      "source": [
        "def history_check(state:State):\n",
        "\n",
        "    prompt = PromptTemplate.from_template(\"\"\"\n",
        "\n",
        "                이전의 대화 기록을 참고하여 질문에 대해 답변할 수 있는지 판단합니다.\n",
        "                답변할 수 있다면 \"yes\", 답변할 수 없다면 \"no\"를 반환합니다.\n",
        "\n",
        "                대화 기록 : {history}\n",
        "\n",
        "                질문 : {query}\n",
        "\n",
        "                \"\"\")\n",
        "\n",
        "    chain = prompt | history_checker\n",
        "\n",
        "    history = shorterm_memory(state)\n",
        "\n",
        "    result = chain.invoke({\"history\":history,\n",
        "                            \"query\":state[\"query\"]})\n",
        "\n",
        "    return result.yes_no"
      ]
    },
    {
      "cell_type": "code",
      "execution_count": 507,
      "metadata": {
        "id": "fx8dfRdlnKBp"
      },
      "outputs": [],
      "source": [
        "def memory_chat(state:State):\n",
        "\n",
        "    prompt = PromptTemplate.from_template(\"\"\"\n",
        "\n",
        "                이전의 대화 기록을 참고하여 질문에 대해 답변하세요.\n",
        "                아래 대화 기록을 첨부합니다.\n",
        "                대화 기록을 통해 답변이 어렵다면 내부 지식을 참조하세요.\n",
        "\n",
        "                대화 기록 : {history}\n",
        "\n",
        "                질문 : {query}\n",
        "\n",
        "                \"\"\")\n",
        "\n",
        "\n",
        "    chain = prompt | llm\n",
        "\n",
        "    history = shorterm_memory(state)\n",
        "\n",
        "    answer = chain.invoke({\"history\":history,\n",
        "                           \"query\":state[\"query\"]})\n",
        "\n",
        "    if len(state[\"tool_call\"]) == 0:\n",
        "        return {\"answer\":answer.content,\n",
        "                \"messages\":[answer],\n",
        "                \"tool_call\":\"사용된 기록 없음.\"}\n",
        "    else:\n",
        "        return {\"answer\":answer.content,\n",
        "                \"messages\":[answer]}"
      ]
    },
    {
      "cell_type": "code",
      "execution_count": 508,
      "metadata": {
        "id": "CDAlnV3dnKBp"
      },
      "outputs": [],
      "source": [
        "history_checker = llm.with_structured_output(HistoryChecker)"
      ]
    },
    {
      "cell_type": "code",
      "execution_count": 509,
      "metadata": {
        "id": "ZLm8qqC7nKBq"
      },
      "outputs": [],
      "source": [
        "def history_node(state:State):\n",
        "    if len(state[\"messages\"]) == 1:\n",
        "        return {\"answer\":\"답변 없음\",\n",
        "                \"tool_call\":\"사용된 도구 없음\"}\n",
        "    else:\n",
        "        return state"
      ]
    },
    {
      "cell_type": "code",
      "execution_count": 510,
      "metadata": {
        "id": "IVxNiGN0nKBq"
      },
      "outputs": [],
      "source": [
        "def select(\n",
        "    state: State,\n",
        "):\n",
        "\n",
        "    prompt = PromptTemplate.from_template(\"\"\"\n",
        "\n",
        "                이전의 대화 기록을 참고하여 질문에 대해 답변하세요.\n",
        "                아래 대화 기록을 첨부합니다.\n",
        "                이전의 대화가 다음에 어떤 도구를 사용해야하는지 힌트가 될 수 있습니다. 꼭 참조하세요.\n",
        "                도구의 변화가 큰 결과를 가져올 수 있습니다.\n",
        "                들어온 메시지, 정답, 이전 기록을 모두 분석하여 가장 적절한 도구를 선택하세요.\n",
        "\n",
        "                대화 기록 : {history}\n",
        "\n",
        "                최근 사용한 도구 : {tool_name}\n",
        "\n",
        "                정답 : {answer}\n",
        "\n",
        "                질문 : {query}\n",
        "\n",
        "                \"\"\")\n",
        "\n",
        "    chain = prompt | llm_with_tools\n",
        "\n",
        "    history = shorterm_memory(state)\n",
        "\n",
        "    result = chain.invoke({\"history\" : history,\n",
        "                           \"tool_name\" : state[\"tool_call\"],\n",
        "                            \"answer\": state[\"answer\"],\n",
        "                            \"query\": state[\"query\"]})\n",
        "\n",
        "    if hasattr(result, \"tool_calls\") and len(result.tool_calls) > 0:\n",
        "        tool_calls = result.tool_calls\n",
        "        return {\"messages\": result,\n",
        "                \"tool_call\": [result]}\n",
        "    else:\n",
        "        return {\"messages\":AIMessage(content=f\"\"\"도구를 선택하지 못했습니다. 적절한 도구를 재선택하세요.\n",
        "                                        \"\"\"),\n",
        "                                    \"tool_call\":None}\n",
        "\n"
      ]
    },
    {
      "cell_type": "code",
      "execution_count": 511,
      "metadata": {
        "id": "y6s0RyEfnKBq"
      },
      "outputs": [],
      "source": [
        "tool_node = ToolNode(tools)"
      ]
    },
    {
      "cell_type": "code",
      "execution_count": 512,
      "metadata": {
        "id": "gD-vMnQenKBq"
      },
      "outputs": [],
      "source": [
        "class AnswerChecker(BaseModel):\n",
        "    \"\"\"\n",
        "    정답 분류기입니다.\n",
        "\n",
        "    정답이 질문을 해결했는지 여부를 판단합니다.\n",
        "    질문을 해결하지 못했을 시 해결될 때까지 도구를 이용합니다.\n",
        "\n",
        "    질문을 해결했다면 \"end\", 해결하지 못했다면 \"tool\"을 반환합니다.\n",
        "    \"\"\"\n",
        "\n",
        "\n",
        "    end : Literal[\"end\", \"tool\"] = Field(..., description=\"\"\"You are the answer sorter.\n",
        "\n",
        "                                                                Determine if the correct answer has solved the question.\n",
        "                                                                If the question is not resolved, use the tool until it is resolved.\n",
        "\n",
        "                                                                Return \"end\" if you solved the question, or \"tool\" if you didn't.\"\"\")"
      ]
    },
    {
      "cell_type": "code",
      "execution_count": 513,
      "metadata": {
        "id": "51lPyxhdnKBr"
      },
      "outputs": [],
      "source": [
        "answer_checker = llm.with_structured_output(AnswerChecker)"
      ]
    },
    {
      "cell_type": "code",
      "execution_count": 514,
      "metadata": {
        "id": "zyZTkR8fnKBr"
      },
      "outputs": [],
      "source": [
        "def response(state:State):\n",
        "\n",
        "    return {\"answer\":state[\"messages\"][-1]}"
      ]
    },
    {
      "cell_type": "code",
      "execution_count": 515,
      "metadata": {
        "id": "mBV4ASvjnKBr"
      },
      "outputs": [],
      "source": [
        "def answer_check(state:State):\n",
        "\n",
        "    prompt = PromptTemplate.from_template(\"\"\"\n",
        "    당신은 정답 분류기 어시스턴트입니다.\n",
        "\n",
        "    정답이 질문을 해결하였는지 여부를 판단합니다.\n",
        "    질문을 해결하지 못했다면 도구를 이용합니다.\n",
        "\n",
        "    질문을 해결하였다면 \"end\", 아니라면 \"tool\"을 반환합니다.\n",
        "\n",
        "    기존 History도 참고하여 답변하세요.\n",
        "\n",
        "    History : {history}\n",
        "\n",
        "    정답 : {answer}\n",
        "\n",
        "    질문 : {query}\n",
        "    \"\"\")\n",
        "\n",
        "    chain = prompt | answer_checker\n",
        "\n",
        "    history = shorterm_memory(state)\n",
        "\n",
        "    result = chain.invoke({\"history\" : history,\n",
        "                            \"answer\": state[\"answer\"],\n",
        "                            \"query\": state[\"query\"]})\n",
        "\n",
        "    return result.end"
      ]
    },
    {
      "cell_type": "code",
      "execution_count": 516,
      "metadata": {
        "id": "50EDu4mOnKBr"
      },
      "outputs": [],
      "source": [
        "graph_builder = StateGraph(State)"
      ]
    },
    {
      "cell_type": "code",
      "execution_count": 517,
      "metadata": {
        "id": "qDdqjxeNnKBr"
      },
      "outputs": [],
      "source": [
        "graph_builder.add_node(\"history_node\", history_node)\n",
        "graph_builder.add_node(\"memory_chat\", memory_chat)\n",
        "graph_builder.add_node(\"select\", select)\n",
        "graph_builder.add_node(\"tools\", tool_node)\n",
        "graph_builder.add_node(\"response\", response)\n",
        "\n",
        "\n",
        "graph_builder.add_edge(START, \"history_node\")\n",
        "graph_builder.add_conditional_edges(\"history_node\",\n",
        "                            history_check,\n",
        "                            {\"yes\":\"memory_chat\",\n",
        "                             \"no\":\"select\"})\n",
        "graph_builder.add_edge(\"select\", \"tools\")\n",
        "graph_builder.add_edge(\"tools\", \"response\")\n",
        "graph_builder.add_edge(\"memory_chat\", \"response\")\n",
        "graph_builder.add_conditional_edges(\"response\",\n",
        "                                    answer_check,\n",
        "                                    {\"end\":END,\n",
        "                                    \"tool\":\"select\"});"
      ]
    },
    {
      "cell_type": "code",
      "execution_count": 518,
      "metadata": {
        "id": "X8Z71CK8nKBr"
      },
      "outputs": [],
      "source": [
        "memory = MemorySaver()\n",
        "\n",
        "graph = graph_builder.compile(checkpointer=memory)"
      ]
    },
    {
      "cell_type": "code",
      "execution_count": 519,
      "metadata": {
        "id": "XWcfKPoOnKBr"
      },
      "outputs": [],
      "source": [
        "def reset_config(limit=20):\n",
        "\n",
        "    thread_id=random.randint(1,999999)\n",
        "\n",
        "    config = RunnableConfig(recursion_limit=limit, configurable={\"thread_id\": thread_id})\n",
        "\n",
        "    return config"
      ]
    },
    {
      "cell_type": "code",
      "execution_count": 520,
      "metadata": {
        "id": "OIHXlWbUnKBs"
      },
      "outputs": [],
      "source": [
        "config = reset_config()"
      ]
    },
    {
      "cell_type": "code",
      "execution_count": 521,
      "metadata": {
        "colab": {
          "base_uri": "https://localhost:8080/",
          "height": 635
        },
        "id": "YQ2jWtlinKBs",
        "outputId": "6a407954-ffb3-4df4-dd84-e0018e0b8e70"
      },
      "outputs": [
        {
          "data": {
            "image/png": "[encoded data removed]",
            "text/plain": [
              "<langgraph.graph.state.CompiledStateGraph object at 0x000001508057AC50>"
            ]
          },
          "execution_count": 521,
          "metadata": {},
          "output_type": "execute_result"
        }
      ],
      "source": [
        "graph"
      ]
    },
    {
      "cell_type": "code",
      "execution_count": 522,
      "metadata": {
        "id": "07_bBQgHnKBs"
      },
      "outputs": [],
      "source": [
        "def streaming(query, config):\n",
        "\n",
        "    result = graph.stream({\"messages\":(\"user\", query),\n",
        "                         \"query\":query}, config=config)\n",
        "    for step in result:\n",
        "        for k, v in step.items():\n",
        "            print(f\"\\n\\n=== {k} ===\\n\\n\")\n",
        "            print(v)\n",
        "\n",
        "    return"
      ]
    },
    {
      "cell_type": "code",
      "execution_count": 523,
      "metadata": {
        "colab": {
          "base_uri": "https://localhost:8080/"
        },
        "id": "rI6E1DvhnKBs",
        "outputId": "4274e7bf-2850-4dc6-8afd-a16f4e128861"
      },
      "outputs": [
        {
          "name": "stdout",
          "output_type": "stream",
          "text": [
            "\n",
            "\n",
            "=== history_node ===\n",
            "\n",
            "\n",
            "{'answer': '답변 없음', 'tool_call': '사용된 도구 없음'}\n",
            "\n",
            "\n",
            "=== memory_chat ===\n",
            "\n",
            "\n",
            "{'answer': '2', 'messages': [AIMessage(content='2', additional_kwargs={}, response_metadata={'prompt_feedback': {'block_reason': 0, 'safety_ratings': []}, 'finish_reason': 'STOP', 'model_name': 'gemini-2.0-flash', 'safety_ratings': []}, id='run-babda064-d8a1-4e82-8463-4228851dca27-0', usage_metadata={'input_tokens': 86, 'output_tokens': 2, 'total_tokens': 88, 'input_token_details': {'cache_read': 0}})]}\n",
            "\n",
            "\n",
            "=== response ===\n",
            "\n",
            "\n",
            "{'answer': AIMessage(content='2', additional_kwargs={}, response_metadata={'prompt_feedback': {'block_reason': 0, 'safety_ratings': []}, 'finish_reason': 'STOP', 'model_name': 'gemini-2.0-flash', 'safety_ratings': []}, id='run-babda064-d8a1-4e82-8463-4228851dca27-0', usage_metadata={'input_tokens': 86, 'output_tokens': 2, 'total_tokens': 88, 'input_token_details': {'cache_read': 0}})}\n"
          ]
        }
      ],
      "source": [
        "query = \"1+1은 뭔가요?\"\n",
        "\n",
        "streaming(query, config)"
      ]
    },
    {
      "cell_type": "code",
      "execution_count": 526,
      "metadata": {
        "cellView": "code",
        "colab": {
          "base_uri": "https://localhost:8080/"
        },
        "id": "fV55WRjNnKBs",
        "outputId": "9c74a21a-47bc-4949-9a3b-7ae168e84523"
      },
      "outputs": [
        {
          "name": "stdout",
          "output_type": "stream",
          "text": [
            "\n",
            "\n",
            "=== history_node ===\n",
            "\n",
            "\n",
            "{'answer': '답변 없음', 'tool_call': '사용된 도구 없음'}\n",
            "\n",
            "\n",
            "=== select ===\n",
            "\n",
            "\n",
            "{'messages': AIMessage(content='', additional_kwargs={'function_call': {'name': 'tavily_search_results_json', 'arguments': '{\"query\": \"\\\\ud14c\\\\uc2ac\\\\ub77c\"}'}}, response_metadata={'prompt_feedback': {'block_reason': 0, 'safety_ratings': []}, 'finish_reason': 'STOP', 'model_name': 'gemini-2.0-flash', 'safety_ratings': []}, id='run-b83b6129-8b3e-4081-9fad-780e3b530633-0', tool_calls=[{'name': 'tavily_search_results_json', 'args': {'query': '테슬라'}, 'id': '61447bbd-450e-448a-96a9-ba0eb14c4556', 'type': 'tool_call'}], usage_metadata={'input_tokens': 417, 'output_tokens': 12, 'total_tokens': 429, 'input_token_details': {'cache_read': 0}}), 'tool_call': [AIMessage(content='', additional_kwargs={'function_call': {'name': 'tavily_search_results_json', 'arguments': '{\"query\": \"\\\\ud14c\\\\uc2ac\\\\ub77c\"}'}}, response_metadata={'prompt_feedback': {'block_reason': 0, 'safety_ratings': []}, 'finish_reason': 'STOP', 'model_name': 'gemini-2.0-flash', 'safety_ratings': []}, id='run-b83b6129-8b3e-4081-9fad-780e3b530633-0', tool_calls=[{'name': 'tavily_search_results_json', 'args': {'query': '테슬라'}, 'id': '61447bbd-450e-448a-96a9-ba0eb14c4556', 'type': 'tool_call'}], usage_metadata={'input_tokens': 417, 'output_tokens': 12, 'total_tokens': 429, 'input_token_details': {'cache_read': 0}})]}\n",
            "\n",
            "\n",
            "=== tools ===\n",
            "\n",
            "\n",
            "{'messages': [ToolMessage(content='[{\"title\": \"테슬라 - 나무위키\", \"url\": \"https://namu.wiki/w/%ED%85%8C%EC%8A%AC%EB%9D%BC\", \"content\": \"하이트진로의 대표상품인 맥주 테라와 소주 참이슬을 섞어먹는 소맥을 지칭하는 은어. 비슷한 용어로 클라우드와 처음처럼을 섞어 먹는 구름처럼이 있다.\", \"score\": 0.6864757}, {\"title\": \"전기차, 태양광 및 청정 에너지 | Tesla 대한민국\", \"url\": \"https://www.tesla.com/ko_kr\", \"content\": \"Tesla는 전기차, 태양광과 가정용 및 기업용 통합 에너지 솔루션을 통해 지속 가능한 에너지로의 전 세계적 전환을 가속화하고 있습니다.\", \"score\": 0.6747586}, {\"title\": \"[자막뉴스] 머스크 향한 분노 확산... \\'설상가상\\' 테슬라 집단소송까지 ...\", \"url\": \"https://www.youtube.com/watch?v=_tyMNsmdp0w\", \"content\": \"다소 산발적이었던 이전 시위와 달리 이번 시위는 테슬라 전시장과 서비스센터 수백 곳을 한 번에 포위하려는 첫 시도였다고 미국 CBS는 전했습니다.\\\\n\\\\n미국뿐 아니라 독일과 영국, 호주 등의 테슬라 매장 200여 곳에서도 시위가 이어졌습니다.\\\\n\\\\n\\\\\"머스크를 달로 보내라\\\\\"\\\\n\\\\n\\'테슬라를 치우자\\'라는 이름으로 조직화한 시위대는 머스크에 대한 항의의 표시로 테슬라 차량과 주식을 팔아버리자고도 촉구했습니다.\\\\n\\\\n하지만 테슬라를 겨냥한 잇단 공격에 대해 \\'테러\\'로 규정하고 처벌하겠다고 나선 트럼프를 의식한 듯 \\'평화적 시위\\'라는 점을 강조했습니다.\\\\n\\\\n이처럼 국내외에서 원성이 자자한 머스크는 2022년 트위터 인수 당시 지분 미공개 건으로 집단 소송에도 직면하게 됐습니다.\\\\n\\\\n미국 법원은 머스크 때문에 손해를 봤다는 주주들의 소송을 기각해달라는 머스크의 요청을 받아들이지 않고 소송을 진행할 수 있다고 판결했습니다.\\\\n\\\\nYTN 박영진입니다.\\\\n\\\\n영상편집ㅣ안홍현\\\\n자막뉴스ㅣ이미영, 고현주 [...] [자막뉴스] 머스크 향한 분노 확산... \\'설상가상\\' 테슬라 집단소송까지 / YTN \\\\n  YTN \\\\n 140 likes \\\\n 14857 views \\\\n 31 Mar 2025 \\\\n 대량 해고와 예산 축소 등을 주도하며 정부에 막대한 영향력을 행사하는 머스크,\\\\n\\\\n머스크의 상징과도 같은 전 세계 테슬라 매장에서 머스크에 반대하는 시위가 벌어졌습니다.\\\\n\\\\n미국에서만 200곳 넘는 테슬라 매장 주변으로 각각 수십에서 수백 명의 시위대가 모였습니다.\\\\n\\\\n[주디스 바리시 / 버클리 주민 : 이 시위가 민주당 지도부에 사람들이 매우 분노하고 있으며 민주적으로 선출된 대표자들이 일어나서 행동에 나서기를 원한다는 메시지를 전달하기를 바랍니다.]\\\\n\\\\n[릭 닐 / 시위 참가자 : 우리는 일론 머스크가 우리 정부와 우리 삶에서 사라지길 바라기 때문에 나섰습니다. 이 사람이 누구죠? 세계에서 가장 부유한 사람이 들어와서 우리 정부를 망가뜨리기 시작한다고요? 말도 안 돼요.] [...] ※ \\'당신의 제보가 뉴스가 됩니다\\'\\\\n[카카오톡] YTN 검색해 채널 추가\\\\n[전화] 02-398-8585\\\\n[메일] social@ytn.co.kr\\\\n\\\\n▶ 기사 원문 : https://www.ytn.co.kr/_ln/0134_202503310850017901\\\\n▶ 제보 하기 : https://mj.ytn.co.kr/mj/mj_write.php\\\\n\\\\n▣ YTN 유튜브 채널 구독 : http://goo.gl/Ytb5SZ\\\\n\\\\nⓒ YTN 무단 전재, 재배포금지 및 AI 데이터 활용 금지 \\\\n 87 comments\", \"score\": 0.33001813}, {\"title\": \"Tesla Inc 오늘의 주가 - 테슬라 TSLA - 인베스팅닷컴\", \"url\": \"https://kr.investing.com/equities/tesla-motors\", \"content\": \"Tesla Inc의 오늘 주가는 263.55입니다. Tesla Inc의 주식 티커는? Tesla Inc의 티커는 \\\\\"TSLA.\\\\\" Tesla Inc가 거래되는 거래소는? Tesla Inc은/는 나스닥에서 거래되고\", \"score\": 0.32901484}, {\"title\": \"[에디터픽] 전세계 테슬라 매장서 시위...\\'머스크 혐오\\' 확산 / YTN\", \"url\": \"https://www.youtube.com/watch?v=SE9r_9mdhJc\", \"content\": \"1. \\'머스크 반대\\' 전 세계 확산...\\'지분 미공개\\' 머스크 집단소송 직면 (박영진 기자 / 250331)\\\\n2. 머스크 \\\\\"5월 말까지 1조 달러 절감...성공 못하면 미국 배 침몰\\\\\" (250328)\\\\n3. 머스크, 정부 계약 줄줄이 수주...자회사 돈방석 (250325)\\\\n4. 머스크, 하다하다 이제 전쟁계획 보고까지 받는다? [지금이뉴스] (250321)\\\\n5. 미 라스베이거스 테슬라 5대 방화 혐의로 \\'30대 한국계\\' 체포 [지금이뉴스] (250328)\\\\n6. 테슬라 중고차 가격 폭락...타사보다 2배 이상 하락 [지금이뉴스] (250321)\\\\n\\\\n#머스크 #반대시위 #테슬라 #트럼프 #집단소송 #X #YTN #YTN실시간 \\\\n\\\\nYTN 김예림 (kimrim91@ytn.co.kr)\\\\n\\\\n※ \\'당신의 제보가 뉴스가 됩니다\\'\\\\n[카카오톡] YTN 검색해 채널 추가\\\\n[전화] 02-398-8585\\\\n[메일] social@ytn.co.kr [...] [에디터픽] 전세계 테슬라 매장서 시위...\\'머스크 혐오\\' 확산 / YTN \\\\n  YTN \\\\n 139 likes \\\\n 13084 views \\\\n 31 Mar 2025 \\\\n 트럼프 행정부에서 막대한 영향력을 행사하고 있는 머스크에 반대하는 시위가 미국뿐 아니라 전 세계로 확산하고 있습니다.\\\\n\\\\n미국에서만 200곳이 넘는 테슬라 매장에서 시위가 펼쳐졌는데, 이전 시위와 달리 조직화하고 있다고 현지 언론들은 전했습니다.\\\\n\\\\n======================== [...] ▶ 제보 하기 : https://mj.ytn.co.kr/mj/mj_write.php\\\\n\\\\n▣ YTN 유튜브 채널 구독 : http://goo.gl/Ytb5SZ\\\\n\\\\n[저작권자(c) YTN 무단전재, 재배포 및 AI 데이터 활용 금지] \\\\n 0 comments\", \"score\": 0.30616438}]', name='tavily_search_results_json', id='883eae93-8c07-4c15-aefc-8d71c0d691cd', tool_call_id='61447bbd-450e-448a-96a9-ba0eb14c4556', artifact={'query': '테슬라', 'follow_up_questions': None, 'answer': None, 'images': [], 'results': [{'url': 'https://namu.wiki/w/%ED%85%8C%EC%8A%AC%EB%9D%BC', 'title': '테슬라 - 나무위키', 'content': '하이트진로의 대표상품인 맥주 테라와 소주 참이슬을 섞어먹는 소맥을 지칭하는 은어. 비슷한 용어로 클라우드와 처음처럼을 섞어 먹는 구름처럼이 있다.', 'score': 0.6864757, 'raw_content': None}, {'url': 'https://www.tesla.com/ko_kr', 'title': '전기차, 태양광 및 청정 에너지 | Tesla 대한민국', 'content': 'Tesla는 전기차, 태양광과 가정용 및 기업용 통합 에너지 솔루션을 통해 지속 가능한 에너지로의 전 세계적 전환을 가속화하고 있습니다.', 'score': 0.6747586, 'raw_content': None}, {'url': 'https://www.youtube.com/watch?v=_tyMNsmdp0w', 'title': \"[자막뉴스] 머스크 향한 분노 확산... '설상가상' 테슬라 집단소송까지 ...\", 'content': '다소 산발적이었던 이전 시위와 달리 이번 시위는 테슬라 전시장과 서비스센터 수백 곳을 한 번에 포위하려는 첫 시도였다고 미국 CBS는 전했습니다.\\n\\n미국뿐 아니라 독일과 영국, 호주 등의 테슬라 매장 200여 곳에서도 시위가 이어졌습니다.\\n\\n\"머스크를 달로 보내라\"\\n\\n\\'테슬라를 치우자\\'라는 이름으로 조직화한 시위대는 머스크에 대한 항의의 표시로 테슬라 차량과 주식을 팔아버리자고도 촉구했습니다.\\n\\n하지만 테슬라를 겨냥한 잇단 공격에 대해 \\'테러\\'로 규정하고 처벌하겠다고 나선 트럼프를 의식한 듯 \\'평화적 시위\\'라는 점을 강조했습니다.\\n\\n이처럼 국내외에서 원성이 자자한 머스크는 2022년 트위터 인수 당시 지분 미공개 건으로 집단 소송에도 직면하게 됐습니다.\\n\\n미국 법원은 머스크 때문에 손해를 봤다는 주주들의 소송을 기각해달라는 머스크의 요청을 받아들이지 않고 소송을 진행할 수 있다고 판결했습니다.\\n\\nYTN 박영진입니다.\\n\\n영상편집ㅣ안홍현\\n자막뉴스ㅣ이미영, 고현주 [...] [자막뉴스] 머스크 향한 분노 확산... \\'설상가상\\' 테슬라 집단소송까지 / YTN \\n  YTN \\n 140 likes \\n 14857 views \\n 31 Mar 2025 \\n 대량 해고와 예산 축소 등을 주도하며 정부에 막대한 영향력을 행사하는 머스크,\\n\\n머스크의 상징과도 같은 전 세계 테슬라 매장에서 머스크에 반대하는 시위가 벌어졌습니다.\\n\\n미국에서만 200곳 넘는 테슬라 매장 주변으로 각각 수십에서 수백 명의 시위대가 모였습니다.\\n\\n[주디스 바리시 / 버클리 주민 : 이 시위가 민주당 지도부에 사람들이 매우 분노하고 있으며 민주적으로 선출된 대표자들이 일어나서 행동에 나서기를 원한다는 메시지를 전달하기를 바랍니다.]\\n\\n[릭 닐 / 시위 참가자 : 우리는 일론 머스크가 우리 정부와 우리 삶에서 사라지길 바라기 때문에 나섰습니다. 이 사람이 누구죠? 세계에서 가장 부유한 사람이 들어와서 우리 정부를 망가뜨리기 시작한다고요? 말도 안 돼요.] [...] ※ \\'당신의 제보가 뉴스가 됩니다\\'\\n[카카오톡] YTN 검색해 채널 추가\\n[전화] 02-398-8585\\n[메일] social@ytn.co.kr\\n\\n▶ 기사 원문 : https://www.ytn.co.kr/_ln/0134_202503310850017901\\n▶ 제보 하기 : https://mj.ytn.co.kr/mj/mj_write.php\\n\\n▣ YTN 유튜브 채널 구독 : http://goo.gl/Ytb5SZ\\n\\nⓒ YTN 무단 전재, 재배포금지 및 AI 데이터 활용 금지 \\n 87 comments', 'score': 0.33001813, 'raw_content': None}, {'url': 'https://kr.investing.com/equities/tesla-motors', 'title': 'Tesla Inc 오늘의 주가 - 테슬라 TSLA - 인베스팅닷컴', 'content': 'Tesla Inc의 오늘 주가는 263.55입니다. Tesla Inc의 주식 티커는? Tesla Inc의 티커는 \"TSLA.\" Tesla Inc가 거래되는 거래소는? Tesla Inc은/는 나스닥에서 거래되고', 'score': 0.32901484, 'raw_content': None}, {'url': 'https://www.youtube.com/watch?v=SE9r_9mdhJc', 'title': \"[에디터픽] 전세계 테슬라 매장서 시위...'머스크 혐오' 확산 / YTN\", 'content': '1. \\'머스크 반대\\' 전 세계 확산...\\'지분 미공개\\' 머스크 집단소송 직면 (박영진 기자 / 250331)\\n2. 머스크 \"5월 말까지 1조 달러 절감...성공 못하면 미국 배 침몰\" (250328)\\n3. 머스크, 정부 계약 줄줄이 수주...자회사 돈방석 (250325)\\n4. 머스크, 하다하다 이제 전쟁계획 보고까지 받는다? [지금이뉴스] (250321)\\n5. 미 라스베이거스 테슬라 5대 방화 혐의로 \\'30대 한국계\\' 체포 [지금이뉴스] (250328)\\n6. 테슬라 중고차 가격 폭락...타사보다 2배 이상 하락 [지금이뉴스] (250321)\\n\\n#머스크 #반대시위 #테슬라 #트럼프 #집단소송 #X #YTN #YTN실시간 \\n\\nYTN 김예림 (kimrim91@ytn.co.kr)\\n\\n※ \\'당신의 제보가 뉴스가 됩니다\\'\\n[카카오톡] YTN 검색해 채널 추가\\n[전화] 02-398-8585\\n[메일] social@ytn.co.kr [...] [에디터픽] 전세계 테슬라 매장서 시위...\\'머스크 혐오\\' 확산 / YTN \\n  YTN \\n 139 likes \\n 13084 views \\n 31 Mar 2025 \\n 트럼프 행정부에서 막대한 영향력을 행사하고 있는 머스크에 반대하는 시위가 미국뿐 아니라 전 세계로 확산하고 있습니다.\\n\\n미국에서만 200곳이 넘는 테슬라 매장에서 시위가 펼쳐졌는데, 이전 시위와 달리 조직화하고 있다고 현지 언론들은 전했습니다.\\n\\n======================== [...] ▶ 제보 하기 : https://mj.ytn.co.kr/mj/mj_write.php\\n\\n▣ YTN 유튜브 채널 구독 : http://goo.gl/Ytb5SZ\\n\\n[저작권자(c) YTN 무단전재, 재배포 및 AI 데이터 활용 금지] \\n 0 comments', 'score': 0.30616438, 'raw_content': None}], 'response_time': 1.57})]}\n",
            "\n",
            "\n",
            "=== response ===\n",
            "\n",
            "\n",
            "{'answer': ToolMessage(content='[{\"title\": \"테슬라 - 나무위키\", \"url\": \"https://namu.wiki/w/%ED%85%8C%EC%8A%AC%EB%9D%BC\", \"content\": \"하이트진로의 대표상품인 맥주 테라와 소주 참이슬을 섞어먹는 소맥을 지칭하는 은어. 비슷한 용어로 클라우드와 처음처럼을 섞어 먹는 구름처럼이 있다.\", \"score\": 0.6864757}, {\"title\": \"전기차, 태양광 및 청정 에너지 | Tesla 대한민국\", \"url\": \"https://www.tesla.com/ko_kr\", \"content\": \"Tesla는 전기차, 태양광과 가정용 및 기업용 통합 에너지 솔루션을 통해 지속 가능한 에너지로의 전 세계적 전환을 가속화하고 있습니다.\", \"score\": 0.6747586}, {\"title\": \"[자막뉴스] 머스크 향한 분노 확산... \\'설상가상\\' 테슬라 집단소송까지 ...\", \"url\": \"https://www.youtube.com/watch?v=_tyMNsmdp0w\", \"content\": \"다소 산발적이었던 이전 시위와 달리 이번 시위는 테슬라 전시장과 서비스센터 수백 곳을 한 번에 포위하려는 첫 시도였다고 미국 CBS는 전했습니다.\\\\n\\\\n미국뿐 아니라 독일과 영국, 호주 등의 테슬라 매장 200여 곳에서도 시위가 이어졌습니다.\\\\n\\\\n\\\\\"머스크를 달로 보내라\\\\\"\\\\n\\\\n\\'테슬라를 치우자\\'라는 이름으로 조직화한 시위대는 머스크에 대한 항의의 표시로 테슬라 차량과 주식을 팔아버리자고도 촉구했습니다.\\\\n\\\\n하지만 테슬라를 겨냥한 잇단 공격에 대해 \\'테러\\'로 규정하고 처벌하겠다고 나선 트럼프를 의식한 듯 \\'평화적 시위\\'라는 점을 강조했습니다.\\\\n\\\\n이처럼 국내외에서 원성이 자자한 머스크는 2022년 트위터 인수 당시 지분 미공개 건으로 집단 소송에도 직면하게 됐습니다.\\\\n\\\\n미국 법원은 머스크 때문에 손해를 봤다는 주주들의 소송을 기각해달라는 머스크의 요청을 받아들이지 않고 소송을 진행할 수 있다고 판결했습니다.\\\\n\\\\nYTN 박영진입니다.\\\\n\\\\n영상편집ㅣ안홍현\\\\n자막뉴스ㅣ이미영, 고현주 [...] [자막뉴스] 머스크 향한 분노 확산... \\'설상가상\\' 테슬라 집단소송까지 / YTN \\\\n  YTN \\\\n 140 likes \\\\n 14857 views \\\\n 31 Mar 2025 \\\\n 대량 해고와 예산 축소 등을 주도하며 정부에 막대한 영향력을 행사하는 머스크,\\\\n\\\\n머스크의 상징과도 같은 전 세계 테슬라 매장에서 머스크에 반대하는 시위가 벌어졌습니다.\\\\n\\\\n미국에서만 200곳 넘는 테슬라 매장 주변으로 각각 수십에서 수백 명의 시위대가 모였습니다.\\\\n\\\\n[주디스 바리시 / 버클리 주민 : 이 시위가 민주당 지도부에 사람들이 매우 분노하고 있으며 민주적으로 선출된 대표자들이 일어나서 행동에 나서기를 원한다는 메시지를 전달하기를 바랍니다.]\\\\n\\\\n[릭 닐 / 시위 참가자 : 우리는 일론 머스크가 우리 정부와 우리 삶에서 사라지길 바라기 때문에 나섰습니다. 이 사람이 누구죠? 세계에서 가장 부유한 사람이 들어와서 우리 정부를 망가뜨리기 시작한다고요? 말도 안 돼요.] [...] ※ \\'당신의 제보가 뉴스가 됩니다\\'\\\\n[카카오톡] YTN 검색해 채널 추가\\\\n[전화] 02-398-8585\\\\n[메일] social@ytn.co.kr\\\\n\\\\n▶ 기사 원문 : https://www.ytn.co.kr/_ln/0134_202503310850017901\\\\n▶ 제보 하기 : https://mj.ytn.co.kr/mj/mj_write.php\\\\n\\\\n▣ YTN 유튜브 채널 구독 : http://goo.gl/Ytb5SZ\\\\n\\\\nⓒ YTN 무단 전재, 재배포금지 및 AI 데이터 활용 금지 \\\\n 87 comments\", \"score\": 0.33001813}, {\"title\": \"Tesla Inc 오늘의 주가 - 테슬라 TSLA - 인베스팅닷컴\", \"url\": \"https://kr.investing.com/equities/tesla-motors\", \"content\": \"Tesla Inc의 오늘 주가는 263.55입니다. Tesla Inc의 주식 티커는? Tesla Inc의 티커는 \\\\\"TSLA.\\\\\" Tesla Inc가 거래되는 거래소는? Tesla Inc은/는 나스닥에서 거래되고\", \"score\": 0.32901484}, {\"title\": \"[에디터픽] 전세계 테슬라 매장서 시위...\\'머스크 혐오\\' 확산 / YTN\", \"url\": \"https://www.youtube.com/watch?v=SE9r_9mdhJc\", \"content\": \"1. \\'머스크 반대\\' 전 세계 확산...\\'지분 미공개\\' 머스크 집단소송 직면 (박영진 기자 / 250331)\\\\n2. 머스크 \\\\\"5월 말까지 1조 달러 절감...성공 못하면 미국 배 침몰\\\\\" (250328)\\\\n3. 머스크, 정부 계약 줄줄이 수주...자회사 돈방석 (250325)\\\\n4. 머스크, 하다하다 이제 전쟁계획 보고까지 받는다? [지금이뉴스] (250321)\\\\n5. 미 라스베이거스 테슬라 5대 방화 혐의로 \\'30대 한국계\\' 체포 [지금이뉴스] (250328)\\\\n6. 테슬라 중고차 가격 폭락...타사보다 2배 이상 하락 [지금이뉴스] (250321)\\\\n\\\\n#머스크 #반대시위 #테슬라 #트럼프 #집단소송 #X #YTN #YTN실시간 \\\\n\\\\nYTN 김예림 (kimrim91@ytn.co.kr)\\\\n\\\\n※ \\'당신의 제보가 뉴스가 됩니다\\'\\\\n[카카오톡] YTN 검색해 채널 추가\\\\n[전화] 02-398-8585\\\\n[메일] social@ytn.co.kr [...] [에디터픽] 전세계 테슬라 매장서 시위...\\'머스크 혐오\\' 확산 / YTN \\\\n  YTN \\\\n 139 likes \\\\n 13084 views \\\\n 31 Mar 2025 \\\\n 트럼프 행정부에서 막대한 영향력을 행사하고 있는 머스크에 반대하는 시위가 미국뿐 아니라 전 세계로 확산하고 있습니다.\\\\n\\\\n미국에서만 200곳이 넘는 테슬라 매장에서 시위가 펼쳐졌는데, 이전 시위와 달리 조직화하고 있다고 현지 언론들은 전했습니다.\\\\n\\\\n======================== [...] ▶ 제보 하기 : https://mj.ytn.co.kr/mj/mj_write.php\\\\n\\\\n▣ YTN 유튜브 채널 구독 : http://goo.gl/Ytb5SZ\\\\n\\\\n[저작권자(c) YTN 무단전재, 재배포 및 AI 데이터 활용 금지] \\\\n 0 comments\", \"score\": 0.30616438}]', name='tavily_search_results_json', id='883eae93-8c07-4c15-aefc-8d71c0d691cd', tool_call_id='61447bbd-450e-448a-96a9-ba0eb14c4556', artifact={'query': '테슬라', 'follow_up_questions': None, 'answer': None, 'images': [], 'results': [{'url': 'https://namu.wiki/w/%ED%85%8C%EC%8A%AC%EB%9D%BC', 'title': '테슬라 - 나무위키', 'content': '하이트진로의 대표상품인 맥주 테라와 소주 참이슬을 섞어먹는 소맥을 지칭하는 은어. 비슷한 용어로 클라우드와 처음처럼을 섞어 먹는 구름처럼이 있다.', 'score': 0.6864757, 'raw_content': None}, {'url': 'https://www.tesla.com/ko_kr', 'title': '전기차, 태양광 및 청정 에너지 | Tesla 대한민국', 'content': 'Tesla는 전기차, 태양광과 가정용 및 기업용 통합 에너지 솔루션을 통해 지속 가능한 에너지로의 전 세계적 전환을 가속화하고 있습니다.', 'score': 0.6747586, 'raw_content': None}, {'url': 'https://www.youtube.com/watch?v=_tyMNsmdp0w', 'title': \"[자막뉴스] 머스크 향한 분노 확산... '설상가상' 테슬라 집단소송까지 ...\", 'content': '다소 산발적이었던 이전 시위와 달리 이번 시위는 테슬라 전시장과 서비스센터 수백 곳을 한 번에 포위하려는 첫 시도였다고 미국 CBS는 전했습니다.\\n\\n미국뿐 아니라 독일과 영국, 호주 등의 테슬라 매장 200여 곳에서도 시위가 이어졌습니다.\\n\\n\"머스크를 달로 보내라\"\\n\\n\\'테슬라를 치우자\\'라는 이름으로 조직화한 시위대는 머스크에 대한 항의의 표시로 테슬라 차량과 주식을 팔아버리자고도 촉구했습니다.\\n\\n하지만 테슬라를 겨냥한 잇단 공격에 대해 \\'테러\\'로 규정하고 처벌하겠다고 나선 트럼프를 의식한 듯 \\'평화적 시위\\'라는 점을 강조했습니다.\\n\\n이처럼 국내외에서 원성이 자자한 머스크는 2022년 트위터 인수 당시 지분 미공개 건으로 집단 소송에도 직면하게 됐습니다.\\n\\n미국 법원은 머스크 때문에 손해를 봤다는 주주들의 소송을 기각해달라는 머스크의 요청을 받아들이지 않고 소송을 진행할 수 있다고 판결했습니다.\\n\\nYTN 박영진입니다.\\n\\n영상편집ㅣ안홍현\\n자막뉴스ㅣ이미영, 고현주 [...] [자막뉴스] 머스크 향한 분노 확산... \\'설상가상\\' 테슬라 집단소송까지 / YTN \\n  YTN \\n 140 likes \\n 14857 views \\n 31 Mar 2025 \\n 대량 해고와 예산 축소 등을 주도하며 정부에 막대한 영향력을 행사하는 머스크,\\n\\n머스크의 상징과도 같은 전 세계 테슬라 매장에서 머스크에 반대하는 시위가 벌어졌습니다.\\n\\n미국에서만 200곳 넘는 테슬라 매장 주변으로 각각 수십에서 수백 명의 시위대가 모였습니다.\\n\\n[주디스 바리시 / 버클리 주민 : 이 시위가 민주당 지도부에 사람들이 매우 분노하고 있으며 민주적으로 선출된 대표자들이 일어나서 행동에 나서기를 원한다는 메시지를 전달하기를 바랍니다.]\\n\\n[릭 닐 / 시위 참가자 : 우리는 일론 머스크가 우리 정부와 우리 삶에서 사라지길 바라기 때문에 나섰습니다. 이 사람이 누구죠? 세계에서 가장 부유한 사람이 들어와서 우리 정부를 망가뜨리기 시작한다고요? 말도 안 돼요.] [...] ※ \\'당신의 제보가 뉴스가 됩니다\\'\\n[카카오톡] YTN 검색해 채널 추가\\n[전화] 02-398-8585\\n[메일] social@ytn.co.kr\\n\\n▶ 기사 원문 : https://www.ytn.co.kr/_ln/0134_202503310850017901\\n▶ 제보 하기 : https://mj.ytn.co.kr/mj/mj_write.php\\n\\n▣ YTN 유튜브 채널 구독 : http://goo.gl/Ytb5SZ\\n\\nⓒ YTN 무단 전재, 재배포금지 및 AI 데이터 활용 금지 \\n 87 comments', 'score': 0.33001813, 'raw_content': None}, {'url': 'https://kr.investing.com/equities/tesla-motors', 'title': 'Tesla Inc 오늘의 주가 - 테슬라 TSLA - 인베스팅닷컴', 'content': 'Tesla Inc의 오늘 주가는 263.55입니다. Tesla Inc의 주식 티커는? Tesla Inc의 티커는 \"TSLA.\" Tesla Inc가 거래되는 거래소는? Tesla Inc은/는 나스닥에서 거래되고', 'score': 0.32901484, 'raw_content': None}, {'url': 'https://www.youtube.com/watch?v=SE9r_9mdhJc', 'title': \"[에디터픽] 전세계 테슬라 매장서 시위...'머스크 혐오' 확산 / YTN\", 'content': '1. \\'머스크 반대\\' 전 세계 확산...\\'지분 미공개\\' 머스크 집단소송 직면 (박영진 기자 / 250331)\\n2. 머스크 \"5월 말까지 1조 달러 절감...성공 못하면 미국 배 침몰\" (250328)\\n3. 머스크, 정부 계약 줄줄이 수주...자회사 돈방석 (250325)\\n4. 머스크, 하다하다 이제 전쟁계획 보고까지 받는다? [지금이뉴스] (250321)\\n5. 미 라스베이거스 테슬라 5대 방화 혐의로 \\'30대 한국계\\' 체포 [지금이뉴스] (250328)\\n6. 테슬라 중고차 가격 폭락...타사보다 2배 이상 하락 [지금이뉴스] (250321)\\n\\n#머스크 #반대시위 #테슬라 #트럼프 #집단소송 #X #YTN #YTN실시간 \\n\\nYTN 김예림 (kimrim91@ytn.co.kr)\\n\\n※ \\'당신의 제보가 뉴스가 됩니다\\'\\n[카카오톡] YTN 검색해 채널 추가\\n[전화] 02-398-8585\\n[메일] social@ytn.co.kr [...] [에디터픽] 전세계 테슬라 매장서 시위...\\'머스크 혐오\\' 확산 / YTN \\n  YTN \\n 139 likes \\n 13084 views \\n 31 Mar 2025 \\n 트럼프 행정부에서 막대한 영향력을 행사하고 있는 머스크에 반대하는 시위가 미국뿐 아니라 전 세계로 확산하고 있습니다.\\n\\n미국에서만 200곳이 넘는 테슬라 매장에서 시위가 펼쳐졌는데, 이전 시위와 달리 조직화하고 있다고 현지 언론들은 전했습니다.\\n\\n======================== [...] ▶ 제보 하기 : https://mj.ytn.co.kr/mj/mj_write.php\\n\\n▣ YTN 유튜브 채널 구독 : http://goo.gl/Ytb5SZ\\n\\n[저작권자(c) YTN 무단전재, 재배포 및 AI 데이터 활용 금지] \\n 0 comments', 'score': 0.30616438, 'raw_content': None}], 'response_time': 1.57})}\n",
            "\n",
            "\n",
            "=== select ===\n",
            "\n",
            "\n",
            "{'messages': AIMessage(content='이전 검색 결과를 바탕으로 테슬라 관련 보고서를 작성하고 PDF 파일로 저장하겠습니다.', additional_kwargs={'function_call': {'name': 'write_pdf', 'arguments': '{\"content\": \"## \\\\ud14c\\\\uc2ac\\\\ub77c \\\\ubcf4\\\\uace0\\\\uc11c\\\\n\\\\n### \\\\uac1c\\\\uc694\\\\n\\\\n\\\\uc774 \\\\ubcf4\\\\uace0\\\\uc11c\\\\ub294 \\\\ud14c\\\\uc2ac\\\\ub77c\\\\uc5d0 \\\\ub300\\\\ud55c \\\\uc870\\\\uc0ac \\\\uacb0\\\\uacfc\\\\ub97c \\\\uc694\\\\uc57d\\\\ud55c \\\\uac83\\\\uc785\\\\ub2c8\\\\ub2e4. \\\\ud14c\\\\uc2ac\\\\ub77c\\\\ub294 \\\\uc804\\\\uae30 \\\\uc790\\\\ub3d9\\\\ucc28, \\\\ud0dc\\\\uc591\\\\uad11 \\\\ubc0f \\\\uccad\\\\uc815 \\\\uc5d0\\\\ub108\\\\uc9c0 \\\\uc194\\\\ub8e8\\\\uc158\\\\uc744 \\\\uc81c\\\\uacf5\\\\ud558\\\\ub294 \\\\ud68c\\\\uc0ac\\\\uc785\\\\ub2c8\\\\ub2e4.\\\\n\\\\n### \\\\uac80\\\\uc0c9 \\\\uacb0\\\\uacfc \\\\uc694\\\\uc57d\\\\n\\\\n*   **\\\\ub098\\\\ubb34\\\\uc704\\\\ud0a4:** \\\\ud14c\\\\uc2ac\\\\ub77c\\\\ub294 \\\\ud558\\\\uc774\\\\ud2b8\\\\uc9c4\\\\ub85c\\\\uc758 \\\\ub9e5\\\\uc8fc \\\\ud14c\\\\ub77c\\\\uc640 \\\\uc18c\\\\uc8fc \\\\ucc38\\\\uc774\\\\uc2ac\\\\uc744 \\\\uc11e\\\\uc5b4 \\\\uba39\\\\ub294 \\\\uc18c\\\\ub9e5\\\\uc744 \\\\uc758\\\\ubbf8\\\\ud558\\\\uae30\\\\ub3c4 \\\\ud569\\\\ub2c8\\\\ub2e4.\\\\n*   **Tesla \\\\ub300\\\\ud55c\\\\ubbfc\\\\uad6d:** \\\\ud14c\\\\uc2ac\\\\ub77c\\\\ub294 \\\\uc804\\\\uae30\\\\ucc28, \\\\ud0dc\\\\uc591\\\\uad11\\\\uacfc \\\\uac00\\\\uc815\\\\uc6a9 \\\\ubc0f \\\\uae30\\\\uc5c5\\\\uc6a9 \\\\ud1b5\\\\ud569 \\\\uc5d0\\\\ub108\\\\uc9c0 \\\\uc194\\\\ub8e8\\\\uc158\\\\uc744 \\\\ud1b5\\\\ud574 \\\\uc9c0\\\\uc18d \\\\uac00\\\\ub2a5\\\\ud55c \\\\uc5d0\\\\ub108\\\\uc9c0\\\\ub85c\\\\uc758 \\\\uc804 \\\\uc138\\\\uacc4\\\\uc801 \\\\uc804\\\\ud658\\\\uc744 \\\\uac00\\\\uc18d\\\\ud654\\\\ud558\\\\uace0 \\\\uc788\\\\uc2b5\\\\ub2c8\\\\ub2e4.\\\\n*   **YTN \\\\ub274\\\\uc2a4:** \\\\uc804 \\\\uc138\\\\uacc4 \\\\ud14c\\\\uc2ac\\\\ub77c \\\\ub9e4\\\\uc7a5\\\\uc5d0\\\\uc11c \\\\uba38\\\\uc2a4\\\\ud06c\\\\uc5d0 \\\\ubc18\\\\ub300\\\\ud558\\\\ub294 \\\\uc2dc\\\\uc704\\\\uac00 \\\\ubc8c\\\\uc5b4\\\\uc9c0\\\\uace0 \\\\uc788\\\\uc73c\\\\uba70, \\\\uba38\\\\uc2a4\\\\ud06c\\\\ub294 2022\\\\ub144 \\\\ud2b8\\\\uc704\\\\ud130 \\\\uc778\\\\uc218 \\\\ub2f9\\\\uc2dc \\\\uc9c0\\\\ubd84 \\\\ubbf8\\\\uacf5\\\\uac1c \\\\uac74\\\\uc73c\\\\ub85c \\\\uc9d1\\\\ub2e8 \\\\uc18c\\\\uc1a1\\\\uc5d0 \\\\uc9c1\\\\uba74\\\\ud588\\\\uc2b5\\\\ub2c8\\\\ub2e4.\\\\n*   **\\\\uc778\\\\ubca0\\\\uc2a4\\\\ud305\\\\ub2f7\\\\ucef4:** Tesla Inc\\\\uc758 \\\\uc624\\\\ub298 \\\\uc8fc\\\\uac00\\\\ub294 263.55\\\\uc785\\\\ub2c8\\\\ub2e4. \\\\ud2f0\\\\ucee4\\\\ub294 TSLA\\\\uc774\\\\uba70, \\\\ub098\\\\uc2a4\\\\ub2e5\\\\uc5d0\\\\uc11c \\\\uac70\\\\ub798\\\\ub429\\\\ub2c8\\\\ub2e4.\\\\n\\\\n### \\\\uacb0\\\\ub860\\\\n\\\\n\\\\ud14c\\\\uc2ac\\\\ub77c\\\\ub294 \\\\uc804\\\\uae30 \\\\uc790\\\\ub3d9\\\\ucc28 \\\\uc0b0\\\\uc5c5\\\\uc758 \\\\uc120\\\\ub450 \\\\uc8fc\\\\uc790\\\\uc774\\\\uc9c0\\\\ub9cc, \\\\ucd5c\\\\uadfc\\\\uc5d0\\\\ub294 \\\\uba38\\\\uc2a4\\\\ud06c \\\\uad00\\\\ub828 \\\\uc774\\\\uc288\\\\ub85c \\\\uc778\\\\ud574 \\\\uc5b4\\\\ub824\\\\uc6c0\\\\uc744 \\\\uacaa\\\\uace0 \\\\uc788\\\\uc2b5\\\\ub2c8\\\\ub2e4.\", \"filename\": \"\\\\ud14c\\\\uc2ac\\\\ub77c \\\\ubcf4\\\\uace0\\\\uc11c.pdf\"}'}}, response_metadata={'prompt_feedback': {'block_reason': 0, 'safety_ratings': []}, 'finish_reason': 'STOP', 'model_name': 'gemini-2.0-flash', 'safety_ratings': []}, id='run-61161eb0-38e8-4000-beb4-790f2bd83608-0', tool_calls=[{'name': 'write_pdf', 'args': {'content': '## 테슬라 보고서\\n\\n### 개요\\n\\n이 보고서는 테슬라에 대한 조사 결과를 요약한 것입니다. 테슬라는 전기 자동차, 태양광 및 청정 에너지 솔루션을 제공하는 회사입니다.\\n\\n### 검색 결과 요약\\n\\n*   **나무위키:** 테슬라는 하이트진로의 맥주 테라와 소주 참이슬을 섞어 먹는 소맥을 의미하기도 합니다.\\n*   **Tesla 대한민국:** 테슬라는 전기차, 태양광과 가정용 및 기업용 통합 에너지 솔루션을 통해 지속 가능한 에너지로의 전 세계적 전환을 가속화하고 있습니다.\\n*   **YTN 뉴스:** 전 세계 테슬라 매장에서 머스크에 반대하는 시위가 벌어지고 있으며, 머스크는 2022년 트위터 인수 당시 지분 미공개 건으로 집단 소송에 직면했습니다.\\n*   **인베스팅닷컴:** Tesla Inc의 오늘 주가는 263.55입니다. 티커는 TSLA이며, 나스닥에서 거래됩니다.\\n\\n### 결론\\n\\n테슬라는 전기 자동차 산업의 선두 주자이지만, 최근에는 머스크 관련 이슈로 인해 어려움을 겪고 있습니다.', 'filename': '테슬라 보고서.pdf'}, 'id': 'c127b8b2-1b99-4565-aee5-5b46f6e76791', 'type': 'tool_call'}], usage_metadata={'input_tokens': 5130, 'output_tokens': 349, 'total_tokens': 5479, 'input_token_details': {'cache_read': 0}}), 'tool_call': [AIMessage(content='이전 검색 결과를 바탕으로 테슬라 관련 보고서를 작성하고 PDF 파일로 저장하겠습니다.', additional_kwargs={'function_call': {'name': 'write_pdf', 'arguments': '{\"content\": \"## \\\\ud14c\\\\uc2ac\\\\ub77c \\\\ubcf4\\\\uace0\\\\uc11c\\\\n\\\\n### \\\\uac1c\\\\uc694\\\\n\\\\n\\\\uc774 \\\\ubcf4\\\\uace0\\\\uc11c\\\\ub294 \\\\ud14c\\\\uc2ac\\\\ub77c\\\\uc5d0 \\\\ub300\\\\ud55c \\\\uc870\\\\uc0ac \\\\uacb0\\\\uacfc\\\\ub97c \\\\uc694\\\\uc57d\\\\ud55c \\\\uac83\\\\uc785\\\\ub2c8\\\\ub2e4. \\\\ud14c\\\\uc2ac\\\\ub77c\\\\ub294 \\\\uc804\\\\uae30 \\\\uc790\\\\ub3d9\\\\ucc28, \\\\ud0dc\\\\uc591\\\\uad11 \\\\ubc0f \\\\uccad\\\\uc815 \\\\uc5d0\\\\ub108\\\\uc9c0 \\\\uc194\\\\ub8e8\\\\uc158\\\\uc744 \\\\uc81c\\\\uacf5\\\\ud558\\\\ub294 \\\\ud68c\\\\uc0ac\\\\uc785\\\\ub2c8\\\\ub2e4.\\\\n\\\\n### \\\\uac80\\\\uc0c9 \\\\uacb0\\\\uacfc \\\\uc694\\\\uc57d\\\\n\\\\n*   **\\\\ub098\\\\ubb34\\\\uc704\\\\ud0a4:** \\\\ud14c\\\\uc2ac\\\\ub77c\\\\ub294 \\\\ud558\\\\uc774\\\\ud2b8\\\\uc9c4\\\\ub85c\\\\uc758 \\\\ub9e5\\\\uc8fc \\\\ud14c\\\\ub77c\\\\uc640 \\\\uc18c\\\\uc8fc \\\\ucc38\\\\uc774\\\\uc2ac\\\\uc744 \\\\uc11e\\\\uc5b4 \\\\uba39\\\\ub294 \\\\uc18c\\\\ub9e5\\\\uc744 \\\\uc758\\\\ubbf8\\\\ud558\\\\uae30\\\\ub3c4 \\\\ud569\\\\ub2c8\\\\ub2e4.\\\\n*   **Tesla \\\\ub300\\\\ud55c\\\\ubbfc\\\\uad6d:** \\\\ud14c\\\\uc2ac\\\\ub77c\\\\ub294 \\\\uc804\\\\uae30\\\\ucc28, \\\\ud0dc\\\\uc591\\\\uad11\\\\uacfc \\\\uac00\\\\uc815\\\\uc6a9 \\\\ubc0f \\\\uae30\\\\uc5c5\\\\uc6a9 \\\\ud1b5\\\\ud569 \\\\uc5d0\\\\ub108\\\\uc9c0 \\\\uc194\\\\ub8e8\\\\uc158\\\\uc744 \\\\ud1b5\\\\ud574 \\\\uc9c0\\\\uc18d \\\\uac00\\\\ub2a5\\\\ud55c \\\\uc5d0\\\\ub108\\\\uc9c0\\\\ub85c\\\\uc758 \\\\uc804 \\\\uc138\\\\uacc4\\\\uc801 \\\\uc804\\\\ud658\\\\uc744 \\\\uac00\\\\uc18d\\\\ud654\\\\ud558\\\\uace0 \\\\uc788\\\\uc2b5\\\\ub2c8\\\\ub2e4.\\\\n*   **YTN \\\\ub274\\\\uc2a4:** \\\\uc804 \\\\uc138\\\\uacc4 \\\\ud14c\\\\uc2ac\\\\ub77c \\\\ub9e4\\\\uc7a5\\\\uc5d0\\\\uc11c \\\\uba38\\\\uc2a4\\\\ud06c\\\\uc5d0 \\\\ubc18\\\\ub300\\\\ud558\\\\ub294 \\\\uc2dc\\\\uc704\\\\uac00 \\\\ubc8c\\\\uc5b4\\\\uc9c0\\\\uace0 \\\\uc788\\\\uc73c\\\\uba70, \\\\uba38\\\\uc2a4\\\\ud06c\\\\ub294 2022\\\\ub144 \\\\ud2b8\\\\uc704\\\\ud130 \\\\uc778\\\\uc218 \\\\ub2f9\\\\uc2dc \\\\uc9c0\\\\ubd84 \\\\ubbf8\\\\uacf5\\\\uac1c \\\\uac74\\\\uc73c\\\\ub85c \\\\uc9d1\\\\ub2e8 \\\\uc18c\\\\uc1a1\\\\uc5d0 \\\\uc9c1\\\\uba74\\\\ud588\\\\uc2b5\\\\ub2c8\\\\ub2e4.\\\\n*   **\\\\uc778\\\\ubca0\\\\uc2a4\\\\ud305\\\\ub2f7\\\\ucef4:** Tesla Inc\\\\uc758 \\\\uc624\\\\ub298 \\\\uc8fc\\\\uac00\\\\ub294 263.55\\\\uc785\\\\ub2c8\\\\ub2e4. \\\\ud2f0\\\\ucee4\\\\ub294 TSLA\\\\uc774\\\\uba70, \\\\ub098\\\\uc2a4\\\\ub2e5\\\\uc5d0\\\\uc11c \\\\uac70\\\\ub798\\\\ub429\\\\ub2c8\\\\ub2e4.\\\\n\\\\n### \\\\uacb0\\\\ub860\\\\n\\\\n\\\\ud14c\\\\uc2ac\\\\ub77c\\\\ub294 \\\\uc804\\\\uae30 \\\\uc790\\\\ub3d9\\\\ucc28 \\\\uc0b0\\\\uc5c5\\\\uc758 \\\\uc120\\\\ub450 \\\\uc8fc\\\\uc790\\\\uc774\\\\uc9c0\\\\ub9cc, \\\\ucd5c\\\\uadfc\\\\uc5d0\\\\ub294 \\\\uba38\\\\uc2a4\\\\ud06c \\\\uad00\\\\ub828 \\\\uc774\\\\uc288\\\\ub85c \\\\uc778\\\\ud574 \\\\uc5b4\\\\ub824\\\\uc6c0\\\\uc744 \\\\uacaa\\\\uace0 \\\\uc788\\\\uc2b5\\\\ub2c8\\\\ub2e4.\", \"filename\": \"\\\\ud14c\\\\uc2ac\\\\ub77c \\\\ubcf4\\\\uace0\\\\uc11c.pdf\"}'}}, response_metadata={'prompt_feedback': {'block_reason': 0, 'safety_ratings': []}, 'finish_reason': 'STOP', 'model_name': 'gemini-2.0-flash', 'safety_ratings': []}, id='run-61161eb0-38e8-4000-beb4-790f2bd83608-0', tool_calls=[{'name': 'write_pdf', 'args': {'content': '## 테슬라 보고서\\n\\n### 개요\\n\\n이 보고서는 테슬라에 대한 조사 결과를 요약한 것입니다. 테슬라는 전기 자동차, 태양광 및 청정 에너지 솔루션을 제공하는 회사입니다.\\n\\n### 검색 결과 요약\\n\\n*   **나무위키:** 테슬라는 하이트진로의 맥주 테라와 소주 참이슬을 섞어 먹는 소맥을 의미하기도 합니다.\\n*   **Tesla 대한민국:** 테슬라는 전기차, 태양광과 가정용 및 기업용 통합 에너지 솔루션을 통해 지속 가능한 에너지로의 전 세계적 전환을 가속화하고 있습니다.\\n*   **YTN 뉴스:** 전 세계 테슬라 매장에서 머스크에 반대하는 시위가 벌어지고 있으며, 머스크는 2022년 트위터 인수 당시 지분 미공개 건으로 집단 소송에 직면했습니다.\\n*   **인베스팅닷컴:** Tesla Inc의 오늘 주가는 263.55입니다. 티커는 TSLA이며, 나스닥에서 거래됩니다.\\n\\n### 결론\\n\\n테슬라는 전기 자동차 산업의 선두 주자이지만, 최근에는 머스크 관련 이슈로 인해 어려움을 겪고 있습니다.', 'filename': '테슬라 보고서.pdf'}, 'id': 'c127b8b2-1b99-4565-aee5-5b46f6e76791', 'type': 'tool_call'}], usage_metadata={'input_tokens': 5130, 'output_tokens': 349, 'total_tokens': 5479, 'input_token_details': {'cache_read': 0}})]}\n",
            "\n",
            "\n",
            "\n",
            "\n",
            "\n",
            "이것은 content 입니다.\n",
            "\n",
            " ## 테슬라 보고서\n",
            "\n",
            "### 개요\n",
            "\n",
            "이 보고서는 테슬라에 대한 조사 결과를 요약한 것입니다. 테슬라는 전기 자동차, 태양광 및 청정 에너지 솔루션을 제공하는 회사입니다.\n",
            "\n",
            "### 검색 결과 요약\n",
            "\n",
            "*   **나무위키:** 테슬라는 하이트진로의 맥주 테라와 소주 참이슬을 섞어 먹는 소맥을 의미하기도 합니다.\n",
            "*   **Tesla 대한민국:** 테슬라는 전기차, 태양광과 가정용 및 기업용 통합 에너지 솔루션을 통해 지속 가능한 에너지로의 전 세계적 전환을 가속화하고 있습니다.\n",
            "*   **YTN 뉴스:** 전 세계 테슬라 매장에서 머스크에 반대하는 시위가 벌어지고 있으며, 머스크는 2022년 트위터 인수 당시 지분 미공개 건으로 집단 소송에 직면했습니다.\n",
            "*   **인베스팅닷컴:** Tesla Inc의 오늘 주가는 263.55입니다. 티커는 TSLA이며, 나스닥에서 거래됩니다.\n",
            "\n",
            "### 결론\n",
            "\n",
            "테슬라는 전기 자동차 산업의 선두 주자이지만, 최근에는 머스크 관련 이슈로 인해 어려움을 겪고 있습니다.\n",
            "\n",
            "\n",
            "=== tools ===\n",
            "\n",
            "\n",
            "{'messages': [ToolMessage(content='테슬라 보고서.pdf 저장 완료', name='write_pdf', id='e1089017-b456-44d4-b586-390b557ab96c', tool_call_id='c127b8b2-1b99-4565-aee5-5b46f6e76791')]}\n",
            "\n",
            "\n",
            "=== response ===\n",
            "\n",
            "\n",
            "{'answer': ToolMessage(content='테슬라 보고서.pdf 저장 완료', name='write_pdf', id='e1089017-b456-44d4-b586-390b557ab96c', tool_call_id='c127b8b2-1b99-4565-aee5-5b46f6e76791')}\n"
          ]
        }
      ],
      "source": [
        "config = reset_config()\n",
        "\n",
        "query = \"테슬라에 대해 조사해서 레포트로 만들어주세요. 파일 형식은 pdf로 저장해주세요.\"\n",
        "\n",
        "streaming(query, config)"
      ]
    },
    {
      "cell_type": "code",
      "execution_count": 527,
      "metadata": {},
      "outputs": [
        {
          "name": "stdout",
          "output_type": "stream",
          "text": [
            "\n",
            "\n",
            "=== history_node ===\n",
            "\n",
            "\n",
            "{'answer': '답변 없음', 'tool_call': '사용된 도구 없음'}\n",
            "\n",
            "\n",
            "=== select ===\n",
            "\n",
            "\n",
            "{'messages': AIMessage(content='', additional_kwargs={'function_call': {'name': 'tavily_search_results_json', 'arguments': '{\"query\": \"\\\\ud53c\\\\uc5d4\\\\ud2f0 \\\\ud68c\\\\uc0ac\"}'}}, response_metadata={'prompt_feedback': {'block_reason': 0, 'safety_ratings': []}, 'finish_reason': 'STOP', 'model_name': 'gemini-2.0-flash', 'safety_ratings': []}, id='run-c19a4e02-9650-4fa5-b907-4d27e11b6daa-0', tool_calls=[{'name': 'tavily_search_results_json', 'args': {'query': '피엔티 회사'}, 'id': '99556e74-f855-403b-868c-99c362cd2ad2', 'type': 'tool_call'}], usage_metadata={'input_tokens': 425, 'output_tokens': 14, 'total_tokens': 439, 'input_token_details': {'cache_read': 0}}), 'tool_call': [AIMessage(content='', additional_kwargs={'function_call': {'name': 'tavily_search_results_json', 'arguments': '{\"query\": \"\\\\ud53c\\\\uc5d4\\\\ud2f0 \\\\ud68c\\\\uc0ac\"}'}}, response_metadata={'prompt_feedback': {'block_reason': 0, 'safety_ratings': []}, 'finish_reason': 'STOP', 'model_name': 'gemini-2.0-flash', 'safety_ratings': []}, id='run-c19a4e02-9650-4fa5-b907-4d27e11b6daa-0', tool_calls=[{'name': 'tavily_search_results_json', 'args': {'query': '피엔티 회사'}, 'id': '99556e74-f855-403b-868c-99c362cd2ad2', 'type': 'tool_call'}], usage_metadata={'input_tokens': 425, 'output_tokens': 14, 'total_tokens': 439, 'input_token_details': {'cache_read': 0}})]}\n",
            "\n",
            "\n",
            "=== tools ===\n",
            "\n",
            "\n",
            "{'messages': [ToolMessage(content='[{\"title\": \"피엔티 - 위키백과, 우리 모두의 백과사전\", \"url\": \"https://ko.wikipedia.org/wiki/%ED%94%BC%EC%97%94%ED%8B%B0\", \"content\": \"피엔티 주식회사(PNT Co. Ltd.)는 Roll to Roll 기술을 바탕으로 각종 디스플레이 소재용 필름, 2차 전지의 음극 및 분리막 소재, Copper 등의 코팅 및 슬리터 장비를 제작하는 코스닥 상장 기업이다. 매출구성은 소재 81%, 2차전지 18%, 반도체 1% 가량으로 이루어진다. [...] 형태 | 주식회사\\\\n창립 | 2003/12/30 (상장일: 2012/07/06)\\\\n시장 정보 | 한국:137400\\\\n산업 분야 | 디스플레이장비및부품\\\\n본사 소재지 | 경상북도 구미시 첨단기업로 33 (금전동)\\\\n핵심 인물 | 김준섭 (대표이사)\\\\n매출액 | 377,728,397,182원 (2021)\\\\n영업이익 | 54,408,331,244원 (2021)\\\\n순이익 | 52,703,180,758원 (2021)\\\\n자산총액 | 576,359,315,158원 (2021.12)\\\\n주요 주주 | 김준섭 외 특수관계인: 16.85%\\\\n종업원 수 | 474명 (2021.12)\\\\n자본금 | 11,370,599,000원 (2021.12)\\\\n웹사이트 | 피엔티 [...] 2014년부터 2차 전지 관련 투자를 증대시켰으며 2015년 7월에는 중국 전기차 시장 확대 기대감으로 가격제한폭까지 상승한 일이 있다.[1] 주가는 중국의 경기와 제조업 전망에 따라 크게 좌우되는 모습을 보이며, 2015년 4~6월경 중국 경기의 전망이 좋지 못할 때는 주가가 크게 하락하는 일이 있었다.\\\\n\\\\n같이 보기\\\\n\\\\n참고 문헌\\\\n\\\\n각주\", \"score\": 0.8638634}, {\"title\": \"(주)피엔티 | 롤투롤 컨버팅 기계의 세계적인 전문가\", \"url\": \"https://www.epnt.co.kr/\", \"content\": \"피엔티는 각종 롤투롤 컨버팅 기계를 주력으로 성장한 회사입니다. 웹가이딩, 장력제어, 오토터렛, 오토스플라이싱, 코팅, 칼렌더링, 슬리팅 등 기반이 되는 기술에\", \"score\": 0.7961819}, {\"title\": \"(주)피엔티 2025년 기업정보 | 직원수, 근무환경, 복리후생 등 - 사람인\", \"url\": \"https://www.saramin.co.kr/zf_user/company-info/view/csn/Zm9qNG9WcGt6dlp0RWxvelMrSnVHUT09/company_nm/(%EC%A3%BC)%ED%94%BC%EC%97%94%ED%8B%B0\", \"content\": \"[롤투롤 설비의 최강자] 피엔티는 각종 롤투롤 컨버팅 기계를 주력으로 성장한 회사입니다. 웹가이딩, 장력제어, 오토터렛, 오토스플라이싱, 코팅, 칼렌더링,\", \"score\": 0.7334523}, {\"title\": \"(주)피엔티 2025년 기업정보 | 직원수, 근무환경, 복리후생 등 - 사람인\", \"url\": \"https://www.saramin.co.kr/zf_user/company-info/view/csn/NEhUcHczZlljRWlhaVdaWkNSNU5vUT09/company_nm/(%EC%A3%BC)%ED%94%BC%EC%97%94%ED%8B%B0?srsltid=AfmBOooW_ow4vXNnabAg74idSnCw7a7lgSPlR5WNlPTS1iETTIQ6Fw90\", \"content\": \"(주)피엔티 · 기업형태. 중소기업 · 사원수. 12 명 · 설립일. 업력 7년차 2019년 2월 설립 · 브랜드. 주식회사 피엔티 · 주소. 경기 파주시 파주읍 우계로 251-24 복사하기.\", \"score\": 0.65173227}, {\"title\": \"피엔티 - 잡코리아\", \"url\": \"https://www.jobkorea.co.kr/company/16151130\", \"content\": \"피엔티는 2012년에 리튬이온전지 극판용 고속광폭 코터를 개발한 이래로, 대량 생산을 위한 고속광폭 설비를 꾸준히 생산하고 있고 동박, 분리막, 파우치용 필름 등의 제조\", \"score\": 0.5481178}]', name='tavily_search_results_json', id='74eb02ce-e184-4bcb-baf4-da49254ee127', tool_call_id='99556e74-f855-403b-868c-99c362cd2ad2', artifact={'query': '피엔티 회사', 'follow_up_questions': None, 'answer': None, 'images': [], 'results': [{'url': 'https://ko.wikipedia.org/wiki/%ED%94%BC%EC%97%94%ED%8B%B0', 'title': '피엔티 - 위키백과, 우리 모두의 백과사전', 'content': '피엔티 주식회사(PNT Co. Ltd.)는 Roll to Roll 기술을 바탕으로 각종 디스플레이 소재용 필름, 2차 전지의 음극 및 분리막 소재, Copper 등의 코팅 및 슬리터 장비를 제작하는 코스닥 상장 기업이다. 매출구성은 소재 81%, 2차전지 18%, 반도체 1% 가량으로 이루어진다. [...] 형태 | 주식회사\\n창립 | 2003/12/30 (상장일: 2012/07/06)\\n시장 정보 | 한국:137400\\n산업 분야 | 디스플레이장비및부품\\n본사 소재지 | 경상북도 구미시 첨단기업로 33 (금전동)\\n핵심 인물 | 김준섭 (대표이사)\\n매출액 | 377,728,397,182원 (2021)\\n영업이익 | 54,408,331,244원 (2021)\\n순이익 | 52,703,180,758원 (2021)\\n자산총액 | 576,359,315,158원 (2021.12)\\n주요 주주 | 김준섭 외 특수관계인: 16.85%\\n종업원 수 | 474명 (2021.12)\\n자본금 | 11,370,599,000원 (2021.12)\\n웹사이트 | 피엔티 [...] 2014년부터 2차 전지 관련 투자를 증대시켰으며 2015년 7월에는 중국 전기차 시장 확대 기대감으로 가격제한폭까지 상승한 일이 있다.[1] 주가는 중국의 경기와 제조업 전망에 따라 크게 좌우되는 모습을 보이며, 2015년 4~6월경 중국 경기의 전망이 좋지 못할 때는 주가가 크게 하락하는 일이 있었다.\\n\\n같이 보기\\n\\n참고 문헌\\n\\n각주', 'score': 0.8638634, 'raw_content': None}, {'url': 'https://www.epnt.co.kr/', 'title': '(주)피엔티 | 롤투롤 컨버팅 기계의 세계적인 전문가', 'content': '피엔티는 각종 롤투롤 컨버팅 기계를 주력으로 성장한 회사입니다. 웹가이딩, 장력제어, 오토터렛, 오토스플라이싱, 코팅, 칼렌더링, 슬리팅 등 기반이 되는 기술에', 'score': 0.7961819, 'raw_content': None}, {'url': 'https://www.saramin.co.kr/zf_user/company-info/view/csn/Zm9qNG9WcGt6dlp0RWxvelMrSnVHUT09/company_nm/(%EC%A3%BC)%ED%94%BC%EC%97%94%ED%8B%B0', 'title': '(주)피엔티 2025년 기업정보 | 직원수, 근무환경, 복리후생 등 - 사람인', 'content': '[롤투롤 설비의 최강자] 피엔티는 각종 롤투롤 컨버팅 기계를 주력으로 성장한 회사입니다. 웹가이딩, 장력제어, 오토터렛, 오토스플라이싱, 코팅, 칼렌더링,', 'score': 0.7334523, 'raw_content': None}, {'url': 'https://www.saramin.co.kr/zf_user/company-info/view/csn/NEhUcHczZlljRWlhaVdaWkNSNU5vUT09/company_nm/(%EC%A3%BC)%ED%94%BC%EC%97%94%ED%8B%B0?srsltid=AfmBOooW_ow4vXNnabAg74idSnCw7a7lgSPlR5WNlPTS1iETTIQ6Fw90', 'title': '(주)피엔티 2025년 기업정보 | 직원수, 근무환경, 복리후생 등 - 사람인', 'content': '(주)피엔티 · 기업형태. 중소기업 · 사원수. 12 명 · 설립일. 업력 7년차 2019년 2월 설립 · 브랜드. 주식회사 피엔티 · 주소. 경기 파주시 파주읍 우계로 251-24 복사하기.', 'score': 0.65173227, 'raw_content': None}, {'url': 'https://www.jobkorea.co.kr/company/16151130', 'title': '피엔티 - 잡코리아', 'content': '피엔티는 2012년에 리튬이온전지 극판용 고속광폭 코터를 개발한 이래로, 대량 생산을 위한 고속광폭 설비를 꾸준히 생산하고 있고 동박, 분리막, 파우치용 필름 등의 제조', 'score': 0.5481178, 'raw_content': None}], 'response_time': 1.34})]}\n",
            "\n",
            "\n",
            "=== response ===\n",
            "\n",
            "\n",
            "{'answer': ToolMessage(content='[{\"title\": \"피엔티 - 위키백과, 우리 모두의 백과사전\", \"url\": \"https://ko.wikipedia.org/wiki/%ED%94%BC%EC%97%94%ED%8B%B0\", \"content\": \"피엔티 주식회사(PNT Co. Ltd.)는 Roll to Roll 기술을 바탕으로 각종 디스플레이 소재용 필름, 2차 전지의 음극 및 분리막 소재, Copper 등의 코팅 및 슬리터 장비를 제작하는 코스닥 상장 기업이다. 매출구성은 소재 81%, 2차전지 18%, 반도체 1% 가량으로 이루어진다. [...] 형태 | 주식회사\\\\n창립 | 2003/12/30 (상장일: 2012/07/06)\\\\n시장 정보 | 한국:137400\\\\n산업 분야 | 디스플레이장비및부품\\\\n본사 소재지 | 경상북도 구미시 첨단기업로 33 (금전동)\\\\n핵심 인물 | 김준섭 (대표이사)\\\\n매출액 | 377,728,397,182원 (2021)\\\\n영업이익 | 54,408,331,244원 (2021)\\\\n순이익 | 52,703,180,758원 (2021)\\\\n자산총액 | 576,359,315,158원 (2021.12)\\\\n주요 주주 | 김준섭 외 특수관계인: 16.85%\\\\n종업원 수 | 474명 (2021.12)\\\\n자본금 | 11,370,599,000원 (2021.12)\\\\n웹사이트 | 피엔티 [...] 2014년부터 2차 전지 관련 투자를 증대시켰으며 2015년 7월에는 중국 전기차 시장 확대 기대감으로 가격제한폭까지 상승한 일이 있다.[1] 주가는 중국의 경기와 제조업 전망에 따라 크게 좌우되는 모습을 보이며, 2015년 4~6월경 중국 경기의 전망이 좋지 못할 때는 주가가 크게 하락하는 일이 있었다.\\\\n\\\\n같이 보기\\\\n\\\\n참고 문헌\\\\n\\\\n각주\", \"score\": 0.8638634}, {\"title\": \"(주)피엔티 | 롤투롤 컨버팅 기계의 세계적인 전문가\", \"url\": \"https://www.epnt.co.kr/\", \"content\": \"피엔티는 각종 롤투롤 컨버팅 기계를 주력으로 성장한 회사입니다. 웹가이딩, 장력제어, 오토터렛, 오토스플라이싱, 코팅, 칼렌더링, 슬리팅 등 기반이 되는 기술에\", \"score\": 0.7961819}, {\"title\": \"(주)피엔티 2025년 기업정보 | 직원수, 근무환경, 복리후생 등 - 사람인\", \"url\": \"https://www.saramin.co.kr/zf_user/company-info/view/csn/Zm9qNG9WcGt6dlp0RWxvelMrSnVHUT09/company_nm/(%EC%A3%BC)%ED%94%BC%EC%97%94%ED%8B%B0\", \"content\": \"[롤투롤 설비의 최강자] 피엔티는 각종 롤투롤 컨버팅 기계를 주력으로 성장한 회사입니다. 웹가이딩, 장력제어, 오토터렛, 오토스플라이싱, 코팅, 칼렌더링,\", \"score\": 0.7334523}, {\"title\": \"(주)피엔티 2025년 기업정보 | 직원수, 근무환경, 복리후생 등 - 사람인\", \"url\": \"https://www.saramin.co.kr/zf_user/company-info/view/csn/NEhUcHczZlljRWlhaVdaWkNSNU5vUT09/company_nm/(%EC%A3%BC)%ED%94%BC%EC%97%94%ED%8B%B0?srsltid=AfmBOooW_ow4vXNnabAg74idSnCw7a7lgSPlR5WNlPTS1iETTIQ6Fw90\", \"content\": \"(주)피엔티 · 기업형태. 중소기업 · 사원수. 12 명 · 설립일. 업력 7년차 2019년 2월 설립 · 브랜드. 주식회사 피엔티 · 주소. 경기 파주시 파주읍 우계로 251-24 복사하기.\", \"score\": 0.65173227}, {\"title\": \"피엔티 - 잡코리아\", \"url\": \"https://www.jobkorea.co.kr/company/16151130\", \"content\": \"피엔티는 2012년에 리튬이온전지 극판용 고속광폭 코터를 개발한 이래로, 대량 생산을 위한 고속광폭 설비를 꾸준히 생산하고 있고 동박, 분리막, 파우치용 필름 등의 제조\", \"score\": 0.5481178}]', name='tavily_search_results_json', id='74eb02ce-e184-4bcb-baf4-da49254ee127', tool_call_id='99556e74-f855-403b-868c-99c362cd2ad2', artifact={'query': '피엔티 회사', 'follow_up_questions': None, 'answer': None, 'images': [], 'results': [{'url': 'https://ko.wikipedia.org/wiki/%ED%94%BC%EC%97%94%ED%8B%B0', 'title': '피엔티 - 위키백과, 우리 모두의 백과사전', 'content': '피엔티 주식회사(PNT Co. Ltd.)는 Roll to Roll 기술을 바탕으로 각종 디스플레이 소재용 필름, 2차 전지의 음극 및 분리막 소재, Copper 등의 코팅 및 슬리터 장비를 제작하는 코스닥 상장 기업이다. 매출구성은 소재 81%, 2차전지 18%, 반도체 1% 가량으로 이루어진다. [...] 형태 | 주식회사\\n창립 | 2003/12/30 (상장일: 2012/07/06)\\n시장 정보 | 한국:137400\\n산업 분야 | 디스플레이장비및부품\\n본사 소재지 | 경상북도 구미시 첨단기업로 33 (금전동)\\n핵심 인물 | 김준섭 (대표이사)\\n매출액 | 377,728,397,182원 (2021)\\n영업이익 | 54,408,331,244원 (2021)\\n순이익 | 52,703,180,758원 (2021)\\n자산총액 | 576,359,315,158원 (2021.12)\\n주요 주주 | 김준섭 외 특수관계인: 16.85%\\n종업원 수 | 474명 (2021.12)\\n자본금 | 11,370,599,000원 (2021.12)\\n웹사이트 | 피엔티 [...] 2014년부터 2차 전지 관련 투자를 증대시켰으며 2015년 7월에는 중국 전기차 시장 확대 기대감으로 가격제한폭까지 상승한 일이 있다.[1] 주가는 중국의 경기와 제조업 전망에 따라 크게 좌우되는 모습을 보이며, 2015년 4~6월경 중국 경기의 전망이 좋지 못할 때는 주가가 크게 하락하는 일이 있었다.\\n\\n같이 보기\\n\\n참고 문헌\\n\\n각주', 'score': 0.8638634, 'raw_content': None}, {'url': 'https://www.epnt.co.kr/', 'title': '(주)피엔티 | 롤투롤 컨버팅 기계의 세계적인 전문가', 'content': '피엔티는 각종 롤투롤 컨버팅 기계를 주력으로 성장한 회사입니다. 웹가이딩, 장력제어, 오토터렛, 오토스플라이싱, 코팅, 칼렌더링, 슬리팅 등 기반이 되는 기술에', 'score': 0.7961819, 'raw_content': None}, {'url': 'https://www.saramin.co.kr/zf_user/company-info/view/csn/Zm9qNG9WcGt6dlp0RWxvelMrSnVHUT09/company_nm/(%EC%A3%BC)%ED%94%BC%EC%97%94%ED%8B%B0', 'title': '(주)피엔티 2025년 기업정보 | 직원수, 근무환경, 복리후생 등 - 사람인', 'content': '[롤투롤 설비의 최강자] 피엔티는 각종 롤투롤 컨버팅 기계를 주력으로 성장한 회사입니다. 웹가이딩, 장력제어, 오토터렛, 오토스플라이싱, 코팅, 칼렌더링,', 'score': 0.7334523, 'raw_content': None}, {'url': 'https://www.saramin.co.kr/zf_user/company-info/view/csn/NEhUcHczZlljRWlhaVdaWkNSNU5vUT09/company_nm/(%EC%A3%BC)%ED%94%BC%EC%97%94%ED%8B%B0?srsltid=AfmBOooW_ow4vXNnabAg74idSnCw7a7lgSPlR5WNlPTS1iETTIQ6Fw90', 'title': '(주)피엔티 2025년 기업정보 | 직원수, 근무환경, 복리후생 등 - 사람인', 'content': '(주)피엔티 · 기업형태. 중소기업 · 사원수. 12 명 · 설립일. 업력 7년차 2019년 2월 설립 · 브랜드. 주식회사 피엔티 · 주소. 경기 파주시 파주읍 우계로 251-24 복사하기.', 'score': 0.65173227, 'raw_content': None}, {'url': 'https://www.jobkorea.co.kr/company/16151130', 'title': '피엔티 - 잡코리아', 'content': '피엔티는 2012년에 리튬이온전지 극판용 고속광폭 코터를 개발한 이래로, 대량 생산을 위한 고속광폭 설비를 꾸준히 생산하고 있고 동박, 분리막, 파우치용 필름 등의 제조', 'score': 0.5481178, 'raw_content': None}], 'response_time': 1.34})}\n",
            "\n",
            "\n",
            "=== select ===\n",
            "\n",
            "\n",
            "{'messages': AIMessage(content='이전 검색 결과를 바탕으로 보고서를 작성하고 PDF 파일로 저장하겠습니다.', additional_kwargs={'function_call': {'name': 'write_pdf', 'arguments': '{\"content\": \"\\\\ud53c\\\\uc5d4\\\\ud2f0 \\\\uc8fc\\\\uc2dd\\\\ud68c\\\\uc0ac(PNT Co. Ltd.)\\\\ub294 Roll to Roll \\\\uae30\\\\uc220\\\\uc744 \\\\ubc14\\\\ud0d5\\\\uc73c\\\\ub85c \\\\uac01\\\\uc885 \\\\ub514\\\\uc2a4\\\\ud50c\\\\ub808\\\\uc774 \\\\uc18c\\\\uc7ac\\\\uc6a9 \\\\ud544\\\\ub984, 2\\\\ucc28 \\\\uc804\\\\uc9c0\\\\uc758 \\\\uc74c\\\\uadf9 \\\\ubc0f \\\\ubd84\\\\ub9ac\\\\ub9c9 \\\\uc18c\\\\uc7ac, Copper \\\\ub4f1\\\\uc758 \\\\ucf54\\\\ud305 \\\\ubc0f \\\\uc2ac\\\\ub9ac\\\\ud130 \\\\uc7a5\\\\ube44\\\\ub97c \\\\uc81c\\\\uc791\\\\ud558\\\\ub294 \\\\ucf54\\\\uc2a4\\\\ub2e5 \\\\uc0c1\\\\uc7a5 \\\\uae30\\\\uc5c5\\\\uc785\\\\ub2c8\\\\ub2e4. \\\\ub9e4\\\\ucd9c\\\\uad6c\\\\uc131\\\\uc740 \\\\uc18c\\\\uc7ac 81%, 2\\\\ucc28\\\\uc804\\\\uc9c0 18%, \\\\ubc18\\\\ub3c4\\\\uccb4 1% \\\\uac00\\\\ub7c9\\\\uc73c\\\\ub85c \\\\uc774\\\\ub8e8\\\\uc5b4\\\\uc9d1\\\\ub2c8\\\\ub2e4. \\\\ud53c\\\\uc5d4\\\\ud2f0\\\\ub294 \\\\uac01\\\\uc885 \\\\ub864\\\\ud22c\\\\ub864 \\\\ucee8\\\\ubc84\\\\ud305 \\\\uae30\\\\uacc4\\\\ub97c \\\\uc8fc\\\\ub825\\\\uc73c\\\\ub85c \\\\uc131\\\\uc7a5\\\\ud55c \\\\ud68c\\\\uc0ac\\\\uc785\\\\ub2c8\\\\ub2e4. \\\\uc6f9\\\\uac00\\\\uc774\\\\ub529, \\\\uc7a5\\\\ub825\\\\uc81c\\\\uc5b4, \\\\uc624\\\\ud1a0\\\\ud130\\\\ub81b, \\\\uc624\\\\ud1a0\\\\uc2a4\\\\ud50c\\\\ub77c\\\\uc774\\\\uc2f1, \\\\ucf54\\\\ud305, \\\\uce7c\\\\ub80c\\\\ub354\\\\ub9c1, \\\\uc2ac\\\\ub9ac\\\\ud305 \\\\ub4f1 \\\\uae30\\\\ubc18\\\\uc774 \\\\ub418\\\\ub294 \\\\uae30\\\\uc220\\\\uc744 \\\\ubcf4\\\\uc720\\\\ud558\\\\uace0 \\\\uc788\\\\uc2b5\\\\ub2c8\\\\ub2e4. 2012\\\\ub144\\\\uc5d0 \\\\ub9ac\\\\ud2ac\\\\uc774\\\\uc628\\\\uc804\\\\uc9c0 \\\\uadf9\\\\ud310\\\\uc6a9 \\\\uace0\\\\uc18d\\\\uad11\\\\ud3ed \\\\ucf54\\\\ud130\\\\ub97c \\\\uac1c\\\\ubc1c\\\\ud55c \\\\uc774\\\\ub798\\\\ub85c, \\\\ub300\\\\ub7c9 \\\\uc0dd\\\\uc0b0\\\\uc744 \\\\uc704\\\\ud55c \\\\uace0\\\\uc18d\\\\uad11\\\\ud3ed \\\\uc124\\\\ube44\\\\ub97c \\\\uafb8\\\\uc900\\\\ud788 \\\\uc0dd\\\\uc0b0\\\\ud558\\\\uace0 \\\\uc788\\\\uace0 \\\\ub3d9\\\\ubc15, \\\\ubd84\\\\ub9ac\\\\ub9c9, \\\\ud30c\\\\uc6b0\\\\uce58\\\\uc6a9 \\\\ud544\\\\ub984 \\\\ub4f1\\\\uc758 \\\\uc81c\\\\uc870 \\\\uc124\\\\ube44\\\\ub3c4 \\\\uc0dd\\\\uc0b0\\\\ud569\\\\ub2c8\\\\ub2e4.\", \"filename\": \"\\\\ud53c\\\\uc5d4\\\\ud2f0 \\\\ubcf4\\\\uace0\\\\uc11c.pdf\"}'}}, response_metadata={'prompt_feedback': {'block_reason': 0, 'safety_ratings': []}, 'finish_reason': 'STOP', 'model_name': 'gemini-2.0-flash', 'safety_ratings': []}, id='run-5719bae3-ed95-40ef-be6b-11db05ced41e-0', tool_calls=[{'name': 'write_pdf', 'args': {'content': '피엔티 주식회사(PNT Co. Ltd.)는 Roll to Roll 기술을 바탕으로 각종 디스플레이 소재용 필름, 2차 전지의 음극 및 분리막 소재, Copper 등의 코팅 및 슬리터 장비를 제작하는 코스닥 상장 기업입니다. 매출구성은 소재 81%, 2차전지 18%, 반도체 1% 가량으로 이루어집니다. 피엔티는 각종 롤투롤 컨버팅 기계를 주력으로 성장한 회사입니다. 웹가이딩, 장력제어, 오토터렛, 오토스플라이싱, 코팅, 칼렌더링, 슬리팅 등 기반이 되는 기술을 보유하고 있습니다. 2012년에 리튬이온전지 극판용 고속광폭 코터를 개발한 이래로, 대량 생산을 위한 고속광폭 설비를 꾸준히 생산하고 있고 동박, 분리막, 파우치용 필름 등의 제조 설비도 생산합니다.', 'filename': '피엔티 보고서.pdf'}, 'id': '491d3e27-a90a-49cf-948f-bbf71f2c764e', 'type': 'tool_call'}], usage_metadata={'input_tokens': 3963, 'output_tokens': 293, 'total_tokens': 4256, 'input_token_details': {'cache_read': 0}}), 'tool_call': [AIMessage(content='이전 검색 결과를 바탕으로 보고서를 작성하고 PDF 파일로 저장하겠습니다.', additional_kwargs={'function_call': {'name': 'write_pdf', 'arguments': '{\"content\": \"\\\\ud53c\\\\uc5d4\\\\ud2f0 \\\\uc8fc\\\\uc2dd\\\\ud68c\\\\uc0ac(PNT Co. Ltd.)\\\\ub294 Roll to Roll \\\\uae30\\\\uc220\\\\uc744 \\\\ubc14\\\\ud0d5\\\\uc73c\\\\ub85c \\\\uac01\\\\uc885 \\\\ub514\\\\uc2a4\\\\ud50c\\\\ub808\\\\uc774 \\\\uc18c\\\\uc7ac\\\\uc6a9 \\\\ud544\\\\ub984, 2\\\\ucc28 \\\\uc804\\\\uc9c0\\\\uc758 \\\\uc74c\\\\uadf9 \\\\ubc0f \\\\ubd84\\\\ub9ac\\\\ub9c9 \\\\uc18c\\\\uc7ac, Copper \\\\ub4f1\\\\uc758 \\\\ucf54\\\\ud305 \\\\ubc0f \\\\uc2ac\\\\ub9ac\\\\ud130 \\\\uc7a5\\\\ube44\\\\ub97c \\\\uc81c\\\\uc791\\\\ud558\\\\ub294 \\\\ucf54\\\\uc2a4\\\\ub2e5 \\\\uc0c1\\\\uc7a5 \\\\uae30\\\\uc5c5\\\\uc785\\\\ub2c8\\\\ub2e4. \\\\ub9e4\\\\ucd9c\\\\uad6c\\\\uc131\\\\uc740 \\\\uc18c\\\\uc7ac 81%, 2\\\\ucc28\\\\uc804\\\\uc9c0 18%, \\\\ubc18\\\\ub3c4\\\\uccb4 1% \\\\uac00\\\\ub7c9\\\\uc73c\\\\ub85c \\\\uc774\\\\ub8e8\\\\uc5b4\\\\uc9d1\\\\ub2c8\\\\ub2e4. \\\\ud53c\\\\uc5d4\\\\ud2f0\\\\ub294 \\\\uac01\\\\uc885 \\\\ub864\\\\ud22c\\\\ub864 \\\\ucee8\\\\ubc84\\\\ud305 \\\\uae30\\\\uacc4\\\\ub97c \\\\uc8fc\\\\ub825\\\\uc73c\\\\ub85c \\\\uc131\\\\uc7a5\\\\ud55c \\\\ud68c\\\\uc0ac\\\\uc785\\\\ub2c8\\\\ub2e4. \\\\uc6f9\\\\uac00\\\\uc774\\\\ub529, \\\\uc7a5\\\\ub825\\\\uc81c\\\\uc5b4, \\\\uc624\\\\ud1a0\\\\ud130\\\\ub81b, \\\\uc624\\\\ud1a0\\\\uc2a4\\\\ud50c\\\\ub77c\\\\uc774\\\\uc2f1, \\\\ucf54\\\\ud305, \\\\uce7c\\\\ub80c\\\\ub354\\\\ub9c1, \\\\uc2ac\\\\ub9ac\\\\ud305 \\\\ub4f1 \\\\uae30\\\\ubc18\\\\uc774 \\\\ub418\\\\ub294 \\\\uae30\\\\uc220\\\\uc744 \\\\ubcf4\\\\uc720\\\\ud558\\\\uace0 \\\\uc788\\\\uc2b5\\\\ub2c8\\\\ub2e4. 2012\\\\ub144\\\\uc5d0 \\\\ub9ac\\\\ud2ac\\\\uc774\\\\uc628\\\\uc804\\\\uc9c0 \\\\uadf9\\\\ud310\\\\uc6a9 \\\\uace0\\\\uc18d\\\\uad11\\\\ud3ed \\\\ucf54\\\\ud130\\\\ub97c \\\\uac1c\\\\ubc1c\\\\ud55c \\\\uc774\\\\ub798\\\\ub85c, \\\\ub300\\\\ub7c9 \\\\uc0dd\\\\uc0b0\\\\uc744 \\\\uc704\\\\ud55c \\\\uace0\\\\uc18d\\\\uad11\\\\ud3ed \\\\uc124\\\\ube44\\\\ub97c \\\\uafb8\\\\uc900\\\\ud788 \\\\uc0dd\\\\uc0b0\\\\ud558\\\\uace0 \\\\uc788\\\\uace0 \\\\ub3d9\\\\ubc15, \\\\ubd84\\\\ub9ac\\\\ub9c9, \\\\ud30c\\\\uc6b0\\\\uce58\\\\uc6a9 \\\\ud544\\\\ub984 \\\\ub4f1\\\\uc758 \\\\uc81c\\\\uc870 \\\\uc124\\\\ube44\\\\ub3c4 \\\\uc0dd\\\\uc0b0\\\\ud569\\\\ub2c8\\\\ub2e4.\", \"filename\": \"\\\\ud53c\\\\uc5d4\\\\ud2f0 \\\\ubcf4\\\\uace0\\\\uc11c.pdf\"}'}}, response_metadata={'prompt_feedback': {'block_reason': 0, 'safety_ratings': []}, 'finish_reason': 'STOP', 'model_name': 'gemini-2.0-flash', 'safety_ratings': []}, id='run-5719bae3-ed95-40ef-be6b-11db05ced41e-0', tool_calls=[{'name': 'write_pdf', 'args': {'content': '피엔티 주식회사(PNT Co. Ltd.)는 Roll to Roll 기술을 바탕으로 각종 디스플레이 소재용 필름, 2차 전지의 음극 및 분리막 소재, Copper 등의 코팅 및 슬리터 장비를 제작하는 코스닥 상장 기업입니다. 매출구성은 소재 81%, 2차전지 18%, 반도체 1% 가량으로 이루어집니다. 피엔티는 각종 롤투롤 컨버팅 기계를 주력으로 성장한 회사입니다. 웹가이딩, 장력제어, 오토터렛, 오토스플라이싱, 코팅, 칼렌더링, 슬리팅 등 기반이 되는 기술을 보유하고 있습니다. 2012년에 리튬이온전지 극판용 고속광폭 코터를 개발한 이래로, 대량 생산을 위한 고속광폭 설비를 꾸준히 생산하고 있고 동박, 분리막, 파우치용 필름 등의 제조 설비도 생산합니다.', 'filename': '피엔티 보고서.pdf'}, 'id': '491d3e27-a90a-49cf-948f-bbf71f2c764e', 'type': 'tool_call'}], usage_metadata={'input_tokens': 3963, 'output_tokens': 293, 'total_tokens': 4256, 'input_token_details': {'cache_read': 0}})]}\n",
            "\n",
            "\n",
            "\n",
            "\n",
            "\n",
            "이것은 content 입니다.\n",
            "\n",
            " 피엔티 주식회사(PNT Co. Ltd.)는 Roll to Roll 기술을 바탕으로 각종 디스플레이 소재용 필름, 2차 전지의 음극 및 분리막 소재, Copper 등의 코팅 및 슬리터 장비를 제작하는 코스닥 상장 기업입니다. 매출구성은 소재 81%, 2차전지 18%, 반도체 1% 가량으로 이루어집니다. 피엔티는 각종 롤투롤 컨버팅 기계를 주력으로 성장한 회사입니다. 웹가이딩, 장력제어, 오토터렛, 오토스플라이싱, 코팅, 칼렌더링, 슬리팅 등 기반이 되는 기술을 보유하고 있습니다. 2012년에 리튬이온전지 극판용 고속광폭 코터를 개발한 이래로, 대량 생산을 위한 고속광폭 설비를 꾸준히 생산하고 있고 동박, 분리막, 파우치용 필름 등의 제조 설비도 생산합니다.\n",
            "\n",
            "\n",
            "=== tools ===\n",
            "\n",
            "\n",
            "{'messages': [ToolMessage(content='피엔티 보고서.pdf 저장 완료', name='write_pdf', id='a43c3e49-7b91-4915-a300-dc6e52f540cb', tool_call_id='491d3e27-a90a-49cf-948f-bbf71f2c764e')]}\n",
            "\n",
            "\n",
            "=== response ===\n",
            "\n",
            "\n",
            "{'answer': ToolMessage(content='피엔티 보고서.pdf 저장 완료', name='write_pdf', id='a43c3e49-7b91-4915-a300-dc6e52f540cb', tool_call_id='491d3e27-a90a-49cf-948f-bbf71f2c764e')}\n"
          ]
        }
      ],
      "source": [
        "config = reset_config()\n",
        "\n",
        "query = \"피엔티라는 회사에 대해 조사해주세요. 잘 정리된 보고서를 제공해주십시오. pdf파일로 받기를 희망합니다.\"\n",
        "\n",
        "streaming(query, config)"
      ]
    },
    {
      "cell_type": "code",
      "execution_count": 528,
      "metadata": {},
      "outputs": [
        {
          "name": "stdout",
          "output_type": "stream",
          "text": [
            "\n",
            "\n",
            "=== history_node ===\n",
            "\n",
            "\n",
            "{'answer': '답변 없음', 'tool_call': '사용된 도구 없음'}\n",
            "\n",
            "\n",
            "=== select ===\n",
            "\n",
            "\n",
            "{'messages': AIMessage(content='피엔티의 경쟁사에 대한 정보가 필요하므로, 먼저 검색을 통해 관련 정보를 수집해야 합니다. 그 후, 수집된 정보를 바탕으로 보고서를 작성하는 것이 적절합니다. 따라서 먼저 `tavily_search_results_json` 도구를 사용하여 피엔티 경쟁사에 대한 정보를 검색하겠습니다.', additional_kwargs={'function_call': {'name': 'tavily_search_results_json', 'arguments': '{\"query\": \"\\\\ud53c\\\\uc5d4\\\\ud2f0 \\\\uacbd\\\\uc7c1\\\\uc0ac\"}'}}, response_metadata={'prompt_feedback': {'block_reason': 0, 'safety_ratings': []}, 'finish_reason': 'STOP', 'model_name': 'gemini-2.0-flash', 'safety_ratings': []}, id='run-55d86f7d-cc1d-49e0-87aa-f97b36bef9d7-0', tool_calls=[{'name': 'tavily_search_results_json', 'args': {'query': '피엔티 경쟁사'}, 'id': '1076d441-0f89-4f5d-96cc-ce389f021276', 'type': 'tool_call'}], usage_metadata={'input_tokens': 411, 'output_tokens': 101, 'total_tokens': 512, 'input_token_details': {'cache_read': 0}}), 'tool_call': [AIMessage(content='피엔티의 경쟁사에 대한 정보가 필요하므로, 먼저 검색을 통해 관련 정보를 수집해야 합니다. 그 후, 수집된 정보를 바탕으로 보고서를 작성하는 것이 적절합니다. 따라서 먼저 `tavily_search_results_json` 도구를 사용하여 피엔티 경쟁사에 대한 정보를 검색하겠습니다.', additional_kwargs={'function_call': {'name': 'tavily_search_results_json', 'arguments': '{\"query\": \"\\\\ud53c\\\\uc5d4\\\\ud2f0 \\\\uacbd\\\\uc7c1\\\\uc0ac\"}'}}, response_metadata={'prompt_feedback': {'block_reason': 0, 'safety_ratings': []}, 'finish_reason': 'STOP', 'model_name': 'gemini-2.0-flash', 'safety_ratings': []}, id='run-55d86f7d-cc1d-49e0-87aa-f97b36bef9d7-0', tool_calls=[{'name': 'tavily_search_results_json', 'args': {'query': '피엔티 경쟁사'}, 'id': '1076d441-0f89-4f5d-96cc-ce389f021276', 'type': 'tool_call'}], usage_metadata={'input_tokens': 411, 'output_tokens': 101, 'total_tokens': 512, 'input_token_details': {'cache_read': 0}})]}\n",
            "\n",
            "\n",
            "=== tools ===\n",
            "\n",
            "\n",
            "{'messages': [ToolMessage(content='[{\"title\": \"피엔티의 사업분석 및 고객사에 대하여 : 네이버 블로그\", \"url\": \"https://blog.naver.com/humanindicator/222353810766\", \"content\": \"피엔티의 경쟁사는 롤투롤 장비회사의 양대 산맥인 \\'씨아이에스\\'다. 주 거래처는 LG이며 최근 노스볼트의 전극공정까지 수주를 따낸 핫한 기업이다. 둘다\", \"score\": 0.8846886}, {\"title\": \"피엔티 - 오렌지보드\", \"url\": \"https://orangeboard.co.kr/@New_Jusiks/%ED%94%BC%EC%97%94%ED%8B%B0-%EB%8F%85%EB%B3%B4%EC%A0%81-1%EC%9C%84-%EA%B7%B8-%EB%84%88%EB%A8%B8%EB%A5%BC-%EB%B0%94%EB%9D%BC%EB%B3%B4%EB%8B%A45\", \"content\": \"이에 실질적으로 파우치형 배터리에 사용 가능한 넓은 폭의 코터를 생산하는 기업은 전 세계적으로 피엔티와 히라노 둘 뿐이다. 실제로 각각의 경쟁사들과\", \"score\": 0.6562404}, {\"title\": \"피엔티 - 경쟁사분석 - 기업모니터\", \"url\": \"https://comp.wisereport.co.kr/company/c1060001.aspx?cmp_cd=137400&cn=\", \"content\": \"EPS2,808. BPS18,063. PER15.56. 업종PER33.80. PBR2.42. 현금배당수익률 0.00%. 전일종가 43,700. 도움말. KOSDAQ : 코스닥 기계·장비 | WI26 : IT가전 | 12월 결산 |\", \"score\": 0.6246834}, {\"title\": \"김준섭 피엔티 대표 - 월간중앙\", \"url\": \"https://jmagazine.joins.com/forbes/view/338310\", \"content\": \"피엔티는 2010년 중반부터 주요 경쟁사를 제치고 국내시장 점유율 1위를 굳건히 지켜왔으며 경쟁업체와의 격차도 크게 벌렸다. 지난해 피엔티의 매출\", \"score\": 0.5820878}, {\"title\": \"[PDF] 피엔티 (137400) - 미래에셋증권\", \"url\": \"https://securities.miraeasset.com/bbs/download/2125406.pdf?attachmentId=2125406\", \"content\": \"피엔티. 윤성에프앤씨. 씨아이에스. 케이엔에스. 재무 비교. 경쟁사간 성장성, 수익성, 안정성, 활동성 관련 재무 지수를 비교해드려요. 수익성 (ROE\", \"score\": 0.5232017}]', name='tavily_search_results_json', id='7ba26398-a2e0-43ae-88c9-a37fa80d6da9', tool_call_id='1076d441-0f89-4f5d-96cc-ce389f021276', artifact={'query': '피엔티 경쟁사', 'follow_up_questions': None, 'answer': None, 'images': [], 'results': [{'url': 'https://blog.naver.com/humanindicator/222353810766', 'title': '피엔티의 사업분석 및 고객사에 대하여 : 네이버 블로그', 'content': \"피엔티의 경쟁사는 롤투롤 장비회사의 양대 산맥인 '씨아이에스'다. 주 거래처는 LG이며 최근 노스볼트의 전극공정까지 수주를 따낸 핫한 기업이다. 둘다\", 'score': 0.8846886, 'raw_content': None}, {'url': 'https://orangeboard.co.kr/@New_Jusiks/%ED%94%BC%EC%97%94%ED%8B%B0-%EB%8F%85%EB%B3%B4%EC%A0%81-1%EC%9C%84-%EA%B7%B8-%EB%84%88%EB%A8%B8%EB%A5%BC-%EB%B0%94%EB%9D%BC%EB%B3%B4%EB%8B%A45', 'title': '피엔티 - 오렌지보드', 'content': '이에 실질적으로 파우치형 배터리에 사용 가능한 넓은 폭의 코터를 생산하는 기업은 전 세계적으로 피엔티와 히라노 둘 뿐이다. 실제로 각각의 경쟁사들과', 'score': 0.6562404, 'raw_content': None}, {'url': 'https://comp.wisereport.co.kr/company/c1060001.aspx?cmp_cd=137400&cn=', 'title': '피엔티 - 경쟁사분석 - 기업모니터', 'content': 'EPS2,808. BPS18,063. PER15.56. 업종PER33.80. PBR2.42. 현금배당수익률 0.00%. 전일종가 43,700. 도움말. KOSDAQ : 코스닥 기계·장비 | WI26 : IT가전 | 12월 결산 |', 'score': 0.6246834, 'raw_content': None}, {'url': 'https://jmagazine.joins.com/forbes/view/338310', 'title': '김준섭 피엔티 대표 - 월간중앙', 'content': '피엔티는 2010년 중반부터 주요 경쟁사를 제치고 국내시장 점유율 1위를 굳건히 지켜왔으며 경쟁업체와의 격차도 크게 벌렸다. 지난해 피엔티의 매출', 'score': 0.5820878, 'raw_content': None}, {'url': 'https://securities.miraeasset.com/bbs/download/2125406.pdf?attachmentId=2125406', 'title': '[PDF] 피엔티 (137400) - 미래에셋증권', 'content': '피엔티. 윤성에프앤씨. 씨아이에스. 케이엔에스. 재무 비교. 경쟁사간 성장성, 수익성, 안정성, 활동성 관련 재무 지수를 비교해드려요. 수익성 (ROE', 'score': 0.5232017, 'raw_content': None}], 'response_time': 3.58})]}\n",
            "\n",
            "\n",
            "=== response ===\n",
            "\n",
            "\n",
            "{'answer': ToolMessage(content='[{\"title\": \"피엔티의 사업분석 및 고객사에 대하여 : 네이버 블로그\", \"url\": \"https://blog.naver.com/humanindicator/222353810766\", \"content\": \"피엔티의 경쟁사는 롤투롤 장비회사의 양대 산맥인 \\'씨아이에스\\'다. 주 거래처는 LG이며 최근 노스볼트의 전극공정까지 수주를 따낸 핫한 기업이다. 둘다\", \"score\": 0.8846886}, {\"title\": \"피엔티 - 오렌지보드\", \"url\": \"https://orangeboard.co.kr/@New_Jusiks/%ED%94%BC%EC%97%94%ED%8B%B0-%EB%8F%85%EB%B3%B4%EC%A0%81-1%EC%9C%84-%EA%B7%B8-%EB%84%88%EB%A8%B8%EB%A5%BC-%EB%B0%94%EB%9D%BC%EB%B3%B4%EB%8B%A45\", \"content\": \"이에 실질적으로 파우치형 배터리에 사용 가능한 넓은 폭의 코터를 생산하는 기업은 전 세계적으로 피엔티와 히라노 둘 뿐이다. 실제로 각각의 경쟁사들과\", \"score\": 0.6562404}, {\"title\": \"피엔티 - 경쟁사분석 - 기업모니터\", \"url\": \"https://comp.wisereport.co.kr/company/c1060001.aspx?cmp_cd=137400&cn=\", \"content\": \"EPS2,808. BPS18,063. PER15.56. 업종PER33.80. PBR2.42. 현금배당수익률 0.00%. 전일종가 43,700. 도움말. KOSDAQ : 코스닥 기계·장비 | WI26 : IT가전 | 12월 결산 |\", \"score\": 0.6246834}, {\"title\": \"김준섭 피엔티 대표 - 월간중앙\", \"url\": \"https://jmagazine.joins.com/forbes/view/338310\", \"content\": \"피엔티는 2010년 중반부터 주요 경쟁사를 제치고 국내시장 점유율 1위를 굳건히 지켜왔으며 경쟁업체와의 격차도 크게 벌렸다. 지난해 피엔티의 매출\", \"score\": 0.5820878}, {\"title\": \"[PDF] 피엔티 (137400) - 미래에셋증권\", \"url\": \"https://securities.miraeasset.com/bbs/download/2125406.pdf?attachmentId=2125406\", \"content\": \"피엔티. 윤성에프앤씨. 씨아이에스. 케이엔에스. 재무 비교. 경쟁사간 성장성, 수익성, 안정성, 활동성 관련 재무 지수를 비교해드려요. 수익성 (ROE\", \"score\": 0.5232017}]', name='tavily_search_results_json', id='7ba26398-a2e0-43ae-88c9-a37fa80d6da9', tool_call_id='1076d441-0f89-4f5d-96cc-ce389f021276', artifact={'query': '피엔티 경쟁사', 'follow_up_questions': None, 'answer': None, 'images': [], 'results': [{'url': 'https://blog.naver.com/humanindicator/222353810766', 'title': '피엔티의 사업분석 및 고객사에 대하여 : 네이버 블로그', 'content': \"피엔티의 경쟁사는 롤투롤 장비회사의 양대 산맥인 '씨아이에스'다. 주 거래처는 LG이며 최근 노스볼트의 전극공정까지 수주를 따낸 핫한 기업이다. 둘다\", 'score': 0.8846886, 'raw_content': None}, {'url': 'https://orangeboard.co.kr/@New_Jusiks/%ED%94%BC%EC%97%94%ED%8B%B0-%EB%8F%85%EB%B3%B4%EC%A0%81-1%EC%9C%84-%EA%B7%B8-%EB%84%88%EB%A8%B8%EB%A5%BC-%EB%B0%94%EB%9D%BC%EB%B3%B4%EB%8B%A45', 'title': '피엔티 - 오렌지보드', 'content': '이에 실질적으로 파우치형 배터리에 사용 가능한 넓은 폭의 코터를 생산하는 기업은 전 세계적으로 피엔티와 히라노 둘 뿐이다. 실제로 각각의 경쟁사들과', 'score': 0.6562404, 'raw_content': None}, {'url': 'https://comp.wisereport.co.kr/company/c1060001.aspx?cmp_cd=137400&cn=', 'title': '피엔티 - 경쟁사분석 - 기업모니터', 'content': 'EPS2,808. BPS18,063. PER15.56. 업종PER33.80. PBR2.42. 현금배당수익률 0.00%. 전일종가 43,700. 도움말. KOSDAQ : 코스닥 기계·장비 | WI26 : IT가전 | 12월 결산 |', 'score': 0.6246834, 'raw_content': None}, {'url': 'https://jmagazine.joins.com/forbes/view/338310', 'title': '김준섭 피엔티 대표 - 월간중앙', 'content': '피엔티는 2010년 중반부터 주요 경쟁사를 제치고 국내시장 점유율 1위를 굳건히 지켜왔으며 경쟁업체와의 격차도 크게 벌렸다. 지난해 피엔티의 매출', 'score': 0.5820878, 'raw_content': None}, {'url': 'https://securities.miraeasset.com/bbs/download/2125406.pdf?attachmentId=2125406', 'title': '[PDF] 피엔티 (137400) - 미래에셋증권', 'content': '피엔티. 윤성에프앤씨. 씨아이에스. 케이엔에스. 재무 비교. 경쟁사간 성장성, 수익성, 안정성, 활동성 관련 재무 지수를 비교해드려요. 수익성 (ROE', 'score': 0.5232017, 'raw_content': None}], 'response_time': 3.58})}\n",
            "\n",
            "\n",
            "=== select ===\n",
            "\n",
            "\n",
            "{'messages': AIMessage(content='수집된 정보를 바탕으로 보고서를 작성해야 하므로, `write_pdf` 도구를 사용하여 보고서를 작성하겠습니다.', additional_kwargs={'function_call': {'name': 'write_pdf', 'arguments': '{\"content\": \"\\\\ud53c\\\\uc5d4\\\\ud2f0 \\\\uacbd\\\\uc7c1\\\\uc0ac \\\\uc815\\\\ubcf4 \\\\ubcf4\\\\uace0\\\\uc11c\\\\n\\\\n\\\\ud53c\\\\uc5d4\\\\ud2f0\\\\uc758 \\\\uacbd\\\\uc7c1\\\\uc0ac\\\\ub85c\\\\ub294 \\\\uc528\\\\uc544\\\\uc774\\\\uc5d0\\\\uc2a4, \\\\ud788\\\\ub77c\\\\ub178, \\\\uc724\\\\uc131\\\\uc5d0\\\\ud504\\\\uc564\\\\uc528, \\\\ucf00\\\\uc774\\\\uc5d4\\\\uc5d0\\\\uc2a4 \\\\ub4f1\\\\uc774 \\\\uc788\\\\uc2b5\\\\ub2c8\\\\ub2e4.\\\\n\\\\n\\\\uc528\\\\uc544\\\\uc774\\\\uc5d0\\\\uc2a4\\\\ub294 \\\\ub864\\\\ud22c\\\\ub864 \\\\uc7a5\\\\ube44\\\\ud68c\\\\uc0ac\\\\uc758 \\\\uc591\\\\ub300 \\\\uc0b0\\\\ub9e5\\\\uc73c\\\\ub85c, LG\\\\ub97c \\\\uc8fc\\\\uc694 \\\\uac70\\\\ub798\\\\ucc98\\\\ub85c \\\\ud558\\\\uace0 \\\\ucd5c\\\\uadfc \\\\ub178\\\\uc2a4\\\\ubcfc\\\\ud2b8\\\\uc758 \\\\uc804\\\\uadf9\\\\uacf5\\\\uc815\\\\uae4c\\\\uc9c0 \\\\uc218\\\\uc8fc\\\\ub97c \\\\ub530\\\\ub0b8 \\\\uae30\\\\uc5c5\\\\uc785\\\\ub2c8\\\\ub2e4.\\\\n\\\\n\\\\ud788\\\\ub77c\\\\ub178\\\\ub294 \\\\ud30c\\\\uc6b0\\\\uce58\\\\ud615 \\\\ubc30\\\\ud130\\\\ub9ac\\\\uc5d0 \\\\uc0ac\\\\uc6a9 \\\\uac00\\\\ub2a5\\\\ud55c \\\\ub113\\\\uc740 \\\\ud3ed\\\\uc758 \\\\ucf54\\\\ud130\\\\ub97c \\\\uc0dd\\\\uc0b0\\\\ud558\\\\ub294 \\\\uae30\\\\uc5c5\\\\uc73c\\\\ub85c, \\\\ud53c\\\\uc5d4\\\\ud2f0\\\\uc640 \\\\ud568\\\\uaed8 \\\\uc804 \\\\uc138\\\\uacc4\\\\uc801\\\\uc73c\\\\ub85c \\\\uba87 \\\\uc548 \\\\ub418\\\\ub294 \\\\uae30\\\\uc5c5 \\\\uc911 \\\\ud558\\\\ub098\\\\uc785\\\\ub2c8\\\\ub2e4.\\\\n\\\\n\\\\uc724\\\\uc131\\\\uc5d0\\\\ud504\\\\uc564\\\\uc528\\\\uc640 \\\\ucf00\\\\uc774\\\\uc5d4\\\\uc5d0\\\\uc2a4\\\\ub294 \\\\uc7ac\\\\ubb34 \\\\ube44\\\\uad50\\\\ub97c \\\\ud1b5\\\\ud574 \\\\uacbd\\\\uc7c1\\\\uc0ac\\\\ub85c \\\\uc5b8\\\\uae09\\\\ub418\\\\uc5c8\\\\uc2b5\\\\ub2c8\\\\ub2e4.\", \"filename\": \"\\\\ud53c\\\\uc5d4\\\\ud2f0 \\\\uacbd\\\\uc7c1\\\\uc0ac \\\\uc815\\\\ubcf4 \\\\ubcf4\\\\uace0\\\\uc11c.pdf\"}'}}, response_metadata={'prompt_feedback': {'block_reason': 0, 'safety_ratings': []}, 'finish_reason': 'STOP', 'model_name': 'gemini-2.0-flash', 'safety_ratings': []}, id='run-ade18bcf-ff58-4680-a89c-6a457d82d72a-0', tool_calls=[{'name': 'write_pdf', 'args': {'content': '피엔티 경쟁사 정보 보고서\\n\\n피엔티의 경쟁사로는 씨아이에스, 히라노, 윤성에프앤씨, 케이엔에스 등이 있습니다.\\n\\n씨아이에스는 롤투롤 장비회사의 양대 산맥으로, LG를 주요 거래처로 하고 최근 노스볼트의 전극공정까지 수주를 따낸 기업입니다.\\n\\n히라노는 파우치형 배터리에 사용 가능한 넓은 폭의 코터를 생산하는 기업으로, 피엔티와 함께 전 세계적으로 몇 안 되는 기업 중 하나입니다.\\n\\n윤성에프앤씨와 케이엔에스는 재무 비교를 통해 경쟁사로 언급되었습니다.', 'filename': '피엔티 경쟁사 정보 보고서.pdf'}, 'id': '7375cea0-1011-46cc-9ed8-d9391b121511', 'type': 'tool_call'}], usage_metadata={'input_tokens': 3014, 'output_tokens': 226, 'total_tokens': 3240, 'input_token_details': {'cache_read': 0}}), 'tool_call': [AIMessage(content='수집된 정보를 바탕으로 보고서를 작성해야 하므로, `write_pdf` 도구를 사용하여 보고서를 작성하겠습니다.', additional_kwargs={'function_call': {'name': 'write_pdf', 'arguments': '{\"content\": \"\\\\ud53c\\\\uc5d4\\\\ud2f0 \\\\uacbd\\\\uc7c1\\\\uc0ac \\\\uc815\\\\ubcf4 \\\\ubcf4\\\\uace0\\\\uc11c\\\\n\\\\n\\\\ud53c\\\\uc5d4\\\\ud2f0\\\\uc758 \\\\uacbd\\\\uc7c1\\\\uc0ac\\\\ub85c\\\\ub294 \\\\uc528\\\\uc544\\\\uc774\\\\uc5d0\\\\uc2a4, \\\\ud788\\\\ub77c\\\\ub178, \\\\uc724\\\\uc131\\\\uc5d0\\\\ud504\\\\uc564\\\\uc528, \\\\ucf00\\\\uc774\\\\uc5d4\\\\uc5d0\\\\uc2a4 \\\\ub4f1\\\\uc774 \\\\uc788\\\\uc2b5\\\\ub2c8\\\\ub2e4.\\\\n\\\\n\\\\uc528\\\\uc544\\\\uc774\\\\uc5d0\\\\uc2a4\\\\ub294 \\\\ub864\\\\ud22c\\\\ub864 \\\\uc7a5\\\\ube44\\\\ud68c\\\\uc0ac\\\\uc758 \\\\uc591\\\\ub300 \\\\uc0b0\\\\ub9e5\\\\uc73c\\\\ub85c, LG\\\\ub97c \\\\uc8fc\\\\uc694 \\\\uac70\\\\ub798\\\\ucc98\\\\ub85c \\\\ud558\\\\uace0 \\\\ucd5c\\\\uadfc \\\\ub178\\\\uc2a4\\\\ubcfc\\\\ud2b8\\\\uc758 \\\\uc804\\\\uadf9\\\\uacf5\\\\uc815\\\\uae4c\\\\uc9c0 \\\\uc218\\\\uc8fc\\\\ub97c \\\\ub530\\\\ub0b8 \\\\uae30\\\\uc5c5\\\\uc785\\\\ub2c8\\\\ub2e4.\\\\n\\\\n\\\\ud788\\\\ub77c\\\\ub178\\\\ub294 \\\\ud30c\\\\uc6b0\\\\uce58\\\\ud615 \\\\ubc30\\\\ud130\\\\ub9ac\\\\uc5d0 \\\\uc0ac\\\\uc6a9 \\\\uac00\\\\ub2a5\\\\ud55c \\\\ub113\\\\uc740 \\\\ud3ed\\\\uc758 \\\\ucf54\\\\ud130\\\\ub97c \\\\uc0dd\\\\uc0b0\\\\ud558\\\\ub294 \\\\uae30\\\\uc5c5\\\\uc73c\\\\ub85c, \\\\ud53c\\\\uc5d4\\\\ud2f0\\\\uc640 \\\\ud568\\\\uaed8 \\\\uc804 \\\\uc138\\\\uacc4\\\\uc801\\\\uc73c\\\\ub85c \\\\uba87 \\\\uc548 \\\\ub418\\\\ub294 \\\\uae30\\\\uc5c5 \\\\uc911 \\\\ud558\\\\ub098\\\\uc785\\\\ub2c8\\\\ub2e4.\\\\n\\\\n\\\\uc724\\\\uc131\\\\uc5d0\\\\ud504\\\\uc564\\\\uc528\\\\uc640 \\\\ucf00\\\\uc774\\\\uc5d4\\\\uc5d0\\\\uc2a4\\\\ub294 \\\\uc7ac\\\\ubb34 \\\\ube44\\\\uad50\\\\ub97c \\\\ud1b5\\\\ud574 \\\\uacbd\\\\uc7c1\\\\uc0ac\\\\ub85c \\\\uc5b8\\\\uae09\\\\ub418\\\\uc5c8\\\\uc2b5\\\\ub2c8\\\\ub2e4.\", \"filename\": \"\\\\ud53c\\\\uc5d4\\\\ud2f0 \\\\uacbd\\\\uc7c1\\\\uc0ac \\\\uc815\\\\ubcf4 \\\\ubcf4\\\\uace0\\\\uc11c.pdf\"}'}}, response_metadata={'prompt_feedback': {'block_reason': 0, 'safety_ratings': []}, 'finish_reason': 'STOP', 'model_name': 'gemini-2.0-flash', 'safety_ratings': []}, id='run-ade18bcf-ff58-4680-a89c-6a457d82d72a-0', tool_calls=[{'name': 'write_pdf', 'args': {'content': '피엔티 경쟁사 정보 보고서\\n\\n피엔티의 경쟁사로는 씨아이에스, 히라노, 윤성에프앤씨, 케이엔에스 등이 있습니다.\\n\\n씨아이에스는 롤투롤 장비회사의 양대 산맥으로, LG를 주요 거래처로 하고 최근 노스볼트의 전극공정까지 수주를 따낸 기업입니다.\\n\\n히라노는 파우치형 배터리에 사용 가능한 넓은 폭의 코터를 생산하는 기업으로, 피엔티와 함께 전 세계적으로 몇 안 되는 기업 중 하나입니다.\\n\\n윤성에프앤씨와 케이엔에스는 재무 비교를 통해 경쟁사로 언급되었습니다.', 'filename': '피엔티 경쟁사 정보 보고서.pdf'}, 'id': '7375cea0-1011-46cc-9ed8-d9391b121511', 'type': 'tool_call'}], usage_metadata={'input_tokens': 3014, 'output_tokens': 226, 'total_tokens': 3240, 'input_token_details': {'cache_read': 0}})]}\n",
            "\n",
            "\n",
            "\n",
            "\n",
            "\n",
            "이것은 content 입니다.\n",
            "\n",
            " 피엔티 경쟁사 정보 보고서\n",
            "\n",
            "피엔티의 경쟁사로는 씨아이에스, 히라노, 윤성에프앤씨, 케이엔에스 등이 있습니다.\n",
            "\n",
            "씨아이에스는 롤투롤 장비회사의 양대 산맥으로, LG를 주요 거래처로 하고 최근 노스볼트의 전극공정까지 수주를 따낸 기업입니다.\n",
            "\n",
            "히라노는 파우치형 배터리에 사용 가능한 넓은 폭의 코터를 생산하는 기업으로, 피엔티와 함께 전 세계적으로 몇 안 되는 기업 중 하나입니다.\n",
            "\n",
            "윤성에프앤씨와 케이엔에스는 재무 비교를 통해 경쟁사로 언급되었습니다.\n",
            "\n",
            "\n",
            "=== tools ===\n",
            "\n",
            "\n",
            "{'messages': [ToolMessage(content='피엔티 경쟁사 정보 보고서.pdf 저장 완료', name='write_pdf', id='19f0cc75-5ca7-4302-ae7c-4cd5a0707c02', tool_call_id='7375cea0-1011-46cc-9ed8-d9391b121511')]}\n",
            "\n",
            "\n",
            "=== response ===\n",
            "\n",
            "\n",
            "{'answer': ToolMessage(content='피엔티 경쟁사 정보 보고서.pdf 저장 완료', name='write_pdf', id='19f0cc75-5ca7-4302-ae7c-4cd5a0707c02', tool_call_id='7375cea0-1011-46cc-9ed8-d9391b121511')}\n"
          ]
        }
      ],
      "source": [
        "config = reset_config()\n",
        "\n",
        "query = \"피엔티의 경쟁사에 대한 정보도 정리된 보고서를 작성해주세요.\"\n",
        "\n",
        "streaming(query, config)"
      ]
    },
    {
      "cell_type": "code",
      "execution_count": 529,
      "metadata": {},
      "outputs": [
        {
          "name": "stdout",
          "output_type": "stream",
          "text": [
            "\n",
            "\n",
            "=== history_node ===\n",
            "\n",
            "\n",
            "{'query': '피엔티의 경쟁사의 매출도 조사해서 보고서로 정리해줘', 'answer': ToolMessage(content='피엔티 경쟁사 정보 보고서.pdf 저장 완료', name='write_pdf', id='19f0cc75-5ca7-4302-ae7c-4cd5a0707c02', tool_call_id='7375cea0-1011-46cc-9ed8-d9391b121511'), 'messages': [HumanMessage(content='피엔티의 경쟁사에 대한 정보도 정리된 보고서를 작성해주세요.', additional_kwargs={}, response_metadata={}, id='cfc6dc98-f551-43ca-a93e-37377aa2492d'), AIMessage(content='피엔티의 경쟁사에 대한 정보가 필요하므로, 먼저 검색을 통해 관련 정보를 수집해야 합니다. 그 후, 수집된 정보를 바탕으로 보고서를 작성하는 것이 적절합니다. 따라서 먼저 `tavily_search_results_json` 도구를 사용하여 피엔티 경쟁사에 대한 정보를 검색하겠습니다.', additional_kwargs={'function_call': {'name': 'tavily_search_results_json', 'arguments': '{\"query\": \"\\\\ud53c\\\\uc5d4\\\\ud2f0 \\\\uacbd\\\\uc7c1\\\\uc0ac\"}'}}, response_metadata={'prompt_feedback': {'block_reason': 0, 'safety_ratings': []}, 'finish_reason': 'STOP', 'model_name': 'gemini-2.0-flash', 'safety_ratings': []}, id='run-55d86f7d-cc1d-49e0-87aa-f97b36bef9d7-0', tool_calls=[{'name': 'tavily_search_results_json', 'args': {'query': '피엔티 경쟁사'}, 'id': '1076d441-0f89-4f5d-96cc-ce389f021276', 'type': 'tool_call'}], usage_metadata={'input_tokens': 411, 'output_tokens': 101, 'total_tokens': 512, 'input_token_details': {'cache_read': 0}}), ToolMessage(content='[{\"title\": \"피엔티의 사업분석 및 고객사에 대하여 : 네이버 블로그\", \"url\": \"https://blog.naver.com/humanindicator/222353810766\", \"content\": \"피엔티의 경쟁사는 롤투롤 장비회사의 양대 산맥인 \\'씨아이에스\\'다. 주 거래처는 LG이며 최근 노스볼트의 전극공정까지 수주를 따낸 핫한 기업이다. 둘다\", \"score\": 0.8846886}, {\"title\": \"피엔티 - 오렌지보드\", \"url\": \"https://orangeboard.co.kr/@New_Jusiks/%ED%94%BC%EC%97%94%ED%8B%B0-%EB%8F%85%EB%B3%B4%EC%A0%81-1%EC%9C%84-%EA%B7%B8-%EB%84%88%EB%A8%B8%EB%A5%BC-%EB%B0%94%EB%9D%BC%EB%B3%B4%EB%8B%A45\", \"content\": \"이에 실질적으로 파우치형 배터리에 사용 가능한 넓은 폭의 코터를 생산하는 기업은 전 세계적으로 피엔티와 히라노 둘 뿐이다. 실제로 각각의 경쟁사들과\", \"score\": 0.6562404}, {\"title\": \"피엔티 - 경쟁사분석 - 기업모니터\", \"url\": \"https://comp.wisereport.co.kr/company/c1060001.aspx?cmp_cd=137400&cn=\", \"content\": \"EPS2,808. BPS18,063. PER15.56. 업종PER33.80. PBR2.42. 현금배당수익률 0.00%. 전일종가 43,700. 도움말. KOSDAQ : 코스닥 기계·장비 | WI26 : IT가전 | 12월 결산 |\", \"score\": 0.6246834}, {\"title\": \"김준섭 피엔티 대표 - 월간중앙\", \"url\": \"https://jmagazine.joins.com/forbes/view/338310\", \"content\": \"피엔티는 2010년 중반부터 주요 경쟁사를 제치고 국내시장 점유율 1위를 굳건히 지켜왔으며 경쟁업체와의 격차도 크게 벌렸다. 지난해 피엔티의 매출\", \"score\": 0.5820878}, {\"title\": \"[PDF] 피엔티 (137400) - 미래에셋증권\", \"url\": \"https://securities.miraeasset.com/bbs/download/2125406.pdf?attachmentId=2125406\", \"content\": \"피엔티. 윤성에프앤씨. 씨아이에스. 케이엔에스. 재무 비교. 경쟁사간 성장성, 수익성, 안정성, 활동성 관련 재무 지수를 비교해드려요. 수익성 (ROE\", \"score\": 0.5232017}]', name='tavily_search_results_json', id='7ba26398-a2e0-43ae-88c9-a37fa80d6da9', tool_call_id='1076d441-0f89-4f5d-96cc-ce389f021276', artifact={'query': '피엔티 경쟁사', 'follow_up_questions': None, 'answer': None, 'images': [], 'results': [{'url': 'https://blog.naver.com/humanindicator/222353810766', 'title': '피엔티의 사업분석 및 고객사에 대하여 : 네이버 블로그', 'content': \"피엔티의 경쟁사는 롤투롤 장비회사의 양대 산맥인 '씨아이에스'다. 주 거래처는 LG이며 최근 노스볼트의 전극공정까지 수주를 따낸 핫한 기업이다. 둘다\", 'score': 0.8846886, 'raw_content': None}, {'url': 'https://orangeboard.co.kr/@New_Jusiks/%ED%94%BC%EC%97%94%ED%8B%B0-%EB%8F%85%EB%B3%B4%EC%A0%81-1%EC%9C%84-%EA%B7%B8-%EB%84%88%EB%A8%B8%EB%A5%BC-%EB%B0%94%EB%9D%BC%EB%B3%B4%EB%8B%A45', 'title': '피엔티 - 오렌지보드', 'content': '이에 실질적으로 파우치형 배터리에 사용 가능한 넓은 폭의 코터를 생산하는 기업은 전 세계적으로 피엔티와 히라노 둘 뿐이다. 실제로 각각의 경쟁사들과', 'score': 0.6562404, 'raw_content': None}, {'url': 'https://comp.wisereport.co.kr/company/c1060001.aspx?cmp_cd=137400&cn=', 'title': '피엔티 - 경쟁사분석 - 기업모니터', 'content': 'EPS2,808. BPS18,063. PER15.56. 업종PER33.80. PBR2.42. 현금배당수익률 0.00%. 전일종가 43,700. 도움말. KOSDAQ : 코스닥 기계·장비 | WI26 : IT가전 | 12월 결산 |', 'score': 0.6246834, 'raw_content': None}, {'url': 'https://jmagazine.joins.com/forbes/view/338310', 'title': '김준섭 피엔티 대표 - 월간중앙', 'content': '피엔티는 2010년 중반부터 주요 경쟁사를 제치고 국내시장 점유율 1위를 굳건히 지켜왔으며 경쟁업체와의 격차도 크게 벌렸다. 지난해 피엔티의 매출', 'score': 0.5820878, 'raw_content': None}, {'url': 'https://securities.miraeasset.com/bbs/download/2125406.pdf?attachmentId=2125406', 'title': '[PDF] 피엔티 (137400) - 미래에셋증권', 'content': '피엔티. 윤성에프앤씨. 씨아이에스. 케이엔에스. 재무 비교. 경쟁사간 성장성, 수익성, 안정성, 활동성 관련 재무 지수를 비교해드려요. 수익성 (ROE', 'score': 0.5232017, 'raw_content': None}], 'response_time': 3.58}), AIMessage(content='수집된 정보를 바탕으로 보고서를 작성해야 하므로, `write_pdf` 도구를 사용하여 보고서를 작성하겠습니다.', additional_kwargs={'function_call': {'name': 'write_pdf', 'arguments': '{\"content\": \"\\\\ud53c\\\\uc5d4\\\\ud2f0 \\\\uacbd\\\\uc7c1\\\\uc0ac \\\\uc815\\\\ubcf4 \\\\ubcf4\\\\uace0\\\\uc11c\\\\n\\\\n\\\\ud53c\\\\uc5d4\\\\ud2f0\\\\uc758 \\\\uacbd\\\\uc7c1\\\\uc0ac\\\\ub85c\\\\ub294 \\\\uc528\\\\uc544\\\\uc774\\\\uc5d0\\\\uc2a4, \\\\ud788\\\\ub77c\\\\ub178, \\\\uc724\\\\uc131\\\\uc5d0\\\\ud504\\\\uc564\\\\uc528, \\\\ucf00\\\\uc774\\\\uc5d4\\\\uc5d0\\\\uc2a4 \\\\ub4f1\\\\uc774 \\\\uc788\\\\uc2b5\\\\ub2c8\\\\ub2e4.\\\\n\\\\n\\\\uc528\\\\uc544\\\\uc774\\\\uc5d0\\\\uc2a4\\\\ub294 \\\\ub864\\\\ud22c\\\\ub864 \\\\uc7a5\\\\ube44\\\\ud68c\\\\uc0ac\\\\uc758 \\\\uc591\\\\ub300 \\\\uc0b0\\\\ub9e5\\\\uc73c\\\\ub85c, LG\\\\ub97c \\\\uc8fc\\\\uc694 \\\\uac70\\\\ub798\\\\ucc98\\\\ub85c \\\\ud558\\\\uace0 \\\\ucd5c\\\\uadfc \\\\ub178\\\\uc2a4\\\\ubcfc\\\\ud2b8\\\\uc758 \\\\uc804\\\\uadf9\\\\uacf5\\\\uc815\\\\uae4c\\\\uc9c0 \\\\uc218\\\\uc8fc\\\\ub97c \\\\ub530\\\\ub0b8 \\\\uae30\\\\uc5c5\\\\uc785\\\\ub2c8\\\\ub2e4.\\\\n\\\\n\\\\ud788\\\\ub77c\\\\ub178\\\\ub294 \\\\ud30c\\\\uc6b0\\\\uce58\\\\ud615 \\\\ubc30\\\\ud130\\\\ub9ac\\\\uc5d0 \\\\uc0ac\\\\uc6a9 \\\\uac00\\\\ub2a5\\\\ud55c \\\\ub113\\\\uc740 \\\\ud3ed\\\\uc758 \\\\ucf54\\\\ud130\\\\ub97c \\\\uc0dd\\\\uc0b0\\\\ud558\\\\ub294 \\\\uae30\\\\uc5c5\\\\uc73c\\\\ub85c, \\\\ud53c\\\\uc5d4\\\\ud2f0\\\\uc640 \\\\ud568\\\\uaed8 \\\\uc804 \\\\uc138\\\\uacc4\\\\uc801\\\\uc73c\\\\ub85c \\\\uba87 \\\\uc548 \\\\ub418\\\\ub294 \\\\uae30\\\\uc5c5 \\\\uc911 \\\\ud558\\\\ub098\\\\uc785\\\\ub2c8\\\\ub2e4.\\\\n\\\\n\\\\uc724\\\\uc131\\\\uc5d0\\\\ud504\\\\uc564\\\\uc528\\\\uc640 \\\\ucf00\\\\uc774\\\\uc5d4\\\\uc5d0\\\\uc2a4\\\\ub294 \\\\uc7ac\\\\ubb34 \\\\ube44\\\\uad50\\\\ub97c \\\\ud1b5\\\\ud574 \\\\uacbd\\\\uc7c1\\\\uc0ac\\\\ub85c \\\\uc5b8\\\\uae09\\\\ub418\\\\uc5c8\\\\uc2b5\\\\ub2c8\\\\ub2e4.\", \"filename\": \"\\\\ud53c\\\\uc5d4\\\\ud2f0 \\\\uacbd\\\\uc7c1\\\\uc0ac \\\\uc815\\\\ubcf4 \\\\ubcf4\\\\uace0\\\\uc11c.pdf\"}'}}, response_metadata={'prompt_feedback': {'block_reason': 0, 'safety_ratings': []}, 'finish_reason': 'STOP', 'model_name': 'gemini-2.0-flash', 'safety_ratings': []}, id='run-ade18bcf-ff58-4680-a89c-6a457d82d72a-0', tool_calls=[{'name': 'write_pdf', 'args': {'content': '피엔티 경쟁사 정보 보고서\\n\\n피엔티의 경쟁사로는 씨아이에스, 히라노, 윤성에프앤씨, 케이엔에스 등이 있습니다.\\n\\n씨아이에스는 롤투롤 장비회사의 양대 산맥으로, LG를 주요 거래처로 하고 최근 노스볼트의 전극공정까지 수주를 따낸 기업입니다.\\n\\n히라노는 파우치형 배터리에 사용 가능한 넓은 폭의 코터를 생산하는 기업으로, 피엔티와 함께 전 세계적으로 몇 안 되는 기업 중 하나입니다.\\n\\n윤성에프앤씨와 케이엔에스는 재무 비교를 통해 경쟁사로 언급되었습니다.', 'filename': '피엔티 경쟁사 정보 보고서.pdf'}, 'id': '7375cea0-1011-46cc-9ed8-d9391b121511', 'type': 'tool_call'}], usage_metadata={'input_tokens': 3014, 'output_tokens': 226, 'total_tokens': 3240, 'input_token_details': {'cache_read': 0}}), ToolMessage(content='피엔티 경쟁사 정보 보고서.pdf 저장 완료', name='write_pdf', id='19f0cc75-5ca7-4302-ae7c-4cd5a0707c02', tool_call_id='7375cea0-1011-46cc-9ed8-d9391b121511'), HumanMessage(content='피엔티의 경쟁사의 매출도 조사해서 보고서로 정리해줘', additional_kwargs={}, response_metadata={}, id='a6203b27-f874-417a-b0e3-343bfc6482c9')], 'tool_call': [AIMessage(content='수집된 정보를 바탕으로 보고서를 작성해야 하므로, `write_pdf` 도구를 사용하여 보고서를 작성하겠습니다.', additional_kwargs={'function_call': {'name': 'write_pdf', 'arguments': '{\"content\": \"\\\\ud53c\\\\uc5d4\\\\ud2f0 \\\\uacbd\\\\uc7c1\\\\uc0ac \\\\uc815\\\\ubcf4 \\\\ubcf4\\\\uace0\\\\uc11c\\\\n\\\\n\\\\ud53c\\\\uc5d4\\\\ud2f0\\\\uc758 \\\\uacbd\\\\uc7c1\\\\uc0ac\\\\ub85c\\\\ub294 \\\\uc528\\\\uc544\\\\uc774\\\\uc5d0\\\\uc2a4, \\\\ud788\\\\ub77c\\\\ub178, \\\\uc724\\\\uc131\\\\uc5d0\\\\ud504\\\\uc564\\\\uc528, \\\\ucf00\\\\uc774\\\\uc5d4\\\\uc5d0\\\\uc2a4 \\\\ub4f1\\\\uc774 \\\\uc788\\\\uc2b5\\\\ub2c8\\\\ub2e4.\\\\n\\\\n\\\\uc528\\\\uc544\\\\uc774\\\\uc5d0\\\\uc2a4\\\\ub294 \\\\ub864\\\\ud22c\\\\ub864 \\\\uc7a5\\\\ube44\\\\ud68c\\\\uc0ac\\\\uc758 \\\\uc591\\\\ub300 \\\\uc0b0\\\\ub9e5\\\\uc73c\\\\ub85c, LG\\\\ub97c \\\\uc8fc\\\\uc694 \\\\uac70\\\\ub798\\\\ucc98\\\\ub85c \\\\ud558\\\\uace0 \\\\ucd5c\\\\uadfc \\\\ub178\\\\uc2a4\\\\ubcfc\\\\ud2b8\\\\uc758 \\\\uc804\\\\uadf9\\\\uacf5\\\\uc815\\\\uae4c\\\\uc9c0 \\\\uc218\\\\uc8fc\\\\ub97c \\\\ub530\\\\ub0b8 \\\\uae30\\\\uc5c5\\\\uc785\\\\ub2c8\\\\ub2e4.\\\\n\\\\n\\\\ud788\\\\ub77c\\\\ub178\\\\ub294 \\\\ud30c\\\\uc6b0\\\\uce58\\\\ud615 \\\\ubc30\\\\ud130\\\\ub9ac\\\\uc5d0 \\\\uc0ac\\\\uc6a9 \\\\uac00\\\\ub2a5\\\\ud55c \\\\ub113\\\\uc740 \\\\ud3ed\\\\uc758 \\\\ucf54\\\\ud130\\\\ub97c \\\\uc0dd\\\\uc0b0\\\\ud558\\\\ub294 \\\\uae30\\\\uc5c5\\\\uc73c\\\\ub85c, \\\\ud53c\\\\uc5d4\\\\ud2f0\\\\uc640 \\\\ud568\\\\uaed8 \\\\uc804 \\\\uc138\\\\uacc4\\\\uc801\\\\uc73c\\\\ub85c \\\\uba87 \\\\uc548 \\\\ub418\\\\ub294 \\\\uae30\\\\uc5c5 \\\\uc911 \\\\ud558\\\\ub098\\\\uc785\\\\ub2c8\\\\ub2e4.\\\\n\\\\n\\\\uc724\\\\uc131\\\\uc5d0\\\\ud504\\\\uc564\\\\uc528\\\\uc640 \\\\ucf00\\\\uc774\\\\uc5d4\\\\uc5d0\\\\uc2a4\\\\ub294 \\\\uc7ac\\\\ubb34 \\\\ube44\\\\uad50\\\\ub97c \\\\ud1b5\\\\ud574 \\\\uacbd\\\\uc7c1\\\\uc0ac\\\\ub85c \\\\uc5b8\\\\uae09\\\\ub418\\\\uc5c8\\\\uc2b5\\\\ub2c8\\\\ub2e4.\", \"filename\": \"\\\\ud53c\\\\uc5d4\\\\ud2f0 \\\\uacbd\\\\uc7c1\\\\uc0ac \\\\uc815\\\\ubcf4 \\\\ubcf4\\\\uace0\\\\uc11c.pdf\"}'}}, response_metadata={'prompt_feedback': {'block_reason': 0, 'safety_ratings': []}, 'finish_reason': 'STOP', 'model_name': 'gemini-2.0-flash', 'safety_ratings': []}, id='run-ade18bcf-ff58-4680-a89c-6a457d82d72a-0', tool_calls=[{'name': 'write_pdf', 'args': {'content': '피엔티 경쟁사 정보 보고서\\n\\n피엔티의 경쟁사로는 씨아이에스, 히라노, 윤성에프앤씨, 케이엔에스 등이 있습니다.\\n\\n씨아이에스는 롤투롤 장비회사의 양대 산맥으로, LG를 주요 거래처로 하고 최근 노스볼트의 전극공정까지 수주를 따낸 기업입니다.\\n\\n히라노는 파우치형 배터리에 사용 가능한 넓은 폭의 코터를 생산하는 기업으로, 피엔티와 함께 전 세계적으로 몇 안 되는 기업 중 하나입니다.\\n\\n윤성에프앤씨와 케이엔에스는 재무 비교를 통해 경쟁사로 언급되었습니다.', 'filename': '피엔티 경쟁사 정보 보고서.pdf'}, 'id': '7375cea0-1011-46cc-9ed8-d9391b121511', 'type': 'tool_call'}], usage_metadata={'input_tokens': 3014, 'output_tokens': 226, 'total_tokens': 3240, 'input_token_details': {'cache_read': 0}})]}\n",
            "\n",
            "\n",
            "=== select ===\n",
            "\n",
            "\n",
            "{'messages': AIMessage(content='피엔티 경쟁사의 매출 정보를 검색한 후, 기존 보고서에 추가하여 PDF 보고서를 업데이트해야 합니다. 먼저 `tavily_search_results_json` 도구를 사용하여 피엔티 경쟁사들의 매출 정보를 검색하겠습니다.', additional_kwargs={'function_call': {'name': 'tavily_search_results_json', 'arguments': '{\"query\": \"\\\\ud53c\\\\uc5d4\\\\ud2f0 \\\\uacbd\\\\uc7c1\\\\uc0ac \\\\ub9e4\\\\ucd9c\"}'}}, response_metadata={'prompt_feedback': {'block_reason': 0, 'safety_ratings': []}, 'finish_reason': 'STOP', 'model_name': 'gemini-2.0-flash', 'safety_ratings': []}, id='run-ee98925e-2773-4129-8767-4cac024b40af-0', tool_calls=[{'name': 'tavily_search_results_json', 'args': {'query': '피엔티 경쟁사 매출'}, 'id': '17d51e45-50ad-49dc-94f4-c90ead2eceda', 'type': 'tool_call'}], usage_metadata={'input_tokens': 5715, 'output_tokens': 84, 'total_tokens': 5799, 'input_token_details': {'cache_read': 0}}), 'tool_call': [AIMessage(content='피엔티 경쟁사의 매출 정보를 검색한 후, 기존 보고서에 추가하여 PDF 보고서를 업데이트해야 합니다. 먼저 `tavily_search_results_json` 도구를 사용하여 피엔티 경쟁사들의 매출 정보를 검색하겠습니다.', additional_kwargs={'function_call': {'name': 'tavily_search_results_json', 'arguments': '{\"query\": \"\\\\ud53c\\\\uc5d4\\\\ud2f0 \\\\uacbd\\\\uc7c1\\\\uc0ac \\\\ub9e4\\\\ucd9c\"}'}}, response_metadata={'prompt_feedback': {'block_reason': 0, 'safety_ratings': []}, 'finish_reason': 'STOP', 'model_name': 'gemini-2.0-flash', 'safety_ratings': []}, id='run-ee98925e-2773-4129-8767-4cac024b40af-0', tool_calls=[{'name': 'tavily_search_results_json', 'args': {'query': '피엔티 경쟁사 매출'}, 'id': '17d51e45-50ad-49dc-94f4-c90ead2eceda', 'type': 'tool_call'}], usage_metadata={'input_tokens': 5715, 'output_tokens': 84, 'total_tokens': 5799, 'input_token_details': {'cache_read': 0}})]}\n",
            "\n",
            "\n",
            "=== tools ===\n",
            "\n",
            "\n",
            "{'messages': [ToolMessage(content='[{\"title\": \"[더벨]\\'캐즘 속 독주\\' 피엔티, 글로벌 매출 본격화 첫 1조 클럽 - 머니투데이\", \"url\": \"https://news.mt.co.kr/mtview.php?no=2025032115059643078\", \"content\": \"더벨\\'머니투데이 thebell\\'에 출고된 기사입니다.피엔티(38,850원 ▼2,250 -5.47%)는 명실상부한 국내 2차전지 장비 대장주다. 국내외 시장에서의 수주량이나 고객사풀, 매출 외형 등 모든 면에서 경쟁사들을 압도하는 규모를 갖추고 있다.설립 후 20여년간 꾸준한 성장을 이뤄오다 지난해 마침내 퀀텀점프가 이뤄진 모양새다. 5000억대 외형이 1년 만에 조 단위로 들어섰고 영업이익률도 15%를 넘어섰다. 증권가는 올해 초까지의 리포트에서 대부분 호실적까진 예상했지만 이 정도의 깜짝 실적까진 써내지 못했다. 그야말로 ‘어닝 서프라이즈’다.원동력은 단연 ‘롤투롤(Roll-to-Roll)’ 장비를 중심으로 한 기술적 해자다. 2000년대 초반부터 국산화해 온 롤투롤 기술 기반 장비들을 공급하며 대체될 수 없는 포지션을 구축했다. 국내 매출에 이어 중국, 유럽, 미국 시장을 차례로 장악하며 ‘캐즘’ 속 홀로 독주를 이어가는 모습이다.◇전 사업부문 매출 2배, 중국·유럽·북미 [...] 포트폴리오 \\'균형\\'금감원 전자공시에 따르면 피엔티는 연결 기준 지난해 1조350억원의 매출을 기록했다. 전년도 대비 89.8% 증가한 수치다. 영업이익은 전년 대비 112.2% 늘어난 1632억원이다. 순이익 역시 1422억원으로 전년 대비 107.7% 증가했다.설립 이래 최초의 조 단위 매출이다. 1년 새 매출이 2배 가까이 늘어준 덕분에 가능했다. 증권가는 대체로 9000억원대 매출에 100억원 초반대의 영업이익을 예상했다.부문별 매출 내역을 보면 전체 사업부에서 고른 성장이 이뤄졌다. 피엔티는 2차전지 사업부와 소재 장비 사업부를 갖고 있는데 각 부문 매출이 모두 전년 대비 2배 가까이 늘었다. 주력 사업부문인 2차전지 부문 매출이 전년도 3996억원에서 7676억원으로 1.9배 늘었고, 후발 사업인 소재 부문도 1166억원에서 2213억원으로 비슷하게 성장했다. 여기에 피엔티엠에스 등 자회사들 매출이 연결로 편입되면서 매출이 1조원을 넘어섰다.지역별 매출로 보면 해외 매출의 [...] 하나인 진공 제어 기술(Vaccum Control Technique) 측면에서 경쟁사 대비 우위에 있다는 평가다.시장은 피엔티가 당분간 성장세를 지속할 수 있을 것으로 보고 있다. 가장 확실한 근거가 2조원에 육박하는 수주 잔고다. 지난해 말 기준 수주잔고는 1조7340억원이다. 자회사 물량까지 포함하면 잔고는 1조8000억원을 넘어선다. 통산 장비 부문 수주량은 1년~1년6개월에 걸쳐 매출로 인식된다. 올해 추가 수주 가능 물량을 감안하면 올해부터 2~3년간 조단위 매출이 이어질 수 있는 구조다. 실제로 지난달 중국 업체로부터 1400억원 규모 전극공정 장비를 추가 수주한 바 있다. 증권가 컨센서스를 보더라도 올해와 내년 매출 추정범위가 1300억~1600억원에서 형성돼 있다.피엔티 관계자는 “(최대 실적 달성에) 가장 주효했던 게 기술적 우위가 아닌가 싶다”면서 “캐즘 이전부터 기수주한 물량이 상당히 있었는데 별다른 지연 이슈없이 대부분 매출로 인식된 측면도 있다. 내년부턴\", \"score\": 0.78572035}, {\"title\": \"김준섭 피엔티 대표 \\\\\"美·中 경쟁 활용, 배터리 토탈 솔루션 공급업체로 ...\", \"url\": \"https://www.theguru.co.kr/news/article.html?no=80000\", \"content\": \"김준섭 피엔티 대표 \\\\\"美·中 경쟁 활용, 배터리 토탈 솔루션 공급업체로 도약\\\\\" ... 그러면서 \\\\\"피엔티는 작년에 5000억원의 매출을 달성했고, 올해는 100\", \"score\": 0.65861565}, {\"title\": \"김준섭 피엔티 대표 - 월간중앙\", \"url\": \"https://jmagazine.joins.com/forbes/view/338310\", \"content\": \"피엔티는 2010년 중반부터 주요 경쟁사를 제치고 국내시장 점유율 1위를 굳건히 지켜왔으며 경쟁업체와의 격차도 크게 벌렸다. 지난해 피엔티의 매출은\", \"score\": 0.6342494}, {\"title\": \"피엔티(A137400) | 재무제표 | 기업정보 - Company Guide\", \"url\": \"https://comp.fnguide.com/SVO2/ASP/SVD_Finance.asp?pGB=1&gicode=A137400&cID=&MenuYn=Y&ReportGB=&NewMenuID=103&stkGb=701\", \"content\": \"포괄손익계산서. IFRS(연결), 2021/12, 2022/12, 2023/12, 2024/12, 전년동기, 전년동기(%). 매출액. 3,777, 4,178, 5,454, 10,351, 5,454, 89.8. 매출원가.\", \"score\": 0.61834323}, {\"title\": \"피엔티 - 경쟁사분석 - 기업모니터\", \"url\": \"https://comp.wisereport.co.kr/company/c1060001.aspx?cmp_cd=137400&cn=\", \"content\": \"EPS2,808. BPS18,063. PER15.56. 업종PER33.80. PBR2.42. 현금배당수익률 0.00%. 전일종가 43,700. 도움말. KOSDAQ : 코스닥 기계·장비 | WI26 : IT가전 | 12월 결산 |\", \"score\": 0.6030211}]', name='tavily_search_results_json', id='f243d25d-f1f9-44d3-a77e-594722a75909', tool_call_id='17d51e45-50ad-49dc-94f4-c90ead2eceda', artifact={'query': '피엔티 경쟁사 매출', 'follow_up_questions': None, 'answer': None, 'images': [], 'results': [{'url': 'https://news.mt.co.kr/mtview.php?no=2025032115059643078', 'title': \"[더벨]'캐즘 속 독주' 피엔티, 글로벌 매출 본격화 첫 1조 클럽 - 머니투데이\", 'content': \"더벨'머니투데이 thebell'에 출고된 기사입니다.피엔티(38,850원 ▼2,250 -5.47%)는 명실상부한 국내 2차전지 장비 대장주다. 국내외 시장에서의 수주량이나 고객사풀, 매출 외형 등 모든 면에서 경쟁사들을 압도하는 규모를 갖추고 있다.설립 후 20여년간 꾸준한 성장을 이뤄오다 지난해 마침내 퀀텀점프가 이뤄진 모양새다. 5000억대 외형이 1년 만에 조 단위로 들어섰고 영업이익률도 15%를 넘어섰다. 증권가는 올해 초까지의 리포트에서 대부분 호실적까진 예상했지만 이 정도의 깜짝 실적까진 써내지 못했다. 그야말로 ‘어닝 서프라이즈’다.원동력은 단연 ‘롤투롤(Roll-to-Roll)’ 장비를 중심으로 한 기술적 해자다. 2000년대 초반부터 국산화해 온 롤투롤 기술 기반 장비들을 공급하며 대체될 수 없는 포지션을 구축했다. 국내 매출에 이어 중국, 유럽, 미국 시장을 차례로 장악하며 ‘캐즘’ 속 홀로 독주를 이어가는 모습이다.◇전 사업부문 매출 2배, 중국·유럽·북미 [...] 포트폴리오 '균형'금감원 전자공시에 따르면 피엔티는 연결 기준 지난해 1조350억원의 매출을 기록했다. 전년도 대비 89.8% 증가한 수치다. 영업이익은 전년 대비 112.2% 늘어난 1632억원이다. 순이익 역시 1422억원으로 전년 대비 107.7% 증가했다.설립 이래 최초의 조 단위 매출이다. 1년 새 매출이 2배 가까이 늘어준 덕분에 가능했다. 증권가는 대체로 9000억원대 매출에 100억원 초반대의 영업이익을 예상했다.부문별 매출 내역을 보면 전체 사업부에서 고른 성장이 이뤄졌다. 피엔티는 2차전지 사업부와 소재 장비 사업부를 갖고 있는데 각 부문 매출이 모두 전년 대비 2배 가까이 늘었다. 주력 사업부문인 2차전지 부문 매출이 전년도 3996억원에서 7676억원으로 1.9배 늘었고, 후발 사업인 소재 부문도 1166억원에서 2213억원으로 비슷하게 성장했다. 여기에 피엔티엠에스 등 자회사들 매출이 연결로 편입되면서 매출이 1조원을 넘어섰다.지역별 매출로 보면 해외 매출의 [...] 하나인 진공 제어 기술(Vaccum Control Technique) 측면에서 경쟁사 대비 우위에 있다는 평가다.시장은 피엔티가 당분간 성장세를 지속할 수 있을 것으로 보고 있다. 가장 확실한 근거가 2조원에 육박하는 수주 잔고다. 지난해 말 기준 수주잔고는 1조7340억원이다. 자회사 물량까지 포함하면 잔고는 1조8000억원을 넘어선다. 통산 장비 부문 수주량은 1년~1년6개월에 걸쳐 매출로 인식된다. 올해 추가 수주 가능 물량을 감안하면 올해부터 2~3년간 조단위 매출이 이어질 수 있는 구조다. 실제로 지난달 중국 업체로부터 1400억원 규모 전극공정 장비를 추가 수주한 바 있다. 증권가 컨센서스를 보더라도 올해와 내년 매출 추정범위가 1300억~1600억원에서 형성돼 있다.피엔티 관계자는 “(최대 실적 달성에) 가장 주효했던 게 기술적 우위가 아닌가 싶다”면서 “캐즘 이전부터 기수주한 물량이 상당히 있었는데 별다른 지연 이슈없이 대부분 매출로 인식된 측면도 있다. 내년부턴\", 'score': 0.78572035, 'raw_content': None}, {'url': 'https://www.theguru.co.kr/news/article.html?no=80000', 'title': '김준섭 피엔티 대표 \"美·中 경쟁 활용, 배터리 토탈 솔루션 공급업체로 ...', 'content': '김준섭 피엔티 대표 \"美·中 경쟁 활용, 배터리 토탈 솔루션 공급업체로 도약\" ... 그러면서 \"피엔티는 작년에 5000억원의 매출을 달성했고, 올해는 100', 'score': 0.65861565, 'raw_content': None}, {'url': 'https://jmagazine.joins.com/forbes/view/338310', 'title': '김준섭 피엔티 대표 - 월간중앙', 'content': '피엔티는 2010년 중반부터 주요 경쟁사를 제치고 국내시장 점유율 1위를 굳건히 지켜왔으며 경쟁업체와의 격차도 크게 벌렸다. 지난해 피엔티의 매출은', 'score': 0.6342494, 'raw_content': None}, {'url': 'https://comp.fnguide.com/SVO2/ASP/SVD_Finance.asp?pGB=1&gicode=A137400&cID=&MenuYn=Y&ReportGB=&NewMenuID=103&stkGb=701', 'title': '피엔티(A137400) | 재무제표 | 기업정보 - Company Guide', 'content': '포괄손익계산서. IFRS(연결), 2021/12, 2022/12, 2023/12, 2024/12, 전년동기, 전년동기(%). 매출액. 3,777, 4,178, 5,454, 10,351, 5,454, 89.8. 매출원가.', 'score': 0.61834323, 'raw_content': None}, {'url': 'https://comp.wisereport.co.kr/company/c1060001.aspx?cmp_cd=137400&cn=', 'title': '피엔티 - 경쟁사분석 - 기업모니터', 'content': 'EPS2,808. BPS18,063. PER15.56. 업종PER33.80. PBR2.42. 현금배당수익률 0.00%. 전일종가 43,700. 도움말. KOSDAQ : 코스닥 기계·장비 | WI26 : IT가전 | 12월 결산 |', 'score': 0.6030211, 'raw_content': None}], 'response_time': 3.45})]}\n",
            "\n",
            "\n",
            "=== response ===\n",
            "\n",
            "\n",
            "{'answer': ToolMessage(content='[{\"title\": \"[더벨]\\'캐즘 속 독주\\' 피엔티, 글로벌 매출 본격화 첫 1조 클럽 - 머니투데이\", \"url\": \"https://news.mt.co.kr/mtview.php?no=2025032115059643078\", \"content\": \"더벨\\'머니투데이 thebell\\'에 출고된 기사입니다.피엔티(38,850원 ▼2,250 -5.47%)는 명실상부한 국내 2차전지 장비 대장주다. 국내외 시장에서의 수주량이나 고객사풀, 매출 외형 등 모든 면에서 경쟁사들을 압도하는 규모를 갖추고 있다.설립 후 20여년간 꾸준한 성장을 이뤄오다 지난해 마침내 퀀텀점프가 이뤄진 모양새다. 5000억대 외형이 1년 만에 조 단위로 들어섰고 영업이익률도 15%를 넘어섰다. 증권가는 올해 초까지의 리포트에서 대부분 호실적까진 예상했지만 이 정도의 깜짝 실적까진 써내지 못했다. 그야말로 ‘어닝 서프라이즈’다.원동력은 단연 ‘롤투롤(Roll-to-Roll)’ 장비를 중심으로 한 기술적 해자다. 2000년대 초반부터 국산화해 온 롤투롤 기술 기반 장비들을 공급하며 대체될 수 없는 포지션을 구축했다. 국내 매출에 이어 중국, 유럽, 미국 시장을 차례로 장악하며 ‘캐즘’ 속 홀로 독주를 이어가는 모습이다.◇전 사업부문 매출 2배, 중국·유럽·북미 [...] 포트폴리오 \\'균형\\'금감원 전자공시에 따르면 피엔티는 연결 기준 지난해 1조350억원의 매출을 기록했다. 전년도 대비 89.8% 증가한 수치다. 영업이익은 전년 대비 112.2% 늘어난 1632억원이다. 순이익 역시 1422억원으로 전년 대비 107.7% 증가했다.설립 이래 최초의 조 단위 매출이다. 1년 새 매출이 2배 가까이 늘어준 덕분에 가능했다. 증권가는 대체로 9000억원대 매출에 100억원 초반대의 영업이익을 예상했다.부문별 매출 내역을 보면 전체 사업부에서 고른 성장이 이뤄졌다. 피엔티는 2차전지 사업부와 소재 장비 사업부를 갖고 있는데 각 부문 매출이 모두 전년 대비 2배 가까이 늘었다. 주력 사업부문인 2차전지 부문 매출이 전년도 3996억원에서 7676억원으로 1.9배 늘었고, 후발 사업인 소재 부문도 1166억원에서 2213억원으로 비슷하게 성장했다. 여기에 피엔티엠에스 등 자회사들 매출이 연결로 편입되면서 매출이 1조원을 넘어섰다.지역별 매출로 보면 해외 매출의 [...] 하나인 진공 제어 기술(Vaccum Control Technique) 측면에서 경쟁사 대비 우위에 있다는 평가다.시장은 피엔티가 당분간 성장세를 지속할 수 있을 것으로 보고 있다. 가장 확실한 근거가 2조원에 육박하는 수주 잔고다. 지난해 말 기준 수주잔고는 1조7340억원이다. 자회사 물량까지 포함하면 잔고는 1조8000억원을 넘어선다. 통산 장비 부문 수주량은 1년~1년6개월에 걸쳐 매출로 인식된다. 올해 추가 수주 가능 물량을 감안하면 올해부터 2~3년간 조단위 매출이 이어질 수 있는 구조다. 실제로 지난달 중국 업체로부터 1400억원 규모 전극공정 장비를 추가 수주한 바 있다. 증권가 컨센서스를 보더라도 올해와 내년 매출 추정범위가 1300억~1600억원에서 형성돼 있다.피엔티 관계자는 “(최대 실적 달성에) 가장 주효했던 게 기술적 우위가 아닌가 싶다”면서 “캐즘 이전부터 기수주한 물량이 상당히 있었는데 별다른 지연 이슈없이 대부분 매출로 인식된 측면도 있다. 내년부턴\", \"score\": 0.78572035}, {\"title\": \"김준섭 피엔티 대표 \\\\\"美·中 경쟁 활용, 배터리 토탈 솔루션 공급업체로 ...\", \"url\": \"https://www.theguru.co.kr/news/article.html?no=80000\", \"content\": \"김준섭 피엔티 대표 \\\\\"美·中 경쟁 활용, 배터리 토탈 솔루션 공급업체로 도약\\\\\" ... 그러면서 \\\\\"피엔티는 작년에 5000억원의 매출을 달성했고, 올해는 100\", \"score\": 0.65861565}, {\"title\": \"김준섭 피엔티 대표 - 월간중앙\", \"url\": \"https://jmagazine.joins.com/forbes/view/338310\", \"content\": \"피엔티는 2010년 중반부터 주요 경쟁사를 제치고 국내시장 점유율 1위를 굳건히 지켜왔으며 경쟁업체와의 격차도 크게 벌렸다. 지난해 피엔티의 매출은\", \"score\": 0.6342494}, {\"title\": \"피엔티(A137400) | 재무제표 | 기업정보 - Company Guide\", \"url\": \"https://comp.fnguide.com/SVO2/ASP/SVD_Finance.asp?pGB=1&gicode=A137400&cID=&MenuYn=Y&ReportGB=&NewMenuID=103&stkGb=701\", \"content\": \"포괄손익계산서. IFRS(연결), 2021/12, 2022/12, 2023/12, 2024/12, 전년동기, 전년동기(%). 매출액. 3,777, 4,178, 5,454, 10,351, 5,454, 89.8. 매출원가.\", \"score\": 0.61834323}, {\"title\": \"피엔티 - 경쟁사분석 - 기업모니터\", \"url\": \"https://comp.wisereport.co.kr/company/c1060001.aspx?cmp_cd=137400&cn=\", \"content\": \"EPS2,808. BPS18,063. PER15.56. 업종PER33.80. PBR2.42. 현금배당수익률 0.00%. 전일종가 43,700. 도움말. KOSDAQ : 코스닥 기계·장비 | WI26 : IT가전 | 12월 결산 |\", \"score\": 0.6030211}]', name='tavily_search_results_json', id='f243d25d-f1f9-44d3-a77e-594722a75909', tool_call_id='17d51e45-50ad-49dc-94f4-c90ead2eceda', artifact={'query': '피엔티 경쟁사 매출', 'follow_up_questions': None, 'answer': None, 'images': [], 'results': [{'url': 'https://news.mt.co.kr/mtview.php?no=2025032115059643078', 'title': \"[더벨]'캐즘 속 독주' 피엔티, 글로벌 매출 본격화 첫 1조 클럽 - 머니투데이\", 'content': \"더벨'머니투데이 thebell'에 출고된 기사입니다.피엔티(38,850원 ▼2,250 -5.47%)는 명실상부한 국내 2차전지 장비 대장주다. 국내외 시장에서의 수주량이나 고객사풀, 매출 외형 등 모든 면에서 경쟁사들을 압도하는 규모를 갖추고 있다.설립 후 20여년간 꾸준한 성장을 이뤄오다 지난해 마침내 퀀텀점프가 이뤄진 모양새다. 5000억대 외형이 1년 만에 조 단위로 들어섰고 영업이익률도 15%를 넘어섰다. 증권가는 올해 초까지의 리포트에서 대부분 호실적까진 예상했지만 이 정도의 깜짝 실적까진 써내지 못했다. 그야말로 ‘어닝 서프라이즈’다.원동력은 단연 ‘롤투롤(Roll-to-Roll)’ 장비를 중심으로 한 기술적 해자다. 2000년대 초반부터 국산화해 온 롤투롤 기술 기반 장비들을 공급하며 대체될 수 없는 포지션을 구축했다. 국내 매출에 이어 중국, 유럽, 미국 시장을 차례로 장악하며 ‘캐즘’ 속 홀로 독주를 이어가는 모습이다.◇전 사업부문 매출 2배, 중국·유럽·북미 [...] 포트폴리오 '균형'금감원 전자공시에 따르면 피엔티는 연결 기준 지난해 1조350억원의 매출을 기록했다. 전년도 대비 89.8% 증가한 수치다. 영업이익은 전년 대비 112.2% 늘어난 1632억원이다. 순이익 역시 1422억원으로 전년 대비 107.7% 증가했다.설립 이래 최초의 조 단위 매출이다. 1년 새 매출이 2배 가까이 늘어준 덕분에 가능했다. 증권가는 대체로 9000억원대 매출에 100억원 초반대의 영업이익을 예상했다.부문별 매출 내역을 보면 전체 사업부에서 고른 성장이 이뤄졌다. 피엔티는 2차전지 사업부와 소재 장비 사업부를 갖고 있는데 각 부문 매출이 모두 전년 대비 2배 가까이 늘었다. 주력 사업부문인 2차전지 부문 매출이 전년도 3996억원에서 7676억원으로 1.9배 늘었고, 후발 사업인 소재 부문도 1166억원에서 2213억원으로 비슷하게 성장했다. 여기에 피엔티엠에스 등 자회사들 매출이 연결로 편입되면서 매출이 1조원을 넘어섰다.지역별 매출로 보면 해외 매출의 [...] 하나인 진공 제어 기술(Vaccum Control Technique) 측면에서 경쟁사 대비 우위에 있다는 평가다.시장은 피엔티가 당분간 성장세를 지속할 수 있을 것으로 보고 있다. 가장 확실한 근거가 2조원에 육박하는 수주 잔고다. 지난해 말 기준 수주잔고는 1조7340억원이다. 자회사 물량까지 포함하면 잔고는 1조8000억원을 넘어선다. 통산 장비 부문 수주량은 1년~1년6개월에 걸쳐 매출로 인식된다. 올해 추가 수주 가능 물량을 감안하면 올해부터 2~3년간 조단위 매출이 이어질 수 있는 구조다. 실제로 지난달 중국 업체로부터 1400억원 규모 전극공정 장비를 추가 수주한 바 있다. 증권가 컨센서스를 보더라도 올해와 내년 매출 추정범위가 1300억~1600억원에서 형성돼 있다.피엔티 관계자는 “(최대 실적 달성에) 가장 주효했던 게 기술적 우위가 아닌가 싶다”면서 “캐즘 이전부터 기수주한 물량이 상당히 있었는데 별다른 지연 이슈없이 대부분 매출로 인식된 측면도 있다. 내년부턴\", 'score': 0.78572035, 'raw_content': None}, {'url': 'https://www.theguru.co.kr/news/article.html?no=80000', 'title': '김준섭 피엔티 대표 \"美·中 경쟁 활용, 배터리 토탈 솔루션 공급업체로 ...', 'content': '김준섭 피엔티 대표 \"美·中 경쟁 활용, 배터리 토탈 솔루션 공급업체로 도약\" ... 그러면서 \"피엔티는 작년에 5000억원의 매출을 달성했고, 올해는 100', 'score': 0.65861565, 'raw_content': None}, {'url': 'https://jmagazine.joins.com/forbes/view/338310', 'title': '김준섭 피엔티 대표 - 월간중앙', 'content': '피엔티는 2010년 중반부터 주요 경쟁사를 제치고 국내시장 점유율 1위를 굳건히 지켜왔으며 경쟁업체와의 격차도 크게 벌렸다. 지난해 피엔티의 매출은', 'score': 0.6342494, 'raw_content': None}, {'url': 'https://comp.fnguide.com/SVO2/ASP/SVD_Finance.asp?pGB=1&gicode=A137400&cID=&MenuYn=Y&ReportGB=&NewMenuID=103&stkGb=701', 'title': '피엔티(A137400) | 재무제표 | 기업정보 - Company Guide', 'content': '포괄손익계산서. IFRS(연결), 2021/12, 2022/12, 2023/12, 2024/12, 전년동기, 전년동기(%). 매출액. 3,777, 4,178, 5,454, 10,351, 5,454, 89.8. 매출원가.', 'score': 0.61834323, 'raw_content': None}, {'url': 'https://comp.wisereport.co.kr/company/c1060001.aspx?cmp_cd=137400&cn=', 'title': '피엔티 - 경쟁사분석 - 기업모니터', 'content': 'EPS2,808. BPS18,063. PER15.56. 업종PER33.80. PBR2.42. 현금배당수익률 0.00%. 전일종가 43,700. 도움말. KOSDAQ : 코스닥 기계·장비 | WI26 : IT가전 | 12월 결산 |', 'score': 0.6030211, 'raw_content': None}], 'response_time': 3.45})}\n",
            "\n",
            "\n",
            "=== select ===\n",
            "\n",
            "\n",
            "{'messages': AIMessage(content='피엔티 경쟁사 매출 정보 검색 결과를 바탕으로 기존 보고서를 업데이트해야 합니다. `write_pdf` 도구를 사용하여 보고서를 업데이트하겠습니다. 다만, 검색 결과에서 경쟁사별 정확한 매출액을 찾기 어려우므로, 피엔티의 매출액 정보와 함께 경쟁사로 언급된 기업들의 일반적인 정보를 보고서에 추가하는 방식으로 진행하겠습니다.', additional_kwargs={'function_call': {'name': 'write_pdf', 'arguments': '{\"content\": \"\\\\ud53c\\\\uc5d4\\\\ud2f0 \\\\uacbd\\\\uc7c1\\\\uc0ac \\\\uc815\\\\ubcf4 \\\\ubcf4\\\\uace0\\\\uc11c (\\\\ub9e4\\\\ucd9c \\\\uc815\\\\ubcf4 \\\\uc5c5\\\\ub370\\\\uc774\\\\ud2b8)\\\\n\\\\n\\\\ud53c\\\\uc5d4\\\\ud2f0\\\\uc758 \\\\uacbd\\\\uc7c1\\\\uc0ac\\\\ub85c\\\\ub294 \\\\uc528\\\\uc544\\\\uc774\\\\uc5d0\\\\uc2a4, \\\\ud788\\\\ub77c\\\\ub178, \\\\uc724\\\\uc131\\\\uc5d0\\\\ud504\\\\uc564\\\\uc528, \\\\ucf00\\\\uc774\\\\uc5d4\\\\uc5d0\\\\uc2a4 \\\\ub4f1\\\\uc774 \\\\uc788\\\\uc2b5\\\\ub2c8\\\\ub2e4.\\\\n\\\\n**\\\\ud53c\\\\uc5d4\\\\ud2f0:**\\\\n* 2023\\\\ub144 \\\\ub9e4\\\\ucd9c\\\\uc561: 1\\\\uc870 350\\\\uc5b5\\\\uc6d0 (\\\\uc804\\\\ub144 \\\\ub300\\\\ube44 89.8% \\\\uc99d\\\\uac00)\\\\n\\\\n**\\\\uc528\\\\uc544\\\\uc774\\\\uc5d0\\\\uc2a4:**\\\\n* \\\\ub864\\\\ud22c\\\\ub864 \\\\uc7a5\\\\ube44 \\\\ud68c\\\\uc0ac\\\\ub85c, LG\\\\ub97c \\\\uc8fc\\\\uc694 \\\\uac70\\\\ub798\\\\ucc98\\\\ub85c \\\\ud558\\\\uace0 \\\\uc788\\\\uc2b5\\\\ub2c8\\\\ub2e4.\\\\n\\\\n**\\\\ud788\\\\ub77c\\\\ub178:**\\\\n* \\\\ud30c\\\\uc6b0\\\\uce58\\\\ud615 \\\\ubc30\\\\ud130\\\\ub9ac\\\\uc6a9 \\\\ucf54\\\\ud130 \\\\uc0dd\\\\uc0b0 \\\\uae30\\\\uc5c5\\\\uc785\\\\ub2c8\\\\ub2e4.\\\\n\\\\n**\\\\uc724\\\\uc131\\\\uc5d0\\\\ud504\\\\uc564\\\\uc528, \\\\ucf00\\\\uc774\\\\uc5d4\\\\uc5d0\\\\uc2a4:**\\\\n* \\\\ud53c\\\\uc5d4\\\\ud2f0\\\\uc640 \\\\uc7ac\\\\ubb34 \\\\ube44\\\\uad50\\\\ub97c \\\\ud1b5\\\\ud574 \\\\uacbd\\\\uc7c1\\\\uc0ac\\\\ub85c \\\\uc5b8\\\\uae09\\\\ub418\\\\uc5c8\\\\uc2b5\\\\ub2c8\\\\ub2e4.\\\\n\\\\n\\\\n*\\\\ucc38\\\\uace0: \\\\uac80\\\\uc0c9 \\\\uacb0\\\\uacfc\\\\uc5d0\\\\uc11c \\\\uacbd\\\\uc7c1\\\\uc0ac\\\\ubcc4 \\\\uc815\\\\ud655\\\\ud55c \\\\ub9e4\\\\ucd9c\\\\uc561\\\\uc744 \\\\ucc3e\\\\uae30 \\\\uc5b4\\\\ub824\\\\uc6cc, \\\\ud53c\\\\uc5d4\\\\ud2f0 \\\\ub9e4\\\\ucd9c\\\\uc561\\\\uacfc \\\\uacbd\\\\uc7c1\\\\uc0ac \\\\uad00\\\\ub828 \\\\uc77c\\\\ubc18 \\\\uc815\\\\ubcf4\\\\ub97c \\\\uae30\\\\uc7ac\\\\ud569\\\\ub2c8\\\\ub2e4.\", \"filename\": \"\\\\ud53c\\\\uc5d4\\\\ud2f0 \\\\uacbd\\\\uc7c1\\\\uc0ac \\\\uc815\\\\ubcf4 \\\\ubcf4\\\\uace0\\\\uc11c (\\\\ub9e4\\\\ucd9c \\\\uc5c5\\\\ub370\\\\uc774\\\\ud2b8).pdf\"}'}}, response_metadata={'prompt_feedback': {'block_reason': 0, 'safety_ratings': []}, 'finish_reason': 'STOP', 'model_name': 'gemini-2.0-flash', 'safety_ratings': []}, id='run-7f199891-aa43-4a70-8ad9-5a7df1237281-0', tool_calls=[{'name': 'write_pdf', 'args': {'content': '피엔티 경쟁사 정보 보고서 (매출 정보 업데이트)\\n\\n피엔티의 경쟁사로는 씨아이에스, 히라노, 윤성에프앤씨, 케이엔에스 등이 있습니다.\\n\\n**피엔티:**\\n* 2023년 매출액: 1조 350억원 (전년 대비 89.8% 증가)\\n\\n**씨아이에스:**\\n* 롤투롤 장비 회사로, LG를 주요 거래처로 하고 있습니다.\\n\\n**히라노:**\\n* 파우치형 배터리용 코터 생산 기업입니다.\\n\\n**윤성에프앤씨, 케이엔에스:**\\n* 피엔티와 재무 비교를 통해 경쟁사로 언급되었습니다.\\n\\n\\n*참고: 검색 결과에서 경쟁사별 정확한 매출액을 찾기 어려워, 피엔티 매출액과 경쟁사 관련 일반 정보를 기재합니다.', 'filename': '피엔티 경쟁사 정보 보고서 (매출 업데이트).pdf'}, 'id': '75fb2bea-7470-4e75-9af3-bf01f6dfea4f', 'type': 'tool_call'}], usage_metadata={'input_tokens': 8969, 'output_tokens': 356, 'total_tokens': 9325, 'input_token_details': {'cache_read': 0}}), 'tool_call': [AIMessage(content='피엔티 경쟁사 매출 정보 검색 결과를 바탕으로 기존 보고서를 업데이트해야 합니다. `write_pdf` 도구를 사용하여 보고서를 업데이트하겠습니다. 다만, 검색 결과에서 경쟁사별 정확한 매출액을 찾기 어려우므로, 피엔티의 매출액 정보와 함께 경쟁사로 언급된 기업들의 일반적인 정보를 보고서에 추가하는 방식으로 진행하겠습니다.', additional_kwargs={'function_call': {'name': 'write_pdf', 'arguments': '{\"content\": \"\\\\ud53c\\\\uc5d4\\\\ud2f0 \\\\uacbd\\\\uc7c1\\\\uc0ac \\\\uc815\\\\ubcf4 \\\\ubcf4\\\\uace0\\\\uc11c (\\\\ub9e4\\\\ucd9c \\\\uc815\\\\ubcf4 \\\\uc5c5\\\\ub370\\\\uc774\\\\ud2b8)\\\\n\\\\n\\\\ud53c\\\\uc5d4\\\\ud2f0\\\\uc758 \\\\uacbd\\\\uc7c1\\\\uc0ac\\\\ub85c\\\\ub294 \\\\uc528\\\\uc544\\\\uc774\\\\uc5d0\\\\uc2a4, \\\\ud788\\\\ub77c\\\\ub178, \\\\uc724\\\\uc131\\\\uc5d0\\\\ud504\\\\uc564\\\\uc528, \\\\ucf00\\\\uc774\\\\uc5d4\\\\uc5d0\\\\uc2a4 \\\\ub4f1\\\\uc774 \\\\uc788\\\\uc2b5\\\\ub2c8\\\\ub2e4.\\\\n\\\\n**\\\\ud53c\\\\uc5d4\\\\ud2f0:**\\\\n* 2023\\\\ub144 \\\\ub9e4\\\\ucd9c\\\\uc561: 1\\\\uc870 350\\\\uc5b5\\\\uc6d0 (\\\\uc804\\\\ub144 \\\\ub300\\\\ube44 89.8% \\\\uc99d\\\\uac00)\\\\n\\\\n**\\\\uc528\\\\uc544\\\\uc774\\\\uc5d0\\\\uc2a4:**\\\\n* \\\\ub864\\\\ud22c\\\\ub864 \\\\uc7a5\\\\ube44 \\\\ud68c\\\\uc0ac\\\\ub85c, LG\\\\ub97c \\\\uc8fc\\\\uc694 \\\\uac70\\\\ub798\\\\ucc98\\\\ub85c \\\\ud558\\\\uace0 \\\\uc788\\\\uc2b5\\\\ub2c8\\\\ub2e4.\\\\n\\\\n**\\\\ud788\\\\ub77c\\\\ub178:**\\\\n* \\\\ud30c\\\\uc6b0\\\\uce58\\\\ud615 \\\\ubc30\\\\ud130\\\\ub9ac\\\\uc6a9 \\\\ucf54\\\\ud130 \\\\uc0dd\\\\uc0b0 \\\\uae30\\\\uc5c5\\\\uc785\\\\ub2c8\\\\ub2e4.\\\\n\\\\n**\\\\uc724\\\\uc131\\\\uc5d0\\\\ud504\\\\uc564\\\\uc528, \\\\ucf00\\\\uc774\\\\uc5d4\\\\uc5d0\\\\uc2a4:**\\\\n* \\\\ud53c\\\\uc5d4\\\\ud2f0\\\\uc640 \\\\uc7ac\\\\ubb34 \\\\ube44\\\\uad50\\\\ub97c \\\\ud1b5\\\\ud574 \\\\uacbd\\\\uc7c1\\\\uc0ac\\\\ub85c \\\\uc5b8\\\\uae09\\\\ub418\\\\uc5c8\\\\uc2b5\\\\ub2c8\\\\ub2e4.\\\\n\\\\n\\\\n*\\\\ucc38\\\\uace0: \\\\uac80\\\\uc0c9 \\\\uacb0\\\\uacfc\\\\uc5d0\\\\uc11c \\\\uacbd\\\\uc7c1\\\\uc0ac\\\\ubcc4 \\\\uc815\\\\ud655\\\\ud55c \\\\ub9e4\\\\ucd9c\\\\uc561\\\\uc744 \\\\ucc3e\\\\uae30 \\\\uc5b4\\\\ub824\\\\uc6cc, \\\\ud53c\\\\uc5d4\\\\ud2f0 \\\\ub9e4\\\\ucd9c\\\\uc561\\\\uacfc \\\\uacbd\\\\uc7c1\\\\uc0ac \\\\uad00\\\\ub828 \\\\uc77c\\\\ubc18 \\\\uc815\\\\ubcf4\\\\ub97c \\\\uae30\\\\uc7ac\\\\ud569\\\\ub2c8\\\\ub2e4.\", \"filename\": \"\\\\ud53c\\\\uc5d4\\\\ud2f0 \\\\uacbd\\\\uc7c1\\\\uc0ac \\\\uc815\\\\ubcf4 \\\\ubcf4\\\\uace0\\\\uc11c (\\\\ub9e4\\\\ucd9c \\\\uc5c5\\\\ub370\\\\uc774\\\\ud2b8).pdf\"}'}}, response_metadata={'prompt_feedback': {'block_reason': 0, 'safety_ratings': []}, 'finish_reason': 'STOP', 'model_name': 'gemini-2.0-flash', 'safety_ratings': []}, id='run-7f199891-aa43-4a70-8ad9-5a7df1237281-0', tool_calls=[{'name': 'write_pdf', 'args': {'content': '피엔티 경쟁사 정보 보고서 (매출 정보 업데이트)\\n\\n피엔티의 경쟁사로는 씨아이에스, 히라노, 윤성에프앤씨, 케이엔에스 등이 있습니다.\\n\\n**피엔티:**\\n* 2023년 매출액: 1조 350억원 (전년 대비 89.8% 증가)\\n\\n**씨아이에스:**\\n* 롤투롤 장비 회사로, LG를 주요 거래처로 하고 있습니다.\\n\\n**히라노:**\\n* 파우치형 배터리용 코터 생산 기업입니다.\\n\\n**윤성에프앤씨, 케이엔에스:**\\n* 피엔티와 재무 비교를 통해 경쟁사로 언급되었습니다.\\n\\n\\n*참고: 검색 결과에서 경쟁사별 정확한 매출액을 찾기 어려워, 피엔티 매출액과 경쟁사 관련 일반 정보를 기재합니다.', 'filename': '피엔티 경쟁사 정보 보고서 (매출 업데이트).pdf'}, 'id': '75fb2bea-7470-4e75-9af3-bf01f6dfea4f', 'type': 'tool_call'}], usage_metadata={'input_tokens': 8969, 'output_tokens': 356, 'total_tokens': 9325, 'input_token_details': {'cache_read': 0}})]}\n",
            "\n",
            "\n",
            "\n",
            "\n",
            "\n",
            "이것은 content 입니다.\n",
            "\n",
            " 피엔티 경쟁사 정보 보고서 (매출 정보 업데이트)\n",
            "\n",
            "피엔티의 경쟁사로는 씨아이에스, 히라노, 윤성에프앤씨, 케이엔에스 등이 있습니다.\n",
            "\n",
            "**피엔티:**\n",
            "* 2023년 매출액: 1조 350억원 (전년 대비 89.8% 증가)\n",
            "\n",
            "**씨아이에스:**\n",
            "* 롤투롤 장비 회사로, LG를 주요 거래처로 하고 있습니다.\n",
            "\n",
            "**히라노:**\n",
            "* 파우치형 배터리용 코터 생산 기업입니다.\n",
            "\n",
            "**윤성에프앤씨, 케이엔에스:**\n",
            "* 피엔티와 재무 비교를 통해 경쟁사로 언급되었습니다.\n",
            "\n",
            "\n",
            "*참고: 검색 결과에서 경쟁사별 정확한 매출액을 찾기 어려워, 피엔티 매출액과 경쟁사 관련 일반 정보를 기재합니다.\n",
            "\n",
            "\n",
            "=== tools ===\n",
            "\n",
            "\n",
            "{'messages': [ToolMessage(content='피엔티 경쟁사 정보 보고서 (매출 업데이트).pdf 저장 완료', name='write_pdf', id='fa070a25-c577-49ec-8614-87c0aad04885', tool_call_id='75fb2bea-7470-4e75-9af3-bf01f6dfea4f')]}\n",
            "\n",
            "\n",
            "=== response ===\n",
            "\n",
            "\n",
            "{'answer': ToolMessage(content='피엔티 경쟁사 정보 보고서 (매출 업데이트).pdf 저장 완료', name='write_pdf', id='fa070a25-c577-49ec-8614-87c0aad04885', tool_call_id='75fb2bea-7470-4e75-9af3-bf01f6dfea4f')}\n"
          ]
        }
      ],
      "source": [
        "query = \"피엔티의 경쟁사의 매출도 조사해서 보고서로 정리해줘\"\n",
        "\n",
        "streaming(query, config)"
      ]
    },
    {
      "cell_type": "code",
      "execution_count": 531,
      "metadata": {
        "id": "Lk2rpxQAnKBs"
      },
      "outputs": [
        {
          "name": "stdout",
          "output_type": "stream",
          "text": [
            "\n",
            "\n",
            "=== history_node ===\n",
            "\n",
            "\n",
            "{'answer': '답변 없음', 'tool_call': '사용된 도구 없음'}\n",
            "\n",
            "\n",
            "=== select ===\n",
            "\n",
            "\n",
            "{'messages': AIMessage(content='', additional_kwargs={'function_call': {'name': 'list_directory', 'arguments': '{}'}}, response_metadata={'prompt_feedback': {'block_reason': 0, 'safety_ratings': []}, 'finish_reason': 'STOP', 'model_name': 'gemini-2.0-flash', 'safety_ratings': []}, id='run-8f5c4b45-1fb2-44b3-9dc1-208cfe9afd19-0', tool_calls=[{'name': 'list_directory', 'args': {}, 'id': '9447cd28-f688-4ef9-87a2-d13a8b631e69', 'type': 'tool_call'}], usage_metadata={'input_tokens': 405, 'output_tokens': 3, 'total_tokens': 408, 'input_token_details': {'cache_read': 0}}), 'tool_call': [AIMessage(content='', additional_kwargs={'function_call': {'name': 'list_directory', 'arguments': '{}'}}, response_metadata={'prompt_feedback': {'block_reason': 0, 'safety_ratings': []}, 'finish_reason': 'STOP', 'model_name': 'gemini-2.0-flash', 'safety_ratings': []}, id='run-8f5c4b45-1fb2-44b3-9dc1-208cfe9afd19-0', tool_calls=[{'name': 'list_directory', 'args': {}, 'id': '9447cd28-f688-4ef9-87a2-d13a8b631e69', 'type': 'tool_call'}], usage_metadata={'input_tokens': 405, 'output_tokens': 3, 'total_tokens': 408, 'input_token_details': {'cache_read': 0}})]}\n",
            "\n",
            "\n",
            "=== tools ===\n",
            "\n",
            "\n",
            "{'messages': [ToolMessage(content='.env\\nAgent.ipynb\\nfonts\\n테슬라 보고서.pdf\\n피엔티 경쟁사 정보 보고서 (매출 업데이트).pdf\\n피엔티 경쟁사 정보 보고서.pdf\\n피엔티 보고서.pdf', name='list_directory', id='570aaf61-a9c3-419b-a2b8-3536a86bb645', tool_call_id='9447cd28-f688-4ef9-87a2-d13a8b631e69')]}\n",
            "\n",
            "\n",
            "=== response ===\n",
            "\n",
            "\n",
            "{'answer': ToolMessage(content='.env\\nAgent.ipynb\\nfonts\\n테슬라 보고서.pdf\\n피엔티 경쟁사 정보 보고서 (매출 업데이트).pdf\\n피엔티 경쟁사 정보 보고서.pdf\\n피엔티 보고서.pdf', name='list_directory', id='570aaf61-a9c3-419b-a2b8-3536a86bb645', tool_call_id='9447cd28-f688-4ef9-87a2-d13a8b631e69')}\n",
            "\n",
            "\n",
            "=== select ===\n",
            "\n",
            "\n",
            "{'messages': AIMessage(content='현재 폴더에 있는 PDF 파일들을 삭제하기 위해 `file_delete` 도구를 사용하겠습니다. 먼저 삭제할 파일 목록을 파악했으니, 각 파일에 대해 `file_delete`를 호출해야 합니다.', additional_kwargs={'function_call': {'name': 'file_delete', 'arguments': '{\"file_path\": \"\\\\ud53c\\\\uc5d4\\\\ud2f0 \\\\ubcf4\\\\uace0\\\\uc11c.pdf\"}'}}, response_metadata={'prompt_feedback': {'block_reason': 0, 'safety_ratings': []}, 'finish_reason': 'STOP', 'model_name': 'gemini-2.0-flash', 'safety_ratings': []}, id='run-a22d5b66-d035-4a03-b097-efa8b3fcf3e4-0', tool_calls=[{'name': 'file_delete', 'args': {'file_path': '테슬라 보고서.pdf'}, 'id': 'c0804a5f-a064-4b26-afa2-70b5d5414096', 'type': 'tool_call'}, {'name': 'file_delete', 'args': {'file_path': '피엔티 경쟁사 정보 보고서 (매출 업데이트).pdf'}, 'id': '56a557ff-7b72-4307-a5d7-32055f92aa6c', 'type': 'tool_call'}, {'name': 'file_delete', 'args': {'file_path': '피엔티 경쟁사 정보 보고서.pdf'}, 'id': '4623a7f3-785d-41bb-81de-5c6fed8b0742', 'type': 'tool_call'}, {'name': 'file_delete', 'args': {'file_path': '피엔티 보고서.pdf'}, 'id': '81e44574-f551-4867-b43d-6036f4343bc9', 'type': 'tool_call'}], usage_metadata={'input_tokens': 1065, 'output_tokens': 122, 'total_tokens': 1187, 'input_token_details': {'cache_read': 0}}), 'tool_call': [AIMessage(content='현재 폴더에 있는 PDF 파일들을 삭제하기 위해 `file_delete` 도구를 사용하겠습니다. 먼저 삭제할 파일 목록을 파악했으니, 각 파일에 대해 `file_delete`를 호출해야 합니다.', additional_kwargs={'function_call': {'name': 'file_delete', 'arguments': '{\"file_path\": \"\\\\ud53c\\\\uc5d4\\\\ud2f0 \\\\ubcf4\\\\uace0\\\\uc11c.pdf\"}'}}, response_metadata={'prompt_feedback': {'block_reason': 0, 'safety_ratings': []}, 'finish_reason': 'STOP', 'model_name': 'gemini-2.0-flash', 'safety_ratings': []}, id='run-a22d5b66-d035-4a03-b097-efa8b3fcf3e4-0', tool_calls=[{'name': 'file_delete', 'args': {'file_path': '테슬라 보고서.pdf'}, 'id': 'c0804a5f-a064-4b26-afa2-70b5d5414096', 'type': 'tool_call'}, {'name': 'file_delete', 'args': {'file_path': '피엔티 경쟁사 정보 보고서 (매출 업데이트).pdf'}, 'id': '56a557ff-7b72-4307-a5d7-32055f92aa6c', 'type': 'tool_call'}, {'name': 'file_delete', 'args': {'file_path': '피엔티 경쟁사 정보 보고서.pdf'}, 'id': '4623a7f3-785d-41bb-81de-5c6fed8b0742', 'type': 'tool_call'}, {'name': 'file_delete', 'args': {'file_path': '피엔티 보고서.pdf'}, 'id': '81e44574-f551-4867-b43d-6036f4343bc9', 'type': 'tool_call'}], usage_metadata={'input_tokens': 1065, 'output_tokens': 122, 'total_tokens': 1187, 'input_token_details': {'cache_read': 0}})]}\n",
            "\n",
            "\n",
            "=== tools ===\n",
            "\n",
            "\n",
            "{'messages': [ToolMessage(content='File deleted successfully: 테슬라 보고서.pdf.', name='file_delete', id='3f2451fb-1dfe-42bb-b7a9-89832269c45c', tool_call_id='c0804a5f-a064-4b26-afa2-70b5d5414096'), ToolMessage(content='File deleted successfully: 피엔티 경쟁사 정보 보고서 (매출 업데이트).pdf.', name='file_delete', id='e4b73a23-81b5-4123-84d1-2161a5d71d7d', tool_call_id='56a557ff-7b72-4307-a5d7-32055f92aa6c'), ToolMessage(content='File deleted successfully: 피엔티 경쟁사 정보 보고서.pdf.', name='file_delete', id='a2518d99-b95a-4e02-9d20-0dfef4e3d94e', tool_call_id='4623a7f3-785d-41bb-81de-5c6fed8b0742'), ToolMessage(content='File deleted successfully: 피엔티 보고서.pdf.', name='file_delete', id='6eab7a20-93e4-4641-aeb5-3a33b0d64f60', tool_call_id='81e44574-f551-4867-b43d-6036f4343bc9')]}\n",
            "\n",
            "\n",
            "=== response ===\n",
            "\n",
            "\n",
            "{'answer': ToolMessage(content='File deleted successfully: 피엔티 보고서.pdf.', name='file_delete', id='6eab7a20-93e4-4641-aeb5-3a33b0d64f60', tool_call_id='81e44574-f551-4867-b43d-6036f4343bc9')}\n"
          ]
        }
      ],
      "source": [
        "config = reset_config()\n",
        "\n",
        "query = \"현재 폴더의 pdf로 이루어진 파일 모두 삭제해줘\"\n",
        "\n",
        "streaming(query, config)"
      ]
    },
    {
      "cell_type": "code",
      "execution_count": 179,
      "metadata": {
        "id": "t3rAme8unKBt"
      },
      "outputs": [
        {
          "name": "stdout",
          "output_type": "stream",
          "text": [
            "\n",
            "\n",
            "=== history_node ===\n",
            "\n",
            "\n",
            "{'answer': '답변 없음', 'tool_call': '사용된 도구 없음'}\n",
            "\n",
            "\n",
            "=== select ===\n",
            "\n",
            "\n",
            "{'messages': AIMessage(content='', additional_kwargs={'function_call': {'name': 'python_repl_ast', 'arguments': '{\"query\": \"\\\\nresult = 0\\\\n\\\\nfor i in range(20):\\\\n    print(f\\\\\"{i+1}\\\\ubc88\\\\uc9f8 \\\\ucd9c\\\\ub825: \\\\\", i)\\\\n    result += i\\\\n\\\\nprint(\\\\\"\\\\ucd5c\\\\uc885 \\\\uacb0\\\\uacfc: \\\\\", result)\\\\n\"}'}}, response_metadata={'prompt_feedback': {'block_reason': 0, 'safety_ratings': []}, 'finish_reason': 'STOP', 'model_name': 'gemini-2.0-flash', 'safety_ratings': []}, id='run-d924f11e-47f6-43e9-83f8-081253dbb043-0', tool_calls=[{'name': 'python_repl_ast', 'args': {'query': '\\nresult = 0\\n\\nfor i in range(20):\\n    print(f\"{i+1}번째 출력: \", i)\\n    result += i\\n\\nprint(\"최종 결과: \", result)\\n'}, 'id': '8d75286a-0ae1-4011-a2f7-434e0a432068', 'type': 'tool_call'}], usage_metadata={'input_tokens': 431, 'output_tokens': 53, 'total_tokens': 484, 'input_token_details': {'cache_read': 0}}), 'tool_call': [AIMessage(content='', additional_kwargs={'function_call': {'name': 'python_repl_ast', 'arguments': '{\"query\": \"\\\\nresult = 0\\\\n\\\\nfor i in range(20):\\\\n    print(f\\\\\"{i+1}\\\\ubc88\\\\uc9f8 \\\\ucd9c\\\\ub825: \\\\\", i)\\\\n    result += i\\\\n\\\\nprint(\\\\\"\\\\ucd5c\\\\uc885 \\\\uacb0\\\\uacfc: \\\\\", result)\\\\n\"}'}}, response_metadata={'prompt_feedback': {'block_reason': 0, 'safety_ratings': []}, 'finish_reason': 'STOP', 'model_name': 'gemini-2.0-flash', 'safety_ratings': []}, id='run-d924f11e-47f6-43e9-83f8-081253dbb043-0', tool_calls=[{'name': 'python_repl_ast', 'args': {'query': '\\nresult = 0\\n\\nfor i in range(20):\\n    print(f\"{i+1}번째 출력: \", i)\\n    result += i\\n\\nprint(\"최종 결과: \", result)\\n'}, 'id': '8d75286a-0ae1-4011-a2f7-434e0a432068', 'type': 'tool_call'}], usage_metadata={'input_tokens': 431, 'output_tokens': 53, 'total_tokens': 484, 'input_token_details': {'cache_read': 0}})]}\n",
            "1번째 출력:  0\n",
            "2번째 출력:  1\n",
            "3번째 출력:  2\n",
            "4번째 출력:  3\n",
            "5번째 출력:  4\n",
            "6번째 출력:  5\n",
            "7번째 출력:  6\n",
            "8번째 출력:  7\n",
            "9번째 출력:  8\n",
            "10번째 출력:  9\n",
            "11번째 출력:  10\n",
            "12번째 출력:  11\n",
            "13번째 출력:  12\n",
            "14번째 출력:  13\n",
            "15번째 출력:  14\n",
            "16번째 출력:  15\n",
            "17번째 출력:  16\n",
            "18번째 출력:  17\n",
            "19번째 출력:  18\n",
            "20번째 출력:  19\n",
            "\n",
            "\n",
            "=== tools ===\n",
            "\n",
            "\n",
            "{'messages': [ToolMessage(content='최종 결과:  190\\n', name='python_repl_ast', id='713f06c6-5038-4d6d-b57f-2fe62afa820a', tool_call_id='8d75286a-0ae1-4011-a2f7-434e0a432068')]}\n",
            "\n",
            "\n",
            "=== response ===\n",
            "\n",
            "\n",
            "{'answer': ToolMessage(content='최종 결과:  190\\n', name='python_repl_ast', id='713f06c6-5038-4d6d-b57f-2fe62afa820a', tool_call_id='8d75286a-0ae1-4011-a2f7-434e0a432068')}\n"
          ]
        }
      ],
      "source": [
        "config = reset_config()\n",
        "\n",
        "code = \"\"\"\n",
        "아래 코드 실행시켜주세요.\n",
        "\n",
        "```python\n",
        "\n",
        "result = 0\n",
        "\n",
        "for i in range(20):\n",
        "    print(f\"{i+1}번째 출력: \", i)\n",
        "    result += i\n",
        "\n",
        "print(\"최종 결과: \", result)\n",
        "\n",
        "```\n",
        "\"\"\"\n",
        "\n",
        "streaming(code, config)"
      ]
    },
    {
      "cell_type": "code",
      "execution_count": 180,
      "metadata": {
        "id": "PjIVlnOMnKBt"
      },
      "outputs": [
        {
          "name": "stdout",
          "output_type": "stream",
          "text": [
            "\n",
            "\n",
            "=== history_node ===\n",
            "\n",
            "\n",
            "{'answer': '답변 없음', 'tool_call': '사용된 도구 없음'}\n",
            "\n",
            "\n",
            "=== memory_chat ===\n",
            "\n",
            "\n",
            "{'answer': '죄송합니다. 이전 대화 기록에 모두의연구소에 대한 정보가 없어 레포트를 작성할 수 없습니다. \\n\\n모두의연구소에 대한 정보를 알려주시면 깔끔하게 정리하여 PDF 레포트를 만들어 드리겠습니다.', 'messages': [AIMessage(content='죄송합니다. 이전 대화 기록에 모두의연구소에 대한 정보가 없어 레포트를 작성할 수 없습니다. \\n\\n모두의연구소에 대한 정보를 알려주시면 깔끔하게 정리하여 PDF 레포트를 만들어 드리겠습니다.', additional_kwargs={}, response_metadata={'prompt_feedback': {'block_reason': 0, 'safety_ratings': []}, 'finish_reason': 'STOP', 'model_name': 'gemini-2.0-flash', 'safety_ratings': []}, id='run-74d5bdf8-1db1-4031-9743-f8cc6d63fca2-0', usage_metadata={'input_tokens': 145, 'output_tokens': 68, 'total_tokens': 213, 'input_token_details': {'cache_read': 0}})]}\n",
            "\n",
            "\n",
            "=== response ===\n",
            "\n",
            "\n",
            "{'answer': AIMessage(content='죄송합니다. 이전 대화 기록에 모두의연구소에 대한 정보가 없어 레포트를 작성할 수 없습니다. \\n\\n모두의연구소에 대한 정보를 알려주시면 깔끔하게 정리하여 PDF 레포트를 만들어 드리겠습니다.', additional_kwargs={}, response_metadata={'prompt_feedback': {'block_reason': 0, 'safety_ratings': []}, 'finish_reason': 'STOP', 'model_name': 'gemini-2.0-flash', 'safety_ratings': []}, id='run-74d5bdf8-1db1-4031-9743-f8cc6d63fca2-0', usage_metadata={'input_tokens': 145, 'output_tokens': 68, 'total_tokens': 213, 'input_token_details': {'cache_read': 0}})}\n",
            "\n",
            "\n",
            "=== select ===\n",
            "\n",
            "\n",
            "{'messages': AIMessage(content='도구를 선택하지 못했습니다. 적절한 도구를 재선택하세요.\\n                                        ', additional_kwargs={}, response_metadata={}, id='6da5fdb2-cbe6-47b4-b273-121906332268'), 'tool_call': None}\n",
            "\n",
            "\n",
            "=== tools ===\n",
            "\n",
            "\n",
            "{'messages': []}\n",
            "\n",
            "\n",
            "=== response ===\n",
            "\n",
            "\n",
            "{'answer': AIMessage(content='도구를 선택하지 못했습니다. 적절한 도구를 재선택하세요.\\n                                        ', additional_kwargs={}, response_metadata={}, id='6da5fdb2-cbe6-47b4-b273-121906332268')}\n",
            "\n",
            "\n",
            "=== select ===\n",
            "\n",
            "\n",
            "{'messages': AIMessage(content='모두의연구소가 어떤 곳인지 검색하여 깔끔하게 정리한 후 PDF 레포트(\"모두의연구소_레포트.pdf\")로 만들어 드리겠습니다.', additional_kwargs={'function_call': {'name': 'tavily_search_results_json', 'arguments': '{\"query\": \"\\\\ubaa8\\\\ub450\\\\uc758\\\\uc5f0\\\\uad6c\\\\uc18c\"}'}}, response_metadata={'prompt_feedback': {'block_reason': 0, 'safety_ratings': []}, 'finish_reason': 'STOP', 'model_name': 'gemini-2.0-flash', 'safety_ratings': []}, id='run-336dc7d9-9245-4243-9155-7409cbb4053c-0', tool_calls=[{'name': 'tavily_search_results_json', 'args': {'query': '모두의연구소'}, 'id': '4bf64293-14bf-4bf1-8928-ade31c844e5a', 'type': 'tool_call'}], usage_metadata={'input_tokens': 833, 'output_tokens': 64, 'total_tokens': 897, 'input_token_details': {'cache_read': 0}}), 'tool_call': [AIMessage(content='모두의연구소가 어떤 곳인지 검색하여 깔끔하게 정리한 후 PDF 레포트(\"모두의연구소_레포트.pdf\")로 만들어 드리겠습니다.', additional_kwargs={'function_call': {'name': 'tavily_search_results_json', 'arguments': '{\"query\": \"\\\\ubaa8\\\\ub450\\\\uc758\\\\uc5f0\\\\uad6c\\\\uc18c\"}'}}, response_metadata={'prompt_feedback': {'block_reason': 0, 'safety_ratings': []}, 'finish_reason': 'STOP', 'model_name': 'gemini-2.0-flash', 'safety_ratings': []}, id='run-336dc7d9-9245-4243-9155-7409cbb4053c-0', tool_calls=[{'name': 'tavily_search_results_json', 'args': {'query': '모두의연구소'}, 'id': '4bf64293-14bf-4bf1-8928-ade31c844e5a', 'type': 'tool_call'}], usage_metadata={'input_tokens': 833, 'output_tokens': 64, 'total_tokens': 897, 'input_token_details': {'cache_read': 0}})]}\n",
            "\n",
            "\n",
            "=== tools ===\n",
            "\n",
            "\n",
            "{'messages': [ToolMessage(content='[{\"title\": \"모두의연구소 2025년 기업정보 - 직원수, 근무환경, 복리후생 등\", \"url\": \"https://www.jobkorea.co.kr/recruit/co_read/c/modulabs\", \"content\": \"기업소개. 모두의연구소는 AI 교육인 아이펠과 작년에 새롭게 런칭된 SW 교육, 그리고 다양한 주제가 있는 커뮤니티를 기반으로 교육 및 연구 서비스를 제공하고 있어요. \\'\", \"score\": 0.8548001}, {\"title\": \"모두의연구소 채용페이지\", \"url\": \"https://modulabs.career.greetinghr.com/\", \"content\": \"카카오임팩트와 모두의연구소는 테크포임팩트 기술 커뮤니티의 대표 활동으로 사회 문제 해결에 기여하기 위해 논문, 연구, 서비스 및 솔루션 개발 등 기술 관련 결과물을\", \"score\": 0.78493005}, {\"title\": \"모두의연구소 커뮤니티 | Facebook\", \"url\": \"https://www.facebook.com/groups/modulabs/?locale=ko_KR\", \"content\": \"모두함께 연구하는 #모두의연구소 ( https://www. facebook.com/lab4all )에 관심있는 모든 분들이 함께 소통할 수있는 그룹을 하나 만들었습니다.\", \"score\": 0.7244226}, {\"title\": \"모두의연구소\", \"url\": \"https://modulabs.co.kr/\", \"content\": \"ChatGPT로 사업계획서 1일만에 완성하기\\\\n\\\\n생성형 AI를 활용한 업무자동화\\\\n\\\\n생성형AI로 마케팅 글쓰기\\\\n\\\\n모두의 연구소 LAB\\\\n\\\\n함께하는 모두의 연구실, LAB\\\\n\\\\nMathML LAB\\\\n\\\\n인공지능에 인사이트를 넓혀주는 수학적 기초를 탄탄히 다지면서, 실제 코드와 함께 연구해요.\\\\n\\\\n딥러닝 컨퍼런스 프로시딩 LAB\\\\n\\\\n딥러닝 컨퍼런스 프로시딩을 위해 함께 공부하실 분들을 모집합니다.\\\\n\\\\n다오랩 5기 LAB\\\\n\\\\n미래 조직을 연구하고 설계하고 세상에 적용하는 실험실\\\\n\\\\nConversation LAB\\\\n\\\\nLive2D 캐릭터 기반의 음성 챗봇을 고도화하는 모임입니다.\\\\n\\\\n홈 중간배너\\\\n\\\\nAI 활용 노하우\\\\n스터디\\\\n\\\\n똑똑한 AI 일잘러가 되고 싶다면?\\\\n직장인 클래스!\\\\n\\\\nNotion으로 업무 생산성 200% 높이기\\\\n\\\\n어제도 너무 늦다\\\\nAI뉴스\\\\n\\\\nNeurIPS\\\\n2024 탐방기\\\\n\\\\n모두의연구소 블로그\\\\n\\\\nGTC 2025: 엔비디아가 예고한 물리적 AI 시대와 혁신 기술 [AI 모두레터] [...] 교육 일정 : 2025/04/24 → 2025/08/14\\\\n\\\\n모집중\\\\n\\\\n프로덕트 데이터 분석\\\\n\\\\n교육 일정 : 2025/05/14 → 2025/11/14\\\\n\\\\n사전신청\\\\n\\\\nAI학교 아이펠 리서치 과정\\\\n\\\\n교육 일정 : 2025/06/23 → 2025/12/23\\\\n\\\\n사전신청\\\\n\\\\n프론트엔드 개발 과정\\\\n\\\\n교육 일정 : 2025/04/15 → 2025/08/14\\\\n\\\\n백엔드 개발 과정\\\\n\\\\n교육 일정 : 2025/04/24 → 2025/08/14\\\\n\\\\n프로덕트 데이터 분석\\\\n\\\\n교육 일정 : 2025/05/14 → 2025/11/14\\\\n\\\\nAI학교 아이펠 리서치 과정\\\\n\\\\n교육 일정 : 2025/06/23 → 2025/12/23\\\\n\\\\n함께 성장하는 즐거움, 모두모임\\\\n\\\\n강석우\\\\n\\\\n\\\\n\\\\n추천이 쪼아 LLM 시즌 2\\\\n\\\\n시나버스\\\\n\\\\n\\\\n\\\\n구글 공인 교육 전문가 레벨 1  부트 캠프 1기\\\\n\\\\n시나버스\\\\n\\\\n\\\\n\\\\n구글 공인 교육 전문가 레벨 2 부트 캠프 1기\\\\n\\\\nJames 쌤\\\\n\\\\n\\\\n\\\\n데이터 자격증 (ADsP, 빅분기 등)을 준비하는 사람들의 모임 [...] Gemma 3: 단일 GPU 구동 가능한 오픈소스 AI 모델 [AI 모두레터]\\\\n\\\\n2025 실업급여 구직활동 인정 기준 및 K-디지털 기초역량 훈련 활용법\\\\n\\\\n마누스(Manus) 중국 AI 에이전트, 제2의 딥시크 쇼크 일으킬까?\\\\n\\\\n알림신청 배너\\\\n\\\\n빠르게 변하는 AI 트렌드를 쉽게 접하고 싶나요?\\\\n\\\\n매주 월요일 모두의연구소 모두레터가 찾아갑니다\", \"score\": 0.6485337}, {\"title\": \"모두의연구소 - LinkedIn\", \"url\": \"https://kr.linkedin.com/school/modulabs/\", \"content\": \"[A³(에이큐브) : AI를 나만의 업무 파트너로] 비개발자도 쉽게 배우는 AI 업무 혁신! 이제 AI와 함께 더 빠르고, 더 효율적으로 일하세요. 이론이 아닌, 실습 중심으로\", \"score\": 0.52203226}]', name='tavily_search_results_json', id='81e5bdb5-02a4-4efc-b18b-b5fd42fa66f9', tool_call_id='4bf64293-14bf-4bf1-8928-ade31c844e5a', artifact={'query': '모두의연구소', 'follow_up_questions': None, 'answer': None, 'images': [], 'results': [{'url': 'https://www.jobkorea.co.kr/recruit/co_read/c/modulabs', 'title': '모두의연구소 2025년 기업정보 - 직원수, 근무환경, 복리후생 등', 'content': \"기업소개. 모두의연구소는 AI 교육인 아이펠과 작년에 새롭게 런칭된 SW 교육, 그리고 다양한 주제가 있는 커뮤니티를 기반으로 교육 및 연구 서비스를 제공하고 있어요. '\", 'score': 0.8548001, 'raw_content': None}, {'url': 'https://modulabs.career.greetinghr.com/', 'title': '모두의연구소 채용페이지', 'content': '카카오임팩트와 모두의연구소는 테크포임팩트 기술 커뮤니티의 대표 활동으로 사회 문제 해결에 기여하기 위해 논문, 연구, 서비스 및 솔루션 개발 등 기술 관련 결과물을', 'score': 0.78493005, 'raw_content': None}, {'url': 'https://www.facebook.com/groups/modulabs/?locale=ko_KR', 'title': '모두의연구소 커뮤니티 | Facebook', 'content': '모두함께 연구하는 #모두의연구소 ( https://www. facebook.com/lab4all )에 관심있는 모든 분들이 함께 소통할 수있는 그룹을 하나 만들었습니다.', 'score': 0.7244226, 'raw_content': None}, {'url': 'https://modulabs.co.kr/', 'title': '모두의연구소', 'content': 'ChatGPT로 사업계획서 1일만에 완성하기\\n\\n생성형 AI를 활용한 업무자동화\\n\\n생성형AI로 마케팅 글쓰기\\n\\n모두의 연구소 LAB\\n\\n함께하는 모두의 연구실, LAB\\n\\nMathML LAB\\n\\n인공지능에 인사이트를 넓혀주는 수학적 기초를 탄탄히 다지면서, 실제 코드와 함께 연구해요.\\n\\n딥러닝 컨퍼런스 프로시딩 LAB\\n\\n딥러닝 컨퍼런스 프로시딩을 위해 함께 공부하실 분들을 모집합니다.\\n\\n다오랩 5기 LAB\\n\\n미래 조직을 연구하고 설계하고 세상에 적용하는 실험실\\n\\nConversation LAB\\n\\nLive2D 캐릭터 기반의 음성 챗봇을 고도화하는 모임입니다.\\n\\n홈 중간배너\\n\\nAI 활용 노하우\\n스터디\\n\\n똑똑한 AI 일잘러가 되고 싶다면?\\n직장인 클래스!\\n\\nNotion으로 업무 생산성 200% 높이기\\n\\n어제도 너무 늦다\\nAI뉴스\\n\\nNeurIPS\\n2024 탐방기\\n\\n모두의연구소 블로그\\n\\nGTC 2025: 엔비디아가 예고한 물리적 AI 시대와 혁신 기술 [AI 모두레터] [...] 교육 일정 : 2025/04/24 → 2025/08/14\\n\\n모집중\\n\\n프로덕트 데이터 분석\\n\\n교육 일정 : 2025/05/14 → 2025/11/14\\n\\n사전신청\\n\\nAI학교 아이펠 리서치 과정\\n\\n교육 일정 : 2025/06/23 → 2025/12/23\\n\\n사전신청\\n\\n프론트엔드 개발 과정\\n\\n교육 일정 : 2025/04/15 → 2025/08/14\\n\\n백엔드 개발 과정\\n\\n교육 일정 : 2025/04/24 → 2025/08/14\\n\\n프로덕트 데이터 분석\\n\\n교육 일정 : 2025/05/14 → 2025/11/14\\n\\nAI학교 아이펠 리서치 과정\\n\\n교육 일정 : 2025/06/23 → 2025/12/23\\n\\n함께 성장하는 즐거움, 모두모임\\n\\n강석우\\n\\n\\n\\n추천이 쪼아 LLM 시즌 2\\n\\n시나버스\\n\\n\\n\\n구글 공인 교육 전문가 레벨 1  부트 캠프 1기\\n\\n시나버스\\n\\n\\n\\n구글 공인 교육 전문가 레벨 2 부트 캠프 1기\\n\\nJames 쌤\\n\\n\\n\\n데이터 자격증 (ADsP, 빅분기 등)을 준비하는 사람들의 모임 [...] Gemma 3: 단일 GPU 구동 가능한 오픈소스 AI 모델 [AI 모두레터]\\n\\n2025 실업급여 구직활동 인정 기준 및 K-디지털 기초역량 훈련 활용법\\n\\n마누스(Manus) 중국 AI 에이전트, 제2의 딥시크 쇼크 일으킬까?\\n\\n알림신청 배너\\n\\n빠르게 변하는 AI 트렌드를 쉽게 접하고 싶나요?\\n\\n매주 월요일 모두의연구소 모두레터가 찾아갑니다', 'score': 0.6485337, 'raw_content': None}, {'url': 'https://kr.linkedin.com/school/modulabs/', 'title': '모두의연구소 - LinkedIn', 'content': '[A³(에이큐브) : AI를 나만의 업무 파트너로] 비개발자도 쉽게 배우는 AI 업무 혁신! 이제 AI와 함께 더 빠르고, 더 효율적으로 일하세요. 이론이 아닌, 실습 중심으로', 'score': 0.52203226, 'raw_content': None}], 'response_time': 3.02})]}\n",
            "\n",
            "\n",
            "=== response ===\n",
            "\n",
            "\n",
            "{'answer': ToolMessage(content='[{\"title\": \"모두의연구소 2025년 기업정보 - 직원수, 근무환경, 복리후생 등\", \"url\": \"https://www.jobkorea.co.kr/recruit/co_read/c/modulabs\", \"content\": \"기업소개. 모두의연구소는 AI 교육인 아이펠과 작년에 새롭게 런칭된 SW 교육, 그리고 다양한 주제가 있는 커뮤니티를 기반으로 교육 및 연구 서비스를 제공하고 있어요. \\'\", \"score\": 0.8548001}, {\"title\": \"모두의연구소 채용페이지\", \"url\": \"https://modulabs.career.greetinghr.com/\", \"content\": \"카카오임팩트와 모두의연구소는 테크포임팩트 기술 커뮤니티의 대표 활동으로 사회 문제 해결에 기여하기 위해 논문, 연구, 서비스 및 솔루션 개발 등 기술 관련 결과물을\", \"score\": 0.78493005}, {\"title\": \"모두의연구소 커뮤니티 | Facebook\", \"url\": \"https://www.facebook.com/groups/modulabs/?locale=ko_KR\", \"content\": \"모두함께 연구하는 #모두의연구소 ( https://www. facebook.com/lab4all )에 관심있는 모든 분들이 함께 소통할 수있는 그룹을 하나 만들었습니다.\", \"score\": 0.7244226}, {\"title\": \"모두의연구소\", \"url\": \"https://modulabs.co.kr/\", \"content\": \"ChatGPT로 사업계획서 1일만에 완성하기\\\\n\\\\n생성형 AI를 활용한 업무자동화\\\\n\\\\n생성형AI로 마케팅 글쓰기\\\\n\\\\n모두의 연구소 LAB\\\\n\\\\n함께하는 모두의 연구실, LAB\\\\n\\\\nMathML LAB\\\\n\\\\n인공지능에 인사이트를 넓혀주는 수학적 기초를 탄탄히 다지면서, 실제 코드와 함께 연구해요.\\\\n\\\\n딥러닝 컨퍼런스 프로시딩 LAB\\\\n\\\\n딥러닝 컨퍼런스 프로시딩을 위해 함께 공부하실 분들을 모집합니다.\\\\n\\\\n다오랩 5기 LAB\\\\n\\\\n미래 조직을 연구하고 설계하고 세상에 적용하는 실험실\\\\n\\\\nConversation LAB\\\\n\\\\nLive2D 캐릭터 기반의 음성 챗봇을 고도화하는 모임입니다.\\\\n\\\\n홈 중간배너\\\\n\\\\nAI 활용 노하우\\\\n스터디\\\\n\\\\n똑똑한 AI 일잘러가 되고 싶다면?\\\\n직장인 클래스!\\\\n\\\\nNotion으로 업무 생산성 200% 높이기\\\\n\\\\n어제도 너무 늦다\\\\nAI뉴스\\\\n\\\\nNeurIPS\\\\n2024 탐방기\\\\n\\\\n모두의연구소 블로그\\\\n\\\\nGTC 2025: 엔비디아가 예고한 물리적 AI 시대와 혁신 기술 [AI 모두레터] [...] 교육 일정 : 2025/04/24 → 2025/08/14\\\\n\\\\n모집중\\\\n\\\\n프로덕트 데이터 분석\\\\n\\\\n교육 일정 : 2025/05/14 → 2025/11/14\\\\n\\\\n사전신청\\\\n\\\\nAI학교 아이펠 리서치 과정\\\\n\\\\n교육 일정 : 2025/06/23 → 2025/12/23\\\\n\\\\n사전신청\\\\n\\\\n프론트엔드 개발 과정\\\\n\\\\n교육 일정 : 2025/04/15 → 2025/08/14\\\\n\\\\n백엔드 개발 과정\\\\n\\\\n교육 일정 : 2025/04/24 → 2025/08/14\\\\n\\\\n프로덕트 데이터 분석\\\\n\\\\n교육 일정 : 2025/05/14 → 2025/11/14\\\\n\\\\nAI학교 아이펠 리서치 과정\\\\n\\\\n교육 일정 : 2025/06/23 → 2025/12/23\\\\n\\\\n함께 성장하는 즐거움, 모두모임\\\\n\\\\n강석우\\\\n\\\\n\\\\n\\\\n추천이 쪼아 LLM 시즌 2\\\\n\\\\n시나버스\\\\n\\\\n\\\\n\\\\n구글 공인 교육 전문가 레벨 1  부트 캠프 1기\\\\n\\\\n시나버스\\\\n\\\\n\\\\n\\\\n구글 공인 교육 전문가 레벨 2 부트 캠프 1기\\\\n\\\\nJames 쌤\\\\n\\\\n\\\\n\\\\n데이터 자격증 (ADsP, 빅분기 등)을 준비하는 사람들의 모임 [...] Gemma 3: 단일 GPU 구동 가능한 오픈소스 AI 모델 [AI 모두레터]\\\\n\\\\n2025 실업급여 구직활동 인정 기준 및 K-디지털 기초역량 훈련 활용법\\\\n\\\\n마누스(Manus) 중국 AI 에이전트, 제2의 딥시크 쇼크 일으킬까?\\\\n\\\\n알림신청 배너\\\\n\\\\n빠르게 변하는 AI 트렌드를 쉽게 접하고 싶나요?\\\\n\\\\n매주 월요일 모두의연구소 모두레터가 찾아갑니다\", \"score\": 0.6485337}, {\"title\": \"모두의연구소 - LinkedIn\", \"url\": \"https://kr.linkedin.com/school/modulabs/\", \"content\": \"[A³(에이큐브) : AI를 나만의 업무 파트너로] 비개발자도 쉽게 배우는 AI 업무 혁신! 이제 AI와 함께 더 빠르고, 더 효율적으로 일하세요. 이론이 아닌, 실습 중심으로\", \"score\": 0.52203226}]', name='tavily_search_results_json', id='81e5bdb5-02a4-4efc-b18b-b5fd42fa66f9', tool_call_id='4bf64293-14bf-4bf1-8928-ade31c844e5a', artifact={'query': '모두의연구소', 'follow_up_questions': None, 'answer': None, 'images': [], 'results': [{'url': 'https://www.jobkorea.co.kr/recruit/co_read/c/modulabs', 'title': '모두의연구소 2025년 기업정보 - 직원수, 근무환경, 복리후생 등', 'content': \"기업소개. 모두의연구소는 AI 교육인 아이펠과 작년에 새롭게 런칭된 SW 교육, 그리고 다양한 주제가 있는 커뮤니티를 기반으로 교육 및 연구 서비스를 제공하고 있어요. '\", 'score': 0.8548001, 'raw_content': None}, {'url': 'https://modulabs.career.greetinghr.com/', 'title': '모두의연구소 채용페이지', 'content': '카카오임팩트와 모두의연구소는 테크포임팩트 기술 커뮤니티의 대표 활동으로 사회 문제 해결에 기여하기 위해 논문, 연구, 서비스 및 솔루션 개발 등 기술 관련 결과물을', 'score': 0.78493005, 'raw_content': None}, {'url': 'https://www.facebook.com/groups/modulabs/?locale=ko_KR', 'title': '모두의연구소 커뮤니티 | Facebook', 'content': '모두함께 연구하는 #모두의연구소 ( https://www. facebook.com/lab4all )에 관심있는 모든 분들이 함께 소통할 수있는 그룹을 하나 만들었습니다.', 'score': 0.7244226, 'raw_content': None}, {'url': 'https://modulabs.co.kr/', 'title': '모두의연구소', 'content': 'ChatGPT로 사업계획서 1일만에 완성하기\\n\\n생성형 AI를 활용한 업무자동화\\n\\n생성형AI로 마케팅 글쓰기\\n\\n모두의 연구소 LAB\\n\\n함께하는 모두의 연구실, LAB\\n\\nMathML LAB\\n\\n인공지능에 인사이트를 넓혀주는 수학적 기초를 탄탄히 다지면서, 실제 코드와 함께 연구해요.\\n\\n딥러닝 컨퍼런스 프로시딩 LAB\\n\\n딥러닝 컨퍼런스 프로시딩을 위해 함께 공부하실 분들을 모집합니다.\\n\\n다오랩 5기 LAB\\n\\n미래 조직을 연구하고 설계하고 세상에 적용하는 실험실\\n\\nConversation LAB\\n\\nLive2D 캐릭터 기반의 음성 챗봇을 고도화하는 모임입니다.\\n\\n홈 중간배너\\n\\nAI 활용 노하우\\n스터디\\n\\n똑똑한 AI 일잘러가 되고 싶다면?\\n직장인 클래스!\\n\\nNotion으로 업무 생산성 200% 높이기\\n\\n어제도 너무 늦다\\nAI뉴스\\n\\nNeurIPS\\n2024 탐방기\\n\\n모두의연구소 블로그\\n\\nGTC 2025: 엔비디아가 예고한 물리적 AI 시대와 혁신 기술 [AI 모두레터] [...] 교육 일정 : 2025/04/24 → 2025/08/14\\n\\n모집중\\n\\n프로덕트 데이터 분석\\n\\n교육 일정 : 2025/05/14 → 2025/11/14\\n\\n사전신청\\n\\nAI학교 아이펠 리서치 과정\\n\\n교육 일정 : 2025/06/23 → 2025/12/23\\n\\n사전신청\\n\\n프론트엔드 개발 과정\\n\\n교육 일정 : 2025/04/15 → 2025/08/14\\n\\n백엔드 개발 과정\\n\\n교육 일정 : 2025/04/24 → 2025/08/14\\n\\n프로덕트 데이터 분석\\n\\n교육 일정 : 2025/05/14 → 2025/11/14\\n\\nAI학교 아이펠 리서치 과정\\n\\n교육 일정 : 2025/06/23 → 2025/12/23\\n\\n함께 성장하는 즐거움, 모두모임\\n\\n강석우\\n\\n\\n\\n추천이 쪼아 LLM 시즌 2\\n\\n시나버스\\n\\n\\n\\n구글 공인 교육 전문가 레벨 1  부트 캠프 1기\\n\\n시나버스\\n\\n\\n\\n구글 공인 교육 전문가 레벨 2 부트 캠프 1기\\n\\nJames 쌤\\n\\n\\n\\n데이터 자격증 (ADsP, 빅분기 등)을 준비하는 사람들의 모임 [...] Gemma 3: 단일 GPU 구동 가능한 오픈소스 AI 모델 [AI 모두레터]\\n\\n2025 실업급여 구직활동 인정 기준 및 K-디지털 기초역량 훈련 활용법\\n\\n마누스(Manus) 중국 AI 에이전트, 제2의 딥시크 쇼크 일으킬까?\\n\\n알림신청 배너\\n\\n빠르게 변하는 AI 트렌드를 쉽게 접하고 싶나요?\\n\\n매주 월요일 모두의연구소 모두레터가 찾아갑니다', 'score': 0.6485337, 'raw_content': None}, {'url': 'https://kr.linkedin.com/school/modulabs/', 'title': '모두의연구소 - LinkedIn', 'content': '[A³(에이큐브) : AI를 나만의 업무 파트너로] 비개발자도 쉽게 배우는 AI 업무 혁신! 이제 AI와 함께 더 빠르고, 더 효율적으로 일하세요. 이론이 아닌, 실습 중심으로', 'score': 0.52203226, 'raw_content': None}], 'response_time': 3.02})}\n",
            "\n",
            "\n",
            "=== select ===\n",
            "\n",
            "\n",
            "{'messages': AIMessage(content='최근 검색 결과를 바탕으로 \"모두의연구소_레포트.pdf\"를 만들어 드릴게요.', additional_kwargs={'function_call': {'name': 'write_pdf', 'arguments': '{\"content\": \"\\\\ubaa8\\\\ub450\\\\uc758\\\\uc5f0\\\\uad6c\\\\uc18c\\\\ub294 AI \\\\uad50\\\\uc721(\\\\uc544\\\\uc774\\\\ud3a0)\\\\uacfc SW \\\\uad50\\\\uc721, \\\\ucee4\\\\ubba4\\\\ub2c8\\\\ud2f0 \\\\uae30\\\\ubc18 \\\\uad50\\\\uc721 \\\\ubc0f \\\\uc5f0\\\\uad6c \\\\uc11c\\\\ube44\\\\uc2a4\\\\ub97c \\\\uc81c\\\\uacf5\\\\ud558\\\\ub294 \\\\uacf3\\\\uc785\\\\ub2c8\\\\ub2e4. AI\\\\ub97c \\\\ud65c\\\\uc6a9\\\\ud55c \\\\uc5c5\\\\ubb34 \\\\uc790\\\\ub3d9\\\\ud654, \\\\ub9c8\\\\ucf00\\\\ud305 \\\\uae00\\\\uc4f0\\\\uae30 \\\\ub4f1\\\\uc758 \\\\uad50\\\\uc721\\\\uc744 \\\\uc9c4\\\\ud589\\\\ud558\\\\uba70, \\\\ub2e4\\\\uc591\\\\ud55c LAB\\\\uc744 \\\\ud1b5\\\\ud574 \\\\ud568\\\\uaed8 \\\\uc5f0\\\\uad6c\\\\ud558\\\\ub294 \\\\ud65c\\\\ub3d9\\\\uc744 \\\\uc9c0\\\\uc6d0\\\\ud569\\\\ub2c8\\\\ub2e4. \\\\uc9c1\\\\uc7a5\\\\uc778\\\\uc744 \\\\uc704\\\\ud55c AI \\\\ud65c\\\\uc6a9 \\\\uad50\\\\uc721, \\\\ub370\\\\uc774\\\\ud130 \\\\ubd84\\\\uc11d \\\\uad50\\\\uc721 \\\\ub4f1\\\\ub3c4 \\\\uc81c\\\\uacf5\\\\ud569\\\\ub2c8\\\\ub2e4.\", \"filename\": \"\\\\ubaa8\\\\ub450\\\\uc758\\\\uc5f0\\\\uad6c\\\\uc18c_\\\\ub808\\\\ud3ec\\\\ud2b8.pdf\"}'}}, response_metadata={'prompt_feedback': {'block_reason': 0, 'safety_ratings': []}, 'finish_reason': 'STOP', 'model_name': 'gemini-2.0-flash', 'safety_ratings': []}, id='run-cbc5565a-7496-4c03-b8b7-0fe52509efef-0', tool_calls=[{'name': 'write_pdf', 'args': {'content': '모두의연구소는 AI 교육(아이펠)과 SW 교육, 커뮤니티 기반 교육 및 연구 서비스를 제공하는 곳입니다. AI를 활용한 업무 자동화, 마케팅 글쓰기 등의 교육을 진행하며, 다양한 LAB을 통해 함께 연구하는 활동을 지원합니다. 직장인을 위한 AI 활용 교육, 데이터 분석 교육 등도 제공합니다.', 'filename': '모두의연구소_레포트.pdf'}, 'id': '1c2cc987-ffeb-4ecf-b028-5133a2521ad9', 'type': 'tool_call'}], usage_metadata={'input_tokens': 4652, 'output_tokens': 138, 'total_tokens': 4790, 'input_token_details': {'cache_read': 0}}), 'tool_call': [AIMessage(content='최근 검색 결과를 바탕으로 \"모두의연구소_레포트.pdf\"를 만들어 드릴게요.', additional_kwargs={'function_call': {'name': 'write_pdf', 'arguments': '{\"content\": \"\\\\ubaa8\\\\ub450\\\\uc758\\\\uc5f0\\\\uad6c\\\\uc18c\\\\ub294 AI \\\\uad50\\\\uc721(\\\\uc544\\\\uc774\\\\ud3a0)\\\\uacfc SW \\\\uad50\\\\uc721, \\\\ucee4\\\\ubba4\\\\ub2c8\\\\ud2f0 \\\\uae30\\\\ubc18 \\\\uad50\\\\uc721 \\\\ubc0f \\\\uc5f0\\\\uad6c \\\\uc11c\\\\ube44\\\\uc2a4\\\\ub97c \\\\uc81c\\\\uacf5\\\\ud558\\\\ub294 \\\\uacf3\\\\uc785\\\\ub2c8\\\\ub2e4. AI\\\\ub97c \\\\ud65c\\\\uc6a9\\\\ud55c \\\\uc5c5\\\\ubb34 \\\\uc790\\\\ub3d9\\\\ud654, \\\\ub9c8\\\\ucf00\\\\ud305 \\\\uae00\\\\uc4f0\\\\uae30 \\\\ub4f1\\\\uc758 \\\\uad50\\\\uc721\\\\uc744 \\\\uc9c4\\\\ud589\\\\ud558\\\\uba70, \\\\ub2e4\\\\uc591\\\\ud55c LAB\\\\uc744 \\\\ud1b5\\\\ud574 \\\\ud568\\\\uaed8 \\\\uc5f0\\\\uad6c\\\\ud558\\\\ub294 \\\\ud65c\\\\ub3d9\\\\uc744 \\\\uc9c0\\\\uc6d0\\\\ud569\\\\ub2c8\\\\ub2e4. \\\\uc9c1\\\\uc7a5\\\\uc778\\\\uc744 \\\\uc704\\\\ud55c AI \\\\ud65c\\\\uc6a9 \\\\uad50\\\\uc721, \\\\ub370\\\\uc774\\\\ud130 \\\\ubd84\\\\uc11d \\\\uad50\\\\uc721 \\\\ub4f1\\\\ub3c4 \\\\uc81c\\\\uacf5\\\\ud569\\\\ub2c8\\\\ub2e4.\", \"filename\": \"\\\\ubaa8\\\\ub450\\\\uc758\\\\uc5f0\\\\uad6c\\\\uc18c_\\\\ub808\\\\ud3ec\\\\ud2b8.pdf\"}'}}, response_metadata={'prompt_feedback': {'block_reason': 0, 'safety_ratings': []}, 'finish_reason': 'STOP', 'model_name': 'gemini-2.0-flash', 'safety_ratings': []}, id='run-cbc5565a-7496-4c03-b8b7-0fe52509efef-0', tool_calls=[{'name': 'write_pdf', 'args': {'content': '모두의연구소는 AI 교육(아이펠)과 SW 교육, 커뮤니티 기반 교육 및 연구 서비스를 제공하는 곳입니다. AI를 활용한 업무 자동화, 마케팅 글쓰기 등의 교육을 진행하며, 다양한 LAB을 통해 함께 연구하는 활동을 지원합니다. 직장인을 위한 AI 활용 교육, 데이터 분석 교육 등도 제공합니다.', 'filename': '모두의연구소_레포트.pdf'}, 'id': '1c2cc987-ffeb-4ecf-b028-5133a2521ad9', 'type': 'tool_call'}], usage_metadata={'input_tokens': 4652, 'output_tokens': 138, 'total_tokens': 4790, 'input_token_details': {'cache_read': 0}})]}\n",
            "\n",
            "\n",
            "=== tools ===\n",
            "\n",
            "\n",
            "{'messages': [ToolMessage(content='모두의연구소_레포트.pdf 저장 완료', name='write_pdf', id='2db48a16-ba37-463f-bfb6-499f626fc8fe', tool_call_id='1c2cc987-ffeb-4ecf-b028-5133a2521ad9')]}\n",
            "\n",
            "\n",
            "=== response ===\n",
            "\n",
            "\n",
            "{'answer': ToolMessage(content='모두의연구소_레포트.pdf 저장 완료', name='write_pdf', id='2db48a16-ba37-463f-bfb6-499f626fc8fe', tool_call_id='1c2cc987-ffeb-4ecf-b028-5133a2521ad9')}\n"
          ]
        }
      ],
      "source": [
        "config = reset_config()\n",
        "\n",
        "streaming(\"\"\"모두의연구소는 어떤 곳이야?\n",
        "          깔끔하게 정리해서 레포트로 만들어줘.\n",
        "          레포트의 형식은 pdf로 저장해주면 돼.\n",
        "          이름은 \"모두의연구소_레포트.pdf\"로 해줘.\"\"\", config)"
      ]
    }
  ],
  "metadata": {
    "colab": {
      "provenance": []
    },
    "kernelspec": {
      "display_name": "Modulabs",
      "language": "python",
      "name": "python3"
    },
    "language_info": {
      "codemirror_mode": {
        "name": "ipython",
        "version": 3
      },
      "file_extension": ".py",
      "mimetype": "text/x-python",
      "name": "python",
      "nbconvert_exporter": "python",
      "pygments_lexer": "ipython3",
      "version": "3.10.12"
    }
  },
  "nbformat": 4,
  "nbformat_minor": 0
}
